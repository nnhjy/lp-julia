{
 "cells": [
  {
   "cell_type": "markdown",
   "metadata": {},
   "source": [
    "## Generalized Assignment Problem (GAP) Formulation\n",
    "\n",
    "### Mathematical Formulation Description\n",
    "\n",
    "Suppose there are $M = \\{1, \\cdots, m\\}$ jobs and $N = \\{1, \\cdots, n\\}$ agents. Each agent $j \\in N$ has a maximum work capacity $b_j$. If a job $i \\in M$ is assigned to an agent $j \\in N$ , it generates a profit $c_{ij}$, but consumes $a_{ij}$ units of agent $j$’s work capacity $b_j$. Generalized Assignment Problem (GAP) is to find a maximum profit assignment of jobs to agents so that: \\\n",
    "    (1) Each job $i \\in M$ is assigned to at most one agent $j \\in N$. \\\n",
    "    (2) Total capacity of jobs assigned to an agent $j \\in N$ does not exceed $b_j$.\n",
    "\n",
    "The problem can be formualated as below:\n",
    "\\begin{align*}\n",
    "    & \\text{(GAP)} & \\max_x & \\sum_{i \\in M} \\sum_{j \\in N} c_{ij} x_{ij} \\\\\n",
    "    & & \\text{s.t.:} & \\sum_{j \\in N} x_{ij} \\leq 1, \\ \\ \\forall i \\in M, \\\\\n",
    "    & & & \\sum_{i \\in M} a_{ij} x_{ij} \\leq b_j, \\ \\ \\forall j \\in N, & \\\\\n",
    "    & & & x_{ij} \\in \\{0, 1 \\}, \\ \\ \\forall i \\in M, \\forall j \\in N, \n",
    "\\end{align*}\n",
    "where $x_{ij} = 1$ if job $i \\in M$ is assigned to agent $j \\in N$, and $x_{ij} = 0$ otherwise.\n",
    "\n",
    "We implement the problem as per this formulation into a JuMP model as below:"
   ]
  },
  {
   "cell_type": "code",
   "execution_count": 1,
   "metadata": {},
   "outputs": [],
   "source": [
    "# Import package\n",
    "using JuMP, Cbc"
   ]
  },
  {
   "cell_type": "markdown",
   "metadata": {},
   "source": [
    "### Define the corresponding JuMP model"
   ]
  },
  {
   "cell_type": "code",
   "execution_count": 58,
   "metadata": {},
   "outputs": [
    {
     "data": {
      "text/plain": [
       "GAP_formulation (generic function with 1 method)"
      ]
     },
     "metadata": {},
     "output_type": "display_data"
    }
   ],
   "source": [
    "function GAP_formulation(optimizer, a, b, c)\n",
    "    \"\"\"\n",
    "    optimizer: solver optimizer\n",
    "    a: Unit consumption of work capacity: assigning job i to agent j consumes a[i][j] work capacity\n",
    "    b: Work capacity of agents: agent j has work capacity b[j] \n",
    "    c: Unit profit: assigning job i to agent j generates c[i][j] profit\n",
    "    \"\"\"\n",
    "    model = Model(optimizer)\n",
    "\n",
    "    # Dimension of variables x[i][j]\n",
    "    ## Number of jobs nI and agents nJ\n",
    "    nI, nJ = size(c)\n",
    "\n",
    "    # Define sets\n",
    "    ## Set of jobs (i ∈ M)\n",
    "    M = 1:nI\n",
    "    ## Set of agents (j ∈ N)\n",
    "    N = 1:nJ\n",
    "\n",
    "    # Define variable x with corresponding dimension\n",
    "    @variable(model, x[M, N], Bin)\n",
    "\n",
    "    # Define objective function\n",
    "    @objective(model, Max, sum(c[i,j]*x[i,j] for i in M for j in N))\n",
    "\n",
    "    # Define constraint: each job i ∈ M is assigned to at most one agent j ∈ N\n",
    "    @constraint(model, unique_assignment[i in M], sum(x.data[i,j] for j in N) ≤ 1)\n",
    "\n",
    "    # Define constraint: total capacity of jobs assigned to an agent j ∈ N does not exceed b[j]\n",
    "    @constraint(model, agent_capacity[j in N], sum(a[i,j]*x[i,j] for i in M) ≤ b[j])\n",
    "\n",
    "    return model\n",
    "end"
   ]
  },
  {
   "cell_type": "markdown",
   "metadata": {},
   "source": [
    "### Function to solve the model"
   ]
  },
  {
   "cell_type": "code",
   "execution_count": 49,
   "metadata": {},
   "outputs": [
    {
     "data": {
      "text/plain": [
       "solve_model! (generic function with 2 methods)"
      ]
     },
     "metadata": {},
     "output_type": "display_data"
    }
   ],
   "source": [
    "function solve_model!(model; silent::Bool=false)\n",
    "    if silent\n",
    "        set_silent(model)\n",
    "    end\n",
    "    optimize!(model)\n",
    "\n",
    "    status = termination_status(model)\n",
    "    println(status)\n",
    "end"
   ]
  },
  {
   "cell_type": "markdown",
   "metadata": {},
   "source": [
    "### Function to print solutions"
   ]
  },
  {
   "cell_type": "code",
   "execution_count": 35,
   "metadata": {},
   "outputs": [
    {
     "data": {
      "text/plain": [
       "print_solution (generic function with 1 method)"
      ]
     },
     "metadata": {},
     "output_type": "display_data"
    }
   ],
   "source": [
    "function print_solution(model)\n",
    "    if termination_status(model) == OPTIMAL\n",
    "        println(\"Optimal solution found!\")\n",
    "        println(\"Optimal value: $(objective_value(model))\")\n",
    "        println(\"with x = $(value.(model[:x].data))\")\n",
    "    else\n",
    "        println(\"Solving of the model terminated due to $(termination_status(model))\")\n",
    "    end\n",
    "end"
   ]
  },
  {
   "cell_type": "markdown",
   "metadata": {},
   "source": [
    "### Implementing the JuMP model into the given instance\n",
    "#### Data of the instance"
   ]
  },
  {
   "cell_type": "code",
   "execution_count": 46,
   "metadata": {},
   "outputs": [],
   "source": [
    "# Unit profit\n",
    "c_ins = [6 2;\n",
    "         7 7;\n",
    "         4 8;\n",
    "         3 3]\n",
    "\n",
    "# Unit consumption of work capacity\n",
    "a_ins = [5 3;\n",
    "         7 1;\n",
    "         4 6;\n",
    "         2 4]\n",
    "\n",
    "# Work capacity of agents\n",
    "b_ins = [7; 6]\n",
    ";"
   ]
  },
  {
   "cell_type": "markdown",
   "metadata": {},
   "source": [
    "#### Implement the model to the instance and solve"
   ]
  },
  {
   "cell_type": "code",
   "execution_count": 60,
   "metadata": {},
   "outputs": [
    {
     "name": "stdout",
     "output_type": "stream",
     "text": [
      "OPTIMAL\n"
     ]
    }
   ],
   "source": [
    "model_gap = GAP_formulation(Cbc.Optimizer, a_ins, b_ins, c_ins)\n",
    "solve_model!(model_gap, silent=true)"
   ]
  },
  {
   "cell_type": "markdown",
   "metadata": {},
   "source": [
    "### Print solution"
   ]
  },
  {
   "cell_type": "code",
   "execution_count": 61,
   "metadata": {},
   "outputs": [
    {
     "name": "stdout",
     "output_type": "stream",
     "text": [
      "Optimal solution found!\n",
      "Optimal value: 17.0\n",
      "with x = [1.0 0.0; 0.0 0.0; 0.0 1.0; 1.0 0.0]\n"
     ]
    }
   ],
   "source": [
    "print_solution(model_gap)"
   ]
  }
 ],
 "metadata": {
  "kernelspec": {
   "display_name": "Julia 1.7.1",
   "language": "julia",
   "name": "julia-1.7"
  },
  "language_info": {
   "file_extension": ".jl",
   "mimetype": "application/julia",
   "name": "julia",
   "version": "1.7.1"
  },
  "orig_nbformat": 4
 },
 "nbformat": 4,
 "nbformat_minor": 2
}
