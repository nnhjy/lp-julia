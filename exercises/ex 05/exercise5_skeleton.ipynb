{
  "cells": [
    {
      "cell_type": "markdown",
      "metadata": {},
      "source": [
        "### Problem 5.1 - Capacitated transportation problem revisited\n",
        "*(Marginal costs via dual calculation)*\n",
        "#' \n",
        "Adding necessary packages:"
      ]
    },
    {
      "cell_type": "code",
      "execution_count": 1,
      "metadata": {},
      "outputs": [],
      "source": [
        "# using Pkg\n",
        "# Pkg.add(\"GLPK\")"
      ]
    },
    {
      "cell_type": "code",
      "execution_count": 2,
      "metadata": {},
      "outputs": [],
      "source": [
        "## Packages\n",
        "using JuMP, Cbc, GLPK # We need GLPK for obtaining duals"
      ]
    },
    {
      "cell_type": "markdown",
      "metadata": {},
      "source": [
        "We start by defining the problem data"
      ]
    },
    {
      "cell_type": "code",
      "execution_count": 3,
      "metadata": {},
      "outputs": [],
      "source": [
        "nS = 3 # Number of suppliers\n",
        "nD = 3 # Number of demand points\n",
        "nP = 2 # Number of products\n",
        "\n",
        "S = 1:nS\n",
        "D = 1:nD\n",
        "P = 1:nP\n",
        "\n",
        "A = [] # Set of arcs, we include arcs from all suppliers to all demand points\n",
        "for s in S, d in D\n",
        "    push!(A, (s,d))\n",
        "end"
      ]
    },
    {
      "cell_type": "code",
      "execution_count": 4,
      "metadata": {},
      "outputs": [],
      "source": [
        "costs = zeros(nP,nS,nD) # Cost of transporting one unit of product d from supplier s to demand point d \n",
        "costs[1,:,:] = [5   5   Inf; \n",
        "                8   9   7; \n",
        "                Inf 10  8]\n",
        "costs[2,:,:] = [Inf 18 Inf; \n",
        "                15  12 14; \n",
        "                Inf 20 Inf]\n",
        "\n",
        "sup = [80  400; \n",
        "       200 1500; \n",
        "       200 300]\n",
        "dem = [60  300; \n",
        "       100 1000; \n",
        "       200 500]\n",
        "\n",
        "cap = [Inf 300 0; \n",
        "       300 700 600; \n",
        "       0   Inf Inf];"
      ]
    },
    {
      "cell_type": "code",
      "execution_count": 5,
      "metadata": {},
      "outputs": [],
      "source": [
        "## Define model using GLPK\n",
        "model = Model(GLPK.Optimizer);\n",
        "\n",
        "## Variables\n",
        "@variable(model, x[a in A, p in P; costs[p,a[1],a[2]] < Inf] >= 0);\n",
        "\n",
        "## OF\n",
        "@objective(model, Min, sum(costs[p,a[1],a[2]]*x[a,p] for p in P, a in A if costs[p,a[1],a[2]] < Inf));\n",
        "\n",
        "## Constraints\n",
        "@constraint(model, sup_con[s in S, p in P], sum(x[a,p] for a in A if costs[p,a[1],a[2]] < Inf && a[1] == s) <= sup[s,p]);       # sum of everything that leaves supplier s\n",
        "@constraint(model, dem_con[d in D, p in P], sum(x[a,p] for a in A if costs[p,a[1],a[2]] < Inf && a[2] == d) >= dem[d,p]);       # sum of everything that arrives at demand d\n",
        "@constraint(model, cap_con[a in A; cap[a[1],a[2]] < Inf], sum(x[a,p] for p in P if costs[p,a[1],a[2]] < Inf) <= cap[a[1],a[2]]);# arc capacity constraints"
      ]
    },
    {
      "cell_type": "code",
      "execution_count": 6,
      "metadata": {},
      "outputs": [
        {
          "name": "stdout",
          "output_type": "stream",
          "text": [
            "OPTIMAL\n"
          ]
        }
      ],
      "source": [
        "set_silent(model) # Actually works with GLPK\n",
        "optimize!(model)\n",
        "status = termination_status(model)\n",
        "println(status)"
      ]
    },
    {
      "cell_type": "code",
      "execution_count": 7,
      "metadata": {},
      "outputs": [
        {
          "data": {
            "text/plain": [
              "28040.0"
            ]
          },
          "metadata": {},
          "output_type": "display_data"
        }
      ],
      "source": [
        "## Saving the optimal value\n",
        "obj = objective_value(model)"
      ]
    },
    {
      "cell_type": "markdown",
      "metadata": {},
      "source": [
        "Function ``dual()`` in the ``JuMP`` library gives the value of the dual variable associated to the constraint at the optimal solution, in other words the *marginal costs*. Here we need using the elemnt-wise operator ``.`` as we have multiple constraints (check the domains). The *marginal costs* value stands for how much adding one unit more to the constraint's RHS (in the case is a $\\leq$ constraint) impacts the final result.<br/>\n",
        "<br/>\n",
        "One interpretation for the *marginal costs* in this problem is how much the company is willing to pay for expanding the supplies' or the arcs' capacity (depending on if we're analysing the dual of the supplies or the arcs constraints)."
      ]
    },
    {
      "cell_type": "code",
      "execution_count": 8,
      "metadata": {},
      "outputs": [
        {
          "name": "stdout",
          "output_type": "stream",
          "text": [
            "The marginal costs for the supply 1 for the product 1 is: -3.0\n",
            "The marginal costs for the supply 1 for the product 2 is: 0.0\n",
            "The marginal costs for the supply 2 for the product 1 is: 0.0\n",
            "The marginal costs for the supply 2 for the product 2 is: 0.0\n",
            "The marginal costs for the supply 3 for the product 1 is: 0.0\n",
            "The marginal costs for the supply 3 for the product 2 is: 0.0\n",
            "The marginal costs for the arc (1, 2) is: -2.0\n",
            "The marginal costs for the arc (1, 3) is: 0.0\n",
            "The marginal costs for the arc (2, 1) is: 0.0\n",
            "The marginal costs for the arc (2, 2) is: -8.0\n",
            "The marginal costs for the arc (2, 3) is: -1.0\n",
            "The marginal costs for the arc (3, 1) is: 0.0\n",
            "The value of x[(1, 1),1] is 60.0\n",
            "The value of x[(1, 2),1] is 20.0\n",
            "The value of x[(1, 2),2] is 280.0\n",
            "The value of x[(2, 1),1] is 0.0\n",
            "The value of x[(2, 1),2] is 300.0\n",
            "The value of x[(2, 2),1] is 0.0\n",
            "The value of x[(2, 2),2] is 700.0\n",
            "The value of x[(2, 3),1] is 100.0\n",
            "The value of x[(2, 3),2] is 500.0\n",
            "The value of x[(3, 2),1] is 80.0\n",
            "The value of x[(3, 2),2] is 20.0\n",
            "The value of x[(3, 3),1] is 100.0\n"
          ]
        }
      ],
      "source": [
        "## Computing the duals to infer the marginal costs\n",
        "mc_supply = dual.(sup_con);\n",
        "mc_arcs = dual.(cap_con);\n",
        "for s in S, p in P\n",
        "    println(\"The marginal costs for the supply $s for the product $p is: $(mc_supply[s,p])\")\n",
        "end\n",
        "for a in A\n",
        "    if cap[a[1],a[2]] < Inf\n",
        "        println(\"The marginal costs for the arc $a is: $(mc_arcs[a])\")\n",
        "    end\n",
        "end\n",
        "for a in A, p in P\n",
        "    if costs[p,a[1],a[2]] < Inf\n",
        "        println(\"The value of $(x[a,p]) is $(value(x[a,p]))\")\n",
        "    end\n",
        "end"
      ]
    },
    {
      "cell_type": "code",
      "execution_count": 9,
      "metadata": {},
      "outputs": [],
      "source": [
        "## Raising the supply availability of product 1 at the first supply node by 1\n",
        "sup[1,1] = sup[1,1] + 1;"
      ]
    },
    {
      "cell_type": "code",
      "execution_count": 10,
      "metadata": {},
      "outputs": [],
      "source": [
        "## Define model using GLPK\n",
        "model = Model(GLPK.Optimizer);\n",
        "\n",
        "## Variables\n",
        "@variable(model, x[a in A, p in P; costs[p,a[1],a[2]] < Inf] >= 0);\n",
        "\n",
        "## OF\n",
        "@objective(model, Min, sum(costs[p,a[1],a[2]]*x[a,p] for p in P, a in A if costs[p,a[1],a[2]] < Inf));\n",
        "\n",
        "## Constraints\n",
        "@constraint(model, sup_con[s in S, p in P], sum(x[a,p] for a in A if costs[p,a[1],a[2]] < Inf && a[1] == s) <= sup[s,p]);       # sum of everything that leaves supplier s\n",
        "@constraint(model, dem_con[d in D, p in P], sum(x[a,p] for a in A if costs[p,a[1],a[2]] < Inf && a[2] == d) >= dem[d,p]);       # sum of everything that arrives at demand d\n",
        "@constraint(model, cap_con[a in A; cap[a[1],a[2]] < Inf], sum(x[a,p] for p in P if costs[p,a[1],a[2]] < Inf) <= cap[a[1],a[2]]);# arc capacity constraints"
      ]
    },
    {
      "cell_type": "code",
      "execution_count": 11,
      "metadata": {},
      "outputs": [
        {
          "name": "stdout",
          "output_type": "stream",
          "text": [
            "OPTIMAL\n"
          ]
        }
      ],
      "source": [
        "set_silent(model)\n",
        "optimize!(model)\n",
        "status = termination_status(model)\n",
        "println(status)"
      ]
    },
    {
      "cell_type": "code",
      "execution_count": 12,
      "metadata": {},
      "outputs": [
        {
          "data": {
            "text/plain": [
              "28037.0"
            ]
          },
          "metadata": {},
          "output_type": "display_data"
        }
      ],
      "source": [
        "## New optimal value\n",
        "new_obj = objective_value(model)"
      ]
    },
    {
      "cell_type": "code",
      "execution_count": 13,
      "metadata": {},
      "outputs": [
        {
          "data": {
            "text/plain": [
              "-3.0"
            ]
          },
          "metadata": {},
          "output_type": "display_data"
        }
      ],
      "source": [
        "## Decrease in the optimal value\n",
        "new_obj - obj"
      ]
    },
    {
      "cell_type": "code",
      "execution_count": 14,
      "metadata": {},
      "outputs": [
        {
          "data": {
            "text/plain": [
              "-3.0"
            ]
          },
          "metadata": {},
          "output_type": "display_data"
        }
      ],
      "source": [
        "mc_supply[1,1]"
      ]
    },
    {
      "cell_type": "markdown",
      "metadata": {},
      "source": [
        "The marginal cost predicted the change in objective value correctly. Let's now try changing another bound."
      ]
    },
    {
      "cell_type": "code",
      "execution_count": 15,
      "metadata": {},
      "outputs": [],
      "source": [
        "## Back to the original supply availability\n",
        "sup[1,1] = sup[1,1] - 1;"
      ]
    },
    {
      "cell_type": "code",
      "execution_count": 16,
      "metadata": {},
      "outputs": [
        {
          "data": {
            "text/plain": [
              "80"
            ]
          },
          "metadata": {},
          "output_type": "display_data"
        }
      ],
      "source": [
        "sup[1,1]"
      ]
    },
    {
      "cell_type": "code",
      "execution_count": 17,
      "metadata": {},
      "outputs": [],
      "source": [
        "## Increasing the arc capacity by 1 for the arc from supplier 2 to demand node 2\n",
        "cap[2, 2] = cap[2, 2] + 1;"
      ]
    },
    {
      "cell_type": "code",
      "execution_count": 18,
      "metadata": {},
      "outputs": [],
      "source": [
        "## Define model using GLPK\n",
        "model = Model(GLPK.Optimizer);\n",
        "\n",
        "## Variables\n",
        "@variable(model, x[a in A, p in P; costs[p,a[1],a[2]] < Inf] >= 0);\n",
        "\n",
        "## OF\n",
        "@objective(model, Min, sum(costs[p,a[1],a[2]]*x[a,p] for p in P, a in A if costs[p,a[1],a[2]] < Inf));\n",
        "\n",
        "## Constraints\n",
        "@constraint(model, sup_con[s in S, p in P], sum(x[a,p] for a in A if costs[p,a[1],a[2]] < Inf && a[1] == s) <= sup[s,p]);       # sum of everything that leaves supplier s\n",
        "@constraint(model, dem_con[d in D, p in P], sum(x[a,p] for a in A if costs[p,a[1],a[2]] < Inf && a[2] == d) >= dem[d,p]);       # sum of everything that arrives at demand d\n",
        "@constraint(model, cap_con[a in A; cap[a[1],a[2]] < Inf], sum(x[a,p] for p in P if costs[p,a[1],a[2]] < Inf) <= cap[a[1],a[2]]);# arc capacity constraints"
      ]
    },
    {
      "cell_type": "code",
      "execution_count": 19,
      "metadata": {},
      "outputs": [
        {
          "name": "stdout",
          "output_type": "stream",
          "text": [
            "OPTIMAL\n"
          ]
        }
      ],
      "source": [
        "set_silent(model)\n",
        "optimize!(model)\n",
        "status = termination_status(model)\n",
        "println(status)"
      ]
    },
    {
      "cell_type": "code",
      "execution_count": 20,
      "metadata": {},
      "outputs": [
        {
          "data": {
            "text/plain": [
              "28039.0"
            ]
          },
          "metadata": {},
          "output_type": "display_data"
        }
      ],
      "source": [
        "## New optimal value\n",
        "new_obj = objective_value(model)"
      ]
    },
    {
      "cell_type": "code",
      "execution_count": 21,
      "metadata": {},
      "outputs": [
        {
          "data": {
            "text/plain": [
              "-1.0"
            ]
          },
          "metadata": {},
          "output_type": "display_data"
        }
      ],
      "source": [
        "new_obj-obj"
      ]
    },
    {
      "cell_type": "code",
      "execution_count": 22,
      "metadata": {},
      "outputs": [
        {
          "data": {
            "text/plain": [
              "-8.0"
            ]
          },
          "metadata": {},
          "output_type": "display_data"
        }
      ],
      "source": [
        "mc_arcs[(2, 2)]"
      ]
    },
    {
      "cell_type": "markdown",
      "metadata": {},
      "source": [
        "Turns out the marginal cost that we calculated did not predict this change correctly. Comparing the solution below, we notice that one unit of product 1 to demand point 2 is now transported from supplier 2 instead of supplier 3 due to the increased capacity of arc 2->2. This shows that you should always check whether you can apply marginal costs. **If the optimal basis changes because of a change in $b$, you can't apply marginal costs.**"
      ]
    },
    {
      "cell_type": "code",
      "execution_count": 23,
      "metadata": {},
      "outputs": [
        {
          "name": "stdout",
          "output_type": "stream",
          "text": [
            "The marginal costs for the supply 1 for the product 1 is: -3.0\n",
            "The marginal costs for the supply 1 for the product 2 is: 0.0\n",
            "The marginal costs for the supply 2 for the product 1 is: 0.0\n",
            "The marginal costs for the supply 2 for the product 2 is: -7.0\n",
            "The marginal costs for the supply 3 for the product 1 is: 0.0\n",
            "The marginal costs for the supply 3 for the product 2 is: 0.0\n",
            "The marginal costs for the arc (1, 2) is: -2.0\n",
            "The marginal costs for the arc (1, 3) is: 0.0\n",
            "The marginal costs for the arc (2, 1) is: 0.0\n",
            "The marginal costs for the arc (2, 2) is: -1.0\n",
            "The marginal costs for the arc (2, 3) is: -1.0\n",
            "The marginal costs for the arc (3, 1) is: 0.0\n",
            "The value of x[(1, 1),1] is 60.0\n",
            "The value of x[(1, 2),1] is 20.0\n",
            "The value of x[(1, 2),2] is 280.0\n",
            "The value of x[(2, 1),1] is 0.0\n",
            "The value of x[(2, 1),2] is 300.0\n",
            "The value of x[(2, 2),1] is 1.0\n",
            "The value of x[(2, 2),2] is 700.0\n",
            "The value of x[(2, 3),1] is 100.0\n",
            "The value of x[(2, 3),2] is 500.0\n",
            "The value of x[(3, 2),1] is 79.0\n",
            "The value of x[(3, 2),2] is 20.0\n",
            "The value of x[(3, 3),1] is 100.0\n"
          ]
        }
      ],
      "source": [
        "## Computing the duals to infer the marginal costs\n",
        "mc_supply = dual.(sup_con);\n",
        "mc_arcs = dual.(cap_con);\n",
        "for s in S, p in P\n",
        "    println(\"The marginal costs for the supply $s for the product $p is: $(mc_supply[s,p])\")\n",
        "end\n",
        "for a in A\n",
        "    if cap[a[1],a[2]] < Inf\n",
        "        println(\"The marginal costs for the arc $a is: $(mc_arcs[a])\")\n",
        "    end\n",
        "end\n",
        "for a in A, p in P\n",
        "    if costs[p,a[1],a[2]] < Inf\n",
        "        println(\"The value of $(x[a,p]) is $(value(x[a,p]))\")\n",
        "    end\n",
        "end"
      ]
    },
    {
      "cell_type": "markdown",
      "metadata": {},
      "source": [
        "### Problem 5.5 - Complementary slackness\n",
        "Recall the paint factory problem introduced in Section 1.2.1. of the lecture notes"
      ]
    },
    {
      "cell_type": "code",
      "execution_count": 24,
      "metadata": {},
      "outputs": [],
      "source": [
        "A = [ 6  4; \n",
        "      1  2; \n",
        "     -1  1; \n",
        "      0  1]\n",
        "b = [24; \n",
        "     6; \n",
        "     1; \n",
        "     2]\n",
        "c = [5; \n",
        "     4];"
      ]
    },
    {
      "cell_type": "markdown",
      "metadata": {},
      "source": [
        "#### Solving the primal and dual problems\n",
        "Formulate and solve the two problems to obtain their optimal solutions\n",
        "\n",
        "*Primal Problem Formulation*\n",
        "\n",
        "\\begin{align*}\n",
        "\\max_x \\ & z = 5x_1 + 4x_2 \\\\\n",
        "\\text{s.t.: } & 6x_1 + 4x_2 \\leq 24 & (p_1)\\\\\n",
        "& x_1 + 2x_2 \\leq 6 & (p_2)\\\\\n",
        "& x_2 - x_1 \\leq 1 & (p_3)\\\\\n",
        "& x_2 \\leq 2 & (p_4)\\\\\n",
        "& x_1, x_2 \\geq 0\n",
        "\\end{align*}\n",
        "\n",
        "*Succinct Form*\n",
        "\\begin{align*}\n",
        "\\max_x \\ & z = \\mathbf{c}^\\top \\mathbf{x} \\\\\n",
        "\\text{s.t.: } & \\mathbf{A} \\mathbf{x} \\leq \\mathbf{b} & (\\mathbf{p})\\\\\n",
        "& \\mathbf{x} \\geq \\mathbf{0}\n",
        "\\end{align*}"
      ]
    },
    {
      "cell_type": "code",
      "execution_count": 38,
      "metadata": {},
      "outputs": [
        {
          "name": "stdout",
          "output_type": "stream",
          "text": [
            "OPTIMAL\n",
            "objective_value(model_p) = 21.0\n"
          ]
        }
      ],
      "source": [
        "# TODO: add your code here\n",
        "model_p = Model(GLPK.Optimizer)\n",
        "\n",
        "@variable(model_p, x[1:2] >= 0)\n",
        "@objective(model_p, Max, c'*x)\n",
        "@constraint(model_p, primal_constraints, A*x .<= b)\n",
        "\n",
        "set_silent(model_p)\n",
        "optimize!(model_p)\n",
        "\n",
        "status = termination_status(model_p)\n",
        "println(status)\n",
        "\n",
        "@show objective_value(model_p);\n"
      ]
    },
    {
      "cell_type": "markdown",
      "metadata": {},
      "source": [
        "*Dual Problem Formulation*\n",
        "\n",
        "\\begin{align*}\n",
        "\\min_x \\ & z = 24p_1 + 6p_2 + p_3 + 2p_4 \\\\\n",
        "\\text{s.t.: } & 6p_1 + p_2 - p_3 \\geq 5 & (x_1)\\\\\n",
        "& 4p_1 + 2p_2 + p_3 + p_4 \\geq 4 & (x_2)\\\\\n",
        "& p_1, p_2, p_3, p_4 \\geq 0\n",
        "\\end{align*}\n",
        "\n",
        "*Succinct Form*\n",
        "\\begin{align*}\n",
        "\\min_p \\ & z = \\mathbf{p}^\\top \\mathbf{b} \\\\\n",
        "\\text{s.t.: } & \\mathbf{A}^\\top \\mathbf{p} \\geq \\mathbf{c} & (\\mathbf{x})\\\\\n",
        "& \\mathbf{p} \\geq \\mathbf{0}\n",
        "\\end{align*}"
      ]
    },
    {
      "cell_type": "code",
      "execution_count": 42,
      "metadata": {},
      "outputs": [
        {
          "name": "stdout",
          "output_type": "stream",
          "text": [
            "OPTIMAL\n",
            "objective_value(model_d) = 21.0\n"
          ]
        }
      ],
      "source": [
        "# TODO: add your code here\n",
        "model_d = Model(GLPK.Optimizer)\n",
        "\n",
        "@variable(model_d, p[1:4] >= 0)\n",
        "@objective(model_d, Min, p'*b)\n",
        "@constraint(model_d, dual_constraints, A'*p .>= c)\n",
        "\n",
        "set_silent(model_d)\n",
        "optimize!(model_d)\n",
        "\n",
        "status = termination_status(model_d)\n",
        "println(status)\n",
        "\n",
        "@show objective_value(model_d);"
      ]
    },
    {
      "cell_type": "markdown",
      "metadata": {},
      "source": [
        "#### Complementary slackness\n",
        "Verify the optimality of your solutions using complementary slackness"
      ]
    },
    {
      "cell_type": "code",
      "execution_count": 30,
      "metadata": {},
      "outputs": [
        {
          "name": "stdout",
          "output_type": "stream",
          "text": [
            "(x_opt, VarDualConstraints) = ([3.0, 1.4999999999999998], [3.0, 1.4999999999999998])\n",
            "(p_opt, VarPrimalConstraints) = ([0.75, 0.5000000000000001, 0.0, 0.0], [0.7500000000000001, 0.49999999999999983, 0.0, 0.0])\n",
            "Primal feasibility:\n",
            "24.0 <= 24\n",
            "6.0 <= 6\n",
            "-1.5 <= 1\n",
            "1.5 <= 2\n",
            "\n",
            "Dual feasibility:\n",
            "5.0 >= 5\n",
            "4.0 >= 4\n",
            "\n",
            "Complementary slackness:\n",
            "0.0 = 0\n",
            "0.0 = 0\n",
            "-0.0 = 0\n",
            "-0.0 = 0\n",
            "0.0 = 0\n",
            "0.0 = 0\n"
          ]
        }
      ],
      "source": [
        "# TODO: add your code here\n",
        "\n",
        "x_opt = value.(model_p[:x])\n",
        "p_opt = value.(model_d[:p])\n",
        "\n",
        "VarPrimalConstraints = shadow_price.([con for con in primal_constraints])\n",
        "# Using dual() here would generate negative value, see: https://jump.dev/JuMP.jl/stable/manual/solutions/#Dual-solutions\n",
        "VarDualConstraints = dual.([con for con in dual_constraints])\n",
        "\n",
        "@show x_opt, VarDualConstraints\n",
        "@show p_opt, VarPrimalConstraints\n",
        "\n",
        "lhs_primal = A*x_opt\n",
        "lhs_dual = p_opt'*A\n",
        "\n",
        "println(\"Primal feasibility:\")\n",
        "for m in 1:4\n",
        "    println(\"$(round(lhs_primal[m],digits=2)) <= $(b[m])\")\n",
        "end\n",
        "\n",
        "println(\"\\nDual feasibility:\")\n",
        "for n in 1:2\n",
        "    println(\"$(round(lhs_dual[n],digits=2)) >= $(c[n])\")\n",
        "end\n",
        "\n",
        "println(\"\\nComplementary slackness:\")\n",
        "for m in 1:4\n",
        "    println(\"$(round((lhs_primal[m] - b[m])*p_opt[m],digits=2)) = 0\")\n",
        "end\n",
        "for n in 1:2\n",
        "    println(\"$(round((lhs_dual[n] - c[n])*x_opt[n],digits=2)) = 0\")\n",
        "end\n",
        "\n",
        "# Primal optimal: p^T (Ax-b) = 0\n",
        "\n",
        "# Dual optimal: (c^T - p^T A)x = 0\n"
      ]
    }
  ],
  "metadata": {
    "kernelspec": {
      "display_name": "Julia 1.7.1",
      "language": "julia",
      "name": "julia-1.7"
    },
    "language_info": {
      "file_extension": ".jl",
      "mimetype": "application/julia",
      "name": "julia",
      "version": "1.7.1"
    }
  },
  "nbformat": 4,
  "nbformat_minor": 2
}
