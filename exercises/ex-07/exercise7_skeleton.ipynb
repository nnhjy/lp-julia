{
 "cells": [
  {
   "cell_type": "markdown",
   "metadata": {},
   "source": [
    "# MS-E2121 Exercise session 7\n",
    "### Problem 7.1: Dantzig-Wolfe decomposition\n",
    "\n",
    "Consider the following linear programming problem:\n",
    "\n",
    "$$\\begin{matrix}\n",
    "\\text{min} & &-x_{12} & & &-x_{22} &-x_{23}& \\\\\n",
    "\\text{s.t.} &x_{11} &+x_{12} &+x_{13} & & & &= 20 \\\\\n",
    "& & & &x_{21} &+x_{22} &+x_{23} &= 20 \\\\\n",
    "&-x_{11} & & &-x_{21} & & &= -20 \\\\\n",
    "& &-x_{12} & & &-x_{22} & &= -10 \\\\\n",
    "& & &-x_{13} & & &-x_{23} & = -10 \\\\\n",
    "&x_{11} & & & & &+x_{23} &\\le 15 \\\\\n",
    "&x_{11,} &x_{12}, &x_{13}, &x_{21}, &x_{22}, &x_{23} &\\ge 0\\\\\n",
    "\\end{matrix}$$\n",
    "\n",
    "We wish to solve this problem using Dantzig-Wolfe decomposition, where the constraint $x_{11}+x_{23} \\le 15$ is the only \"coupling\" constraint and the remaining constraints define a single subproblem.\n",
    "\n",
    "The problem is then formulated as \n",
    "\n",
    "$$\\begin{align*}\n",
    "\\text{min} & \\sum_{k = 1}^K c_k ^\\top x_k \t\\\\\n",
    "\\text{s.t.} & \\sum_{k=1}^K A_k x_k = b \\\\\n",
    "& x_k \\in P_k, \\ \\forall k \\in \\{1,\\dots,K\\}. \n",
    "\\end{align*}$$\n",
    "\n",
    "with $P_k = \\{x_k \\geq 0 : D_kx_k = d_k\\}$ and K=1. The constraint $x \\in P = \\{x \\geq 0 : Dx = d\\} $ defines our single subproblem.\n",
    "\n",
    "**a)**\n",
    "\n",
    "Consider the following two extreme points for the subproblem:\n",
    "\n",
    "$$x^1 = (20,0,0,0,10,10),$$\n",
    "\n",
    "and\n",
    "\n",
    "$$x^2 = (0,10,10,20,0,0).$$\n",
    "\n",
    "Construct a main problem in which $x$ is constrained to be a convex combination of $x^1$ and $x^2$. Find the optimal primal and dual solutions for the main problem.\n",
    "\n",
    "**b)**\n",
    "\n",
    "Using the dual variables calculated in part a), formulate the subproblem and find its optimal solution.\n",
    "\n",
    "**c)**\n",
    "\n",
    "What is the reduced cost of the variable $\\lambda_3$ associated with the extreme point $x^3$ obtained from solving the subproblem in part b)?\n",
    "\n",
    "**d)**\n",
    "\n",
    "Compute a lower bound on the optimal cost."
   ]
  },
  {
   "cell_type": "code",
   "execution_count": null,
   "metadata": {},
   "outputs": [],
   "source": [
    "using JuMP, GLPK"
   ]
  },
  {
   "cell_type": "code",
   "execution_count": null,
   "metadata": {},
   "outputs": [],
   "source": [
    "# Subproblem parameters\n",
    "D = [1 1 1 0 0 0; 0 0 0 1 1 1; -1 0 0 -1 0 0; 0 -1 0 0 -1 0; 0 0 -1 0 0 -1] \n",
    "d = [20 20 -20 -10 -10]\n",
    "\n",
    "# Main problem parameters\n",
    "c = [0 -1 0 0 -1 -1]\n",
    "A = [1 0 0 0 0 1]\n",
    "b = 15\n",
    "\n",
    "# The list of extreme points found so far\n",
    "extremepoints = [[20.0 0 0 0 10 10], [0 10 10 20 0 0]];\n",
    "\n",
    "I = 1:length(c) # Number of variables\n",
    "M = 1:size(D)[1]; # Number of subproblem constraints"
   ]
  },
  {
   "cell_type": "markdown",
   "metadata": {},
   "source": [
    "We start by formulating the main problem, which is done by finding a convex combination of extreme points plus a nonnegative combination of extreme rays that satisfy the main problem constraints and minimize the objective function. Note that we don't have extreme rays at this point and we only have a single subproblem so we're only looking at a convex combination $x = \\sum_{j \\in J} \\lambda^j x^j$ minimizing $c^\\top x$ and satisfying our complicating constraint $Ax \\le b$."
   ]
  },
  {
   "cell_type": "code",
   "execution_count": null,
   "metadata": {},
   "outputs": [],
   "source": [
    "J = 1:length(extremepoints)\n",
    "\n",
    "mainproblem = Model(GLPK.Optimizer)\n",
    "@variable(mainproblem, λ[J]>=0) # Weights for the extreme points (note that we have no extreme rays at this point)\n",
    "\n",
    "# x_conv = sum(lambda[j]*x[j]), also feasible for the subproblem as x[j] are feasible points\n",
    "@expression(mainproblem, x_conv[i in I], sum(λ[j]*extremepoints[j][i] for j in J)) \n",
    "\n",
    "@objective(mainproblem, Min, sum(c[i]*x_conv[i] for i in I))\n",
    "@constraint(mainproblem, con, sum(A[i]*x_conv[i] for i in I) <= b)\n",
    "@constraint(mainproblem, sumcon, sum(λ[j] for j in J) == 1)\n",
    "\n",
    "println(mainproblem)\n",
    "optimize!(mainproblem)\n",
    "\n",
    "main_opt = objective_value(mainproblem)\n",
    "λ_opt = value.(λ)\n",
    "q_opt = dual.(con)\n",
    "r_opt = dual(sumcon);"
   ]
  },
  {
   "cell_type": "markdown",
   "metadata": {},
   "source": [
    "Since our extreme points $x^j$ are feasible for the subproblem, their convex combination is also feasible for the subproblem (because the set $P$ is convex). The main problem additionally constrains the combination to satisfy the complicating constraint $x_{11}+x_{23} \\le 15$, and the optimal solution is thus primal feasible. It might not be optimal, however. In order to check optimality, we want to check the reduced costs. To do this efficiently without calculating all reduced costs, we solve the subproblem, also known as the *pricing problem*.\n",
    "\n",
    "In our case, we can drop the subproblem index $k$ (we only have one) and the subproblem becomes\n",
    "\n",
    "$$\\begin{align*}\n",
    "\\text{min} \\ & (c^\\top - q^\\top A) x \\\\\n",
    "\\text{s.t.} \\ & x \\in P. \n",
    "\\end{align*}$$"
   ]
  },
  {
   "cell_type": "code",
   "execution_count": null,
   "metadata": {},
   "outputs": [],
   "source": [
    "subproblem = Model(GLPK.Optimizer)\n",
    "@variable(subproblem, x[I] >= 0)\n",
    "# TODO: add your code here\n",
    "println(subproblem)\n",
    "optimize!(subproblem)\n",
    "sub_opt = objective_value(subproblem);"
   ]
  },
  {
   "cell_type": "markdown",
   "metadata": {},
   "source": [
    "The reduced cost of the variable $\\lambda_3$ is calculated as $(c_k^\\top - q^\\top A_k)x_k^3 - r_k$, where $(c_k^\\top - q^\\top A_k)x_k^3$ is the optimal solution of the subproblem $k$."
   ]
  },
  {
   "cell_type": "code",
   "execution_count": null,
   "metadata": {},
   "outputs": [],
   "source": [
    "# TODO: add your code here"
   ]
  },
  {
   "cell_type": "markdown",
   "metadata": {},
   "source": [
    "The lower bound is obtained as $z + \\sum_{k=1}^K (z_k-r_k)$, where $z$ is the optimal value for the main problem and $z_k$ the optimal value for subproblem $k$. Note that we only have one subproblem."
   ]
  },
  {
   "cell_type": "code",
   "execution_count": null,
   "metadata": {},
   "outputs": [],
   "source": [
    "# TODO: add your code here"
   ]
  },
  {
   "cell_type": "markdown",
   "metadata": {},
   "source": [
    "We can see that the solution we have is not yet optimal, so we can just add the new extreme point $x^3$ into our list and do another iteration of solving the main problem and subproblem(s) (you can do this if you have time)"
   ]
  },
  {
   "cell_type": "code",
   "execution_count": null,
   "metadata": {},
   "outputs": [],
   "source": [
    "# TODO: add your code here"
   ]
  },
  {
   "cell_type": "code",
   "execution_count": null,
   "metadata": {},
   "outputs": [],
   "source": [
    "# TODO: add your code here"
   ]
  },
  {
   "cell_type": "code",
   "execution_count": null,
   "metadata": {},
   "outputs": [],
   "source": [
    "# TODO: add your code here"
   ]
  },
  {
   "cell_type": "code",
   "execution_count": null,
   "metadata": {},
   "outputs": [],
   "source": [
    "# TODO: add your code here"
   ]
  },
  {
   "cell_type": "code",
   "execution_count": null,
   "metadata": {},
   "outputs": [],
   "source": [
    "# TODO: add your code here"
   ]
  },
  {
   "cell_type": "code",
   "execution_count": null,
   "metadata": {},
   "outputs": [],
   "source": [
    "# TODO: add your code here"
   ]
  },
  {
   "cell_type": "code",
   "execution_count": null,
   "metadata": {},
   "outputs": [],
   "source": []
  }
 ],
 "metadata": {
  "kernelspec": {
   "display_name": "Julia 1.7.1",
   "language": "julia",
   "name": "julia-1.7"
  },
  "language_info": {
   "file_extension": ".jl",
   "mimetype": "application/julia",
   "name": "julia",
   "version": "1.5.1"
  }
 },
 "nbformat": 4,
 "nbformat_minor": 4
}
