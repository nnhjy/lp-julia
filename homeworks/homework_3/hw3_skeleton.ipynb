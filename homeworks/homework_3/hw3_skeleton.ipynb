{
  "cells": [
    {
      "cell_type": "markdown",
      "metadata": {},
      "source": [
        "# MS-E2121 - Linear Optimization\n",
        "\n",
        "## Homework 3"
      ]
    },
    {
      "cell_type": "code",
      "execution_count": 1,
      "metadata": {},
      "outputs": [],
      "source": [
        "using LinearAlgebra"
      ]
    },
    {
      "cell_type": "markdown",
      "metadata": {},
      "source": [
        "## Revised simplex\n",
        "The following cell contains all the functions that are used in our implementation of the revised simplex method. Your task is to implement the functions by replacing the \"TODO: add your code here\" -comments with your code."
      ]
    },
    {
      "cell_type": "code",
      "execution_count": 2,
      "metadata": {},
      "outputs": [],
      "source": [
        "## Dictionary of elements:\n",
        "#     A: The constraint matrix\n",
        "#     b: The RHS (right-hand side) vector\n",
        "#     B_hist: Column indices of the basic variables at each iteration\n",
        "#     B_ind: The column indices of the basic variables\n",
        "#     c: The vector of cost coefficients\n",
        "#     cᵣ: The vector of reduced costs\n",
        "#     c_hist: Reduced costs at each iteration\n",
        "#     I: contains the row indices of u for which its components are positive    \n",
        "#     iter:   Number of iterations so far\n",
        "#     J: set of indices of nonbasic variables that are candidate to become basic (with cᵣ < 0)\n",
        "#     j_in: index of the nonbasic variable selected to become basic\n",
        "#     l_out: the index of the basic variable selected to become nonbasic  \n",
        "#     rule: the pivoting rule for choosing the entering variable. Options are :bland and :dantzig \n",
        "#     u: the reverse of the basic directions \n",
        "#     x_hist: Decision variable values at each iteration\n",
        "\n",
        "## Update \"history arrays\"\n",
        "function update_history!(c_hist, cᵣ, x_hist, x, B_hist, B_ind, iter)\n",
        "    c_hist[iter,:] = cᵣ\n",
        "    x_hist[iter,:] = x\n",
        "    B_hist[iter,:] = B_ind\n",
        "end\n",
        "\n",
        "## Return true if the while-loop should continue, \n",
        "## false if optimal solution has been obtained\n",
        "function iteration_condition(cᵣ, ϵ)\n",
        "    return !all(cᵢ>=-ϵ for cᵢ in cᵣ)\n",
        "end\n",
        "\n",
        "## Calculate the reduced costs cᵣ (Hint: you might want to calculate p, the vector of dual variables, \n",
        "## but it doesn't need to be returned as it is not used in other parts of the algorithm)\n",
        "function calculate_cr(A, c, B_ind, invB)\n",
        "    # TODO: add your code here\n",
        "    c_B = c[B_ind]          # Basic variable costs\n",
        "    p = c_B' * invB         # Dual vector for reduced cost calculation\n",
        "    cᵣ = c' - p*A           # Reduced cost\n",
        "    # println(\"###### calculate_cr ######\")\n",
        "    # @show c\n",
        "    # @show c_B\n",
        "    # @show B_ind\n",
        "    # @show A\n",
        "    # @show inv(A[:, B_ind])\n",
        "    # @show invB\n",
        "    # @show cᵣ\n",
        "    # println(\"###### calculate_cr ######\")\n",
        "    return cᵣ\n",
        "end\n",
        "\n",
        "## Choose the variable with the smallest column index in accordance with predefined rule\n",
        "function select_entering_variable(J, cᵣ, rule)\n",
        "    if rule == :dantzig   # Dantzig's rule: most negative reduced cost\n",
        "        # TODO: add your code here\n",
        "        min_cᵣ, j_ind = findmin(cᵣ[J])  # j_ind is the index of elements in set J\n",
        "        j_in = J[j_ind]\n",
        "    elseif rule == :bland # Bland's rule: smallest index j    \n",
        "        # TODO: add your code here\n",
        "        j_in = minimum(J)\n",
        "    end\n",
        "    return j_in\n",
        "end\n",
        "\n",
        "## Compute the vector u (i.e., the reverse of the basic directions)\n",
        "## u = - d_B_{j_in}, reverse basic direction corresponding to the entering nonbasic variable x_{j_in}\n",
        "function calculate_reverse_basic_directions(A, invB, j_in)\n",
        "    # TODO: add your code here\n",
        "    u = invB * A[:, j_in]\n",
        "    return u\n",
        "end\n",
        "\n",
        "## Compute the optimal step length θ by performing element-wise\n",
        "## divisions (./) between the vector x(B_ind) of basic variables and the vector\n",
        "## u. The divisions are performed only for the elements of u and x(B_ind(I))\n",
        "## with indices in I (I contains the row indices of u for which\n",
        "## u(I) is positive). The corresponding basic variables are in vector x(B_ind(I)).\n",
        "## The minimum of these element-wise divisions is the optimal step length.\n",
        "function calculate_step_length(x, B_ind, u, I) \n",
        "    # TODO: add your code here\n",
        "    θ = minimum(x[B_ind[I]] ./ u[I])\n",
        "    return θ\n",
        "end\n",
        "\n",
        "## Select the smallest (row) index among the potential exiting variables in\n",
        "## accordance with Bland's rule (minimum index) and store it to l_out\n",
        "## Hint: First find the row indices of all the basic variables with the optimal step length θ\n",
        "## by performing element-wise divisions (./) between the vector of basic\n",
        "## variables x(B_ind) and the vector u and checking if the step equals θ.\n",
        "## This set (of those indices for which the step is equal to θ) then contains all the basic row indices \n",
        "## with the optimal step length (i.e., the row indices of the basic variables that can exit the basis)\n",
        "function select_leaving_variable(B_ind, x, u, I, θ)\n",
        "    # TODO: add your code here\n",
        "    row_indices = findall(x[B_ind] ./ u .== θ)  # to maintain i∈B \n",
        "    intersect!(row_indices, I)                  # remove the indices with which u is negative, to maintain uᵢ>0\n",
        "    l_out = minimum(row_indices)\n",
        "    return l_out                                # l_out is the index of an element in B_ind\n",
        "end\n",
        "\n",
        "## Move to the adjacent solution (move in direction -u with the optimal step \n",
        "## length θ): x(B) = x(B) - θ*u    AND   x(j) = 0 + θ\n",
        "## NOTE: The exclamation mark is a naming convention for a mutating function,\n",
        "## that is, a function that modifies its input variables and doesn't necessarily return anything\n",
        "## See for example the function update_history! above\n",
        "function update_x!(x, j_in, B_ind, θ, u)\n",
        "    # TODO: add your code here\n",
        "    x[B_ind] = x[B_ind] - θ*u\n",
        "    x[j_in] = 0 + θ\n",
        "end\n",
        "\n",
        "## Update the set of basic indices (replace the index of the leaving\n",
        "## variable l_out with that of the entering variable j_in)\n",
        "function update_B_ind!(B_ind, l_out, j_in)\n",
        "    # TODO: add your code here\n",
        "    B_ind[l_out] = j_in\n",
        "    # setdiff!(B_ind, B_ind[l_out])\n",
        "    # union!(B_ind, j_in)\n",
        "    # sort!(B_ind)\n",
        "end\n",
        "\n",
        "## Compute the new inverse basis B^-1 by performing elementary row\n",
        "## operations on [B^-1 u] (pivot row index is l_out, the vector u is trans-\n",
        "## formed into a unit vector with u(l_out) = 1 and u(i) = 0 for other i).\n",
        "function update_invB!(invB, u, l_out)\n",
        "    # TODO: add your code here\n",
        "    # println(\"###### update_invB! ######\")\n",
        "    # println(\"# original invB\")\n",
        "    # @show invB\n",
        "    # @show u\n",
        "    # @show l_out\n",
        "    I_row = 1:size(invB, 1)\n",
        "    for row in I_row\n",
        "        if row != l_out\n",
        "            invB[row, :] = invB[row, :] - invB[l_out, :] * u[row] / u[l_out]\n",
        "        end\n",
        "    end\n",
        "    invB[l_out, :] = invB[l_out, :] / u[l_out]\n",
        "    # println(\"# new invB\")\n",
        "    # @show invB\n",
        "    # println(\"###### update_invB! ######\")\n",
        "end;"
      ]
    },
    {
      "cell_type": "markdown",
      "metadata": {},
      "source": [
        "Using the functions defined above, we can implement another function for running a single iteration of the revised simplex algorithm."
      ]
    },
    {
      "cell_type": "code",
      "execution_count": 3,
      "metadata": {},
      "outputs": [],
      "source": [
        "function revised_simplex_iteration(A, c, B_ind, x, cᵣ, invB, rule, ϵ)\n",
        "    ## Find all variables with negative reduces costs; the column indices j\n",
        "    ## of these variables are stored in vector J\n",
        "    J = findall(vec(cᵣ) .< -ϵ)  ## We use vec(c_r) since findall is type sensitive and might return CartesianIndices instead.\n",
        "\n",
        "    j_in = select_entering_variable(J, cᵣ, rule)\n",
        "\n",
        "    u = calculate_reverse_basic_directions(A, invB, j_in)\n",
        "\n",
        "    ## Find all row indices, stored in vector I, for which the elements of u\n",
        "    ## are positive.\n",
        "    I = findall(vec(u) .> ϵ)\n",
        "\n",
        "    ## In case no element of u is positive (i.e., I is empty), the problem\n",
        "    ## is unbounded and the optimal cost is -infinity\n",
        "    ## The final return parameter is a flag telling the main function the outcome of \n",
        "    ## this iteration: -1 for unboundedness, 1 for successfully finishing the iteration\n",
        "    if (isempty(I))\n",
        "        return B_ind, x, cᵣ, invB, -1\n",
        "    end\n",
        "\n",
        "    θ = calculate_step_length(x, B_ind, u, I)\n",
        "\n",
        "    l_out = select_leaving_variable(B_ind, x, u, I, θ)\n",
        "\n",
        "    update_x!(x, j_in, B_ind, θ, u)\n",
        "\n",
        "    update_B_ind!(B_ind, l_out, j_in)\n",
        "\n",
        "    update_invB!(invB, u, l_out)\n",
        "    \n",
        "    cᵣ = calculate_cr(A, c, B_ind, invB)\n",
        "    \n",
        "    return B_ind, x, cᵣ, invB, 1\n",
        "end;"
      ]
    },
    {
      "cell_type": "markdown",
      "metadata": {},
      "source": [
        "This cell contains the function for the revised simplex method. You do not need to change anything here, but it might be good to understand the main idea of the code nevertheless."
      ]
    },
    {
      "cell_type": "code",
      "execution_count": 4,
      "metadata": {},
      "outputs": [
        {
          "data": {
            "text/plain": [
              "revised_simplex (generic function with 1 method)"
            ]
          },
          "metadata": {},
          "output_type": "display_data"
        }
      ],
      "source": [
        "## Revised Simplex\n",
        "\n",
        "# Naive implementation of the primal revised Simplex. Solves a linear\n",
        "# programming problem of the form\n",
        "#\n",
        "#   min c'x\n",
        "#   s.t. Ax  = b\n",
        "#         x >= 0\n",
        "#\n",
        "# The function input parameters are the following:\n",
        "#     A: The constraint matrix\n",
        "#     b: The RHS (right-hand side) vector\n",
        "#     c: The vector of cost coefficients\n",
        "#     B_ind: The column indices of the basic variables corresponding to an\n",
        "#        initial basic feasible solution\n",
        "#     rule: an optional keyword argument defining the pivoting rule for \n",
        "#        choosing the entering variable. Options are :bland and :dantzig, \n",
        "#        default is :bland\n",
        "#\n",
        "# The function returns:\n",
        "#     x_opt:  Decision variable values at the optimal solution\n",
        "#     f_opt:  Objective function value at the optimal solution\n",
        "#     x_hist: Decision variable values at each iteration\n",
        "#     c_hist: Reduced costs at each iteration\n",
        "#     B_hist: Column indices of the basic variables at each iteration\n",
        "#     iter:   Number of iterations before termination\n",
        "#\n",
        "# Usage: x_opt, f_opt, x_hist, c_hist, B_hist, iter = revised_simplex(A,b,c,B)\n",
        "\n",
        "function revised_simplex(A_orig, b_orig, c, B_ind_start; rule = :bland)\n",
        "    ## Error control\n",
        "    \n",
        "    ## If a constraint has negative RHS, multiply the constraint by -1\n",
        "    ## This way, b>=0\n",
        "    A = zeros(size(A_orig))\n",
        "    b = zeros(size(b_orig))\n",
        "    for i = 1:length(b_orig)\n",
        "        if b_orig[i] < 0\n",
        "            A[i,:] = -A_orig[i,:]\n",
        "            b[i] = -b_orig[i]\n",
        "        else\n",
        "            A[i,:] = A_orig[i,:]\n",
        "            b[i] = b_orig[i]\n",
        "        end\n",
        "    end\n",
        "\n",
        "    ## Check the keyword argument\n",
        "    if rule != :dantzig && rule != :bland\n",
        "         println(\"error: rule $(rule) not known, defaulting to Bland.\")\n",
        "         rule = :bland \n",
        "    end\n",
        "    \n",
        "    ## Initialization phase\n",
        "    \n",
        "    ## Initialize the vector of decision variables\n",
        "    x = zeros(length(c))\n",
        "    \n",
        "    ## Construct the basis matrix B according to the column indices of the basic\n",
        "    ## variables in B_ind and compute its inverse (denoted by invB)\n",
        "    B_ind = B_ind_start\n",
        "    B = zeros(length(B_ind), length(B_ind))\n",
        "    \n",
        "    B = A[:, B_ind]             # Basis matrix, take the columns of A with indices in B_ind\n",
        "    invB = inv(B)               # Inverse of the basis matrix\n",
        "    x[B_ind] = invB * b;        # Calculate x_B for initial basis\n",
        "\n",
        "    k_max = 50        # At most n_max iterations\n",
        "    k = 0             # Counter for the while loop\n",
        "    ϵ = 1E-9          # A small numerical tolerance, explained below: \n",
        "                      # Comparisons like x>=0 can fail if x=-1E-10,\n",
        "                      # when x is practically zero, with some numerical inaccuracy\n",
        "                      # You can try asking your computer if 0.1+0.2 == 0.3 holds \n",
        "\n",
        "    x_hist = zeros(k_max+1,length(x))\n",
        "    c_hist = zeros(k_max+1,length(c))\n",
        "    B_hist = zeros(k_max+1,length(B_ind))\n",
        "\n",
        "    ## Iteration phase\n",
        "    \n",
        "    cᵣ = calculate_cr(A, c, B_ind, invB)\n",
        "    update_history!(c_hist, cᵣ, x_hist, x, B_hist, B_ind, 1)\n",
        "    \n",
        "    while iteration_condition(cᵣ, ϵ)\n",
        "        @assert k<k_max \"Maximum number of iterations reached\"\n",
        "\n",
        "        B_ind, x, cᵣ, invB, returnflag = revised_simplex_iteration(A, c, B_ind, x, cᵣ, invB, rule, ϵ)\n",
        "        \n",
        "        k += 1                 # Increase counter\n",
        "        \n",
        "        if returnflag == -1    # Problem is unbounded\n",
        "            f_opt = \"-inf\"     # Optimal objective function cost = -inf\n",
        "            x_opt = []         # Produce empty vector []\n",
        "            return x_opt, f_opt, x_hist[1:k,:], c_hist[1:k,:], B_hist[1:k,:], k\n",
        "        else\n",
        "            update_history!(c_hist, cᵣ, x_hist, x, B_hist, B_ind, k+1)\n",
        "        end\n",
        "    end\n",
        "    \n",
        "    ## Optimal solution was found if we manage to break out of the while loop\n",
        "    f_opt = dot(c,x)        # Optimal objective function cost\n",
        "    x_opt = x               # Values of the decision variables in the optimum\n",
        "    return x_opt, f_opt, x_hist[1:k+1,:], c_hist[1:k+1,:], B_hist[1:k+1,:], k \n",
        "end;\n",
        "# End function"
      ]
    },
    {
      "cell_type": "markdown",
      "metadata": {},
      "source": [
        "## Two-phase simplex\n",
        "Finally, we can use this to implement the two-phase simplex method. Again, you only need to implement the parts with \"TODO\" -comments. In order to reduce the workload of this assignment, we do not consider the preprocessing for a degenerate auxiliary problem."
      ]
    },
    {
      "cell_type": "code",
      "execution_count": 5,
      "metadata": {},
      "outputs": [],
      "source": [
        "## Implements a general two-phase simplex method. \n",
        "## Presumes that for feasible problems, all artificial variables are zero.\n",
        "\n",
        "function two_phase(A, b, c; rule=:bland)\n",
        "    \n",
        "    ## Augmenting problem to auxiliary form:\n",
        "    ## [0 1] [x z]'\n",
        "    ## [A Z] [x z]' = b\n",
        "    ## [x z] ≥ 0 \n",
        "    \n",
        "    m,n = size(A)\n",
        "    # TODO: add your code here\n",
        "\n",
        "    # # Wrong approach 1\n",
        "    # A_aux = A                           # Initialise A_aux\n",
        "    # x_slack_ind = findall(==(0), c)     # Find the column indices of slack variables, of which the cost is zero.\n",
        "    # A_slack = A[:, x_slack_ind]         # Corresponding coefficient matrix of slack variables.\n",
        "    # aux_ind = findall(==(-1), A_slack)  # Indices of slack variables with coefficient -1 in the slack coefficient matrix.\n",
        "    # for ind in aux_ind                  # Append the coefficient vector of auxiliary variables\n",
        "    #     row = ind[1]\n",
        "    #     a_aux = zeros(m)\n",
        "    #     a_aux[row] = 1\n",
        "    #     A_aux = [A_aux a_aux]\n",
        "    # end\n",
        "\n",
        "    # number_of_aux = length(aux_ind)     # Number of added auxiliary variables\n",
        "    # c_aux = [zeros(n,1); ones(number_of_aux,1)]\n",
        "\n",
        "    # b_aux = b\n",
        "    \n",
        "    # x_one_ind = [ind[2] for ind in findall(==(1), A)]       # Column indices of variables with coefficient 1 in the coefficient matrix.\n",
        "    # x_slack_one_ind = intersect(x_slack_ind, x_one_ind)     # COlumn indices of slack variables with coefficient 1 in the coefficient matrix.\n",
        "    # B_ind_aux = [i for i in (n+1):(n+number_of_aux)]        # Auxiliary variables are by default part of initial base.\n",
        "    # B_ind_slack_one = [ind for ind in x_slack_one_ind]      # The slack variables with coefficient 1 are also part of initial base.\n",
        "    # B_ind_phase_one = [B_ind_slack_one; B_ind_aux]          # The initial base for phase one problem\n",
        "\n",
        "    # # Wrong approach 2\n",
        "    # A_aux = A                           # Initialise A_aux\n",
        "    # x_slack_ind = findall(==(0), c)     # Find the indices of slack variables, of which the cost is zero.\n",
        "    # A_slack = A[:, x_slack_ind]         # Corresponding coefficient matrix of slack variables.\n",
        "    # aux_ind = findall(==(-1), A_slack)  # Locate the slack variable that has coefficient -1.\n",
        "    # for ind in aux_ind                  # Append the coefficient vector of auxiliary variables\n",
        "    #     row = ind[1]\n",
        "    #     a_aux = zeros(m)\n",
        "    #     a_aux[row] = 1\n",
        "    #     A_aux = [A_aux a_aux]\n",
        "    # end\n",
        "\n",
        "    # number_of_aux = length(aux_ind)\n",
        "    # c_aux = [zeros(n); ones(number_of_aux)]\n",
        "\n",
        "    # b_aux = b\n",
        "\n",
        "    # B_ind_phase_one = [i for i in (n+1):(n+number_of_aux)]\n",
        "\n",
        "    # Workable approach: \n",
        "    # Add an auxiliary variable for each equality constraint (in standard form) of b\n",
        "    # and use the auxiliary variables as a trivial starting basis\n",
        "    A_aux = [A Matrix(1.0I, m, m)]\n",
        "    c_aux = [zeros(n); ones(m)]\n",
        "    b_aux = b\n",
        "    B_ind_phase_one = [i for i in (n+1):(n+m)]\n",
        "\n",
        "    ## Phase 1 problem\n",
        "    x_opt, f_opt, x_hist, c_hist, B_hist, k1 = revised_simplex(A_aux, b_aux, c_aux, B_ind_phase_one; rule = rule)\n",
        "\n",
        "    if !iszero(f_opt)                                       # Infeasible problem\n",
        "        println(\"error: Infeasible problem. z=$(f_opt).\")\n",
        "        f_opt = \"+inf\"\n",
        "        x_opt = []             \n",
        "        return x_opt, f_opt, x_hist, c_hist, B_hist, k1 \n",
        "    elseif any(j -> j > n, B_hist[k1+1,:])                  # Feasible but with basic artificial variable\n",
        "        println(\"warning: The problem is feasible, however the artificial var. x$(j) is basic in the optimal;\")\n",
        "        println(\"Revise the basis to remove it before calling revised_simplex() with obtained B_ind.\")\n",
        "        return x_opt, f_opt, x_hist, c_hist, B_hist, k1\n",
        "    else                                                    # Proceed to phase 2 \n",
        "        B_ind = convert.(Int64, B_hist[k1+1,:])                \n",
        "        x_opt, f_opt, x_hist, c_hist, B_hist, k2 = revised_simplex(A, b, c, B_ind; rule = rule)\n",
        "        return x_opt, f_opt, x_hist, c_hist, B_hist, k1+k2\n",
        "    end\n",
        "end;"
      ]
    },
    {
      "cell_type": "markdown",
      "metadata": {},
      "source": [
        "## Testing your code\n",
        "\n",
        "You can use the cells below to test your functions and see if you obtain the same result from Exercise 4.4 that was solved in the exercise session."
      ]
    },
    {
      "cell_type": "code",
      "execution_count": 6,
      "metadata": {},
      "outputs": [
        {
          "name": "stdout",
          "output_type": "stream",
          "text": [
            "Initial basis is [1, 2, 4] with x equal to [0.75, 3.5, 0.0, 2.5, 0.0]\n",
            "\n"
          ]
        }
      ],
      "source": [
        "## Test problem (Exercise 4.4)\n",
        "\n",
        "## Maximize 5x1 + x2\n",
        "## s.t.     2x1 + x2  >= 5\n",
        "##                x2  >= 1\n",
        "##          2x1 + 3x2 <= 12\n",
        "##           x1,   x2 >= 0\n",
        "\n",
        "## becomes\n",
        "\n",
        "## Minimize -5x1 -  x2\n",
        "## s.t.      2x1 +  x2 - x3           = 5\n",
        "##                  x2      - x4      = 1\n",
        "##           2x1 + 3x2           + x5 = 12\n",
        "##            x1,   x2,  x3,  x4,  x5 >= 0\n",
        "\n",
        "\n",
        "A = [2  1 -1  0  0;\n",
        "     0  1  0 -1  0;\n",
        "     2  3  0  0  1];\n",
        "b = [5, 1, 12];\n",
        "c = -[5, 1, 0, 0, 0];\n",
        "\n",
        "ϵ = 1E-9\n",
        "\n",
        "# Basis was obtained from solving the auxiliary problem in the exercise, \n",
        "# these tests only consider the second phase\n",
        "B_ind = [1,2,4]\n",
        "invB = inv(A[:,B_ind])\n",
        "x = [0.75, 3.5, 0.0, 2.5, 0.0]\n",
        "\n",
        "println(\"Initial basis is $(B_ind) with x equal to $(x)\\n\")"
      ]
    },
    {
      "cell_type": "code",
      "execution_count": 7,
      "metadata": {},
      "outputs": [
        {
          "name": "stdout",
          "output_type": "stream",
          "text": [
            "Reduced costs are [0.0 0.0 -3.25 0.0 -0.75]\n",
            "Should be         [0.0 0.0 -3.25 0.0 -0.75]\n"
          ]
        }
      ],
      "source": [
        "## Testing calculate_cr\n",
        "cᵣ = calculate_cr(A, c, B_ind, invB)\n",
        "println(\"Reduced costs are $(cᵣ)\")\n",
        "println(\"Should be         [0.0 0.0 -3.25 0.0 -0.75]\")"
      ]
    },
    {
      "cell_type": "code",
      "execution_count": 8,
      "metadata": {},
      "outputs": [
        {
          "name": "stdout",
          "output_type": "stream",
          "text": [
            "The smallest reduced cost is -3.25 and the algorithm continues, should continue\n"
          ]
        }
      ],
      "source": [
        "## Testing iteration_condition()\n",
        "cond = iteration_condition(cᵣ, ϵ)\n",
        "println(\"The smallest reduced cost is $(minimum(cᵣ)) and the algorithm \", if cond \"continues\" else \"terminates with an optimal solution\" end, \", should continue\")"
      ]
    },
    {
      "cell_type": "code",
      "execution_count": 9,
      "metadata": {},
      "outputs": [
        {
          "name": "stdout",
          "output_type": "stream",
          "text": [
            "Entering variable with Bland's rule is x_3, should be x_3\n",
            "Entering variable with Dantzig's rule is x_3, should be x_3\n"
          ]
        }
      ],
      "source": [
        "J = findall(vec(cᵣ) .< -ϵ)       # We use vec(c_r) since findall is type sensitive and might return CartesianIndices instead.\n",
        "\n",
        "## Testing select_entering_variable()\n",
        "rule = :bland\n",
        "j_in = select_entering_variable(J, cᵣ, rule)\n",
        "println(\"Entering variable with Bland's rule is x_$(j_in), should be x_3\")\n",
        "\n",
        "rule = :dantzig\n",
        "j_in = select_entering_variable(J, cᵣ, rule)\n",
        "println(\"Entering variable with Dantzig's rule is x_$(j_in), should be x_3\")"
      ]
    },
    {
      "cell_type": "code",
      "execution_count": 10,
      "metadata": {},
      "outputs": [
        {
          "name": "stdout",
          "output_type": "stream",
          "text": [
            "Reverse basic directions (the tableau column corresponding to the entering variable) are [-0.75, 0.5, 0.5], should be [-0.75, 0.5, 0.5]\n"
          ]
        }
      ],
      "source": [
        "## Testing calculate_reverse_basic_directions()\n",
        "u = calculate_reverse_basic_directions(A, invB, j_in)\n",
        "println(\"Reverse basic directions (the tableau column corresponding to the entering variable) are $(u), should be [-0.75, 0.5, 0.5]\")"
      ]
    },
    {
      "cell_type": "code",
      "execution_count": 11,
      "metadata": {},
      "outputs": [
        {
          "name": "stdout",
          "output_type": "stream",
          "text": [
            "Step length is 5.0, should be 5.0\n"
          ]
        }
      ],
      "source": [
        "Ir = findall(vec(u) .> ϵ)\n",
        "\n",
        "## Testing calculate_step_length()\n",
        "θ = calculate_step_length(x, B_ind, u, Ir)\n",
        "println(\"Step length is $(θ), should be 5.0\")"
      ]
    },
    {
      "cell_type": "code",
      "execution_count": 12,
      "metadata": {},
      "outputs": [
        {
          "name": "stdout",
          "output_type": "stream",
          "text": [
            "Leaving variable is x_4 (row 3 of the tableau), should be x_4 (row 3)\n",
            "\n"
          ]
        }
      ],
      "source": [
        "## Testing select_leaving_variable()\n",
        "l_out = select_leaving_variable(B_ind, x, u, Ir, θ)\n",
        "println(\"Leaving variable is x_$(B_ind[l_out]) (row $(l_out) of the tableau), should be x_4 (row 3)\\n\")"
      ]
    },
    {
      "cell_type": "code",
      "execution_count": 13,
      "metadata": {},
      "outputs": [
        {
          "name": "stdout",
          "output_type": "stream",
          "text": [
            "New vector x is [4.5, 1.0, 5.0, 0.0, 0.0]\n",
            "Should be       [4.5, 1.0, 5.0, 0.0, 0.0]\n"
          ]
        }
      ],
      "source": [
        "## Testing update_x!()\n",
        "update_x!(x, j_in, B_ind, θ, u)\n",
        "println(\"New vector x is $(x)\")\n",
        "println(\"Should be       [4.5, 1.0, 5.0, 0.0, 0.0]\")"
      ]
    },
    {
      "cell_type": "code",
      "execution_count": 14,
      "metadata": {},
      "outputs": [
        {
          "name": "stdout",
          "output_type": "stream",
          "text": [
            "New basis is [1, 2, 3]\n",
            "Should be    [1, 2, 3]\n"
          ]
        }
      ],
      "source": [
        "## Testing update_B_ind!()\n",
        "update_B_ind!(B_ind, l_out, j_in)\n",
        "println(\"New basis is $(B_ind)\")\n",
        "println(\"Should be    [1, 2, 3]\")"
      ]
    },
    {
      "cell_type": "code",
      "execution_count": 15,
      "metadata": {},
      "outputs": [
        {
          "name": "stdout",
          "output_type": "stream",
          "text": [
            "New invB is [0.0 -1.5 0.5; 0.0 1.0 0.0; -1.0 -2.0 1.0]\n",
            "Should be   [0.0 -1.5 0.5; 0.0 1.0 0.0; -1.0 -2.0 1.0]\n",
            "\n"
          ]
        }
      ],
      "source": [
        "## Testing update_invB!()\n",
        "update_invB!(invB, u, l_out)\n",
        "println(\"New invB is \", invB)\n",
        "println(\"Should be   \", [0.0 -1.5 0.5; 0.0 1.0 0.0; -1.0 -2.0 1.0], \"\\n\")"
      ]
    },
    {
      "cell_type": "code",
      "execution_count": 16,
      "metadata": {},
      "outputs": [
        {
          "name": "stdout",
          "output_type": "stream",
          "text": [
            "Reduced costs are [0.0 0.0 0.0 6.5 2.5]\n",
            "Should be         [0.0 0.0 0.0 6.5 2.5]\n"
          ]
        }
      ],
      "source": [
        "cᵣ = calculate_cr(A, c, B_ind, invB)\n",
        "println(\"Reduced costs are $(cᵣ)\")\n",
        "println(\"Should be         [0.0 0.0 0.0 6.5 2.5]\")"
      ]
    },
    {
      "cell_type": "code",
      "execution_count": 17,
      "metadata": {},
      "outputs": [
        {
          "name": "stdout",
          "output_type": "stream",
          "text": [
            "The smallest reduced cost is 0.0 and the algorithm terminates with an optimal solution, should terminate\n"
          ]
        }
      ],
      "source": [
        "cond = iteration_condition(cᵣ, ϵ)\n",
        "println(\"The smallest reduced cost is $(minimum(cᵣ)) and the algorithm \", if cond \"continues\" else \"terminates with an optimal solution\" end, \", should terminate\")"
      ]
    },
    {
      "cell_type": "code",
      "execution_count": 18,
      "metadata": {},
      "outputs": [
        {
          "data": {
            "text/plain": [
              "(3, 4, [4.5, 1.0, 5.0, 0.0, 0.0], 23.5)"
            ]
          },
          "metadata": {},
          "output_type": "display_data"
        }
      ],
      "source": [
        "x_opt, f_opt, x_hist, c_hist, B_hist, k = revised_simplex(A, b, c, [1,2,4]);\n",
        "x_opt, f_opt, x_hist, c_hist, B_hist, k1 = two_phase(A, b, c)\n",
        "x_opt, f_opt, x_hist, c_hist, B_hist, k2 = two_phase(A, b, c, rule=:dantzig)\n",
        "\n",
        "# It should print (3, 4, [4.5, 1.0, 5.0, 0.0, 0.0], 23.5)\n",
        "(k1, k2, x_opt, -f_opt)"
      ]
    },
    {
      "cell_type": "code",
      "execution_count": 19,
      "metadata": {},
      "outputs": [
        {
          "name": "stdout",
          "output_type": "stream",
          "text": [
            "Result - bland method:\n",
            "Optimal solution x_opt = [4.0, 4.0, 4.0, 0.0, 0.0, 0.0]\n",
            "Optimal value f_opt = 136.0\n",
            "Iteration k_bland = 3.0\n",
            "Result - dantzig method:\n",
            "Optimal solution x_opt = [4.0, 4.0, 4.0, 0.0, 0.0, 0.0]\n",
            "Optimal value f_opt = 136.0\n",
            "Iteration k_dantzig = 3.0\n"
          ]
        }
      ],
      "source": [
        "# Item 3.a\n",
        "# TODO: add your code here\n",
        "\n",
        "## Maximize 10x1 + 12x2 + 12x3\n",
        "## s.t.      1x1 +  2x2 +  2x3 <= 20\n",
        "##           2x1 +  1x2 +  2x3 <= 20\n",
        "##           2x1 +  2x2 +  1x3 <= 20\n",
        "##            x1,    x2,    x3 >= 0\n",
        "\n",
        "## becomes\n",
        "\n",
        "## Minimize -10x1 - 12x2 - 12x3\n",
        "## s.t.       1x1 +  2x2 +  2x3 + x4           = 20\n",
        "##            2x1 +  1x2 +  2x3 +      x5      = 20\n",
        "##            2x1 +  2x2 +  1x3 +           x6 = 20\n",
        "##            x1,   x2,   x3,   x4,   x5,   x6 >= 0\n",
        "\n",
        "\n",
        "A = [1  2  2  1  0  0;\n",
        "     2  1  2  0  1  0;\n",
        "     2  2  1  0  0  1];\n",
        "b = [20, 20, 20];\n",
        "c = -[10, 12, 12, 0, 0, 0];\n",
        "\n",
        "x_opt, f_opt, x_hist, c_hist, B_hist, k = two_phase(A, b, c)\n",
        "println(\"Result - bland method:\")\n",
        "println(\"Optimal solution x_opt = $(round.(x_opt, digits = 2))\")\n",
        "println(\"Optimal value f_opt = $(round(-f_opt, digits = 2))\")\n",
        "println(\"Iteration k_bland = $(round(k, digits = 0))\")\n",
        "x_opt, f_opt, x_hist, c_hist, B_hist, k = two_phase(A, b, c, rule=:dantzig)\n",
        "println(\"Result - dantzig method:\")\n",
        "println(\"Optimal solution x_opt = $(round.(x_opt, digits = 2))\")\n",
        "println(\"Optimal value f_opt = $(round(-f_opt, digits = 2))\")\n",
        "println(\"Iteration k_dantzig = $(round(k, digits = 0))\")"
      ]
    },
    {
      "cell_type": "code",
      "execution_count": 20,
      "metadata": {},
      "outputs": [
        {
          "name": "stdout",
          "output_type": "stream",
          "text": [
            "Result - bland method:\n",
            "Optimal solution x_opt = [0.0, 2.18, 6.91, 6.55, 4.36, 0.0, 0.0]\n",
            "Optimal value f_opt = 15.64\n",
            "Iteration k_bland = 6.0\n",
            "Result - dantzig method:\n",
            "Optimal solution x_opt = [0.0, 2.18, 6.91, 6.55, 4.36, 0.0, 0.0]\n",
            "Optimal value f_opt = 15.64\n",
            "Iteration k_dantzig = 4.0\n"
          ]
        }
      ],
      "source": [
        "# Item 3.b\n",
        "# TODO: add your code here\n",
        "\n",
        "## Maximize 1x1 + 1x2 + 1x3 + 1x4\n",
        "## s.t.     1x1 + 1x2 + 1x3 + 1x4 <= 20\n",
        "##          1x1 + 2x2       + 3x4 <= 24\n",
        "##          2x1 + 1x2 + 2x3       >= 16\n",
        "##          2x1 + 3x2 + 1x3 + 1x4  = 20\n",
        "##           x1,   x2,   x3,   x4 >= 0\n",
        "\n",
        "## becomes\n",
        "\n",
        "## Minimize -1x1 - 1x2 - 1x3 - 1x4\n",
        "## s.t.      1x1 + 1x2 + 1x3 + 1x4 + 1x5             = 20\n",
        "##           1x1 + 2x2       + 3x4       + 1x6       = 24\n",
        "##           2x1 + 1x2 + 2x3                   - 1x7 = 16\n",
        "##           2x1 + 3x2 + 1x3 + 1x4                   = 20\n",
        "##            x1,   x2,   x3,   x4,   x5,   x6,   x7 >= 0\n",
        "\n",
        "\n",
        "A = [1  1  1  1  1  0  0;\n",
        "     1  2  0  3  0  1  0;\n",
        "     2  1  2  0  0  0  1\n",
        "     2  3  1  1  0  0  0];\n",
        "b = [20, 24, 16, 20];\n",
        "c = -[1, 1, 1, 1, 0, 0, 0];\n",
        "\n",
        "x_opt, f_opt, x_hist, c_hist, B_hist, k = two_phase(A, b, c)\n",
        "println(\"Result - bland method:\")\n",
        "println(\"Optimal solution x_opt = $(round.(x_opt, digits = 2))\")\n",
        "println(\"Optimal value f_opt = $(round(-f_opt, digits = 2))\")\n",
        "println(\"Iteration k_bland = $(round(k, digits = 0))\")\n",
        "x_opt, f_opt, x_hist, c_hist, B_hist, k = two_phase(A, b, c, rule=:dantzig)\n",
        "println(\"Result - dantzig method:\")\n",
        "println(\"Optimal solution x_opt = $(round.(x_opt, digits = 2))\")\n",
        "println(\"Optimal value f_opt = $(round(-f_opt, digits = 2))\")\n",
        "println(\"Iteration k_dantzig = $(round(k, digits = 0))\")"
      ]
    },
    {
      "cell_type": "code",
      "execution_count": 21,
      "metadata": {},
      "outputs": [
        {
          "name": "stdout",
          "output_type": "stream",
          "text": [
            "Result - bland method:\n",
            "Optimal solution x_opt = [0.0, 5.0, 0.0, 0.0, 5.0, 5.0, 0.0]\n",
            "Optimal value f_opt = 10.0\n",
            "Iteration k_bland = 9.0\n",
            "Result - dantzig method:\n",
            "Optimal solution x_opt = [0.0, 5.0, 0.0, 0.0, 5.0, 5.0, 0.0]\n",
            "Optimal value f_opt = 10.0\n",
            "Iteration k_dantzig = 4.0\n"
          ]
        }
      ],
      "source": [
        "# Item 3.c\n",
        "# TODO: add your code here\n",
        "\n",
        "## Minimize 1x1 - 2x2 + 3x3 + 1x4\n",
        "## s.t.     1x1 + 2x2 + 3x3 + 1x4 <= 15\n",
        "##          2x1 + 1x2 + 5x3 +     >= 10\n",
        "##          2x1 + 2x2 + 1x3 + 1x4 >= 10\n",
        "##           x1,   x2,   x3,   x4 >= 0\n",
        "\n",
        "## becomes\n",
        "\n",
        "## Minimize 1x1 - 2x2 + 3x3 + 1x4\n",
        "## s.t.     1x1 + 2x2 + 3x3 + 1x4 + 1x5             = 15\n",
        "##          2x1 + 1x2 + 5x3             - 1x6       = 10\n",
        "##          2x1 + 2x2 + 1x3 + 1x4             - 1x7 = 10\n",
        "##           x1,   x2,   x3,   x4,   x5,   x6,   x7 >= 0\n",
        "\n",
        "\n",
        "A = [1  2  3  1  1  0  0;\n",
        "     2  1  5  0  0  1  0;\n",
        "     2  2  1  1  0  0  1];\n",
        "b = [15, 10, 10];\n",
        "c = [1, -2, 3, 1, 0, 0, 0];\n",
        "\n",
        "x_opt, f_opt, x_hist, c_hist, B_hist, k = two_phase(A, b, c)\n",
        "println(\"Result - bland method:\")\n",
        "println(\"Optimal solution x_opt = $(round.(x_opt, digits = 2))\")\n",
        "println(\"Optimal value f_opt = $(round(-f_opt, digits = 2))\")\n",
        "println(\"Iteration k_bland = $(round(k, digits = 0))\")\n",
        "x_opt, f_opt, x_hist, c_hist, B_hist, k = two_phase(A, b, c, rule=:dantzig)\n",
        "println(\"Result - dantzig method:\")\n",
        "println(\"Optimal solution x_opt = $(round.(x_opt, digits = 2))\")\n",
        "println(\"Optimal value f_opt = $(round(-f_opt, digits = 2))\")\n",
        "println(\"Iteration k_dantzig = $(round(k, digits = 0))\")"
      ]
    }
  ],
  "metadata": {
    "kernelspec": {
      "display_name": "Julia 1.7.1",
      "language": "julia",
      "name": "julia-1.7"
    },
    "language_info": {
      "file_extension": ".jl",
      "mimetype": "application/julia",
      "name": "julia",
      "version": "1.7.1"
    }
  },
  "nbformat": 4,
  "nbformat_minor": 2
}
