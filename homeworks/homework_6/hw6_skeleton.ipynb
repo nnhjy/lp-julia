{
 "cells": [
  {
   "cell_type": "markdown",
   "metadata": {},
   "source": [
    "# MS-E2121 - Linear Optimization: Homework 6\n",
    "#' \n",
    "## Exercise 6.2 - Valid inequalities for the TSP\n",
    "Solve item (b) here. In the following cells you are provided with the **same code** as presented in session 8 for solving the TSP-MTZ."
   ]
  },
  {
   "cell_type": "code",
   "execution_count": null,
   "metadata": {},
   "outputs": [],
   "source": [
    "using JuMP                         # JuMP: Modeling language and solver interface\n",
    "using DelimitedFiles               # IO reading/writting files\n",
    "using Cbc                          # Solver\n",
    "using LinearAlgebra                # To use the norm\n",
    "using Plots                        # For plotting the tours\n",
    "using Combinatorics                # To perform permutations"
   ]
  },
  {
   "cell_type": "code",
   "execution_count": null,
   "metadata": {},
   "outputs": [],
   "source": [
    "## Function for getting the distances array\n",
    "function get_dist(xycoord::Matrix{},n::Int)\n",
    "    # Compute distance matrix (d[i,j]) from city coordinates\n",
    "    \n",
    "    dist = zeros(n,n)\n",
    "    for i = 1:n\n",
    "        for j = i:n\n",
    "            d = norm(xycoord[i,:] - xycoord[j,:])\n",
    "            dist[i,j] = d\n",
    "            dist[j,i] = d\n",
    "        end\n",
    "    end\n",
    "    return dist\n",
    "end"
   ]
  },
  {
   "cell_type": "code",
   "execution_count": null,
   "metadata": {},
   "outputs": [],
   "source": [
    "# Get the optimal tour\n",
    "# Input\n",
    "#     x: solution matrix \n",
    "#     n: number of cities\n",
    "# Returns\n",
    "#     tour: ordering of cities in the optimal tour\n",
    "function gettour(x::Matrix{Int}, n::Int)\n",
    "    tour = zeros(Int,n+1)   # Initialize tour vector (n+1 as city 1 appears twice)\n",
    "    tour[1] = 1             # Set city 1 as first one in the tour\n",
    "    k = 2                   # Index of vector tour[k]\n",
    "    i = 1                   # Index of current city \n",
    "    while k <= n + 1        # Find all n+1 tour nodes (city 1 is counted twice)\n",
    "        for j = 1:n         \n",
    "            if x[i,j] == 1  # Find next city j visited immediately after i\n",
    "                tour[k] = j # Set city j as the k:th city in the tour\n",
    "                k = k + 1   # Update index k of tour[] vector\n",
    "                i = j       # Move to next city\n",
    "                break       \n",
    "            end\n",
    "        end\n",
    "    end \n",
    "    return tour             # Return the optimal tour \n",
    "end"
   ]
  },
  {
   "cell_type": "code",
   "execution_count": null,
   "metadata": {},
   "outputs": [],
   "source": [
    "# Solve a directed, TSP instance (MTZ formulation)\n",
    "# Input\n",
    "#    xycoord: coordinates of city locations\n",
    "#    n: number of cities\n",
    "# Returns\n",
    "#    tour: ordering of cities in the optimal tour\n",
    "#    cost: cost (length) of the optimal tour\n",
    "function tsp_mtz(xycoord::Matrix{}, n::Int)\n",
    "    \n",
    "    # Create a model \n",
    "    m = Model(Cbc.Optimizer)  \n",
    "    \n",
    "    # Here the costs c are the distances between cities\n",
    "    c = get_dist(xycoord,n)\n",
    "    \n",
    "    ## Variables\n",
    "\n",
    "    # x[i,j] = 1 if we travel from city i to city j, 0 otherwise.\n",
    "    @variable(m, x[1:n,1:n], Bin)\n",
    "    # Variables u for subtour elimination constraints\n",
    "    @variable(m, u[2:n])   \n",
    "    \n",
    "    ## Objective\n",
    "    \n",
    "    # Minimize length of tour\n",
    "    @objective(m, Min, dot(c,x))\n",
    "\n",
    "    ## Constraints\n",
    "    \n",
    "    # Ignore self arcs: set x[i,i] = 0  \n",
    "    @constraint(m, sar[i = 1:n], x[i,i] == 0)\n",
    "\n",
    "    # We must enter and leave every city exactly once             \n",
    "    @constraint(m, ji[i = 1:n], sum(x[j,i] for j = 1:n if j != i) == 1)\n",
    "    @constraint(m, ij[i = 1:n], sum(x[i,j] for j = 1:n if j != i) == 1)\n",
    "                                    \n",
    "    # MTZ subtour elimination constraints\n",
    "    @constraint(m, sub[i = 2:n, j = 2:n, i != j], u[i] - u[j] + (n-1)*x[i,j] <= (n-2))\n",
    "                                \n",
    "    optimize!(m)\n",
    "                                \n",
    "    cost = objective_value(m)         # Optimal cost (length)\n",
    "    sol_x = round.(Int, value.(x))    # Optimal solution vector\n",
    "    \n",
    "    tour = gettour(sol_x,n)           # Get the optimal tour\n",
    "    \n",
    "    return tour, cost\n",
    "end;"
   ]
  },
  {
   "cell_type": "code",
   "execution_count": null,
   "metadata": {},
   "outputs": [],
   "source": [
    "## \"data16c.csv\" has 3 columns which are stored in arrays\n",
    "## V, x and y. The columns contain:\n",
    "##\n",
    "##     data[:,1]: all cities i in V\n",
    "##     data[:,2]: x-coordinate of each city i in V\n",
    "##     data[:,3]: y-coordinate of each city i in V\n",
    "\n",
    "data  = readdlm(\"data16c.csv\", ';')   \n",
    "n = 16                  # number of cities \n",
    "# println(data)         # Look at the data in compact form\n",
    "V = data[2:n+1,1]       # All cities i in V\n",
    "x = data[2:n+1,2]       # x-coordinates of cities i in V\n",
    "y = data[2:n+1,3]       # y-coordinates of cities i in V\n",
    "xycoord = [x y];        # n x 2 coordinate matrix"
   ]
  },
  {
   "cell_type": "code",
   "execution_count": null,
   "metadata": {},
   "outputs": [],
   "source": [
    "@time (tour, cost) = tsp_mtz(xycoord, n);"
   ]
  },
  {
   "cell_type": "markdown",
   "metadata": {},
   "source": [
    "#### Implement the valid inequalities and compare with the former formulation"
   ]
  },
  {
   "cell_type": "code",
   "execution_count": null,
   "metadata": {},
   "outputs": [],
   "source": [
    "## Solve a directed, TSP instance (MTZ formulation)\n",
    "## Input\n",
    "##    xycoord: coordinates of city locations\n",
    "##    n: number of cities\n",
    "## Returns\n",
    "##    tour: ordering of cities in the optimal tour\n",
    "##    cost: cost (length) of the optimal tour\n",
    "function tsp_mtz_vi(xycoord::Matrix{}, n::Int)\n",
    "    \n",
    "    # Create a model \n",
    "    m = Model(Cbc.Optimizer)  \n",
    "    \n",
    "    # Here the costs c are the distances between cities\n",
    "    c = get_dist(xycoord,n)\n",
    "    \n",
    "    ## Variables\n",
    "\n",
    "    # x[i,j] = 1 if we travel from city i to city j, 0 otherwise.\n",
    "    @variable(m, x[1:n,1:n], Bin)\n",
    "    # Variables u for subtour elimination constraints\n",
    "    @variable(m, u[2:n])   \n",
    "    \n",
    "    ## Objective\n",
    "    \n",
    "    # Minimize length of tour\n",
    "    @objective(m, Min, dot(c,x))\n",
    "\n",
    "    ## Constraints\n",
    "    \n",
    "    # Ignore self arcs: set x[i,i] = 0  \n",
    "    @constraint(m, sar[i = 1:n], x[i,i] == 0)\n",
    "\n",
    "    # We must enter and leave every city exactly once             \n",
    "    @constraint(m, ji[i = 1:n], sum(x[j,i] for j = 1:n if j != i) == 1)\n",
    "    @constraint(m, ij[i = 1:n], sum(x[i,j] for j = 1:n if j != i) == 1)\n",
    "                                    \n",
    "    # MTZ subtour elimination constraints\n",
    "    @constraint(m, sub[i = 2:n, j = 2:n, i != j], u[i] - u[j] + (n-1)*x[i,j] <= (n-2))\n",
    "    \n",
    "    # Additional valid inequalities\n",
    "    # TODO: add your code here\n",
    "    @constraint(m, valid_ineq_1[i = 1:n, j = 1:n, i != j], x[i,j] + x[j,i] <= 1)\n",
    "    @constraint(m, valid_ineq_2[i = 2:n, j = 2:n, i != j], u[i] - u[j] + (n-1)*x[i,j] + (n-3)*x[j,i] <= n-2)\n",
    "    @constraint(m, valid_ineq_3[j = 2:n], u[j] - 1 + (n-2)*x[1,j] <= n-1)\n",
    "    @constraint(m, valid_ineq_4[i = 2:n], 1 - u[i] + (n-1)*x[i,1] <= 0)\n",
    "    \n",
    "    optimize!(m)\n",
    "                                \n",
    "    cost = objective_value(m)         # Optimal cost (length)\n",
    "    sol_x = round.(Int, value.(x))    # Optimal solution vector\n",
    "    \n",
    "    tour = gettour(sol_x,n)           # Get the optimal tour\n",
    "    \n",
    "    return tour, cost, termination_status(m)\n",
    "end;"
   ]
  },
  {
   "cell_type": "code",
   "execution_count": null,
   "metadata": {},
   "outputs": [],
   "source": [
    "## Solve the problem and evaluate time and memory with @time macro\n",
    "@time (tour, cost, status) = tsp_mtz_vi(xycoord, n);\n",
    "@show status;"
   ]
  },
  {
   "cell_type": "markdown",
   "metadata": {},
   "source": [
    "#### Extra material\n",
    "Here is a small code snippet for generating random instances and collecting the corresponding solution times. You are not required to compare these in your report, but in case you're interested about the performance differences in general, we'll give you a starting point."
   ]
  },
  {
   "cell_type": "code",
   "execution_count": null,
   "metadata": {},
   "outputs": [],
   "source": [
    "# using Suppressor # For suppressing the Cbc output\n",
    "# n_sample = 30    # Sample size\n",
    "\n",
    "# # Initializing result vectors\n",
    "# sol_times_mtz = zeros(n_sample)\n",
    "# sol_times_mtz_vi = zeros(n_sample)\n",
    "\n",
    "# for i in 1:n_sample\n",
    "#     println(\"Optimizing instance number $i\")\n",
    "#     xycoord_rand = rand(0:5000, n, 2) # Random instance\n",
    "    \n",
    "#     # The @suppress_out block suppresses all output inside the block\n",
    "#     @suppress_out begin\n",
    "#         # @elapsed allows saving the elapsed time to a variable\n",
    "#         sol_times_mtz[i] = @elapsed tsp_mtz(xycoord_rand, n);\n",
    "#         sol_times_mtz_vi[i] = @elapsed tsp_mtz_vi(xycoord_rand, n);\n",
    "#     end\n",
    "# end"
   ]
  },
  {
   "cell_type": "markdown",
   "metadata": {},
   "source": [
    "## Exercise 6.3 - Capacitated vehicle routing problem with time window (CVRPwTW)\n",
    "\n",
    "### Background\n",
    "\n",
    "Consider a centralised depot, from which deliveries are supposed to be made from. The delivers have to be made to a number of clients, and each client has a specific demand. Some assumptions we will consider:\n",
    "\n",
    "* The deliveries have to be made by vehicles that are of limited capacity; \n",
    "* Multiple routes are created, and a single vehicle is assignmed to each route; \n",
    "* We assume that the number of vehicles is not a limitation.\n",
    "\n",
    "Our objective is to define **optimal routes** such that the total distance travelled is minimised.\n",
    "\n",
    "### Problem structure and input data\n",
    "\n",
    "Let us define the elements that form our problem. You will notice that we use a graph-based notation, referring to elements such as arcs and nodes.\n",
    "\n",
    "#### Structural elements\n",
    "* $n$ is the total number of clients\n",
    "* $N$ is the *set* of clients, with $N = \\{2, \\dots, n+1\\}$\n",
    "* $V$ is the set of *nodes*, representing a depot (node 1) and the clients (nodes $i \\in N$). Thus $V = \\{1\\} \\cup N$.\n",
    "* $A$ is a set of *arcs*, with $A = \\{(i,j) \\in V \\times V : i \\neq j\\}$\n",
    "\n",
    "#### Parameters (input data structure)\n",
    "* $C_{i,j}$ - cost of travelling via arc $(i,j) \\in A$ (equals distance between $i$ and $j$);\n",
    "* $Q$ - vehicle capacity in units;\n",
    "* $D_i$ - amount that has to be delivered to customer $i \\in N$, in units;\n",
    "\n",
    "\n",
    "#### Considering the time windows\n",
    "\n",
    "We will expand the model to consider time windows. Let's suppose that now each demand node must be visited within a specific time window $[T^{LB}_j, T^{UB}_j]$. Suppose we know the travel time $T_{ij}$ through arc $(i,j)$ and service time $S_j$ for each node $j \\in N$. The time windows and service times are only defined for client nodes. For the depot, the departure time should be nonnegative and there is no service time. How can we model this additional restriction on client time windows?"
   ]
  },
  {
   "cell_type": "code",
   "execution_count": null,
   "metadata": {},
   "outputs": [],
   "source": [
    "using Plots            # To generate figures\n",
    "using JuMP             # Mathematical programming language\n",
    "using Cbc              # Solver used\n",
    "using JLD2"
   ]
  },
  {
   "cell_type": "code",
   "execution_count": null,
   "metadata": {},
   "outputs": [],
   "source": [
    "# Problem structural elements\n",
    "struct Instance\n",
    "   n     # Total of nodels\n",
    "   N     # Set of client nodes\n",
    "   V     # Set of all nodes, including depot\n",
    "   A     # Set of arcs\n",
    "   loc_x # x-coordinates of all points\n",
    "   loc_y # y-coordinates of all points\n",
    "   Q     # vehicle capacity\n",
    "   D     # demand at the node (to be delivered)\n",
    "   C     # arc trasversal cost\n",
    "   S     # Service time at j\n",
    "   T     # Travel time between i and j\n",
    "   T_lb  # Earliest possible visit time\n",
    "   T_ub  # Latest possible visit time\n",
    "   bigM  # A suitable big M value to be used in all big M constraints\n",
    "end"
   ]
  },
  {
   "cell_type": "code",
   "execution_count": null,
   "metadata": {},
   "outputs": [],
   "source": [
    "f = jldopen(\"hw6_testins.jld2\")\n",
    "test_ins = nothing\n",
    "try\n",
    "    test_ins = f[\"testins\"]\n",
    "finally\n",
    "    close(f)\n",
    "end;"
   ]
  },
  {
   "cell_type": "markdown",
   "metadata": {},
   "source": [
    "The cell below shows a plot of the problem."
   ]
  },
  {
   "cell_type": "code",
   "execution_count": null,
   "metadata": {},
   "outputs": [],
   "source": [
    "## Plotting nodes\n",
    "\n",
    "scatter(test_ins.loc_x, test_ins.loc_y,\n",
    "    legend = false,\n",
    "    size = (1400,700),\n",
    "    xaxis = (\"x\", (-50.0,1100.0)),\n",
    "    yaxis = (\"y\", (-50.0,700.0)),\n",
    ")\n",
    "\n",
    "for i in test_ins.N\n",
    "    annotate!(test_ins.loc_x[i], test_ins.loc_y[i] +15, (\"$i\", 7))\n",
    "    \n",
    "    annotate!(test_ins.loc_x[i], test_ins.loc_y[i] - 17, (\"D[$(i)] = $(test_ins.D[i])\", 7))\n",
    "    annotate!(test_ins.loc_x[i], test_ins.loc_y[i] - 35, (\"Arrival time in [$(round(test_ins.T_lb[i],digits=1)), $(round(test_ins.T_ub[i],digits=1))]\", 7))\n",
    "end\n",
    "\n",
    "scatter!((test_ins.loc_x[1], test_ins.loc_y[1]), color=:orange)"
   ]
  },
  {
   "cell_type": "markdown",
   "metadata": {},
   "source": [
    "### Item (a)\n",
    "Write the MIP formulation in your report"
   ]
  },
  {
   "cell_type": "markdown",
   "metadata": {},
   "source": [
    "### Item (b)\n",
    "Complete the function `create_VRP_model()` below to implement the CVRPwTW model. The time windows and service times are only defined for client nodes. For the depot, the departure time should be nonnegative and there is no service time."
   ]
  },
  {
   "cell_type": "code",
   "execution_count": null,
   "metadata": {},
   "outputs": [],
   "source": [
    "function create_VRP_model(ins; max_time = 300)\n",
    "    \n",
    "    n = ins.n          # Number of client nodes\n",
    "    N = ins.N          # Set of client nodes\n",
    "    V = ins.V          # Set of all nodes, including depot\n",
    "    A = ins.A          # Set of arcs\n",
    "    loc_x = ins.loc_x  # x-coordinates of all points\n",
    "    loc_y = ins.loc_y  # y-coordinates of all points\n",
    "    Q = ins.Q          # Vehicle capacity\n",
    "    D = ins.D          # Demand at the node (to be delivered)\n",
    "    C = ins.C          # Arc traversal cost \n",
    "    S = ins.S          # Service time\n",
    "    T = ins.T          # Travel time between\n",
    "    T_lb = ins.T_lb    # Lower bound for the time window\n",
    "    T_ub = ins.T_ub    # Upper bound for the time window\n",
    "    bigM = ins.bigM    # A large enough big M value to be used in all big M constraints\n",
    "    \n",
    "    model = Model(Cbc.Optimizer)                # Declaring the model object.\n",
    "    set_optimizer_attribute(model, \"seconds\", max_time)\n",
    "\n",
    "    # Declare decision variables\n",
    "    @variable(model, x[i in V, j in V], Bin) \n",
    "    @variable(model, 0 <= u[i in V] <= Q)\n",
    "    @constraint(model, u[1]==Q)\n",
    "    # TODO: add your code here\n",
    "    @variable(model, t[i in V] >= 0)\n",
    "    @constraint(model, t[1] == 0)\n",
    "\n",
    "    # Objective function\n",
    "    # @objective(model, Min, sum(C[i,j] * x[i,j] for (i,j) in A))\n",
    "    @objective(model, Min, sum(C[i,j] * x[i,j] for (i,j) in A) + sum(t[i] for i in V))\n",
    "    \n",
    "    # Constraints\n",
    "    @constraint(model, c1[i in N], sum(x[i,j] for j in V if j != i) == 1)\n",
    "    @constraint(model, [j in N], sum(x[i,j] for i in V if i != j) == 1)\n",
    "    @constraint(model, [i in V, j in N], u[i] - D[j] <= u[j] + bigM * (1 - x[i,j]))\n",
    "    @constraint(model, [i in V, j in N], u[i] - D[j] >= u[j] - bigM * (1 - x[i,j]))\n",
    "    # TODO: add your code here\n",
    "    @constraint(model, [j in N], T_lb[j] <= t[j] <= T_ub[j])\n",
    "    # The starting node - depot - doesn't have service time S[1]\n",
    "    @constraint(model, [j in N], t[1] + T[1,j] <= t[j] + bigM * (1 - x[1,j]))\n",
    "    @constraint(model, [(i,j) in A; i != 1 && j != 1], t[i] + S[i] + T[i,j] <= t[j] + bigM * (1 - x[i,j]))\n",
    "\n",
    "    # set_silent(model)\n",
    "    \n",
    "    return model\n",
    "end"
   ]
  },
  {
   "cell_type": "code",
   "execution_count": null,
   "metadata": {},
   "outputs": [],
   "source": [
    "## Create the basic model and optimise it\n",
    "basic_model = create_VRP_model(test_ins; max_time = 300)\n",
    "optimize!(basic_model)\n",
    "# @show termination_status(basic_model)"
   ]
  },
  {
   "cell_type": "markdown",
   "metadata": {},
   "source": [
    "The cell below shows a plot of the solution. Use it to verify if your implementation is correct. Check, for example, that the arrival time is inside the allowed delivery time window."
   ]
  },
  {
   "cell_type": "code",
   "execution_count": null,
   "metadata": {},
   "outputs": [],
   "source": [
    "## Retrieving active arcs. \n",
    "active_arcs = [(i,j) for (i,j) in test_ins.A if value.(basic_model[:x])[i,j] >= 1-(1E-9)]\n",
    "\n",
    "scatter(test_ins.loc_x, test_ins.loc_y,\n",
    "    legend = false,\n",
    "    size = (1100,700),\n",
    "    xaxis = (\"x\", (-10.0,1100.0)),\n",
    "    yaxis = (\"y\", (-10.0,700.0)),\n",
    ")\n",
    "\n",
    "for i in test_ins.N\n",
    "    annotate!(test_ins.loc_x[i], test_ins.loc_y[i] - 20, (\"Arrival time is $(value(basic_model[:t][i]))\", :bottom, 6))\n",
    "    annotate!(test_ins.loc_x[i], test_ins.loc_y[i] - 35, (\"Must be within [$(round(test_ins.T_lb[i],digits=2)), $(round(test_ins.T_ub[i],digits=2))]\", :bottom, 6)) \n",
    "end\n",
    "\n",
    "## Plotting the arcs\n",
    "for (i,j) in active_arcs\n",
    "    quiver!([test_ins.loc_x[i]], [test_ins.loc_y[i]], quiver=([test_ins.loc_x[j] - test_ins.loc_x[i]], [test_ins.loc_y[j] - test_ins.loc_y[i]]), \n",
    "        color = 1\n",
    "    )\n",
    "end\n",
    "\n",
    "scatter!((test_ins.loc_x[1], test_ins.loc_y[1]), color=:orange)"
   ]
  },
  {
   "cell_type": "markdown",
   "metadata": {},
   "source": [
    "#### Larger instance\n",
    "After you're confident that your model works, use this bigger instance to solve the model with different solver configurations. These results are then what you should compare in your report."
   ]
  },
  {
   "cell_type": "code",
   "execution_count": null,
   "metadata": {},
   "outputs": [],
   "source": [
    "f = jldopen(\"hw6_ins.jld2\")\n",
    "ins = nothing\n",
    "try\n",
    "    ins = f[\"ins\"]\n",
    "finally\n",
    "    close(f)\n",
    "end;"
   ]
  },
  {
   "cell_type": "code",
   "execution_count": null,
   "metadata": {},
   "outputs": [],
   "source": [
    "## Create the basic model and optimise it\n",
    "basic_model = create_VRP_model(ins; max_time = 300)\n",
    "optimize!(basic_model)"
   ]
  },
  {
   "cell_type": "markdown",
   "metadata": {},
   "source": [
    "### Item (c)\n",
    "\n",
    "Consider the configurations for parameters provided below and notice whether you can, comparing with the solution log from the previous item (i.e., with default parameter settings), choose a best one between the configurations. For parameter documentation, see https://www.gams.com/latest/docs/S_CBC.html\n",
    "\n",
    "You can use as a reference for comparison, for example:\n",
    "- Time taken to solve the problem or\n",
    "- Optimality gap reached when the specified time limit was reached\n",
    "- Number of nodes visited\n",
    "- Solution at the root node before starting branching"
   ]
  },
  {
   "cell_type": "code",
   "execution_count": null,
   "metadata": {},
   "outputs": [],
   "source": [
    "# Configuration 1: turning off presolve.\n",
    "no_presolve = create_VRP_model(ins; max_time = 300)\n",
    "\n",
    "set_optimizer_attribute(no_presolve, \"presolve\", \"off\")\n",
    "\n",
    "optimize!(no_presolve)"
   ]
  },
  {
   "cell_type": "code",
   "execution_count": null,
   "metadata": {},
   "outputs": [],
   "source": [
    "# Configuration 2: turning off cuts.\n",
    "no_cuts = create_VRP_model(ins; max_time = 300)\n",
    "\n",
    "set_optimizer_attribute(no_cuts, \"cuts\", \"off\")\n",
    "\n",
    "optimize!(no_cuts)"
   ]
  },
  {
   "cell_type": "code",
   "execution_count": null,
   "metadata": {},
   "outputs": [],
   "source": [
    "# Configuration 3: turning off heuristics.\n",
    "no_heuristics = create_VRP_model(ins; max_time = 300)\n",
    "\n",
    "set_optimizer_attribute(no_heuristics, \"heuristics\", \"off\")\n",
    "\n",
    "optimize!(no_heuristics)"
   ]
  },
  {
   "cell_type": "code",
   "execution_count": null,
   "metadata": {},
   "outputs": [],
   "source": [
    "# Configuration 4: using a lot of cuts and heuristics.\n",
    "model_mod = create_VRP_model(ins; max_time = 300)\n",
    "\n",
    "set_optimizer_attributes(model_mod, \n",
    "    \"cliqueCuts\" => \"on\",\n",
    "    \"GMICuts\" => \"on\",\n",
    "    \"reduceAndSplitCuts\" => \"on\",\n",
    "    \"knapsackCuts\" => \"on\",\n",
    "    \"flowCoverCuts\" => \"on\",\n",
    "    \"liftAndProjectCuts\" => \"on\",\n",
    "    \"zeroHalfCuts\" => \"on\",\n",
    "    \"cutDepth\" => 500\n",
    ")\n",
    "\n",
    "set_optimizer_attributes(model_mod, \n",
    "    \"Rins\" => \"on\",\n",
    "    \"Rens\" => \"on\",\n",
    "    \"VndVariableNeighborhoodSearch\" => \"on\",\n",
    "    \"DivingSome\" => \"on\",\n",
    "    \"expensiveStrong\" => 2\n",
    ")\n",
    "\n",
    "optimize!(model_mod)"
   ]
  },
  {
   "cell_type": "code",
   "execution_count": null,
   "metadata": {},
   "outputs": [],
   "source": []
  }
 ],
 "metadata": {
  "kernelspec": {
   "display_name": "Julia 1.7.1",
   "language": "julia",
   "name": "julia-1.7"
  },
  "language_info": {
   "file_extension": ".jl",
   "mimetype": "application/julia",
   "name": "julia",
   "version": "1.7.1"
  }
 },
 "nbformat": 4,
 "nbformat_minor": 4
}
