{
  "cells": [
    {
      "cell_type": "markdown",
      "source": [
        "# Homework 1\n\nWe start by importing the packages we will need. Notice that we fix the seed of the random number generator so everyone obtains the same results."
      ],
      "metadata": {}
    },
    {
      "outputs": [],
      "cell_type": "code",
      "source": [
        "using JuMP\nusing Cbc\nusing Random\nRandom.seed!(2)         # Control random number generation\nusing LinearAlgebra\nusing Plots\nusing Statistics\nusing Test"
      ],
      "metadata": {},
      "execution_count": null
    },
    {
      "cell_type": "markdown",
      "source": [
        "We generate the instances at random, given a predefined number of potential suppliers ($i \\in I$), demand points ($j \\in J$) and time periods ($t \\in T$), all parameters are randomly generated."
      ],
      "metadata": {}
    },
    {
      "outputs": [],
      "cell_type": "code",
      "source": [
        "# This structure will ease the passing of the specific instance for the functions \n# that generate and solve the optimization model.\nmutable struct Instance\n    nI     # Number of suppliers      \n    nJ     # Number of demand points\n    nT     # Number of periods\n    I      # Supplier range\n    J      # Demand points range\n    T      # Periods range\n    C      # Unit capacity costs per supplier\n    H      # Unit storage cost per supplier\n    M      # Production cost per supplier\n    D      # Client demands in all periods\n    Q      # Unit costs of unfulfilled demand\n    F      # Unit costs to fulfil demands \nend"
      ],
      "metadata": {},
      "execution_count": null
    },
    {
      "cell_type": "markdown",
      "source": [
        "## Task 1.1\n\nThe function ```solve_deterministic()``` generates and solves the deterministic model. It is good practice to wrap procedures that might be potentially called multiple times in functions. We also consider a keyword argument (following the semicolon) to turn off any printing in the code. However, there is [a bug](https://github.com/jump-dev/Cbc.jl/issues/168) with Cbc causing this parameter to not work.\n\nYou are required to complete this function by \n1. Adding the model variables\n2. Adding the model objective\n3. Adding the model constraints.\n\nNotice that the object ```model``` has been already predefined."
      ],
      "metadata": {}
    },
    {
      "outputs": [],
      "cell_type": "code",
      "source": [
        "function solve_deterministic(ins::Instance; verbose = true)\n    \n    ## Renaming for making the implementation clearer\n    I = ins.I\n    J = ins.J\n    T = ins.T \n    C = ins.C\n    H = ins.H\n    M = ins.M\n    D = ins.D\n    Q = ins.Q\n    F = ins.F\n    \n    \n    model = Model(Cbc.Optimizer)                        # We use Cbc solver\n\n    ## Variables\n# TODO: add your code here\n\n\n\n\n\n    \n    ## Objective: Minimize the total costs\n# TODO: add your code here\n\n\n\n\n\n\n    \n    ## Constraints\n# TODO: add your code here\n\n\n\n\n\n\n\n\n\n\n\n    \n    if !verbose\n        set_silent(model)                     # Omit solver log\n    end\n    optimize!(model)                          # Solve the problem\n    status = termination_status(model)        # Solution status\n    if verbose\n        println(\"Model status = $(status)\")   # Print status\n    end\n    \n    return (x,p,k,e,u)\nend;"
      ],
      "metadata": {},
      "execution_count": null
    },
    {
      "outputs": [],
      "cell_type": "code",
      "source": [
        "## Test data\nnI = 5                                 # Number of suppliers      \nnJ = 5                                 # Number of demand points\nnT = 5                                 # Number of periods\nI = 1:nI                               # Supplier range\nJ = 1:nJ                               # Demand points range\nT = 1:nT                               # Periods range\n\n## Generate random data for the problem\nC = ones(nI).*5                        # Unit capacity costs per supplier\nH = ones(nI).*0.1                      # Unit storage cost per supplier\nM = ones(nI)                           # Production cost per supplier\n\nD = zeros(nJ,nT)\nfor j in J\n    for t in T\n        D[j,t] = j+0.05*(t-1)          # Client demands in all periods\n    end\nend\n\nQ = ones(nJ).*50                       # Unit costs of unfulfilled demand\n\nF = zeros(nI,nJ)\nfor i in I\n    for j in J\n        F[i,j] = abs(i-j)              # Unit costs to fulfill demands\n    end\nend\n\n# This packages the problem instance information into a single structure.\ntest_ins = Instance(nI, nJ, nT, I, J, T, C, H, M, D, Q, F);"
      ],
      "metadata": {},
      "execution_count": null
    },
    {
      "outputs": [],
      "cell_type": "code",
      "source": [
        "(x_det_test,p_det_test,k_det_test,e_det_test,u_det_test) = solve_deterministic(test_ins, verbose = false)\n\n@test all(value.(x_det_test).data .≈ [1.1; 2.1; 3.1; 4.1; 5.1])"
      ],
      "metadata": {},
      "execution_count": null
    },
    {
      "cell_type": "markdown",
      "source": [
        "## Data generation\n\nWe will now generate the data according to the description in task 1.2. We have predefined common growth rate $\\mu$ and maximum deviation $\\sigma$ to be used in the demand scenario process. The demand is then created as a first-order auto-regressive process. We wrap the process of creating the demand scenarios in the function ```create_scenarios(nS)``` that take as an argument the number of scenarios used ```nS```."
      ],
      "metadata": {}
    },
    {
      "outputs": [],
      "cell_type": "code",
      "source": [
        "## Generating the demand scenarios\nfunction create_scenarios(ins::Instance, nS)\n\n    ## Renaming for making the implementation clearer\n    nJ = ins.nJ\n    nT = ins.nT\n    J = ins.J\n    T = ins.T \n    D = ins.D\n    \n    S  = 1:nS                 # scenario set\n    Ps = repeat([1/nS],nS )   # scenario probability\n\n    ## d_sto: Stochastic demand\n    D_sto = zeros(nS, size(D)[1], size(D)[2])    \n\n    ## Creating the Monte Carlo simulation\n    α = D[:,1]                           # Initial demand for each node\n    μ = 0.05                             # Expected demand growth\n    σ = 0.05                             # Max variability\n    ϵ = randn(nS,nJ,nT)                  # This is the variability, following a standard normal \n\n    ## Assigning stochastic values\n    for s in S\n        for j in J\n            D_sto[s,j,1] = (1 + σ * ϵ[s,j,1]) * α[j]\n            for t in T[T.>1]\n                D_sto[s,j,t] =  (1 + μ + σ * ϵ[s,j,t]) * D_sto[s,j,t-1]\n            end\n        end\n    end\n    return D_sto, Ps\nend;"
      ],
      "metadata": {},
      "execution_count": null
    },
    {
      "cell_type": "markdown",
      "source": [
        "## Task 1.2\n\nYou are required to complete the function ```solve_stochastic()``` below. \n\n\nJust like in Task 1.1, you are required to complete this function by \n1. Adding the model variables\n2. Adding the model objective\n3. Adding the model constraints.\n\nNotice that the object ```model``` has been already predefined and that the total number of scenarios ```nS``` as well as the probabilities ```Ps``` and demands ```d_sto``` for all scenarios are given as an arguments of the function."
      ],
      "metadata": {}
    },
    {
      "outputs": [],
      "cell_type": "code",
      "source": [
        "function solve_stochastic(ins::Instance, nS, Ps, D_sto; verbose=true)\n\n    ## Renaming for making the implementation clearer    \n    I = ins.I\n    J = ins.J\n    T = ins.T \n    C = ins.C\n    H = ins.H\n    M = ins.M\n    Q = ins.Q\n    F = ins.F\n    \n    S = 1:nS    # set of scenarios \n    \n    model = Model(Cbc.Optimizer)      \n\n    ## Variables\n# TODO: add your code here\n\n\n\n\n\n\n    ## Objective: Minimize the total first-stage + second-stage costs over all scenarios\n# TODO: add your code here\n\n\n\n\n\n\n\n\n    ## Constraints\n# TODO: add your code here\n\n\n\n\n\n\n\n\n\n\n\n    \n    if verbose \n        println(\"Solving stochastic model with $(nS) scenarios...\")    \n    else\n        set_silent(model)                     # Omit solver log\n    end\n    optimize!(model)                           # Solve the problem\n\n    status = termination_status(model)         # Solution status\n    \n    if verbose \n        println(status)                        # Print status\n    end\n    \n    return (x,p,k,e,u)\nend;"
      ],
      "metadata": {},
      "execution_count": null
    },
    {
      "outputs": [],
      "cell_type": "code",
      "source": [
        "# DO NOT create the scenarios (run this cell) more than once or the test below won't work because the randomly generated data is different.\nD_sto_test, Ps_test = create_scenarios(test_ins, 10);"
      ],
      "metadata": {},
      "execution_count": null
    },
    {
      "outputs": [],
      "cell_type": "code",
      "source": [
        "(x_sto_test, p_sto_test, k_sto_test, e_sto_test, u_sto_test) = solve_stochastic(test_ins, 10, Ps_test, D_sto_test, verbose = false)\n\n@test all(round.(value.(x_sto_test).data, digits=2) .≈ [1.11; 2.11; 3.46; 4.65; 6.17]) # Use this for Julia 1.6 and earlier\n# @test all(round.(value.(x_sto_test).data, digits=2) .≈ [1.12; 2.21; 3.53; 4.51; 5.71]) # Use this for Julia 1.7"
      ],
      "metadata": {},
      "execution_count": null
    },
    {
      "cell_type": "markdown",
      "source": [
        "## Homework instance\n\nThis is the data you are asked to use in you comparisons in Homework 1.2c). The dimensions are considerably larger than in the test instances above."
      ],
      "metadata": {}
    },
    {
      "outputs": [],
      "cell_type": "code",
      "source": [
        "## Problem data\nnI = 25                                # Number of suppliers      \nnJ = 25                                # Number of demand points\nnT = 10                                # Number of periods\nI = 1:nI                               # Supplier range\nJ = 1:nJ                               # Demand points range\nT = 1:nT                               # Periods range\n\n## Generate random data for the problem\nC = rand(20:200, nI)                   # Unit capacity costs per supplier\nH = rand(1:4, nI)                      # Unit storage cost per supplier\nM = rand(10:40, nI)                    # Production cost per supplier\nD = repeat(rand(100:500, nJ),1,nT)     # Client demands in all periods\nD = (D'.*collect(range(1, step=0.05, length=nT)))' # Adding a trend to demand\nQ = rand(5000:10000, nJ)               # Unit costs of unfulfilled demand\nF = rand(3:45, (nI,nJ))                # Unit costs to fulfill demands\n\n# This packages the problem instance information into a single structure.\nins = Instance(nI, nJ, nT, I, J, T, C, H, M, D, Q, F);"
      ],
      "metadata": {},
      "execution_count": null
    },
    {
      "cell_type": "markdown",
      "source": [
        "### Deterministic model"
      ],
      "metadata": {}
    },
    {
      "outputs": [],
      "cell_type": "code",
      "source": [
        "## Solve the deterministic model\n(x_det,p_det,k_det,e_det,u_det) = solve_deterministic(ins, verbose = false);"
      ],
      "metadata": {},
      "execution_count": null
    },
    {
      "outputs": [],
      "cell_type": "code",
      "source": [
        "xsol_det = value.(x_det)                          # Get optimal x values (reserved capacities)\nxsol_det = round.(xsol_det.data, digits = 2)      # Round to 2 decimals \nfval_det = dot(C, xsol_det)                       # Optimal cost of reserved capacities\n\n## Print optimal solution\nprintln(\"Optimal solution (non-displayed x values are zero):\\n\")\nfor i = 1:length(xsol_det)\n    if xsol_det[i] > 0.0\n        println(\"x[$(i)] = $(xsol_det[i])\")\n    end\nend\n\n## Print optimal cost of reserved capacities\nprintln(\"\\nOptimal cost of reserved capacities: \", fval_det)"
      ],
      "metadata": {},
      "execution_count": null
    },
    {
      "cell_type": "markdown",
      "source": [
        "### Stochastic model\nThe cell below allows for plotting all the demand profiles (each demand scenario) for a predefined location $i$. You can observe how the demand behave through time and how the variability increases as we look further in the future."
      ],
      "metadata": {}
    },
    {
      "outputs": [],
      "cell_type": "code",
      "source": [
        "## Considering 50 scenarios for this study\nnS = 50\nD_sto, Ps = create_scenarios(ins, nS);\n\n## Plotting the scenarios for a single locatiom\nlocation = 1  # selected location for plotting\n\n## Creating empty plot\nplt = plot(\n    xlabel = \"Time periods\",\n    ylabel = \"Demand\",  \n    title = \"Demand - Location $(location)\",\n    legend = false, fmt = :png\n)\n\n## Including each demand series in the plot\nfor s in 1:nS                                 \n    plot!(D_sto[s,location,:], legend = false)\nend\n\n## Plotting the expected demand \nplot!(sum(Ps[s]*D_sto[s,location,:] for s in 1:nS), \n    lw = 2,          # line weight\n    ls = :dash,      # line stroke\n    color = :black, \n    legend = false\n)\n\nplt"
      ],
      "metadata": {},
      "execution_count": null
    },
    {
      "outputs": [],
      "cell_type": "code",
      "source": [
        "## Solve the stochastic model\n(x_sto, p_sto, k_sto, e_sto, u_sto) = solve_stochastic(ins, nS, Ps, D_sto, verbose = false);"
      ],
      "metadata": {},
      "execution_count": null
    },
    {
      "outputs": [],
      "cell_type": "code",
      "source": [
        "xsol_sto = value.(x_sto)                          # Get optimal x values (reserved capacities)\nxsol_sto = round.(xsol_sto.data, digits = 2)      # Round to 2 decimals \nfval_sto = dot(C, xsol_sto)                       # Optimal cost of reserved capacities\n\n## Print optimal solution\nprintln(\"Optimal solution:\\n\")\nfor i = 1:length(xsol_sto)\n    if xsol_sto[i] > 0.0\n        println(\"x[$(i)] = $(xsol_sto[i])\")\n    end\nend\n\n## Print optimal cost of reserved capacities\nprintln(\"\\nOptimal cost of reserved capacities: \", fval_sto)"
      ],
      "metadata": {},
      "execution_count": null
    },
    {
      "cell_type": "markdown",
      "source": [
        "Notice how the solutions compare in terms of total capacity invested and number of nodes selected as suppliers. Are the capacity centres more centralised or more disperse? Can you think of a reason why (the latter is not relevant for the task, but an interesting thought exercise)? \n\nWe also compare the total time (should be approximately the same as the model solution time) and the allocated memory using the Julia built-in ```@timed``` macro. That is one of the main reasons why we wrapped our model generation and solving into a function.\n\nHow do the two models compare in terms of computational requirements?"
      ],
      "metadata": {}
    },
    {
      "outputs": [],
      "cell_type": "code",
      "source": [
        "times_det = []\nallocs_det = []\nn_sample = 5\nfor i in 1:n_sample\n    stats_det = @timed solve_deterministic(ins, verbose = false);\n    push!(times_det, stats_det.time)\n    push!(allocs_det, stats_det.bytes)\nend\nmean_time_det = mean(times_det)\nmean_allocs_det = mean(allocs_det)\ntimes_det, allocs_det"
      ],
      "metadata": {},
      "execution_count": null
    },
    {
      "outputs": [],
      "cell_type": "code",
      "source": [
        "times_sto = []\nallocs_sto = []\nfor i in 1:5\n    stats_sto = @timed solve_stochastic(ins, nS, Ps, D_sto, verbose = false);\n    push!(times_sto, stats_sto.time)\n    push!(allocs_sto, stats_sto.bytes)\nend\nmean_time_sto = mean(times_sto)\nmean_allocs_sto = mean(allocs_sto)\ntimes_sto, allocs_sto"
      ],
      "metadata": {},
      "execution_count": null
    },
    {
      "outputs": [],
      "cell_type": "code",
      "source": [
        "println(\"Deterministic model solved in $(mean_time_det) seconds and allocated a total of $(mean_allocs_det/1E6)MB of memory.\")\nprintln(\"Stochastic model solved in $(mean_time_sto) seconds and allocated a total of $(mean_allocs_sto/1E6)MB of memory.\")"
      ],
      "metadata": {},
      "execution_count": null
    }
  ],
  "nbformat_minor": 2,
  "metadata": {
    "language_info": {
      "file_extension": ".jl",
      "mimetype": "application/julia",
      "name": "julia",
      "version": "1.5.1"
    },
    "kernelspec": {
      "name": "julia-1.5",
      "display_name": "Julia 1.5.1",
      "language": "julia"
    }
  },
  "nbformat": 4
}
