{
  "cells": [
    {
      "cell_type": "code",
      "execution_count": null,
      "metadata": {},
      "outputs": [],
      "source": [
        "using Plots            # To generate figures\n",
        "using JuMP             \n",
        "using Cbc              # Solver used\n",
        "using JLD2             # File input and output"
      ]
    },
    {
      "cell_type": "markdown",
      "metadata": {},
      "source": [
        "## Exercise 11.2 - Capacitated vehicle routing problem (CVRP)\n",
        "\n",
        "### Background\n",
        "\n",
        "Consider a centralised depot, from which deliveries are supposed to be made from. The delivers have to be made to a number of clients, and each client has a specific demand. Some assumptions we will consider:\n",
        "\n",
        "* The deliveries have to be made by vehicles that are of limited capacity; \n",
        "* Multiple routes are created, and a single vehicle is assignmed to each route; \n",
        "* We assume that the number of vehicles is not a limitation.\n",
        "\n",
        "Our objective is to define **optimal routes** such that the total distance travelled is minimised.\n",
        "\n",
        "### Problem structure and input data\n",
        "\n",
        "Let us define the elements that form our problem. You will notice that we use a graph-based notation, referring to elements such as arcs and nodes.\n",
        "\n",
        "#### Structural elements\n",
        "* $n$ is the total number of clients\n",
        "* $N$ is the *set* of clients, with $N = \\{2, \\dots, n+1\\}$\n",
        "* $V$ is the set of *nodes*, representing a depot (node 1) and the clients (nodes $i \\in N$). Thus $V = \\{1\\} \\cup N$.\n",
        "* $A$ is a set of *arcs*, with $A = \\{(i,j) \\in V \\times V : i \\neq j\\}$\n",
        "\n",
        "#### Parameters (input data structure)\n",
        "* $C_{i,j}$ - cost of travelling via arc $(i,j) \\in A$ (equals distance between $i$ and $j$);\n",
        "* $Q$ - vehicle capacity in units;\n",
        "* $D_i$ - amount that has to be delivered to customer $i \\in N$, in units;"
      ]
    },
    {
      "cell_type": "code",
      "execution_count": null,
      "metadata": {},
      "outputs": [],
      "source": [
        "# Problem structural elements\n",
        "struct Instance\n",
        "   n     # Total of nodels\n",
        "   N     # Set of client nodes\n",
        "   V     # Set of all nodes, including depot\n",
        "   A     # Set of arcs\n",
        "   loc_x # x-coordinates of all points\n",
        "   loc_y # y-coordinates of all points\n",
        "   Q     # vehicle capacity\n",
        "   D     # demand at the node (to be delivered)\n",
        "   C     # arc trasversal cost\n",
        "   bigM  # A suitable big M value to be used in all big M constraints\n",
        "end"
      ]
    },
    {
      "cell_type": "code",
      "execution_count": null,
      "metadata": {},
      "outputs": [],
      "source": [
        "f = jldopen(\"ex11_ins.jld2\")\n",
        "ins = nothing\n",
        "try\n",
        "    ins = f[\"ins\"]\n",
        "finally\n",
        "    close(f)\n",
        "end;"
      ]
    },
    {
      "cell_type": "markdown",
      "metadata": {},
      "source": [
        "The cell below shows a plot of the problem, indicting demands and time windows."
      ]
    },
    {
      "cell_type": "code",
      "execution_count": null,
      "metadata": {},
      "outputs": [],
      "source": [
        "## Plotting nodes\n",
        "\n",
        "scatter(ins.loc_x, ins.loc_y,\n",
        "    legend = false,\n",
        "    size = (1400,700),\n",
        "    xaxis = (\"x\", (-50.0,1100.0)),\n",
        "    yaxis = (\"y\", (-50.0,700.0)),\n",
        ")\n",
        "\n",
        "for i in ins.N\n",
        "    annotate!(ins.loc_x[i], ins.loc_y[i] +15, (\"$i\", 7))\n",
        "    \n",
        "    ## These make the plot somewhat hard to read\n",
        "    annotate!(ins.loc_x[i], ins.loc_y[i] - 17, (\"D[$(i)] = $(ins.D[i])\", 7))\n",
        "end\n",
        "\n",
        "scatter!((ins.loc_x[1], ins.loc_y[1]), color=:orange)"
      ]
    },
    {
      "cell_type": "markdown",
      "metadata": {},
      "source": [
        "### Item (a)\n",
        "\n",
        "If we allow multiple departures and arrivals for the depot node and each client node is visited exactly once, we end up with a \n",
        "MIP formulation:\n",
        "\n",
        "\\begin{align}\n",
        "    \\min & \\sum_{(i,j) \\in A} C_{i,j}x_{i,j} \\\\\n",
        "    \\text{s.t.: } & \\sum_{j \\in V, j \\neq i} x_{i,j} = 1, \\ \\forall i \\in N  \\\\\n",
        "    & \\sum_{i \\in V, i \\neq j} x_{i,j} = 1, \\ \\forall j \\in N  \\\\\n",
        "    & u_i - D_j \\leq u_j + M*( 1 - x_{i,j}) , \\ \\forall i \\in V, j \\in N \\\\\n",
        "    & u_i - D_j \\geq u_j - M*( 1 - x_{i,j}) , \\ \\forall i \\in V, j \\in N \\\\\n",
        "    & 0 \\leq u_i \\leq Q, \\ \\forall i \\in V  \\\\\n",
        "    & u_1 = Q \\\\\n",
        "    & x_{i,j} \\in \\{0,1\\}, \\ \\forall i \\in V, \\forall j \\in V\n",
        "\\end{align}\n",
        "\n",
        "We use variables $x_{i,j}$ for modelling whether the arc $(i,j)$ is \"active\" in the solution. If $x_{i,j}=1$, the arc $(i,j)$ is active, meaning that there is a vehicle going from node $i$ to node $j$. The objective function $\\sum_{(i,j) \\in A} C_{i,j}x_{i,j}$ represents the total cost of moving along the active arcs in the solution. The next two constraints $\\sum_{j \\in V, j \\neq i} x_{i,j} = 1, \\ \\forall i \\in N$ and $\\sum_{i \\in V, i \\neq j} x_{i,j} = 1, \\ \\forall j \\in N$ state that each node in $N$ (the set of *client* nodes) must be visited exactly once. A visit is defined as a vehicle entering and leaving that node. So far, this should be familiar, these same ideas would be found in a TSP formulation.\n",
        "\n",
        "The differences between the capacitated vehicle routing problem (CVRP) and travelling salesperson problems (TSP) are\n",
        "1. We have multiple vehicles available instead of a single salesperson\n",
        "2. The vehicles have a limited capacity\n",
        "\n",
        "To model the limited capacity, we introduce variables $u_i$, representing the remaining cargo in a vehicle when leaving a node $i$. We assume that all vehicles leave the depot full of cargo ($U_1 = Q$). We then want a constraint saying that if a vehicle goes from node $i \\in V$ to node $j \\in N$, the amount of cargo in the vehicle must decrease by $D_j$. For this, we use two big-M constraints $u_i - D_j \\leq u_j + M*( 1 - x_{i,j}) , \\ \\forall i \\in V, j \\in N$ and $u_i - D_j \\geq u_j - M*( 1 - x_{i,j}) , \\ \\forall i \\in V, j \\in N$. When combined, these result in something like:\n",
        "$$ x_{i,j}=1 \\Rightarrow u_i - D_j = u_j$$\n",
        "$$ x_{i,j}=0 \\Rightarrow -\\infty \\le u_i - D_j - u_j \\le \\infty$$\n",
        "\n",
        "The second line can also be written as $ x_{i,j}=0 \\Rightarrow u_i - D_j - u_j \\in \\mathbb{R}$, meaning that there is no relationship between $u_i$ and $u_j$.\n",
        "#' \n",
        "### Item (b)\n",
        "Complete the function `create_VRP_model()` below to implement the CVRP model."
      ]
    },
    {
      "cell_type": "code",
      "execution_count": null,
      "metadata": {},
      "outputs": [],
      "source": [
        "function create_VRP_model(ins; max_time = 300)\n",
        "    \n",
        "    n = ins.n          # Number of client nodes\n",
        "    N = ins.N          # Set of client nodes\n",
        "    V = ins.V          # Set of all nodes, including depot\n",
        "    A = ins.A          # Set of arcs\n",
        "    loc_x = ins.loc_x  # x-coordinates of all points\n",
        "    loc_y = ins.loc_y  # y-coordinates of all points\n",
        "    Q = ins.Q          # Vehicle capacity\n",
        "    D = ins.D          # Demand at the node (to be delivered)\n",
        "    C = ins.C          # Arc traversal cost \n",
        "    bigM = ins.bigM    # A large enough big M value to be used in all big M constraints\n",
        "    \n",
        "    model = Model(Cbc.Optimizer)                # Declaring the model object.\n",
        "    set_optimizer_attribute(model, \"seconds\", max_time)\n",
        "\n",
        "    # Declare decision variables\n",
        "    @variable(model, x[i in V, j in V], Bin) \n",
        "    @variable(model, 0 <= u[i in V] <= Q)\n",
        "    @constraint(model, u[1]==Q)\n",
        "    \n",
        "    # Objective function\n",
        "    @objective(model, Min, sum(C[i,j] * x[i,j] for (i,j) in A))\n",
        "\n",
        "    # Constraints\n",
        "    @constraint(model, c1[i in N], sum(x[i,j] for j in V if j != i) == 1)\n",
        "    @constraint(model, [j in N], sum(x[i,j] for i in V if i != j) == 1)\n",
        "    @constraint(model, [i in V, j in N], u[i] - D[j] <= u[j] + bigM * (1 - x[i,j]))\n",
        "    @constraint(model, [i in V, j in N], u[i] - D[j] >= u[j] - bigM * (1 - x[i,j]))\n",
        "    \n",
        "    return model\n",
        "end"
      ]
    },
    {
      "cell_type": "code",
      "execution_count": null,
      "metadata": {},
      "outputs": [],
      "source": [
        "## Create the basic model and optimise it\n",
        "basic_model = create_VRP_model(ins; max_time = 300)\n",
        "optimize!(basic_model)"
      ]
    },
    {
      "cell_type": "markdown",
      "metadata": {},
      "source": [
        "The cell below shows a plot of the solution."
      ]
    },
    {
      "cell_type": "code",
      "execution_count": null,
      "metadata": {},
      "outputs": [],
      "source": [
        "## Retrieving active arcs. \n",
        "active_arcs = [(i,j) for (i,j) in ins.A if value.(basic_model[:x])[i,j] >= 1-(1E-9)]\n",
        "\n",
        "scatter(ins.loc_x, ins.loc_y,\n",
        "    legend = false,\n",
        "    size = (1100,700),\n",
        "    xaxis = (\"x\", (-10.0,1100.0)),\n",
        "    yaxis = (\"y\", (-10.0,700.0)),\n",
        ")\n",
        "\n",
        "for i in ins.N\n",
        "    annotate!(ins.loc_x[i], ins.loc_y[i] +30, (\"D[$i]=$(ins.D[i])\", 7))\n",
        "    annotate!(ins.loc_x[i], ins.loc_y[i] +15, (\"u[$i]=$(round(value.(basic_model[:u])[i], digits=1))\", 7))\n",
        "end\n",
        "\n",
        "## Plotting the arcs\n",
        "for (i,j) in active_arcs\n",
        "    quiver!([ins.loc_x[i]], [ins.loc_y[i]], quiver=([ins.loc_x[j] - ins.loc_x[i]], [ins.loc_y[j] - ins.loc_y[i]]), \n",
        "        color = 1\n",
        "    )\n",
        "end\n",
        "\n",
        "scatter!((ins.loc_x[1], ins.loc_y[1]), color=:orange)"
      ]
    },
    {
      "cell_type": "markdown",
      "metadata": {},
      "source": [
        "## Exercise 11.1 - Preprocessing and primal heuristics\n",
        "#' \n",
        "### b) RINS and RENS for UFL-W\n",
        "\n",
        "From exercise 9: Let $N = \\{1,\\dots,n\\}$ be a set of potential facilities and $M = \\{1,\\dots,m\\}$ a set of clients. Let $y_j = 1$ if facility $j$ is opened, and $y_j = 0$ otherwise. Moreover, let $x_{ij}$ be the fraction of client $i$'s demand satisfied from facility $j$. The UFL can be formulated as the mixed-integer problem (MIP): \n",
        "\n",
        "$$\\begin{align}\n",
        " \\text{(UFL-W)} : \\quad &\\min_{x,y} \\sum_{j\\in N} f_jy_j + \\sum_{i\\in M}\\sum_{j\\in N} c_{ij}x_{ij} \\label{IP:1}\\\\\n",
        "       &\\text{s.t.} \\nonumber \\\\\n",
        "       &\\quad \\sum_{j\\in N}x_{ij} = 1, &\\forall i \\in M,\\label{IP:2}\\\\\n",
        "       &\\quad \\sum_{i\\in M}x_{ij} \\leq my_j, &\\forall  j \\in N,\\label{IP:3}\\\\\n",
        "       &\\quad x_{ij} \\geq 0, &\\forall i \\in M, \\forall j \\in N,\\label{IP:4}\\\\\n",
        "       &\\quad y_j \\in \\{0,1\\}, &\\forall j\\in N,\\label{IP:5}\n",
        "\\end{align}$$\n",
        "\n",
        "where $f_j$ is the cost of opening facility $j$, and $c_{ij}$ is the cost of satisfying client $i$'s demand from facility $j$. Consider an instance (different from exercise 9) of the UFL with opening costs $f=(21,16,30,24,11)$ and client costs\n",
        "\n",
        "$$\\begin{align*}\n",
        " (c_{ij}) = \\left(\n",
        "\t\\begin{array}{ccccc}\n",
        "\t\t6  & 9  & 3 & 4  & 12 \\\\\n",
        "\t\t1  & 2  & 4 & 9  & 2  \\\\\n",
        "\t\t15 & 2  & 6 & 3  & 18 \\\\\n",
        "\t\t9  & 23 & 4 & 8  & 1  \\\\\n",
        "\t\t7  & 11 & 2 & 5  & 14 \\\\\n",
        "\t\t4  & 3  & 10& 11 & 3\n",
        "\t\\end{array}\n",
        " \\right)\n",
        "\\end{align*}$$"
      ]
    },
    {
      "cell_type": "code",
      "execution_count": null,
      "metadata": {},
      "outputs": [],
      "source": [
        "f = [21 16 30 24 11] # Facility opening costs\n",
        "c = [6 9 3 4 12; 1 2 4 9 2; 15 2 6 3 18; 9 23 4 8 1; 7 11 2 5 14; 4 3 10 11 3] # Cost of satisfying demand\n",
        "(m, n) = size(c)\n",
        "M = 1:m # Set of clients\n",
        "N = 1:n;# Set of facilities"
      ]
    },
    {
      "cell_type": "markdown",
      "metadata": {},
      "source": [
        "#### Obtain MIP solution for comparison"
      ]
    },
    {
      "cell_type": "code",
      "execution_count": null,
      "metadata": {},
      "outputs": [],
      "source": [
        "ufl_w = Model(Cbc.Optimizer)\n",
        "\n",
        "@variable(ufl_w, x[M,N] >= 0) # Fraction of demand (client i) satisfied by facility j\n",
        "@variable(ufl_w, y[N], Bin)   # Facility location\n",
        "\n",
        "# Minimize total cost\n",
        "@objective(ufl_w, Min, sum(f[j]*y[j] for j in N) + sum(c[i,j]*x[i,j] for i in M, j in N)) \n",
        "\n",
        "# For each client, the demand must be fulfilled\n",
        "@constraint(ufl_w, demand[i in M], sum(x[i,j] for j in N) == 1)\n",
        "# A big-M style constraint stating that facility j can't send out anything if y[j]==0\n",
        "@constraint(ufl_w, supply[j in N], sum(x[i,j] for i in M) <= m*y[j])\n",
        "\n",
        "optimize!(ufl_w)"
      ]
    },
    {
      "cell_type": "code",
      "execution_count": null,
      "metadata": {},
      "outputs": [],
      "source": [
        "println(\"UFL-W MILP:\")\n",
        "println(\"Optimal value $(objective_value(ufl_w))\")\n",
        "println(\"with y = $(value.(y).data)\")"
      ]
    },
    {
      "cell_type": "markdown",
      "metadata": {},
      "source": [
        "#### Obtain LP relaxation solution for heuristics"
      ]
    },
    {
      "cell_type": "code",
      "execution_count": null,
      "metadata": {},
      "outputs": [],
      "source": [
        "ufl_w_rel = Model(Cbc.Optimizer)\n",
        "\n",
        "@variable(ufl_w_rel, x[M,N] >= 0) # Fraction of demand (client i) satisfied by facility j\n",
        "@variable(ufl_w_rel, 0<=y[N]<=1)  # Facility location\n",
        "\n",
        "# Minimize total cost\n",
        "@objective(ufl_w_rel, Min, sum(f[j]*y[j] for j in N) + sum(c[i,j]*x[i,j] for i in M, j in N)) \n",
        "\n",
        "# For each client, the demand must be fulfilled\n",
        "@constraint(ufl_w_rel, demand[i in M], sum(x[i,j] for j in N) == 1)\n",
        "# A big-M style constraint stating that facility j can't send out anything if y[j]==0\n",
        "@constraint(ufl_w_rel, supply[j in N], sum(x[i,j] for i in M) <= m*y[j])\n",
        "\n",
        "optimize!(ufl_w_rel)"
      ]
    },
    {
      "cell_type": "code",
      "execution_count": null,
      "metadata": {},
      "outputs": [],
      "source": [
        "println(\"UFL-W LP:\")\n",
        "println(\"Optimal value $(objective_value(ufl_w_rel))\")\n",
        "println(\"with y = $(value.(y).data)\")"
      ]
    },
    {
      "cell_type": "markdown",
      "metadata": {},
      "source": [
        "#### RINS\n",
        "We are given a primal feasible solution $\\bar{y}=(1,0,0,0,0)$ for starting RINS. The solution for this UFL-W LP relaxation is $y^{LP} = (0, 1/6, 1/3, 0, 1/2)$."
      ]
    },
    {
      "cell_type": "code",
      "execution_count": null,
      "metadata": {},
      "outputs": [],
      "source": [
        "y_bar = [1,0,0,0,0]\n",
        "y_lp = [0, 1/6, 1/3, 0, 1/2]\n",
        "\n",
        "ufl_rins = Model(Cbc.Optimizer)\n",
        "\n",
        "@variable(ufl_rins, x[M,N] >= 0) # Fraction of demand (client i) satisfied by facility j\n",
        "@variable(ufl_rins, y[N], Bin)   # Facility location\n",
        "\n",
        "# Minimize total cost\n",
        "@objective(ufl_rins, Min, sum(f[j]*y[j] for j in N) + sum(c[i,j]*x[i,j] for i in M, j in N)) \n",
        "\n",
        "# For each client, the demand must be fulfilled\n",
        "@constraint(ufl_rins, demand[i in M], sum(x[i,j] for j in N) == 1)\n",
        "# A big-M style constraint stating that facility j can't send out anything if y[j]==0\n",
        "@constraint(ufl_rins, supply[j in N], sum(x[i,j] for i in M) <= m*y[j])\n",
        "\n",
        "# Fixing variables that have the same value in our primal feasible solution and the LP relaxation\n",
        "# TODO: add your code here\n",
        "\n",
        "optimize!(ufl_rins)"
      ]
    },
    {
      "cell_type": "code",
      "execution_count": null,
      "metadata": {},
      "outputs": [],
      "source": [
        "println(\"UFL-W RINS solution:\")\n",
        "println(\"Optimal value $(objective_value(ufl_rins))\")\n",
        "println(\"with y = $(value.(y).data)\")"
      ]
    },
    {
      "cell_type": "markdown",
      "metadata": {},
      "source": [
        "#### RENS\n",
        "RINS gave us a pretty good solution, let's see what happens with RENS."
      ]
    },
    {
      "cell_type": "code",
      "execution_count": null,
      "metadata": {},
      "outputs": [],
      "source": [
        "y_lp = [0, 1/6, 1/3, 0, 1/2]\n",
        "\n",
        "ufl_rens = Model(Cbc.Optimizer)\n",
        "\n",
        "@variable(ufl_rens, x[M,N] >= 0) # Fraction of demand (client i) satisfied by facility j\n",
        "@variable(ufl_rens, y[N], Bin)   # Facility location\n",
        "\n",
        "# Minimize total cost\n",
        "@objective(ufl_rens, Min, sum(f[j]*y[j] for j in N) + sum(c[i,j]*x[i,j] for i in M, j in N)) \n",
        "\n",
        "# For each client, the demand must be fulfilled\n",
        "@constraint(ufl_rens, demand[i in M], sum(x[i,j] for j in N) == 1)\n",
        "# A big-M style constraint stating that facility j can't send out anything if y[j]==0\n",
        "@constraint(ufl_rens, supply[j in N], sum(x[i,j] for i in M) <= m*y[j])\n",
        "\n",
        "# Fixing variables that have an integer solution in the LP relaxation\n",
        "# TODO: add your code here\n",
        "\n",
        "optimize!(ufl_rens)"
      ]
    },
    {
      "cell_type": "code",
      "execution_count": null,
      "metadata": {},
      "outputs": [],
      "source": [
        "println(\"UFL-W RENS solution:\")\n",
        "println(\"Optimal value $(objective_value(ufl_rens))\")\n",
        "println(\"with y = $(value.(y).data)\")"
      ]
    },
    {
      "cell_type": "markdown",
      "metadata": {},
      "source": [
        "In this case, RINS and RENS gave the same solution, but RINS depends on the initial feasible solution provided."
      ]
    }
  ],
  "metadata": {
    "kernelspec": {
      "display_name": "Julia 1.7.1",
      "language": "julia",
      "name": "julia-1.7"
    },
    "language_info": {
      "file_extension": ".jl",
      "mimetype": "application/julia",
      "name": "julia",
      "version": "1.7.1"
    }
  },
  "nbformat": 4,
  "nbformat_minor": 2
}
