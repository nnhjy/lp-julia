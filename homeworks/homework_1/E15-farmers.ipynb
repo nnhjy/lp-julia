{
 "cells": [
  {
   "cell_type": "markdown",
   "metadata": {},
   "source": [
    "# The farmer's problem\n",
    "\n",
    "_This problem is taken from Section 1.1 of the book Birge, J. R., & Louveaux,\n",
    "F. (2011). Introduction to Stochastic Programming. New York, NY: Springer New\n",
    "York. Paragraphs in quotes are taken verbatim._"
   ]
  },
  {
   "cell_type": "markdown",
   "metadata": {},
   "source": [
    "## Problem description"
   ]
  },
  {
   "cell_type": "markdown",
   "metadata": {},
   "source": [
    "> Consider an European farmer who specializes in raising wheat, corn, and sugar\n",
    "beets on his 500 acres of land. During the winter, [they want] to decide how\n",
    "much land to devote to each crop."
   ]
  },
  {
   "cell_type": "markdown",
   "metadata": {},
   "source": [
    "> The farmer knows that at least 200 tons (T) of wheat and 240 T of corn are\n",
    "needed for cattle feed. These amounts can be raised on the farm or bought\n",
    "from a wholesaler. Any production in excess of the feeding requirement would\n",
    "be sold."
   ]
  },
  {
   "cell_type": "markdown",
   "metadata": {},
   "source": [
    "> Over the last decade, mean selling prices have been \\\\\\$170 and \\\\\\$150 per\n",
    "ton of wheat and corn, respectively. The purchase prices are 40% more than\n",
    "this due to the wholesaler’s margin and transportation costs."
   ]
  },
  {
   "cell_type": "markdown",
   "metadata": {},
   "source": [
    "> Another profitable crop is sugar beet, which [they expect] to sell at\n",
    "\\\\\\$36/T; however, the European Commission imposes a quota on sugar beet\n",
    "production. Any amount in excess of the quota can be sold only at \\\\\\$10/T.\n",
    "The farmer’s quota for next year is 6000 T.\""
   ]
  },
  {
   "cell_type": "markdown",
   "metadata": {},
   "source": [
    "> Based on past experience, the farmer knows that the mean yield on [their]\n",
    "land is roughly 2.5 T, 3 T, and 20 T per acre for wheat, corn, and sugar\n",
    "beets, respectively."
   ]
  },
  {
   "cell_type": "markdown",
   "metadata": {},
   "source": [
    "> **To introduce uncertainty**, assume some correlation among the yields of the\n",
    "different crops. A very simplified representation of this would be to assume\n",
    "that years are good, fair, or bad for all crops, resulting in above average,\n",
    "average, or below average yields for all crops. To fix these ideas, _above_\n",
    "and _below_ average indicate a yield 20% above or below the mean yield."
   ]
  },
  {
   "cell_type": "markdown",
   "metadata": {},
   "source": [
    "## Problem data"
   ]
  },
  {
   "cell_type": "markdown",
   "metadata": {},
   "source": [
    "The area of the farm."
   ]
  },
  {
   "cell_type": "code",
   "execution_count": 1,
   "metadata": {},
   "outputs": [],
   "source": [
    "max_area = 500.0;"
   ]
  },
  {
   "cell_type": "markdown",
   "metadata": {},
   "source": [
    "There are three crops:"
   ]
  },
  {
   "cell_type": "code",
   "execution_count": 2,
   "metadata": {},
   "outputs": [],
   "source": [
    "crops = [:wheat, :corn, :sugar_beet];"
   ]
  },
  {
   "cell_type": "markdown",
   "metadata": {},
   "source": [
    "Each of the crops has a different planting cost (\\\\\\$/acre)."
   ]
  },
  {
   "cell_type": "code",
   "execution_count": 3,
   "metadata": {},
   "outputs": [],
   "source": [
    "plant_cost = Dict(\n",
    "    :wheat      => 150.0,\n",
    "    :corn       => 230.0,\n",
    "    :sugar_beet => 260.0\n",
    ");"
   ]
  },
  {
   "cell_type": "markdown",
   "metadata": {},
   "source": [
    "The farmer requires a minimum quantity of wheat and corn, but not of sugar\n",
    "beet (tonnes)."
   ]
  },
  {
   "cell_type": "code",
   "execution_count": 4,
   "metadata": {},
   "outputs": [],
   "source": [
    "min_qt = Dict(\n",
    "    :wheat      => 200.0,\n",
    "    :corn       => 240.0,\n",
    "    :sugar_beet =>   0.0\n",
    ");"
   ]
  },
  {
   "cell_type": "markdown",
   "metadata": {},
   "source": [
    "In Europe, there is a quota system for producing crops. The farmer owns the\n",
    "following quota for each crop (tonnes):"
   ]
  },
  {
   "cell_type": "code",
   "execution_count": 5,
   "metadata": {},
   "outputs": [],
   "source": [
    "quota_max = Dict(\n",
    "    :wheat      => 20_0000,\n",
    "    :corn       => 20_0000,\n",
    "    :sugar_beet => 6_000.0\n",
    ");"
   ]
  },
  {
   "cell_type": "markdown",
   "metadata": {},
   "source": [
    "The farmer can sell crops produced under the quota for the following amounts\n",
    "(\\\\\\$/tonne):"
   ]
  },
  {
   "cell_type": "code",
   "execution_count": 6,
   "metadata": {},
   "outputs": [],
   "source": [
    "sell_quota = Dict(\n",
    "    :wheat      => 170.0,\n",
    "    :corn       => 150.0,\n",
    "    :sugar_beet =>  36.0\n",
    ");"
   ]
  },
  {
   "cell_type": "markdown",
   "metadata": {},
   "source": [
    "If they sell more than their alloted quota, the farmer earns the following on\n",
    "each tonne of crop above the quota (\\\\\\$/tonne):"
   ]
  },
  {
   "cell_type": "code",
   "execution_count": 7,
   "metadata": {},
   "outputs": [],
   "source": [
    "sell_above = Dict(\n",
    "    :wheat      => 0.0,\n",
    "    :corn       => 0.0,\n",
    "    :sugar_beet => 10.0\n",
    ");"
   ]
  },
  {
   "cell_type": "markdown",
   "metadata": {},
   "source": [
    "The purchase prices for wheat and corn are 40% more than their sales price.\n",
    "However, the description does not address the purchase price of sugar beet.\n",
    "Therefore, we use a large value of \\\\\\$1,000/tonne."
   ]
  },
  {
   "cell_type": "code",
   "execution_count": 8,
   "metadata": {},
   "outputs": [],
   "source": [
    "buy_price = Dict(\n",
    "    :wheat      =>   238.0,\n",
    "    :corn       =>   210.0,\n",
    "    :sugar_beet => 1_000.0\n",
    ");"
   ]
  },
  {
   "cell_type": "markdown",
   "metadata": {},
   "source": [
    "On average, each crop has the following yield in tonnes/acre:"
   ]
  },
  {
   "cell_type": "code",
   "execution_count": 9,
   "metadata": {},
   "outputs": [],
   "source": [
    "mean_yield = Dict(\n",
    "    :wheat      =>  2.5,\n",
    "    :corn       =>  3.0,\n",
    "    :sugar_beet => 20.0\n",
    ");"
   ]
  },
  {
   "cell_type": "markdown",
   "metadata": {},
   "source": [
    "However, the yield is random. In good years, the yield is +20% above average,\n",
    "and in bad years, the yield is -20% below average."
   ]
  },
  {
   "cell_type": "markdown",
   "metadata": {},
   "source": [
    "The scenarios are then defined"
   ]
  },
  {
   "cell_type": "code",
   "execution_count": 10,
   "metadata": {},
   "outputs": [],
   "source": [
    "scenarios = [:good, :fair, :bad];"
   ]
  },
  {
   "cell_type": "markdown",
   "metadata": {},
   "source": [
    "And the yield is adjusted accordingly to the scenario"
   ]
  },
  {
   "cell_type": "code",
   "execution_count": 11,
   "metadata": {},
   "outputs": [],
   "source": [
    "yield_sto = Dict(\n",
    "    :good => 0.2,\n",
    "    :fair => 0,\n",
    "    :bad  => -0.2\n",
    ");"
   ]
  },
  {
   "cell_type": "markdown",
   "metadata": {},
   "source": [
    "Defining the scenarios' probability"
   ]
  },
  {
   "cell_type": "code",
   "execution_count": 12,
   "metadata": {},
   "outputs": [],
   "source": [
    "# Test both probability distributions (prob1 for item (b) and prob2 for item (c))\n",
    "prob1 = Dict(\n",
    "    :good => 1/3,\n",
    "    :fair => 1/3,\n",
    "    :bad  => 1/3\n",
    ");\n",
    "\n",
    "prob2 = Dict(\n",
    "    :good => 0.25,\n",
    "    :fair => 0.25,\n",
    "    :bad  => 0.5\n",
    ");"
   ]
  },
  {
   "cell_type": "markdown",
   "metadata": {},
   "source": [
    "## Mathematical formulation (Mean yield problem)"
   ]
  },
  {
   "cell_type": "markdown",
   "metadata": {},
   "source": [
    "Load solver, we use ```Cbc```, and define the optimisation model."
   ]
  },
  {
   "cell_type": "code",
   "execution_count": 13,
   "metadata": {},
   "outputs": [],
   "source": [
    "using Cbc, JuMP\n",
    "\n",
    "fm_mean = Model(Cbc.Optimizer);"
   ]
  },
  {
   "cell_type": "markdown",
   "metadata": {},
   "source": [
    "### Variables"
   ]
  },
  {
   "cell_type": "markdown",
   "metadata": {},
   "source": [
    "Variables independent of weather realisation:"
   ]
  },
  {
   "cell_type": "code",
   "execution_count": 14,
   "metadata": {},
   "outputs": [],
   "source": [
    "@variable(fm_mean, x[c in crops] >= 0);                                      # Planted area per crop"
   ]
  },
  {
   "cell_type": "markdown",
   "metadata": {},
   "source": [
    "Variables dependent on weather realisation:"
   ]
  },
  {
   "cell_type": "code",
   "execution_count": 15,
   "metadata": {},
   "outputs": [],
   "source": [
    "@variable(fm_mean, y[c in crops] >= 0)                                       # Quantity sold below the quota\n",
    "@variable(fm_mean, w[c in crops] >= 0)                                       # Quantity sold above the quota (restricted by the max quota)\n",
    "@variable(fm_mean, z[c in crops] >= 0);                                      # Quantity bought"
   ]
  },
  {
   "cell_type": "markdown",
   "metadata": {},
   "source": [
    "### Constraints"
   ]
  },
  {
   "cell_type": "markdown",
   "metadata": {},
   "source": [
    "Constraints independent of weather realisation:"
   ]
  },
  {
   "cell_type": "code",
   "execution_count": 16,
   "metadata": {},
   "outputs": [],
   "source": [
    "@constraint(fm_mean,sum(x[c] for c in crops) <= max_area);                   # Max farming area"
   ]
  },
  {
   "cell_type": "markdown",
   "metadata": {},
   "source": [
    "Constraints dependent on weather realisation:"
   ]
  },
  {
   "cell_type": "code",
   "execution_count": 17,
   "metadata": {},
   "outputs": [],
   "source": [
    "@constraint(fm_mean, [c in crops],                                           # Constraint defined in crops\n",
    "    x[c]*mean_yield[c] + z[c] -                                              # Production + bought\n",
    "    y[c] - w[c] >=                                                           # Amount of crops sold below minus above quota\n",
    "    min_qt[c])                                                               # Minimum required for cattle feeding\n",
    "\n",
    "@constraint(fm_mean, [c in crops],                                           # Constraint defined in crops\n",
    "    y[c] <= quota_max[c]);                                                   # Quantity below quota follows the limit"
   ]
  },
  {
   "cell_type": "markdown",
   "metadata": {},
   "source": [
    "Costs independent of the weather: the cost of the plantation."
   ]
  },
  {
   "cell_type": "code",
   "execution_count": 18,
   "metadata": {},
   "outputs": [],
   "source": [
    "@expression(fm_mean, cost_det, sum(plant_cost[c]*x[c] for c in crops));      # Deterministic part of the objective"
   ]
  },
  {
   "cell_type": "markdown",
   "metadata": {},
   "source": [
    "Costs dependent on weather realisation (based on the mean of stochastic realisations)."
   ]
  },
  {
   "cell_type": "code",
   "execution_count": 19,
   "metadata": {},
   "outputs": [],
   "source": [
    "@expression(fm_mean, cost_sto,                                               # Stochastic part of the objective\n",
    "            sum((buy_price[c].*z[c] -                                        # Cost for buying crops\n",
    "            sell_quota[c].*y[c] - sell_above[c].*w[c]) for c in crops));     # Revenue from selling crops"
   ]
  },
  {
   "cell_type": "markdown",
   "metadata": {},
   "source": [
    "### Objective function"
   ]
  },
  {
   "cell_type": "code",
   "execution_count": 20,
   "metadata": {},
   "outputs": [
    {
     "name": "stdout",
     "output_type": "stream",
     "text": [
      "Min 150 x[wheat] + 230 x[corn] + 260 x[sugar_beet] + 238 z[wheat] - 170 y[wheat] + 210 z[corn] - 150 y[corn] + 1000 z[sugar_beet] - 36 y[sugar_beet] - 10 w[sugar_beet]\n",
      "Subject to\n",
      " 2.5 x[wheat] - y[wheat] - w[wheat] + z[wheat] >= 200.0\n",
      " 3 x[corn] - y[corn] - w[corn] + z[corn] >= 240.0\n",
      " 20 x[sugar_beet] - y[sugar_beet] - w[sugar_beet] + z[sugar_beet] >= 0.0\n",
      " x[wheat] + x[corn] + x[sugar_beet] <= 500.0\n",
      " y[wheat] <= 200000.0\n",
      " y[corn] <= 200000.0\n",
      " y[sugar_beet] <= 6000.0\n",
      " x[wheat] >= 0.0\n",
      " x[corn] >= 0.0\n",
      " x[sugar_beet] >= 0.0\n",
      " y[wheat] >= 0.0\n",
      " y[corn] >= 0.0\n",
      " y[sugar_beet] >= 0.0\n",
      " w[wheat] >= 0.0\n",
      " w[corn] >= 0.0\n",
      " w[sugar_beet] >= 0.0\n",
      " z[wheat] >= 0.0\n",
      " z[corn] >= 0.0\n",
      " z[sugar_beet] >= 0.0\n"
     ]
    }
   ],
   "source": [
    "@objective(fm_mean, Min, cost_det + cost_sto);\n",
    "\n",
    "# Checking the model\n",
    "print(fm_mean)"
   ]
  },
  {
   "cell_type": "markdown",
   "metadata": {},
   "source": [
    "Solving it"
   ]
  },
  {
   "cell_type": "code",
   "execution_count": 21,
   "metadata": {},
   "outputs": [
    {
     "name": "stdout",
     "output_type": "stream",
     "text": [
      "Welcome to the CBC MILP Solver \n",
      "Version: 2.10.3 \n",
      "Build Date: Jan  1 1970 \n",
      "\n",
      "command line - Cbc_C_Interface -solve -quit (default strategy 1)\n",
      "Presolve 4 (-3) rows, 10 (-2) columns and 13 (-5) elements\n",
      "0  Obj 0 Primal inf 160 (2) Dual inf 1795 (4)\n",
      "0  Obj 0 Primal inf 160 (2) Dual inf 3.9999999e+10 (6)\n",
      "5  Obj -118600\n",
      "Optimal - objective value -118600\n",
      "After Postsolve, objective -118600, infeasibilities - dual 0 (0), primal 0 (0)\n",
      "Optimal objective -118600 - 5 iterations time 0.012, Presolve 0.00\n",
      "Total time (CPU seconds):       0.02   (Wallclock seconds):       0.02\n",
      "\n"
     ]
    }
   ],
   "source": [
    "optimize!(fm_mean);"
   ]
  },
  {
   "cell_type": "markdown",
   "metadata": {},
   "source": [
    "Storing results (rounded in 2 decimal digits)"
   ]
  },
  {
   "cell_type": "code",
   "execution_count": 22,
   "metadata": {},
   "outputs": [],
   "source": [
    "sol_plant_mean = round.(value.(x),digits=2)                                     # Areas planted\n",
    "sol_bought_mean = round.(value.(z),digits=2)                                    # Quantities bought\n",
    "sol_sold_bq_mean = round.(value.(y),digits=2)                                   # Sold below quota\n",
    "sol_sold_aq_mean = round.(value.(w),digits=2);                                  # Sold above quota"
   ]
  },
  {
   "cell_type": "markdown",
   "metadata": {},
   "source": [
    "Printing optimal solution"
   ]
  },
  {
   "cell_type": "code",
   "execution_count": 23,
   "metadata": {},
   "outputs": [
    {
     "name": "stdout",
     "output_type": "stream",
     "text": [
      "\n",
      " The area for wheat planted was: 120.0 acres\n",
      "The quantity of wheat sold below quota is: 100.0\n",
      "\n",
      " The area for corn planted was: 80.0 acres\n",
      "\n",
      " The area for sugar_beet planted was: 300.0 acres\n",
      "The quantity of sugar_beet sold below quota is: 6000.0\n"
     ]
    }
   ],
   "source": [
    "for c in crops\n",
    "    if sol_plant_mean[c]>0\n",
    "        println(\"\\n The area for $c planted was: \",sol_plant_mean[c],\" acres\")\n",
    "    end\n",
    "    if sol_bought_mean[c]>0\n",
    "        println(\"The quantity of $c bought is: \", sol_bought_mean[c])\n",
    "    end\n",
    "    if sol_sold_bq_mean[c]>0\n",
    "        println(\"The quantity of $c sold below quota is: \", sol_sold_bq_mean[c])\n",
    "    end\n",
    "    if sol_sold_aq_mean[c]>0\n",
    "        println(\"The quantity of $c sold above quota is: \", sol_sold_aq_mean[c])\n",
    "    end\n",
    "end"
   ]
  },
  {
   "cell_type": "markdown",
   "metadata": {},
   "source": [
    "## Mathematical formulation (2-stages stochastic optimisation)"
   ]
  },
  {
   "cell_type": "code",
   "execution_count": 40,
   "metadata": {},
   "outputs": [],
   "source": [
    "fm = Model(Cbc.Optimizer);"
   ]
  },
  {
   "cell_type": "markdown",
   "metadata": {},
   "source": [
    "### Define $1^{st}$-stage problem (not dependent on weather realisations)"
   ]
  },
  {
   "cell_type": "markdown",
   "metadata": {},
   "source": [
    "### Variables"
   ]
  },
  {
   "cell_type": "code",
   "execution_count": 41,
   "metadata": {},
   "outputs": [],
   "source": [
    "@variable(fm, x[c in crops] >= 0);                                               # Planted area per crop"
   ]
  },
  {
   "cell_type": "markdown",
   "metadata": {},
   "source": [
    "### Constraints"
   ]
  },
  {
   "cell_type": "code",
   "execution_count": 42,
   "metadata": {},
   "outputs": [],
   "source": [
    "@constraint(fm,sum(x[c] for c in crops) <= max_area);                            # Max farming area"
   ]
  },
  {
   "cell_type": "markdown",
   "metadata": {},
   "source": [
    "First-stage costs: the cost of the plantation."
   ]
  },
  {
   "cell_type": "code",
   "execution_count": 43,
   "metadata": {},
   "outputs": [],
   "source": [
    "@expression(fm, first_cost, sum(plant_cost[c]*x[c] for c in crops));             # Deterministic objective"
   ]
  },
  {
   "cell_type": "markdown",
   "metadata": {},
   "source": [
    "### Define $2^{nd}$-stage problem (dependent of weather realisations)"
   ]
  },
  {
   "cell_type": "markdown",
   "metadata": {},
   "source": [
    "Variables"
   ]
  },
  {
   "cell_type": "code",
   "execution_count": 44,
   "metadata": {},
   "outputs": [],
   "source": [
    "@variable(fm, y[c in crops, s in scenarios] >= 0)                                # Quantity sold below the quota\n",
    "@variable(fm, w[c in crops, s in scenarios] >= 0)                                # Quantity sold above the quota (restricted by the max quota)\n",
    "@variable(fm, z[c in crops, s in scenarios] >= 0);                               # Quantity bought"
   ]
  },
  {
   "cell_type": "markdown",
   "metadata": {},
   "source": [
    "Constraints"
   ]
  },
  {
   "cell_type": "code",
   "execution_count": 45,
   "metadata": {},
   "outputs": [],
   "source": [
    "@constraint(fm, [c in crops, s in scenarios],                                    # Constraint defined in crops and scenarios\n",
    "    x[c]*(mean_yield[c]*(1+yield_sto[s])) + z[c,s] -                             # Production + bought\n",
    "    y[c,s] - w[c,s] >=                                                           # Amount of crops sold below and above quota\n",
    "    min_qt[c])                                                                   # Minimum required for cattle feeding\n",
    "\n",
    "@constraint(fm, [c in crops,s in scenarios],                                     # Constraint defined in crops and scenarios\n",
    "    y[c,s] <= quota_max[c]);                                                     # Quantity below quota follows the limit"
   ]
  },
  {
   "cell_type": "markdown",
   "metadata": {},
   "source": [
    "Second-stage costs: the expected value of the profit coming from selling crops."
   ]
  },
  {
   "cell_type": "code",
   "execution_count": 46,
   "metadata": {},
   "outputs": [],
   "source": [
    "@expression(fm, second_cost,\n",
    "            sum((buy_price[c]*z[c,s] -\n",
    "            sell_quota[c]*y[c,s] - sell_above[c]*w[c,s])*prob1[s] for c in crops, s in scenarios));"
   ]
  },
  {
   "cell_type": "code",
   "execution_count": 47,
   "metadata": {},
   "outputs": [
    {
     "data": {
      "text/latex": [
       "$$ 79.33333333333333 z_{wheat,good} - 56.666666666666664 y_{wheat,good} + 79.33333333333333 z_{wheat,fair} - 56.666666666666664 y_{wheat,fair} + 79.33333333333333 z_{wheat,bad} - 56.666666666666664 y_{wheat,bad} + 70 z_{corn,good} - 50 y_{corn,good} + 70 z_{corn,fair} - 50 y_{corn,fair} + 70 z_{corn,bad} - 50 y_{corn,bad} + 333.3333333333333 z_{sugar_beet,good} - 12 y_{sugar_beet,good} - 3.333333333333333 w_{sugar_beet,good} + 333.3333333333333 z_{sugar_beet,fair} - 12 y_{sugar_beet,fair} - 3.333333333333333 w_{sugar_beet,fair} + 333.3333333333333 z_{sugar_beet,bad} - 12 y_{sugar_beet,bad} - 3.333333333333333 w_{sugar_beet,bad} $$"
      ],
      "text/plain": [
       "79.33333333333333 z[wheat,good] - 56.666666666666664 y[wheat,good] + 79.33333333333333 z[wheat,fair] - 56.666666666666664 y[wheat,fair] + 79.33333333333333 z[wheat,bad] - 56.666666666666664 y[wheat,bad] + 70 z[corn,good] - 50 y[corn,good] + 70 z[corn,fair] - 50 y[corn,fair] + 70 z[corn,bad] - 50 y[corn,bad] + 333.3333333333333 z[sugar_beet,good] - 12 y[sugar_beet,good] - 3.333333333333333 w[sugar_beet,good] + 333.3333333333333 z[sugar_beet,fair] - 12 y[sugar_beet,fair] - 3.333333333333333 w[sugar_beet,fair] + 333.3333333333333 z[sugar_beet,bad] - 12 y[sugar_beet,bad] - 3.333333333333333 w[sugar_beet,bad]"
      ]
     },
     "execution_count": 47,
     "metadata": {},
     "output_type": "execute_result"
    }
   ],
   "source": [
    "second_cost"
   ]
  },
  {
   "cell_type": "markdown",
   "metadata": {},
   "source": [
    "### Objective function"
   ]
  },
  {
   "cell_type": "code",
   "execution_count": 32,
   "metadata": {},
   "outputs": [
    {
     "name": "stdout",
     "output_type": "stream",
     "text": [
      "Min 150 x[wheat] + 230 x[corn] + 260 x[sugar_beet] + 59.5 z[wheat,good] - 42.5 y[wheat,good] + 59.5 z[wheat,fair] - 42.5 y[wheat,fair] + 119 z[wheat,bad] - 85 y[wheat,bad] + 52.5 z[corn,good] - 37.5 y[corn,good] + 52.5 z[corn,fair] - 37.5 y[corn,fair] + 105 z[corn,bad] - 75 y[corn,bad] + 250 z[sugar_beet,good] - 9 y[sugar_beet,good] - 2.5 w[sugar_beet,good] + 250 z[sugar_beet,fair] - 9 y[sugar_beet,fair] - 2.5 w[sugar_beet,fair] + 500 z[sugar_beet,bad] - 18 y[sugar_beet,bad] - 5 w[sugar_beet,bad]\n",
      "Subject to\n",
      " 3 x[wheat] - y[wheat,good] - w[wheat,good] + z[wheat,good] >= 200.0\n",
      " 3.6 x[corn] - y[corn,good] - w[corn,good] + z[corn,good] >= 240.0\n",
      " 24 x[sugar_beet] - y[sugar_beet,good] - w[sugar_beet,good] + z[sugar_beet,good] >= 0.0\n",
      " 2.5 x[wheat] - y[wheat,fair] - w[wheat,fair] + z[wheat,fair] >= 200.0\n",
      " 3 x[corn] - y[corn,fair] - w[corn,fair] + z[corn,fair] >= 240.0\n",
      " 20 x[sugar_beet] - y[sugar_beet,fair] - w[sugar_beet,fair] + z[sugar_beet,fair] >= 0.0\n",
      " 2 x[wheat] - y[wheat,bad] - w[wheat,bad] + z[wheat,bad] >= 200.0\n",
      " 2.4 x[corn] - y[corn,bad] - w[corn,bad] + z[corn,bad] >= 240.0\n",
      " 16 x[sugar_beet] - y[sugar_beet,bad] - w[sugar_beet,bad] + z[sugar_beet,bad] >= 0.0\n",
      " x[wheat] + x[corn] + x[sugar_beet] <= 500.0\n",
      " y[wheat,good] <= 200000.0\n",
      " y[corn,good] <= 200000.0\n",
      " y[sugar_beet,good] <= 6000.0\n",
      " y[wheat,fair] <= 200000.0\n",
      " y[corn,fair] <= 200000.0\n",
      " y[sugar_beet,fair] <= 6000.0\n",
      " y[wheat,bad] <= 200000.0\n",
      " y[corn,bad] <= 200000.0\n",
      " y[sugar_beet,bad] <= 6000.0\n",
      " x[wheat] >= 0.0\n",
      " x[corn] >= 0.0\n",
      " x[sugar_beet] >= 0.0\n",
      " y[wheat,good] >= 0.0\n",
      " y[corn,good] >= 0.0\n",
      " y[sugar_beet,good] >= 0.0\n",
      " y[wheat,fair] >= 0.0\n",
      " y[corn,fair] >= 0.0\n",
      " y[sugar_beet,fair] >= 0.0\n",
      " y[wheat,bad] >= 0.0\n",
      " y[corn,bad] >= 0.0\n",
      " y[sugar_beet,bad] >= 0.0\n",
      " w[wheat,good] >= 0.0\n",
      " w[corn,good] >= 0.0\n",
      " w[sugar_beet,good] >= 0.0\n",
      " w[wheat,fair] >= 0.0\n",
      " w[corn,fair] >= 0.0\n",
      " w[sugar_beet,fair] >= 0.0\n",
      " w[wheat,bad] >= 0.0\n",
      " w[corn,bad] >= 0.0\n",
      " w[sugar_beet,bad] >= 0.0\n",
      " z[wheat,good] >= 0.0\n",
      " z[corn,good] >= 0.0\n",
      " z[sugar_beet,good] >= 0.0\n",
      " z[wheat,fair] >= 0.0\n",
      " z[corn,fair] >= 0.0\n",
      " z[sugar_beet,fair] >= 0.0\n",
      " z[wheat,bad] >= 0.0\n",
      " z[corn,bad] >= 0.0\n",
      " z[sugar_beet,bad] >= 0.0\n"
     ]
    }
   ],
   "source": [
    "@objective(fm, Min, first_cost + second_cost);\n",
    "\n",
    "# Checking the model\n",
    "print(fm)"
   ]
  },
  {
   "cell_type": "markdown",
   "metadata": {},
   "source": [
    "**Solving it**"
   ]
  },
  {
   "cell_type": "code",
   "execution_count": 33,
   "metadata": {},
   "outputs": [
    {
     "name": "stdout",
     "output_type": "stream",
     "text": [
      "Welcome to the CBC MILP Solver \n",
      "Version: 2.10.3 \n",
      "Build Date: Jan  1 1970 \n",
      "\n",
      "command line - Cbc_C_Interface -solve -quit (default strategy 1)\n",
      "Presolve 10 (-9) rows, 24 (-6) columns and 33 (-15) elements\n",
      "0  Obj 0 Primal inf 493.33333 (6) Dual inf 1705.25 (12)\n",
      "0  Obj 0 Primal inf 493.33333 (6) Dual inf 1.2e+11 (14)\n",
      "12  Obj -94525\n",
      "Optimal - objective value -94525\n",
      "After Postsolve, objective -94525, infeasibilities - dual 0 (0), primal 0 (0)\n",
      "Optimal objective -94525 - 12 iterations time 0.002, Presolve 0.00\n",
      "Total time (CPU seconds):       0.00   (Wallclock seconds):       0.00\n",
      "\n"
     ]
    }
   ],
   "source": [
    "optimize!(fm);"
   ]
  },
  {
   "cell_type": "markdown",
   "metadata": {},
   "source": [
    "Storing results"
   ]
  },
  {
   "cell_type": "code",
   "execution_count": 34,
   "metadata": {},
   "outputs": [],
   "source": [
    "sol_plant = round.(value.(x),digits=2)          # Areas planted\n",
    "sol_bought = round.(value.(z),digits=2)         # Quantities bought\n",
    "sol_sold_bq = round.(value.(y),digits=2)        # Sold below quota\n",
    "sol_sold_aq = round.(value.(w),digits=2);       # Sold above quota"
   ]
  },
  {
   "cell_type": "markdown",
   "metadata": {},
   "source": [
    "Printing optimal solution"
   ]
  },
  {
   "cell_type": "code",
   "execution_count": 35,
   "metadata": {},
   "outputs": [
    {
     "name": "stdout",
     "output_type": "stream",
     "text": [
      "\n",
      " The area for wheat planted was: 100.0 acres\n",
      "The quantity of wheat sold below quota in a good yield would be: 100.0\n",
      "The quantity of wheat sold below quota in a fair yield would be: 50.0\n",
      "\n",
      " The area for corn planted was: 100.0 acres\n",
      "The quantity of corn sold below quota in a good yield would be: 120.0\n",
      "The quantity of corn sold below quota in a fair yield would be: 60.0\n",
      "\n",
      " The area for sugar_beet planted was: 300.0 acres\n",
      "The quantity of sugar_beet sold below quota in a good yield would be: 6000.0\n",
      "The quantity of sugar_beet sold above quota in a good yield would be: 1200.0\n",
      "The quantity of sugar_beet sold below quota in a fair yield would be: 6000.0\n",
      "The quantity of sugar_beet sold below quota in a bad yield would be: 4800.0\n"
     ]
    }
   ],
   "source": [
    "for c in crops\n",
    "    if sol_plant[c]>0\n",
    "        println(\"\\n The area for $c planted was: \",sol_plant[c],\" acres\")\n",
    "    end\n",
    "    for s in scenarios\n",
    "        if sol_bought[c,s]>0\n",
    "            println(\"The quantity of $c bought in a $s yield would be: \", sol_bought[c,s])\n",
    "        end\n",
    "        if sol_sold_bq[c,s]>0\n",
    "            println(\"The quantity of $c sold below quota in a $s yield would be: \", sol_sold_bq[c,s])\n",
    "        end\n",
    "        if sol_sold_aq[c,s]>0\n",
    "            println(\"The quantity of $c sold above quota in a $s yield would be: \", sol_sold_aq[c,s])\n",
    "        end\n",
    "    end\n",
    "end"
   ]
  },
  {
   "cell_type": "markdown",
   "metadata": {},
   "source": [
    "## Comparison between stochastic and deterministic formulations"
   ]
  },
  {
   "cell_type": "markdown",
   "metadata": {},
   "source": [
    "Differences between solutions"
   ]
  },
  {
   "cell_type": "code",
   "execution_count": 155,
   "metadata": {},
   "outputs": [
    {
     "name": "stdout",
     "output_type": "stream",
     "text": [
      "\n",
      " The area difference for wheat planted would be: -20.0 acres\n",
      "The difference of wheat sold below quota in a fair yield would be: -50.0\n",
      "The difference of wheat sold below quota in a bad yield would be: -100.0\n",
      "\n",
      " The area difference for corn planted would be: 20.0 acres\n",
      "The difference of corn sold below quota in a good yield would be: 120.0\n",
      "The difference of corn sold below quota in a fair yield would be: 60.0\n",
      "\n",
      "\n",
      "The difference of sugar_beet sold above quota in a good yield would be: 1200.0\n",
      "The difference of sugar_beet sold below quota in a bad yield would be: -1200.0\n"
     ]
    }
   ],
   "source": [
    "for c in crops\n",
    "    if sol_plant[c] - sol_plant_mean[c]!=0\n",
    "        println(\"\\n The area difference for $c planted would be: \",sol_plant[c] - sol_plant_mean[c],\" acres\")\n",
    "    else\n",
    "        println(\"\\n\")\n",
    "    end\n",
    "    for s in scenarios\n",
    "        if sol_bought[c,s] - sol_bought_mean[c]!=0\n",
    "            println(\"The difference of $c bought in a $s yield would be: \", sol_bought[c,s] - sol_bought_mean[c])\n",
    "        end\n",
    "        if sol_sold_bq[c,s] - sol_sold_bq_mean[c]!=0\n",
    "            println(\"The difference of $c sold below quota in a $s yield would be: \", sol_sold_bq[c,s] - sol_sold_bq_mean[c])\n",
    "        end\n",
    "        if sol_sold_aq[c,s] - sol_sold_aq_mean[c]!=0\n",
    "            println(\"The difference of $c sold above quota in a $s yield would be: \", sol_sold_aq[c,s] - sol_sold_aq_mean[c])\n",
    "        end\n",
    "    end\n",
    "end"
   ]
  }
 ],
 "metadata": {
  "kernelspec": {
   "display_name": "Julia 1.5.4",
   "language": "julia",
   "name": "julia-1.5"
  },
  "language_info": {
   "file_extension": ".jl",
   "mimetype": "application/julia",
   "name": "julia",
   "version": "1.5.4"
  }
 },
 "nbformat": 4,
 "nbformat_minor": 4
}
