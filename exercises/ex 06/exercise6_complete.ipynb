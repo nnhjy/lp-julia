{
 "cells": [
  {
   "cell_type": "markdown",
   "metadata": {},
   "source": [
    "# MS-E2121 Exercise session 6"
   ]
  },
  {
   "cell_type": "markdown",
   "metadata": {},
   "source": [
    "### Problem 6.1: Sensitivity analysis in the RHS"
   ]
  },
  {
   "cell_type": "markdown",
   "metadata": {},
   "source": [
    "Consider the following LP and its optimal tableau below:\n",
    "\n",
    "\\begin{matrix}\n",
    "\t\tmin         &  -2x_1  & - &   x_2  & + &  x_3  &       &    \\\\\n",
    "\t\ts.t.        &    x_1  & + &  2x_2  & + &  x_3  &  \\leq & 8  \\\\\n",
    "\t\t            &   -x_1  & + &   x_2  & - & 2x_3  &  \\leq & 4  \\\\\n",
    "\t\t            &   3x_1  & + &   x_2  &   &       &  \\leq & 10 \\\\\n",
    "            &    x_1, x_2, x_3  & \\geq & 0   \n",
    "\\end{matrix}\n",
    "\n",
    "<br/>\n",
    "\n",
    "\\begin{matrix}\n",
    "      & | & \\text{RHS} & | &    x_1 &   x_2 &   x_3  &   x_4  &   x_5  &   x_6  \\\\\n",
    " z=   & | &       -7.6 & | &      0 &     0 &   1.2  &   0.2  &     0  &   0.6  \\\\\n",
    " --   & | &        --- & | &    --- &   --- &   ---  &   ---  &    --- &    --- \\\\\n",
    "x_1 = & | &        2.4 & | &      1 &     0 &  -0.2  &  -0.2  &     0  &   0.4  \\\\\n",
    "x_2 = & | &        2.8 & | &      0 &     1 &   0.6  &   0.6  &     0  &  -0.2  \\\\\n",
    "x_5 = & | &        3.6 & | &      0 &     0 &  -2.8  &  -0.8  &     1  &   0.6  \\\\\n",
    "\\end{matrix}"
   ]
  },
  {
   "cell_type": "markdown",
   "metadata": {},
   "source": [
    "(a) If you were to choose between increasing in 1 unit the right hand side (RHS) of any constraints, which one would you choose, and why? What is the effect of the increase on the optimal cost? <br/>\n",
    "<br/>\n",
    "(b) Perform a sensitivity analysis on the model to discover what is the range of alteration in the RHS in which the same effect calculated in item (a) can be expected. *HINT*: JuMP 0.21.6 and above includes the function ``lp_sensitivity_report()`` that you can use to help performing the analysis."
   ]
  },
  {
   "cell_type": "code",
   "execution_count": 1,
   "metadata": {},
   "outputs": [],
   "source": [
    "using JuMP, GLPK"
   ]
  },
  {
   "cell_type": "markdown",
   "metadata": {},
   "source": [
    "Matrices A, b, and c:"
   ]
  },
  {
   "cell_type": "code",
   "execution_count": 2,
   "metadata": {},
   "outputs": [],
   "source": [
    "A = [ 1  2  1  1  0  0;\n",
    "     -1  1 -2  0  1  0;\n",
    "      3  1  0  0  0  1]\n",
    "\n",
    "b = [8 ; 4 ; 10]\n",
    "c = [-2 ; -1 ; 1 ; 0 ; 0 ; 0];"
   ]
  },
  {
   "cell_type": "markdown",
   "metadata": {},
   "source": [
    "Using the optimal solution presented in the optimal tableau ($x_1 = 2.4$, $x_2 = 2.8$, $x_5 = 3.6$), we can check what is the optimal basis. Additionally, columns $A_4$, $A_5$, and $A_6$ stand for the slack variables. "
   ]
  },
  {
   "cell_type": "code",
   "execution_count": 3,
   "metadata": {},
   "outputs": [],
   "source": [
    "Bas = [1,2,5]\n",
    "## Computing invB\n",
    "B = A[:,Bas]\n",
    "invB = inv(B);"
   ]
  },
  {
   "cell_type": "code",
   "execution_count": 4,
   "metadata": {},
   "outputs": [
    {
     "data": {
      "text/plain": [
       "3×3 Array{Float64,2}:\n",
       " -0.2  -0.0   0.4\n",
       "  0.6  -0.0  -0.2\n",
       " -0.8   1.0   0.6"
      ]
     },
     "execution_count": 4,
     "metadata": {},
     "output_type": "execute_result"
    }
   ],
   "source": [
    "invB"
   ]
  },
  {
   "cell_type": "markdown",
   "metadata": {},
   "source": [
    "Using the reduced costs from the optimal tableau, we can derive the duals $p_1, p_2, p_3$ as follows: <br/>\n",
    "<br/>\n",
    "$\\bar{c}_j = c_j - c_B B^{-1} A_j = c_j - p^{\\top}A_j$ <br/>\n",
    "\n",
    "$0.2 = \\bar{c}_4 = c_4 - \\text{p}^{\\top}\\text{A}_4 = 0 - p_1 \\Rightarrow p_1 = -0.2$ <br/>\n",
    "$0 = \\bar{c}_5 = c_5 - \\text{p}^{\\top}\\text{A}_5 = 0 - p_2 \\Rightarrow p_2 = 0$ <br/>\n",
    "$0.6 = \\bar{c}_6 = c_6 - \\text{p}^{\\top}\\text{A}_6 = 0 - p_3 \\Rightarrow p_3 = -0.6$ <br/>"
   ]
  },
  {
   "cell_type": "markdown",
   "metadata": {},
   "source": [
    "Therefore, the effects on the optimal cost for increasing in 1 the RHS of the constraints $c_1, c_2, c_3$ is respectively $(-0.2,0,-0.6)$."
   ]
  },
  {
   "cell_type": "markdown",
   "metadata": {},
   "source": [
    "As shown in Lecture 6, slide 10, the bounds for the RHS alteration $\\delta$ is: <br/>\n",
    "<br/>\n",
    "${max}_{j:g_{ji}>0} \\left( -\\frac{x_{\\text{B(j)}}}{g_{ji}} \\right) \\leq \\delta \\leq {min}_{j:g_{ji}<0} \\left( -\\frac{x_{\\text{B(j)}}}{g_{ji}} \\right)$,\n",
    "\n",
    "where $g_{ji}$ is the element on the $j$th row and $i$th column of $B^{-1}$."
   ]
  },
  {
   "cell_type": "code",
   "execution_count": 5,
   "metadata": {},
   "outputs": [
    {
     "data": {
      "text/plain": [
       "3-element Array{Float64,1}:\n",
       " 2.3999999999999995\n",
       " 2.8\n",
       " 3.5999999999999988"
      ]
     },
     "execution_count": 5,
     "metadata": {},
     "output_type": "execute_result"
    }
   ],
   "source": [
    "x_B = invB*b # Could also just get this from the optimal tableau"
   ]
  },
  {
   "cell_type": "code",
   "execution_count": 6,
   "metadata": {},
   "outputs": [
    {
     "name": "stdout",
     "output_type": "stream",
     "text": [
      "Changes in the RHS for c1 are constrained between [-4.67,4.5].\n",
      "b_1 is thus constrained between [3.33,12.5].\n"
     ]
    }
   ],
   "source": [
    "## Computing the range of changing for the constraint 1\n",
    "bounds = -x_B./invB[:,1]\n",
    "g_pos = invB[:,1] .> 0\n",
    "g_neg = invB[:,1] .< 0\n",
    "\n",
    "lower_bound_1 = maximum(bounds[g_pos])\n",
    "upper_bound_1 = minimum(bounds[g_neg]);\n",
    "\n",
    "println(\"Changes in the RHS for c1 are constrained between [\", round(lower_bound_1,digits=2) , \",\" ,\n",
    "        round(upper_bound_1,digits=2), \"].\" )\n",
    "println(\"b_1 is thus constrained between [\", b[1]+round(lower_bound_1,digits=2) , \",\" ,\n",
    "        b[1]+round(upper_bound_1,digits=2), \"].\" )"
   ]
  },
  {
   "cell_type": "code",
   "execution_count": 7,
   "metadata": {},
   "outputs": [
    {
     "name": "stdout",
     "output_type": "stream",
     "text": [
      "Changes in the RHS for c3 are constrained between [-6.0,14.0].\n",
      "b_3 is thus constrained between [4.0,24.0].\n"
     ]
    }
   ],
   "source": [
    "## Computing the range of changing for the constraint 3\n",
    "bounds = -x_B./invB[:,3]\n",
    "g_pos = invB[:,3] .> 0\n",
    "g_neg = invB[:,3] .< 0\n",
    "\n",
    "lower_bound_3 = maximum(bounds[g_pos])\n",
    "upper_bound_3 = minimum(bounds[g_neg]);\n",
    "\n",
    "println(\"Changes in the RHS for c3 are constrained between [\", round(lower_bound_3,digits=2) , \",\" ,\n",
    "        round(upper_bound_3,digits=3), \"].\" )\n",
    "println(\"b_3 is thus constrained between [\", b[3]+round(lower_bound_3,digits=2) , \",\" ,\n",
    "        b[3]+round(upper_bound_3,digits=2), \"].\" )"
   ]
  },
  {
   "cell_type": "markdown",
   "metadata": {},
   "source": [
    "We can do the same using JuMP:"
   ]
  },
  {
   "cell_type": "code",
   "execution_count": 8,
   "metadata": {},
   "outputs": [],
   "source": [
    "## Declaring the model\n",
    "model = Model(GLPK.Optimizer);"
   ]
  },
  {
   "cell_type": "code",
   "execution_count": 9,
   "metadata": {},
   "outputs": [],
   "source": [
    "## Developing the LP\n",
    "\n",
    "## Declaring variables\n",
    "@variable(model, x1 >= 0)\n",
    "@variable(model, x2 >= 0)\n",
    "@variable(model, x3 >= 0)\n",
    "\n",
    "## Declaring objective function\n",
    "@objective(model, Min, -2x1 - x2 + x3)\n",
    "\n",
    "## Declaring constraints\n",
    "@constraint(model, con1, x1 + 2x2 + x3 <= 8)\n",
    "@constraint(model, con2, -x1 + x2 -2x3 <= 4)\n",
    "@constraint(model, con3, 3x1 + x2 <= 10);"
   ]
  },
  {
   "cell_type": "code",
   "execution_count": 10,
   "metadata": {},
   "outputs": [
    {
     "name": "stdout",
     "output_type": "stream",
     "text": [
      "OPTIMAL"
     ]
    }
   ],
   "source": [
    "## Solving the LP\n",
    "set_silent(model)\n",
    "optimize!(model)\n",
    "status = termination_status(model);\n",
    "print(status)"
   ]
  },
  {
   "cell_type": "code",
   "execution_count": 11,
   "metadata": {},
   "outputs": [],
   "source": [
    "## Storing the optimal point\n",
    "optimal_point = value.([x1 , x2 , x3]);"
   ]
  },
  {
   "cell_type": "code",
   "execution_count": 12,
   "metadata": {},
   "outputs": [],
   "source": [
    "## Storing the obj function at the original optimal point\n",
    "obj = objective_value(model);"
   ]
  },
  {
   "cell_type": "code",
   "execution_count": 13,
   "metadata": {},
   "outputs": [],
   "source": [
    "## Storing dual relative to each constraint\n",
    "duals = [dual(con1) , dual(con2) , dual(con3)];"
   ]
  },
  {
   "cell_type": "markdown",
   "metadata": {},
   "source": [
    "The function ``lp_sensitivity_report()``, introduced in JuMP 0.21.6, returns objects mapping either the range in which a variable's coefficient in the OF can change without changing the optimal basis or the RHS sensitivity. More details at https://jump.dev/JuMP.jl/dev/reference/solutions/#JuMP.lp_sensitivity_report."
   ]
  },
  {
   "cell_type": "code",
   "execution_count": 14,
   "metadata": {},
   "outputs": [],
   "source": [
    "report = lp_sensitivity_report(model);"
   ]
  },
  {
   "cell_type": "markdown",
   "metadata": {},
   "source": [
    "This sensitivity report includes two dictionaries:\n",
    "- ```rhs``` contains the RHS bounds for each constraint, including nonnegativity constraints\n",
    "- ```objective``` contains the bounds for each objective function coefficient"
   ]
  },
  {
   "cell_type": "code",
   "execution_count": 15,
   "metadata": {},
   "outputs": [
    {
     "name": "stdout",
     "output_type": "stream",
     "text": [
      "Allowable decrease/increase for the RHS of each named constraint:\n",
      "con1 => (-4.67, 4.5)\n",
      "con2 => (-3.6, Inf)\n",
      "con3 => (-6.0, 14.0)\n",
      "\n",
      "Allowable decrease/increase for each objective function coefficient:\n",
      "x2 => (-3.0, 0.33)\n",
      "x1 => (-1.0, 1.5)\n",
      "x3 => (-1.2, Inf)\n"
     ]
    }
   ],
   "source": [
    "println(\"Allowable decrease/increase for the RHS of each named constraint:\")\n",
    "for con in keys(report.rhs)\n",
    "    if name(con) != \"\"\n",
    "        println(\"$(name(con)) => $(round.(report[con],digits=2))\")\n",
    "    end\n",
    "end\n",
    "println(\"\\nAllowable decrease/increase for each objective function coefficient:\")\n",
    "for var in keys(report.objective)\n",
    "    println(\"$(name(var)) => $(round.(report[var],digits=2))\")\n",
    "end"
   ]
  },
  {
   "cell_type": "markdown",
   "metadata": {},
   "source": [
    "We can use this report to print our results in a prettier format:"
   ]
  },
  {
   "cell_type": "code",
   "execution_count": 16,
   "metadata": {},
   "outputs": [
    {
     "name": "stdout",
     "output_type": "stream",
     "text": [
      "Constraint 1 is binding, \n",
      "increasing one unit on the RHS will change the optimal value by -0.2 if b stays between [3.33 , 12.5].\n",
      "Constraint 2 is not binding.\n",
      "Constraint 3 is binding, \n",
      "increasing one unit on the RHS will change the optimal value by -0.6 if b stays between [4.0 , 24.0].\n"
     ]
    }
   ],
   "source": [
    "## Checking how the objective function can be altered with the RHS\n",
    "for i in 1:3\n",
    "    if duals[i] == 0\n",
    "        println(\"Constraint $i is not binding.\")\n",
    "    else\n",
    "        println(\"Constraint $i is binding, \\nincreasing one unit on the RHS will change the optimal value by \", duals[i],\n",
    "            \" if b stays between [\", b[i]+round(report[[con1,con2,con3][i]][1],digits = 2), \" , \", b[i]+round(report[[con1,con2,con3][i]][2],digits = 2), \"].\")\n",
    "    end\n",
    "end"
   ]
  },
  {
   "cell_type": "markdown",
   "metadata": {},
   "source": [
    "### Problem 6.4: Adding a new constraint"
   ]
  },
  {
   "cell_type": "markdown",
   "metadata": {},
   "source": [
    "Given the LP below,\n",
    "\n",
    "\\begin{matrix}\n",
    "\t\tmax         &   2x_1  & + &   x_2  &            \\\\\n",
    "\t\ts.t.        &   2x_1  & + &  2x_2  &  \\leq & 9  \\\\\n",
    "\t\t            &   2x_1  & - &   x_2  &  \\leq & 3  \\\\\n",
    "\t\t            &    x_1  &   &        &  \\leq & 3  \\\\\n",
    "\t\t            &         &   &   x_2  &  \\leq & 4  \\\\\n",
    "                    &    x_1, x_2, x_3  & \\geq & 0   \n",
    "\\end{matrix}"
   ]
  },
  {
   "cell_type": "markdown",
   "metadata": {},
   "source": [
    "(a) Find the primal and dual optimal solutions. *HINT*: You can use complementary slackness to, once having the primal optimum, finding the dual optimal solution. <br/>\n",
    "<br/>\n",
    "(b) Suppose we add a new constraint $6x_1 - x_2 \\leq 6$, classify the primal and dual former optimal points saying if they: (i) keep being optimal ; (ii) turn to be feasible but not optimal ; or (iii) turn infeasible.<br/>\n",
    "<br/>\n",
    "(c) Consider the new problem from item (b), find the new dual optimal point through one dual simplex iteration. After that, find the primal optimum using *complementary slackness*."
   ]
  },
  {
   "cell_type": "code",
   "execution_count": 17,
   "metadata": {},
   "outputs": [],
   "source": [
    "using Plots\n",
    "using LinearAlgebra"
   ]
  },
  {
   "cell_type": "markdown",
   "metadata": {},
   "source": [
    "#### (a)"
   ]
  },
  {
   "cell_type": "code",
   "execution_count": 18,
   "metadata": {},
   "outputs": [],
   "source": [
    "A = [2.0 2.0 ; 2.0 -1.0 ; 1.0 0.0 ; 0.0 1.0]           # Constraints coefficients matrix\n",
    "b = [9.0 ; 3.0 ; 3.0 ; 4.0]                            # RHS\n",
    "c = [2.0 ; 1.0];                                       # OF's coefficients"
   ]
  },
  {
   "cell_type": "code",
   "execution_count": 19,
   "metadata": {},
   "outputs": [],
   "source": [
    "## Changing the problem to standard form\n",
    "A_p = Matrix(hcat(A,I(4))) # I(4) is an identity matrix representing the slack variable coefficients\n",
    "b_p = copy(b)              # RHS doesn't change\n",
    "c_p = vcat(-c,zeros(4));   # Slack variables have objective coefficient zero"
   ]
  },
  {
   "cell_type": "code",
   "execution_count": 20,
   "metadata": {},
   "outputs": [],
   "source": [
    "#%\n",
    "## Computing invB\n",
    "Bas_p = [1,2,5,6]\n",
    "B_p = A_p[:,Bas_p]\n",
    "invB_p = inv(B_p);\n",
    "#%"
   ]
  },
  {
   "cell_type": "code",
   "execution_count": 21,
   "metadata": {},
   "outputs": [
    {
     "data": {
      "text/plain": [
       "2-element Array{Float64,1}:\n",
       " 2.5\n",
       " 2.0"
      ]
     },
     "execution_count": 21,
     "metadata": {},
     "output_type": "execute_result"
    }
   ],
   "source": [
    "#%\n",
    "## Computing the primal optimum\n",
    "xB_p = invB_p*b_p              # solution including slack variables values\n",
    "optimal_point_p = xB_p[1:2]    # optimal point in 2D\n",
    "#%"
   ]
  },
  {
   "cell_type": "code",
   "execution_count": 22,
   "metadata": {},
   "outputs": [
    {
     "data": {
      "text/plain": [
       "4-element Array{Float64,1}:\n",
       " -0.6666666666666667\n",
       " -0.3333333333333333\n",
       "  0.0\n",
       "  0.0"
      ]
     },
     "execution_count": 22,
     "metadata": {},
     "output_type": "execute_result"
    }
   ],
   "source": [
    "#%\n",
    "## Computing the dual optimum\n",
    "duals = (c_p[Bas_p]'*invB_p)'\n",
    "#%"
   ]
  },
  {
   "cell_type": "markdown",
   "metadata": {},
   "source": [
    "#### (b)"
   ]
  },
  {
   "cell_type": "markdown",
   "metadata": {},
   "source": [
    "Adding the constraint $6x_1-x_2 \\le 6$, we can see that our primal solution $[2.5, 2]$ does not satisfy the constraint. The primal solution thus turns infeasible. On the dual side, this is equivalent to adding a variable, and we know that does not cause infeasibility. However, since the primal solution becomes infeasible, the corresponding dual solution cannot remain optimal."
   ]
  },
  {
   "cell_type": "markdown",
   "metadata": {},
   "source": [
    "#### (c)"
   ]
  },
  {
   "cell_type": "markdown",
   "metadata": {},
   "source": [
    "New constraint: 6x1 - x2 <= 6"
   ]
  },
  {
   "cell_type": "code",
   "execution_count": 23,
   "metadata": {},
   "outputs": [],
   "source": [
    "## Writing the new constraint coefficient vector\n",
    "#%\n",
    "a_new = [6 ; -1 ; 0 ; 0 ; 0 ; 0];\n",
    "#%"
   ]
  },
  {
   "cell_type": "markdown",
   "metadata": {},
   "source": [
    "New matrix A: \\begin{bmatrix}\n",
    "    \\textbf{A}          & \\textbf{0} \\\\\n",
    "    \\textbf{a}^\\top _{m+1}   &  1\n",
    "\\end{bmatrix}"
   ]
  },
  {
   "cell_type": "code",
   "execution_count": 24,
   "metadata": {},
   "outputs": [
    {
     "data": {
      "text/plain": [
       "5×7 Array{Float64,2}:\n",
       " 2.0   2.0  1.0  0.0  0.0  0.0  0.0\n",
       " 2.0  -1.0  0.0  1.0  0.0  0.0  0.0\n",
       " 1.0   0.0  0.0  0.0  1.0  0.0  0.0\n",
       " 0.0   1.0  0.0  0.0  0.0  1.0  0.0\n",
       " 6.0  -1.0  0.0  0.0  0.0  0.0  1.0"
      ]
     },
     "execution_count": 24,
     "metadata": {},
     "output_type": "execute_result"
    }
   ],
   "source": [
    "## Updating A\n",
    "#%\n",
    "A = hcat( vcat(A_p , a_new') , [zeros(size(A_p)[1]) ; 1] )\n",
    "#%"
   ]
  },
  {
   "cell_type": "markdown",
   "metadata": {},
   "source": [
    "New matrix B: \n",
    "\n",
    "$\\bar{\\text{B}} =$\n",
    "\\begin{bmatrix}\n",
    "    \\text{B}      &  \\text{0} \\\\\n",
    "    \\text{a}^\\top &  1\n",
    "\\end{bmatrix}"
   ]
  },
  {
   "cell_type": "code",
   "execution_count": 25,
   "metadata": {},
   "outputs": [
    {
     "data": {
      "text/plain": [
       "5×5 Array{Float64,2}:\n",
       " 2.0   2.0  0.0  0.0  0.0\n",
       " 2.0  -1.0  0.0  0.0  0.0\n",
       " 1.0   0.0  1.0  0.0  0.0\n",
       " 0.0   1.0  0.0  1.0  0.0\n",
       " 6.0  -1.0  0.0  0.0  1.0"
      ]
     },
     "execution_count": 25,
     "metadata": {},
     "output_type": "execute_result"
    }
   ],
   "source": [
    "## Updating B\n",
    "#%\n",
    "B = hcat( vcat(B_p , a_new[Bas_p]') , [zeros(size(B_p)[1]) ; 1] )\n",
    "#%"
   ]
  },
  {
   "cell_type": "markdown",
   "metadata": {},
   "source": [
    "New matrix invB: \n",
    "\n",
    "$\\bar{\\text{B}}^{\\ -1} =$\n",
    "\\begin{bmatrix}\n",
    "    \\text{B}^{\\ -1}           &  \\text{0} \\\\\n",
    "    -\\text{a}^\\top \\text{B}^{\\ -1}  &   1\n",
    "\\end{bmatrix}"
   ]
  },
  {
   "cell_type": "code",
   "execution_count": 26,
   "metadata": {},
   "outputs": [
    {
     "data": {
      "text/plain": [
       "5×5 Array{Float64,2}:\n",
       "  0.166667   0.333333  0.0  -0.0  0.0\n",
       "  0.333333  -0.333333  0.0  -0.0  0.0\n",
       " -0.166667  -0.333333  1.0  -0.0  0.0\n",
       " -0.333333   0.333333  0.0   1.0  0.0\n",
       " -0.666667  -2.33333   0.0   0.0  1.0"
      ]
     },
     "execution_count": 26,
     "metadata": {},
     "output_type": "execute_result"
    }
   ],
   "source": [
    "## Updating B⁻¹\n",
    "#%\n",
    "invB = hcat( vcat(invB_p , -a_new[Bas_p]'*invB_p) , [zeros(size(invB_p)[1]) ; 1] )\n",
    "#%"
   ]
  },
  {
   "cell_type": "code",
   "execution_count": 27,
   "metadata": {},
   "outputs": [
    {
     "data": {
      "text/plain": [
       "7-element Array{Float64,1}:\n",
       " -2.0\n",
       " -1.0\n",
       "  0.0\n",
       "  0.0\n",
       "  0.0\n",
       "  0.0\n",
       "  0.0"
      ]
     },
     "execution_count": 27,
     "metadata": {},
     "output_type": "execute_result"
    }
   ],
   "source": [
    "## Updating c\n",
    "#%\n",
    "c = [ c_p ; 0 ]\n",
    "#%"
   ]
  },
  {
   "cell_type": "code",
   "execution_count": 28,
   "metadata": {},
   "outputs": [
    {
     "data": {
      "text/plain": [
       "5-element Array{Int64,1}:\n",
       " 1\n",
       " 2\n",
       " 5\n",
       " 6\n",
       " 7"
      ]
     },
     "execution_count": 28,
     "metadata": {},
     "output_type": "execute_result"
    }
   ],
   "source": [
    "## Updating the basis\n",
    "#%\n",
    "Bas = [Bas_p ; 7]\n",
    "#%"
   ]
  },
  {
   "cell_type": "code",
   "execution_count": 29,
   "metadata": {},
   "outputs": [
    {
     "data": {
      "text/plain": [
       "1×7 Adjoint{Float64,Array{Float64,1}}:\n",
       " 0.0  2.22045e-16  0.666667  0.333333  0.0  0.0  0.0"
      ]
     },
     "execution_count": 29,
     "metadata": {},
     "output_type": "execute_result"
    }
   ],
   "source": [
    "## Forming the reduced costs\n",
    "#%\n",
    "cr = c' - c[Bas]'*invB*A\n",
    "#%"
   ]
  },
  {
   "cell_type": "code",
   "execution_count": 30,
   "metadata": {},
   "outputs": [
    {
     "data": {
      "text/plain": [
       "5-element Array{Float64,1}:\n",
       " 9.0\n",
       " 3.0\n",
       " 3.0\n",
       " 4.0\n",
       " 6.0"
      ]
     },
     "execution_count": 30,
     "metadata": {},
     "output_type": "execute_result"
    }
   ],
   "source": [
    "## Updating b\n",
    "#%\n",
    "b = [b_p ; 6]\n",
    "#%"
   ]
  },
  {
   "cell_type": "code",
   "execution_count": 31,
   "metadata": {},
   "outputs": [
    {
     "data": {
      "text/plain": [
       "5-element Array{Float64,1}:\n",
       "  2.5\n",
       "  2.0\n",
       "  0.4999999999999998\n",
       "  2.0\n",
       " -7.0"
      ]
     },
     "execution_count": 31,
     "metadata": {},
     "output_type": "execute_result"
    }
   ],
   "source": [
    "## New solution (with x7 in the basis)\n",
    "#%\n",
    "x_B = invB*b\n",
    "#%"
   ]
  },
  {
   "cell_type": "markdown",
   "metadata": {},
   "source": [
    "#### (c)"
   ]
  },
  {
   "cell_type": "code",
   "execution_count": 32,
   "metadata": {},
   "outputs": [
    {
     "data": {
      "text/plain": [
       "6×8 Array{Float64,2}:\n",
       "  0.0  0.0   0.0   0.67   0.33  0.0  0.0  0.0\n",
       "  2.5  1.0   0.0   0.17   0.33  0.0  0.0  0.0\n",
       "  2.0  0.0   1.0   0.33  -0.33  0.0  0.0  0.0\n",
       "  0.5  0.0  -0.0  -0.17  -0.33  1.0  0.0  0.0\n",
       "  2.0  0.0   0.0  -0.33   0.33  0.0  1.0  0.0\n",
       " -7.0  0.0   0.0  -0.67  -2.33  0.0  0.0  1.0"
      ]
     },
     "execution_count": 32,
     "metadata": {},
     "output_type": "execute_result"
    }
   ],
   "source": [
    "#%\n",
    "## Forming the tableau to analyse the dual simplex direction\n",
    "tableau = round.(hcat([0 ; x_B] , vcat(cr , invB*A)),digits = 2)\n",
    "#%"
   ]
  },
  {
   "cell_type": "markdown",
   "metadata": {},
   "source": [
    "For visualisation:\n",
    "\n",
    "\\begin{equation*}\n",
    "  \\begin{array}{r|c|ccccccc}\n",
    "          &  \\text{RHS} &    x_1 &    x_2 &    x_3 &               x_4 &   x_5  &   x_6  &   x_7   \\\\\n",
    "          &           0 &      0 &      0 &   0.67 &              0.33 &     0  &     0  &     0   \\\\\n",
    "    \\hline\n",
    "    x_1 = &         2.5 &      1 &      0 &   0.17 &              0.33 &     0  &     0  &     0   \\\\\n",
    "    x_2 = &           2 &      0 &      1 &   0.33 &             -0.33 &     0  &     0  &     0   \\\\\n",
    "    x_5 = &         0.5 &      0 &      0 &  -0.17 &             -0.33 &     1  &     0  &     0   \\\\\n",
    "    x_6 = &           2 &      0 &      0 &  -0.33 &              0.33 &     0  &     1  &     0   \\\\\n",
    "    x_7 = &          -7 &      0 &      0 &  -0.67 & \\color{red}{-2.33}&     0  &     0  &     1   \\\\\n",
    "  \\end{array}\n",
    "\\end{equation*}"
   ]
  },
  {
   "cell_type": "code",
   "execution_count": 33,
   "metadata": {},
   "outputs": [],
   "source": [
    "#%\n",
    "## New basis: [1,2,5,6,4]\n",
    "Bas = [1,2,5,6,4]\n",
    "B = A[:,Bas]\n",
    "invB = inv(B);\n",
    "#%"
   ]
  },
  {
   "cell_type": "code",
   "execution_count": 34,
   "metadata": {},
   "outputs": [
    {
     "data": {
      "text/plain": [
       "5-element Array{Float64,1}:\n",
       " 1.5\n",
       " 2.9999999999999996\n",
       " 1.5\n",
       " 1.0000000000000004\n",
       " 3.0"
      ]
     },
     "execution_count": 34,
     "metadata": {},
     "output_type": "execute_result"
    }
   ],
   "source": [
    "#%\n",
    "## Compute and store the new solution\n",
    "x_B = invB*b\n",
    "#%"
   ]
  },
  {
   "cell_type": "code",
   "execution_count": 35,
   "metadata": {},
   "outputs": [
    {
     "data": {
      "text/plain": [
       "1×7 Array{Float64,2}:\n",
       " 0.0  0.0  0.571429  0.0  0.0  0.0  0.142857"
      ]
     },
     "execution_count": 35,
     "metadata": {},
     "output_type": "execute_result"
    }
   ],
   "source": [
    "#%\n",
    "## New optimality check\n",
    "cr = c' .- c[Bas]'*invB*A\n",
    "#%"
   ]
  },
  {
   "cell_type": "code",
   "execution_count": 36,
   "metadata": {},
   "outputs": [
    {
     "data": {
      "text/plain": [
       "2-element Array{Float64,1}:\n",
       " 1.5\n",
       " 3.0"
      ]
     },
     "execution_count": 36,
     "metadata": {},
     "output_type": "execute_result"
    }
   ],
   "source": [
    "#%\n",
    "optimal_point = round.(x_B[1:2], digits=2)\n",
    "#%"
   ]
  },
  {
   "cell_type": "markdown",
   "metadata": {},
   "source": [
    "#### Visualisation"
   ]
  },
  {
   "cell_type": "code",
   "execution_count": 37,
   "metadata": {},
   "outputs": [],
   "source": [
    "#%\n",
    "## Create functions to plot later\n",
    "c1(x) = 4.5 - x                                   # Constraint 1\n",
    "c2(x) = -3 + 2x                                   # Constraint 2\n",
    "c3(x) = -6 + 6x                                   # Constraint 3 (extra constraint)\n",
    "zf1(x) = (dot([2,1], optimal_point_p) - 2x);      # OF (first optimal point)\n",
    "zf2(x) = (dot([2,1], optimal_point) - 2x);        # OF (optimal point after the added constraint)\n",
    "\n",
    "# Range to with the function (constraint) is defined in the plot\n",
    "x = range(0,4,length=2);                          # between [0,4]\n",
    "#%"
   ]
  },
  {
   "cell_type": "code",
   "execution_count": 38,
   "metadata": {},
   "outputs": [],
   "source": [
    "#%\n",
    "## Defining the colors to be used\n",
    "c_blue = palette(:auto)[1]                         # color :1\n",
    "c_orange = palette(:auto)[2]                       # color :2\n",
    "c_green = palette(:auto)[3];                       # color :3\n",
    "#%"
   ]
  },
  {
   "cell_type": "code",
   "execution_count": 39,
   "metadata": {},
   "outputs": [
    {
     "data": {
      "image/svg+xml": [
       "<?xml version=\"1.0\" encoding=\"utf-8\"?>\n",
       "<svg xmlns=\"http://www.w3.org/2000/svg\" xmlns:xlink=\"http://www.w3.org/1999/xlink\" width=\"600\" height=\"500\" viewBox=\"0 0 2400 2000\">\n",
       "<defs>\n",
       "  <clipPath id=\"clip410\">\n",
       "    <rect x=\"0\" y=\"0\" width=\"2400\" height=\"2000\"/>\n",
       "  </clipPath>\n",
       "</defs>\n",
       "<path clip-path=\"url(#clip410)\" d=\"\n",
       "M0 2000 L2400 2000 L2400 0 L0 0  Z\n",
       "  \" fill=\"#ffffff\" fill-rule=\"evenodd\" fill-opacity=\"1\"/>\n",
       "<defs>\n",
       "  <clipPath id=\"clip411\">\n",
       "    <rect x=\"480\" y=\"0\" width=\"1681\" height=\"1681\"/>\n",
       "  </clipPath>\n",
       "</defs>\n",
       "<path clip-path=\"url(#clip410)\" d=\"\n",
       "M187.325 1798.66 L1980.81 1798.66 L1980.81 47.2441 L187.325 47.2441  Z\n",
       "  \" fill=\"#ffffff\" fill-rule=\"evenodd\" fill-opacity=\"1\"/>\n",
       "<defs>\n",
       "  <clipPath id=\"clip412\">\n",
       "    <rect x=\"187\" y=\"47\" width=\"1794\" height=\"1752\"/>\n",
       "  </clipPath>\n",
       "</defs>\n",
       "<polyline clip-path=\"url(#clip412)\" style=\"stroke:#000000; stroke-linecap:butt; stroke-linejoin:round; stroke-width:2; stroke-opacity:0.1; fill:none\" points=\"\n",
       "  187.325,1798.66 187.325,47.2441 \n",
       "  \"/>\n",
       "<polyline clip-path=\"url(#clip412)\" style=\"stroke:#000000; stroke-linecap:butt; stroke-linejoin:round; stroke-width:2; stroke-opacity:0.1; fill:none\" points=\"\n",
       "  747.788,1798.66 747.788,47.2441 \n",
       "  \"/>\n",
       "<polyline clip-path=\"url(#clip412)\" style=\"stroke:#000000; stroke-linecap:butt; stroke-linejoin:round; stroke-width:2; stroke-opacity:0.1; fill:none\" points=\"\n",
       "  1308.25,1798.66 1308.25,47.2441 \n",
       "  \"/>\n",
       "<polyline clip-path=\"url(#clip412)\" style=\"stroke:#000000; stroke-linecap:butt; stroke-linejoin:round; stroke-width:2; stroke-opacity:0.1; fill:none\" points=\"\n",
       "  1868.71,1798.66 1868.71,47.2441 \n",
       "  \"/>\n",
       "<polyline clip-path=\"url(#clip410)\" style=\"stroke:#000000; stroke-linecap:butt; stroke-linejoin:round; stroke-width:4; stroke-opacity:1; fill:none\" points=\"\n",
       "  187.325,1798.66 1980.81,1798.66 \n",
       "  \"/>\n",
       "<polyline clip-path=\"url(#clip410)\" style=\"stroke:#000000; stroke-linecap:butt; stroke-linejoin:round; stroke-width:4; stroke-opacity:1; fill:none\" points=\"\n",
       "  187.325,1798.66 187.325,1779.76 \n",
       "  \"/>\n",
       "<polyline clip-path=\"url(#clip410)\" style=\"stroke:#000000; stroke-linecap:butt; stroke-linejoin:round; stroke-width:4; stroke-opacity:1; fill:none\" points=\"\n",
       "  747.788,1798.66 747.788,1779.76 \n",
       "  \"/>\n",
       "<polyline clip-path=\"url(#clip410)\" style=\"stroke:#000000; stroke-linecap:butt; stroke-linejoin:round; stroke-width:4; stroke-opacity:1; fill:none\" points=\"\n",
       "  1308.25,1798.66 1308.25,1779.76 \n",
       "  \"/>\n",
       "<polyline clip-path=\"url(#clip410)\" style=\"stroke:#000000; stroke-linecap:butt; stroke-linejoin:round; stroke-width:4; stroke-opacity:1; fill:none\" points=\"\n",
       "  1868.71,1798.66 1868.71,1779.76 \n",
       "  \"/>\n",
       "<path clip-path=\"url(#clip410)\" d=\"M187.325 1829.58 Q183.714 1829.58 181.885 1833.14 Q180.08 1836.68 180.08 1843.81 Q180.08 1850.92 181.885 1854.49 Q183.714 1858.03 187.325 1858.03 Q190.959 1858.03 192.765 1854.49 Q194.594 1850.92 194.594 1843.81 Q194.594 1836.68 192.765 1833.14 Q190.959 1829.58 187.325 1829.58 M187.325 1825.87 Q193.135 1825.87 196.191 1830.48 Q199.27 1835.06 199.27 1843.81 Q199.27 1852.54 196.191 1857.15 Q193.135 1861.73 187.325 1861.73 Q181.515 1861.73 178.436 1857.15 Q175.381 1852.54 175.381 1843.81 Q175.381 1835.06 178.436 1830.48 Q181.515 1825.87 187.325 1825.87 Z\" fill=\"#000000\" fill-rule=\"evenodd\" fill-opacity=\"1\" /><path clip-path=\"url(#clip410)\" d=\"M738.17 1857.12 L745.809 1857.12 L745.809 1830.76 L737.498 1832.43 L737.498 1828.17 L745.762 1826.5 L750.438 1826.5 L750.438 1857.12 L758.077 1857.12 L758.077 1861.06 L738.17 1861.06 L738.17 1857.12 Z\" fill=\"#000000\" fill-rule=\"evenodd\" fill-opacity=\"1\" /><path clip-path=\"url(#clip410)\" d=\"M1302.9 1857.12 L1319.22 1857.12 L1319.22 1861.06 L1297.28 1861.06 L1297.28 1857.12 Q1299.94 1854.37 1304.52 1849.74 Q1309.13 1845.09 1310.31 1843.75 Q1312.56 1841.22 1313.44 1839.49 Q1314.34 1837.73 1314.34 1836.04 Q1314.34 1833.28 1312.39 1831.55 Q1310.47 1829.81 1307.37 1829.81 Q1305.17 1829.81 1302.72 1830.57 Q1300.29 1831.34 1297.51 1832.89 L1297.51 1828.17 Q1300.33 1827.03 1302.79 1826.45 Q1305.24 1825.87 1307.28 1825.87 Q1312.65 1825.87 1315.84 1828.56 Q1319.04 1831.25 1319.04 1835.74 Q1319.04 1837.87 1318.23 1839.79 Q1317.44 1841.68 1315.33 1844.28 Q1314.75 1844.95 1311.65 1848.17 Q1308.55 1851.36 1302.9 1857.12 Z\" fill=\"#000000\" fill-rule=\"evenodd\" fill-opacity=\"1\" /><path clip-path=\"url(#clip410)\" d=\"M1872.96 1842.43 Q1876.32 1843.14 1878.19 1845.41 Q1880.09 1847.68 1880.09 1851.01 Q1880.09 1856.13 1876.57 1858.93 Q1873.05 1861.73 1866.57 1861.73 Q1864.4 1861.73 1862.08 1861.29 Q1859.79 1860.87 1857.34 1860.02 L1857.34 1855.5 Q1859.28 1856.64 1861.59 1857.22 Q1863.91 1857.8 1866.43 1857.8 Q1870.83 1857.8 1873.12 1856.06 Q1875.44 1854.32 1875.44 1851.01 Q1875.44 1847.96 1873.28 1846.25 Q1871.15 1844.51 1867.34 1844.51 L1863.31 1844.51 L1863.31 1840.67 L1867.52 1840.67 Q1870.97 1840.67 1872.8 1839.3 Q1874.63 1837.91 1874.63 1835.32 Q1874.63 1832.66 1872.73 1831.25 Q1870.85 1829.81 1867.34 1829.81 Q1865.41 1829.81 1863.21 1830.23 Q1861.02 1830.64 1858.38 1831.52 L1858.38 1827.36 Q1861.04 1826.62 1863.35 1826.25 Q1865.69 1825.87 1867.75 1825.87 Q1873.08 1825.87 1876.18 1828.31 Q1879.28 1830.71 1879.28 1834.83 Q1879.28 1837.7 1877.64 1839.69 Q1875.99 1841.66 1872.96 1842.43 Z\" fill=\"#000000\" fill-rule=\"evenodd\" fill-opacity=\"1\" /><path clip-path=\"url(#clip410)\" d=\"M1088.33 1907.88 L1075.44 1925.22 L1089 1943.52 L1082.09 1943.52 L1071.72 1929.52 L1061.34 1943.52 L1054.43 1943.52 L1068.28 1924.87 L1055.61 1907.88 L1062.52 1907.88 L1071.97 1920.58 L1081.42 1907.88 L1088.33 1907.88 Z\" fill=\"#000000\" fill-rule=\"evenodd\" fill-opacity=\"1\" /><path clip-path=\"url(#clip410)\" d=\"M1096.1 1940.02 L1102.59 1940.02 L1102.59 1920.58 L1095.49 1921.88 L1095.49 1918.19 L1102.81 1916.95 L1107.17 1916.95 L1107.17 1940.02 L1113.7 1940.02 L1113.7 1943.52 L1096.1 1943.52 L1096.1 1940.02 Z\" fill=\"#000000\" fill-rule=\"evenodd\" fill-opacity=\"1\" /><polyline clip-path=\"url(#clip412)\" style=\"stroke:#000000; stroke-linecap:butt; stroke-linejoin:round; stroke-width:2; stroke-opacity:0.1; fill:none\" points=\"\n",
       "  187.325,1798.66 1980.81,1798.66 \n",
       "  \"/>\n",
       "<polyline clip-path=\"url(#clip412)\" style=\"stroke:#000000; stroke-linecap:butt; stroke-linejoin:round; stroke-width:2; stroke-opacity:0.1; fill:none\" points=\"\n",
       "  187.325,1381.66 1980.81,1381.66 \n",
       "  \"/>\n",
       "<polyline clip-path=\"url(#clip412)\" style=\"stroke:#000000; stroke-linecap:butt; stroke-linejoin:round; stroke-width:2; stroke-opacity:0.1; fill:none\" points=\"\n",
       "  187.325,964.652 1980.81,964.652 \n",
       "  \"/>\n",
       "<polyline clip-path=\"url(#clip412)\" style=\"stroke:#000000; stroke-linecap:butt; stroke-linejoin:round; stroke-width:2; stroke-opacity:0.1; fill:none\" points=\"\n",
       "  187.325,547.649 1980.81,547.649 \n",
       "  \"/>\n",
       "<polyline clip-path=\"url(#clip412)\" style=\"stroke:#000000; stroke-linecap:butt; stroke-linejoin:round; stroke-width:2; stroke-opacity:0.1; fill:none\" points=\"\n",
       "  187.325,130.645 1980.81,130.645 \n",
       "  \"/>\n",
       "<polyline clip-path=\"url(#clip410)\" style=\"stroke:#000000; stroke-linecap:butt; stroke-linejoin:round; stroke-width:4; stroke-opacity:1; fill:none\" points=\"\n",
       "  187.325,1798.66 187.325,47.2441 \n",
       "  \"/>\n",
       "<polyline clip-path=\"url(#clip410)\" style=\"stroke:#000000; stroke-linecap:butt; stroke-linejoin:round; stroke-width:4; stroke-opacity:1; fill:none\" points=\"\n",
       "  187.325,1798.66 202.977,1798.66 \n",
       "  \"/>\n",
       "<polyline clip-path=\"url(#clip410)\" style=\"stroke:#000000; stroke-linecap:butt; stroke-linejoin:round; stroke-width:4; stroke-opacity:1; fill:none\" points=\"\n",
       "  187.325,1381.66 202.977,1381.66 \n",
       "  \"/>\n",
       "<polyline clip-path=\"url(#clip410)\" style=\"stroke:#000000; stroke-linecap:butt; stroke-linejoin:round; stroke-width:4; stroke-opacity:1; fill:none\" points=\"\n",
       "  187.325,964.652 202.977,964.652 \n",
       "  \"/>\n",
       "<polyline clip-path=\"url(#clip410)\" style=\"stroke:#000000; stroke-linecap:butt; stroke-linejoin:round; stroke-width:4; stroke-opacity:1; fill:none\" points=\"\n",
       "  187.325,547.649 202.977,547.649 \n",
       "  \"/>\n",
       "<polyline clip-path=\"url(#clip410)\" style=\"stroke:#000000; stroke-linecap:butt; stroke-linejoin:round; stroke-width:4; stroke-opacity:1; fill:none\" points=\"\n",
       "  187.325,130.645 202.977,130.645 \n",
       "  \"/>\n",
       "<path clip-path=\"url(#clip410)\" d=\"M139.381 1784.46 Q135.77 1784.46 133.941 1788.02 Q132.135 1791.56 132.135 1798.69 Q132.135 1805.8 133.941 1809.37 Q135.77 1812.91 139.381 1812.91 Q143.015 1812.91 144.821 1809.37 Q146.649 1805.8 146.649 1798.69 Q146.649 1791.56 144.821 1788.02 Q143.015 1784.46 139.381 1784.46 M139.381 1780.75 Q145.191 1780.75 148.247 1785.36 Q151.325 1789.94 151.325 1798.69 Q151.325 1807.42 148.247 1812.03 Q145.191 1816.61 139.381 1816.61 Q133.571 1816.61 130.492 1812.03 Q127.436 1807.42 127.436 1798.69 Q127.436 1789.94 130.492 1785.36 Q133.571 1780.75 139.381 1780.75 Z\" fill=\"#000000\" fill-rule=\"evenodd\" fill-opacity=\"1\" /><path clip-path=\"url(#clip410)\" d=\"M131.418 1395 L139.057 1395 L139.057 1368.64 L130.747 1370.3 L130.747 1366.04 L139.01 1364.38 L143.686 1364.38 L143.686 1395 L151.325 1395 L151.325 1398.94 L131.418 1398.94 L131.418 1395 Z\" fill=\"#000000\" fill-rule=\"evenodd\" fill-opacity=\"1\" /><path clip-path=\"url(#clip410)\" d=\"M135.006 977.997 L151.325 977.997 L151.325 981.932 L129.381 981.932 L129.381 977.997 Q132.043 975.243 136.626 970.613 Q141.233 965.96 142.413 964.618 Q144.659 962.094 145.538 960.358 Q146.441 958.599 146.441 956.909 Q146.441 954.155 144.497 952.419 Q142.575 950.683 139.473 950.683 Q137.274 950.683 134.821 951.446 Q132.39 952.21 129.612 953.761 L129.612 949.039 Q132.436 947.905 134.89 947.326 Q137.344 946.747 139.381 946.747 Q144.751 946.747 147.946 949.433 Q151.14 952.118 151.14 956.608 Q151.14 958.738 150.33 960.659 Q149.543 962.557 147.436 965.15 Q146.858 965.821 143.756 969.039 Q140.654 972.233 135.006 977.997 Z\" fill=\"#000000\" fill-rule=\"evenodd\" fill-opacity=\"1\" /><path clip-path=\"url(#clip410)\" d=\"M144.196 546.294 Q147.552 547.012 149.427 549.281 Q151.325 551.549 151.325 554.882 Q151.325 559.998 147.807 562.799 Q144.288 565.6 137.807 565.6 Q135.631 565.6 133.316 565.16 Q131.024 564.743 128.571 563.887 L128.571 559.373 Q130.515 560.507 132.83 561.086 Q135.145 561.665 137.668 561.665 Q142.066 561.665 144.358 559.929 Q146.672 558.193 146.672 554.882 Q146.672 551.827 144.52 550.114 Q142.39 548.378 138.571 548.378 L134.543 548.378 L134.543 544.535 L138.756 544.535 Q142.205 544.535 144.034 543.169 Q145.862 541.781 145.862 539.188 Q145.862 536.526 143.964 535.114 Q142.089 533.679 138.571 533.679 Q136.649 533.679 134.45 534.095 Q132.251 534.512 129.612 535.392 L129.612 531.225 Q132.274 530.484 134.589 530.114 Q136.927 529.744 138.987 529.744 Q144.311 529.744 147.413 532.174 Q150.515 534.582 150.515 538.702 Q150.515 541.572 148.872 543.563 Q147.228 545.531 144.196 546.294 Z\" fill=\"#000000\" fill-rule=\"evenodd\" fill-opacity=\"1\" /><path clip-path=\"url(#clip410)\" d=\"M141.742 117.439 L129.936 135.888 L141.742 135.888 L141.742 117.439 M140.515 113.365 L146.395 113.365 L146.395 135.888 L151.325 135.888 L151.325 139.777 L146.395 139.777 L146.395 147.925 L141.742 147.925 L141.742 139.777 L126.14 139.777 L126.14 135.263 L140.515 113.365 Z\" fill=\"#000000\" fill-rule=\"evenodd\" fill-opacity=\"1\" /><path clip-path=\"url(#clip410)\" d=\"M40.2362 918.416 L57.5828 931.307 L75.8842 917.748 L75.8842 924.655 L61.8796 935.031 L75.8842 945.407 L75.8842 952.314 L57.2326 938.468 L40.2362 951.136 L40.2362 944.229 L52.9358 934.776 L40.2362 925.323 L40.2362 918.416 Z\" fill=\"#000000\" fill-rule=\"evenodd\" fill-opacity=\"1\" /><path clip-path=\"url(#clip410)\" d=\"M72.2557 907.085 L72.2557 893.59 L75.8842 893.59 L75.8842 912.624 L72.383 912.624 Q71.3963 911.541 69.6139 909.536 Q59.9062 898.587 56.9144 898.587 Q54.8137 898.587 53.5405 900.242 Q52.2356 901.897 52.2356 904.603 Q52.2356 906.258 52.8085 908.199 Q53.3496 910.141 54.4636 912.433 L50.5486 912.433 Q49.6574 909.982 49.2118 907.881 Q48.7662 905.749 48.7662 903.934 Q48.7662 899.319 50.8669 896.55 Q52.9676 893.781 56.4051 893.781 Q60.8293 893.781 69.8686 904.316 Q71.3963 906.099 72.2557 907.085 Z\" fill=\"#000000\" fill-rule=\"evenodd\" fill-opacity=\"1\" /><polyline clip-path=\"url(#clip412)\" style=\"stroke:#009af9; stroke-linecap:butt; stroke-linejoin:round; stroke-width:4; stroke-opacity:1; fill:none\" points=\"\n",
       "  187.325,-77.857 2429.18,1590.16 \n",
       "  \"/>\n",
       "<polyline clip-path=\"url(#clip412)\" style=\"stroke:#e26f46; stroke-linecap:butt; stroke-linejoin:round; stroke-width:4; stroke-opacity:1; fill:none\" points=\"\n",
       "  187.325,3049.67 2429.18,-286.359 \n",
       "  \"/>\n",
       "<polyline clip-path=\"url(#clip412)\" style=\"stroke:#009af9; stroke-linecap:butt; stroke-linejoin:round; stroke-width:4; stroke-opacity:1; fill:none\" stroke-dasharray=\"16, 10\" points=\"\n",
       "  1868.71,3550.08 1868.71,-1704.17 \n",
       "  \"/>\n",
       "<polyline clip-path=\"url(#clip412)\" style=\"stroke:#009af9; stroke-linecap:butt; stroke-linejoin:round; stroke-width:4; stroke-opacity:1; fill:none\" stroke-dasharray=\"16, 10\" points=\"\n",
       "  -1606.15,130.645 3774.29,130.645 \n",
       "  \"/>\n",
       "<polyline clip-path=\"url(#clip412)\" style=\"stroke:#000000; stroke-linecap:butt; stroke-linejoin:round; stroke-width:4; stroke-opacity:1; fill:none\" stroke-dasharray=\"16, 10\" points=\"\n",
       "  187.325,-1120.37 2429.18,2215.66 \n",
       "  \"/>\n",
       "<circle clip-path=\"url(#clip412)\" cx=\"1588.48\" cy=\"964.652\" r=\"14\" fill=\"#e26f46\" fill-rule=\"evenodd\" fill-opacity=\"1\" stroke=\"#000000\" stroke-opacity=\"1\" stroke-width=\"4\"/>\n",
       "<path clip-path=\"url(#clip410)\" d=\"\n",
       "M2052.99 312.985 L2352.76 312.985 L2352.76 105.625 L2052.99 105.625  Z\n",
       "  \" fill=\"#ffffff\" fill-rule=\"evenodd\" fill-opacity=\"1\"/>\n",
       "<polyline clip-path=\"url(#clip410)\" style=\"stroke:#000000; stroke-linecap:butt; stroke-linejoin:round; stroke-width:4; stroke-opacity:1; fill:none\" points=\"\n",
       "  2052.99,312.985 2352.76,312.985 2352.76,105.625 2052.99,105.625 2052.99,312.985 \n",
       "  \"/>\n",
       "<polyline clip-path=\"url(#clip410)\" style=\"stroke:#009af9; stroke-linecap:butt; stroke-linejoin:round; stroke-width:4; stroke-opacity:1; fill:none\" points=\"\n",
       "  2077.05,157.465 2221.41,157.465 \n",
       "  \"/>\n",
       "<path clip-path=\"url(#clip410)\" d=\"M2265.98 149.814 L2265.98 153.796 Q2264.17 152.8 2262.34 152.314 Q2260.54 151.805 2258.69 151.805 Q2254.54 151.805 2252.25 154.444 Q2249.96 157.06 2249.96 161.805 Q2249.96 166.55 2252.25 169.189 Q2254.54 171.805 2258.69 171.805 Q2260.54 171.805 2262.34 171.319 Q2264.17 170.809 2265.98 169.814 L2265.98 173.749 Q2264.2 174.583 2262.27 174.999 Q2260.38 175.416 2258.22 175.416 Q2252.37 175.416 2248.92 171.735 Q2245.47 168.055 2245.47 161.805 Q2245.47 155.462 2248.94 151.828 Q2252.44 148.194 2258.5 148.194 Q2260.47 148.194 2262.34 148.611 Q2264.22 149.004 2265.98 149.814 Z\" fill=\"#000000\" fill-rule=\"evenodd\" fill-opacity=\"1\" /><path clip-path=\"url(#clip410)\" d=\"M2274.8 170.809 L2282.44 170.809 L2282.44 144.444 L2274.13 146.111 L2274.13 141.851 L2282.39 140.185 L2287.07 140.185 L2287.07 170.809 L2294.7 170.809 L2294.7 174.745 L2274.8 174.745 L2274.8 170.809 Z\" fill=\"#000000\" fill-rule=\"evenodd\" fill-opacity=\"1\" /><polyline clip-path=\"url(#clip410)\" style=\"stroke:#e26f46; stroke-linecap:butt; stroke-linejoin:round; stroke-width:4; stroke-opacity:1; fill:none\" points=\"\n",
       "  2077.05,209.305 2221.41,209.305 \n",
       "  \"/>\n",
       "<path clip-path=\"url(#clip410)\" d=\"M2265.98 201.654 L2265.98 205.636 Q2264.17 204.64 2262.34 204.154 Q2260.54 203.645 2258.69 203.645 Q2254.54 203.645 2252.25 206.284 Q2249.96 208.9 2249.96 213.645 Q2249.96 218.39 2252.25 221.029 Q2254.54 223.645 2258.69 223.645 Q2260.54 223.645 2262.34 223.159 Q2264.17 222.649 2265.98 221.654 L2265.98 225.589 Q2264.2 226.423 2262.27 226.839 Q2260.38 227.256 2258.22 227.256 Q2252.37 227.256 2248.92 223.575 Q2245.47 219.895 2245.47 213.645 Q2245.47 207.302 2248.94 203.668 Q2252.44 200.034 2258.5 200.034 Q2260.47 200.034 2262.34 200.451 Q2264.22 200.844 2265.98 201.654 Z\" fill=\"#000000\" fill-rule=\"evenodd\" fill-opacity=\"1\" /><path clip-path=\"url(#clip410)\" d=\"M2278.01 222.649 L2294.33 222.649 L2294.33 226.585 L2272.39 226.585 L2272.39 222.649 Q2275.05 219.895 2279.64 215.265 Q2284.24 210.612 2285.42 209.27 Q2287.67 206.747 2288.55 205.011 Q2289.45 203.251 2289.45 201.562 Q2289.45 198.807 2287.51 197.071 Q2285.58 195.335 2282.48 195.335 Q2280.28 195.335 2277.83 196.099 Q2275.4 196.863 2272.62 198.413 L2272.62 193.691 Q2275.45 192.557 2277.9 191.978 Q2280.35 191.4 2282.39 191.4 Q2287.76 191.4 2290.95 194.085 Q2294.15 196.77 2294.15 201.261 Q2294.15 203.39 2293.34 205.312 Q2292.55 207.21 2290.45 209.802 Q2289.87 210.474 2286.76 213.691 Q2283.66 216.886 2278.01 222.649 Z\" fill=\"#000000\" fill-rule=\"evenodd\" fill-opacity=\"1\" /><polyline clip-path=\"url(#clip410)\" style=\"stroke:#000000; stroke-linecap:butt; stroke-linejoin:round; stroke-width:4; stroke-opacity:1; fill:none\" stroke-dasharray=\"16, 10\" points=\"\n",
       "  2077.05,261.145 2221.41,261.145 \n",
       "  \"/>\n",
       "<path clip-path=\"url(#clip410)\" d=\"M2261.49 247.036 Q2256.39 247.036 2253.39 250.832 Q2250.4 254.628 2250.4 261.179 Q2250.4 267.707 2253.39 271.503 Q2256.39 275.3 2261.49 275.3 Q2266.58 275.3 2269.54 271.503 Q2272.53 267.707 2272.53 261.179 Q2272.53 254.628 2269.54 250.832 Q2266.58 247.036 2261.49 247.036 M2261.49 243.24 Q2268.76 243.24 2273.11 248.124 Q2277.46 252.985 2277.46 261.179 Q2277.46 269.351 2273.11 274.235 Q2268.76 279.096 2261.49 279.096 Q2254.2 279.096 2249.82 274.235 Q2245.47 269.374 2245.47 261.179 Q2245.47 252.985 2249.82 248.124 Q2254.2 243.24 2261.49 243.24 Z\" fill=\"#000000\" fill-rule=\"evenodd\" fill-opacity=\"1\" /><path clip-path=\"url(#clip410)\" d=\"M2284.77 243.865 L2304.64 243.865 L2304.64 247.8 L2289.45 247.8 L2289.45 257.985 L2303.15 257.985 L2303.15 261.92 L2289.45 261.92 L2289.45 278.425 L2284.77 278.425 L2284.77 243.865 Z\" fill=\"#000000\" fill-rule=\"evenodd\" fill-opacity=\"1\" /><path clip-path=\"url(#clip410)\" d=\"M1158.68 943.572 L1158.68 947.556 L1154.1 947.556 Q1151.52 947.556 1150.5 948.598 Q1149.51 949.639 1149.51 952.348 L1149.51 954.926 L1157.4 954.926 L1157.4 958.65 L1149.51 958.65 L1149.51 984.092 L1144.69 984.092 L1144.69 958.65 L1140.11 958.65 L1140.11 954.926 L1144.69 954.926 L1144.69 952.895 Q1144.69 948.025 1146.96 945.811 Q1149.23 943.572 1154.15 943.572 L1158.68 943.572 Z\" fill=\"#000000\" fill-rule=\"evenodd\" fill-opacity=\"1\" /><path clip-path=\"url(#clip410)\" d=\"M1162.69 954.926 L1167.48 954.926 L1167.48 984.092 L1162.69 984.092 L1162.69 954.926 M1162.69 943.572 L1167.48 943.572 L1167.48 949.639 L1162.69 949.639 L1162.69 943.572 Z\" fill=\"#000000\" fill-rule=\"evenodd\" fill-opacity=\"1\" /><path clip-path=\"url(#clip410)\" d=\"M1194.41 959.405 Q1193.6 958.936 1192.64 958.728 Q1191.7 958.494 1190.55 958.494 Q1186.49 958.494 1184.3 961.15 Q1182.14 963.78 1182.14 968.728 L1182.14 984.092 L1177.32 984.092 L1177.32 954.926 L1182.14 954.926 L1182.14 959.457 Q1183.65 956.801 1186.07 955.525 Q1188.5 954.223 1191.96 954.223 Q1192.45 954.223 1193.05 954.301 Q1193.65 954.353 1194.38 954.483 L1194.41 959.405 Z\" fill=\"#000000\" fill-rule=\"evenodd\" fill-opacity=\"1\" /><path clip-path=\"url(#clip410)\" d=\"M1218.03 955.785 L1218.03 960.316 Q1216 959.275 1213.81 958.754 Q1211.62 958.233 1209.28 958.233 Q1205.71 958.233 1203.91 959.327 Q1202.14 960.421 1202.14 962.608 Q1202.14 964.275 1203.42 965.238 Q1204.69 966.176 1208.55 967.035 L1210.19 967.4 Q1215.29 968.493 1217.43 970.499 Q1219.59 972.478 1219.59 976.046 Q1219.59 980.108 1216.36 982.478 Q1213.16 984.848 1207.53 984.848 Q1205.19 984.848 1202.64 984.379 Q1200.11 983.936 1197.3 983.025 L1197.3 978.077 Q1199.95 979.457 1202.53 980.16 Q1205.11 980.837 1207.64 980.837 Q1211.02 980.837 1212.85 979.691 Q1214.67 978.519 1214.67 976.41 Q1214.67 974.457 1213.34 973.415 Q1212.04 972.374 1207.59 971.41 L1205.92 971.019 Q1201.47 970.082 1199.49 968.155 Q1197.51 966.202 1197.51 962.816 Q1197.51 958.702 1200.42 956.462 Q1203.34 954.223 1208.7 954.223 Q1211.36 954.223 1213.7 954.613 Q1216.05 955.004 1218.03 955.785 Z\" fill=\"#000000\" fill-rule=\"evenodd\" fill-opacity=\"1\" /><path clip-path=\"url(#clip410)\" d=\"M1231.96 946.645 L1231.96 954.926 L1241.83 954.926 L1241.83 958.65 L1231.96 958.65 L1231.96 974.483 Q1231.96 978.051 1232.92 979.066 Q1233.91 980.082 1236.91 980.082 L1241.83 980.082 L1241.83 984.092 L1236.91 984.092 Q1231.36 984.092 1229.25 982.035 Q1227.14 979.952 1227.14 974.483 L1227.14 958.65 L1223.63 958.65 L1223.63 954.926 L1227.14 954.926 L1227.14 946.645 L1231.96 946.645 Z\" fill=\"#000000\" fill-rule=\"evenodd\" fill-opacity=\"1\" /><path clip-path=\"url(#clip410)\" d=\"M1276.39 958.285 Q1272.53 958.285 1270.29 961.306 Q1268.05 964.301 1268.05 969.535 Q1268.05 974.769 1270.27 977.79 Q1272.51 980.785 1276.39 980.785 Q1280.21 980.785 1282.45 977.764 Q1284.69 974.743 1284.69 969.535 Q1284.69 964.353 1282.45 961.332 Q1280.21 958.285 1276.39 958.285 M1276.39 954.223 Q1282.64 954.223 1286.2 958.285 Q1289.77 962.348 1289.77 969.535 Q1289.77 976.697 1286.2 980.785 Q1282.64 984.848 1276.39 984.848 Q1270.11 984.848 1266.54 980.785 Q1263 976.697 1263 969.535 Q1263 962.348 1266.54 958.285 Q1270.11 954.223 1276.39 954.223 Z\" fill=\"#000000\" fill-rule=\"evenodd\" fill-opacity=\"1\" /><path clip-path=\"url(#clip410)\" d=\"M1302.35 979.717 L1302.35 995.186 L1297.53 995.186 L1297.53 954.926 L1302.35 954.926 L1302.35 959.353 Q1303.86 956.749 1306.15 955.499 Q1308.47 954.223 1311.67 954.223 Q1316.99 954.223 1320.29 958.441 Q1323.63 962.66 1323.63 969.535 Q1323.63 976.41 1320.29 980.629 Q1316.99 984.848 1311.67 984.848 Q1308.47 984.848 1306.15 983.598 Q1303.86 982.322 1302.35 979.717 M1318.65 969.535 Q1318.65 964.249 1316.46 961.254 Q1314.3 958.233 1310.5 958.233 Q1306.7 958.233 1304.51 961.254 Q1302.35 964.249 1302.35 969.535 Q1302.35 974.822 1304.51 977.842 Q1306.7 980.837 1310.5 980.837 Q1314.3 980.837 1316.46 977.842 Q1318.65 974.822 1318.65 969.535 Z\" fill=\"#000000\" fill-rule=\"evenodd\" fill-opacity=\"1\" /><path clip-path=\"url(#clip410)\" d=\"M1336.31 946.645 L1336.31 954.926 L1346.18 954.926 L1346.18 958.65 L1336.31 958.65 L1336.31 974.483 Q1336.31 978.051 1337.27 979.066 Q1338.26 980.082 1341.26 980.082 L1346.18 980.082 L1346.18 984.092 L1341.26 984.092 Q1335.71 984.092 1333.6 982.035 Q1331.49 979.952 1331.49 974.483 L1331.49 958.65 L1327.97 958.65 L1327.97 954.926 L1331.49 954.926 L1331.49 946.645 L1336.31 946.645 Z\" fill=\"#000000\" fill-rule=\"evenodd\" fill-opacity=\"1\" /><path clip-path=\"url(#clip410)\" d=\"M1352.48 954.926 L1357.27 954.926 L1357.27 984.092 L1352.48 984.092 L1352.48 954.926 M1352.48 943.572 L1357.27 943.572 L1357.27 949.639 L1352.48 949.639 L1352.48 943.572 Z\" fill=\"#000000\" fill-rule=\"evenodd\" fill-opacity=\"1\" /><path clip-path=\"url(#clip410)\" d=\"M1390.01 960.525 Q1391.8 957.296 1394.3 955.759 Q1396.8 954.223 1400.19 954.223 Q1404.75 954.223 1407.22 957.426 Q1409.69 960.603 1409.69 966.488 L1409.69 984.092 L1404.88 984.092 L1404.88 966.645 Q1404.88 962.452 1403.39 960.421 Q1401.91 958.389 1398.86 958.389 Q1395.14 958.389 1392.97 960.863 Q1390.81 963.337 1390.81 967.608 L1390.81 984.092 L1386 984.092 L1386 966.645 Q1386 962.426 1384.51 960.421 Q1383.03 958.389 1379.93 958.389 Q1376.26 958.389 1374.09 960.889 Q1371.93 963.363 1371.93 967.608 L1371.93 984.092 L1367.12 984.092 L1367.12 954.926 L1371.93 954.926 L1371.93 959.457 Q1373.57 956.775 1375.87 955.499 Q1378.16 954.223 1381.31 954.223 Q1384.49 954.223 1386.7 955.837 Q1388.94 957.452 1390.01 960.525 Z\" fill=\"#000000\" fill-rule=\"evenodd\" fill-opacity=\"1\" /><path clip-path=\"url(#clip410)\" d=\"M1432.51 969.431 Q1426.7 969.431 1424.46 970.759 Q1422.22 972.087 1422.22 975.29 Q1422.22 977.842 1423.89 979.353 Q1425.58 980.837 1428.47 980.837 Q1432.45 980.837 1434.85 978.025 Q1437.27 975.186 1437.27 970.499 L1437.27 969.431 L1432.51 969.431 M1442.06 967.452 L1442.06 984.092 L1437.27 984.092 L1437.27 979.665 Q1435.63 982.322 1433.18 983.598 Q1430.73 984.848 1427.19 984.848 Q1422.71 984.848 1420.06 982.348 Q1417.43 979.822 1417.43 975.603 Q1417.43 970.681 1420.71 968.181 Q1424.02 965.681 1430.55 965.681 L1437.27 965.681 L1437.27 965.212 Q1437.27 961.905 1435.08 960.108 Q1432.92 958.285 1428.99 958.285 Q1426.49 958.285 1424.12 958.884 Q1421.75 959.483 1419.56 960.681 L1419.56 956.254 Q1422.19 955.238 1424.67 954.744 Q1427.14 954.223 1429.48 954.223 Q1435.81 954.223 1438.94 957.504 Q1442.06 960.785 1442.06 967.452 Z\" fill=\"#000000\" fill-rule=\"evenodd\" fill-opacity=\"1\" /><path clip-path=\"url(#clip410)\" d=\"M1451.93 943.572 L1456.72 943.572 L1456.72 984.092 L1451.93 984.092 L1451.93 943.572 Z\" fill=\"#000000\" fill-rule=\"evenodd\" fill-opacity=\"1\" /><path clip-path=\"url(#clip410)\" d=\"M1488.34 979.717 L1488.34 995.186 L1483.52 995.186 L1483.52 954.926 L1488.34 954.926 L1488.34 959.353 Q1489.85 956.749 1492.14 955.499 Q1494.46 954.223 1497.66 954.223 Q1502.97 954.223 1506.28 958.441 Q1509.61 962.66 1509.61 969.535 Q1509.61 976.41 1506.28 980.629 Q1502.97 984.848 1497.66 984.848 Q1494.46 984.848 1492.14 983.598 Q1489.85 982.322 1488.34 979.717 M1504.64 969.535 Q1504.64 964.249 1502.45 961.254 Q1500.29 958.233 1496.49 958.233 Q1492.69 958.233 1490.5 961.254 Q1488.34 964.249 1488.34 969.535 Q1488.34 974.822 1490.5 977.842 Q1492.69 980.837 1496.49 980.837 Q1500.29 980.837 1502.45 977.842 Q1504.64 974.822 1504.64 969.535 Z\" fill=\"#000000\" fill-rule=\"evenodd\" fill-opacity=\"1\" /><path clip-path=\"url(#clip410)\" d=\"M1528.86 958.285 Q1525.01 958.285 1522.77 961.306 Q1520.53 964.301 1520.53 969.535 Q1520.53 974.769 1522.74 977.79 Q1524.98 980.785 1528.86 980.785 Q1532.69 980.785 1534.93 977.764 Q1537.17 974.743 1537.17 969.535 Q1537.17 964.353 1534.93 961.332 Q1532.69 958.285 1528.86 958.285 M1528.86 954.223 Q1535.11 954.223 1538.68 958.285 Q1542.24 962.348 1542.24 969.535 Q1542.24 976.697 1538.68 980.785 Q1535.11 984.848 1528.86 984.848 Q1522.58 984.848 1519.02 980.785 Q1515.47 976.697 1515.47 969.535 Q1515.47 962.348 1519.02 958.285 Q1522.58 954.223 1528.86 954.223 Z\" fill=\"#000000\" fill-rule=\"evenodd\" fill-opacity=\"1\" /><path clip-path=\"url(#clip410)\" d=\"M1550.19 954.926 L1554.98 954.926 L1554.98 984.092 L1550.19 984.092 L1550.19 954.926 M1550.19 943.572 L1554.98 943.572 L1554.98 949.639 L1550.19 949.639 L1550.19 943.572 Z\" fill=\"#000000\" fill-rule=\"evenodd\" fill-opacity=\"1\" /><path clip-path=\"url(#clip410)\" d=\"M1589.25 966.488 L1589.25 984.092 L1584.46 984.092 L1584.46 966.645 Q1584.46 962.504 1582.84 960.447 Q1581.23 958.389 1578 958.389 Q1574.12 958.389 1571.88 960.863 Q1569.64 963.337 1569.64 967.608 L1569.64 984.092 L1564.82 984.092 L1564.82 954.926 L1569.64 954.926 L1569.64 959.457 Q1571.36 956.827 1573.68 955.525 Q1576.02 954.223 1579.07 954.223 Q1584.09 954.223 1586.67 957.348 Q1589.25 960.447 1589.25 966.488 Z\" fill=\"#000000\" fill-rule=\"evenodd\" fill-opacity=\"1\" /><path clip-path=\"url(#clip410)\" d=\"M1603.55 946.645 L1603.55 954.926 L1613.42 954.926 L1613.42 958.65 L1603.55 958.65 L1603.55 974.483 Q1603.55 978.051 1604.51 979.066 Q1605.5 980.082 1608.49 980.082 L1613.42 980.082 L1613.42 984.092 L1608.49 984.092 Q1602.95 984.092 1600.84 982.035 Q1598.73 979.952 1598.73 974.483 L1598.73 958.65 L1595.21 958.65 L1595.21 954.926 L1598.73 954.926 L1598.73 946.645 L1603.55 946.645 Z\" fill=\"#000000\" fill-rule=\"evenodd\" fill-opacity=\"1\" /></svg>\n"
      ]
     },
     "execution_count": 39,
     "metadata": {},
     "output_type": "execute_result"
    }
   ],
   "source": [
    "#%\n",
    "## Plotting constraints\n",
    "plot(x, c1.(x),\n",
    "    xaxis = (\"x₁\", (0,3.2)),\n",
    "    yaxis = (\"x₂\", (0,4.2)),\n",
    "    size = (600,500),\n",
    "    label = \"c1\",\n",
    "    legend = :outertopright\n",
    ")\n",
    "plot!(x, c2.(x), label = \"c2\")\n",
    "\n",
    "## Plotting bounds\n",
    "vline!([3], line = :dash, label = \"\", color = c_blue)        # put label as \"\" to not appear in the legend\n",
    "hline!([4], line = :dash, label = \"\", color = c_blue)        \n",
    "\n",
    "## Plotting OF @ optimal point\n",
    "plot!(x, zf1.(x), line = :dash, color = :black, label=\"OF\")\n",
    "\n",
    "## Plotting the optimal point\n",
    "scatter!([optimal_point_p[1]], [optimal_point_p[2]], color = c_orange, label=\"\")\n",
    "annotate!(optimal_point_p[1]-0.8, optimal_point_p[2], (\"first optimal point\", 9, :left))\n",
    "#%"
   ]
  },
  {
   "cell_type": "code",
   "execution_count": 40,
   "metadata": {},
   "outputs": [
    {
     "data": {
      "image/svg+xml": [
       "<?xml version=\"1.0\" encoding=\"utf-8\"?>\n",
       "<svg xmlns=\"http://www.w3.org/2000/svg\" xmlns:xlink=\"http://www.w3.org/1999/xlink\" width=\"600\" height=\"500\" viewBox=\"0 0 2400 2000\">\n",
       "<defs>\n",
       "  <clipPath id=\"clip450\">\n",
       "    <rect x=\"0\" y=\"0\" width=\"2400\" height=\"2000\"/>\n",
       "  </clipPath>\n",
       "</defs>\n",
       "<path clip-path=\"url(#clip450)\" d=\"\n",
       "M0 2000 L2400 2000 L2400 0 L0 0  Z\n",
       "  \" fill=\"#ffffff\" fill-rule=\"evenodd\" fill-opacity=\"1\"/>\n",
       "<defs>\n",
       "  <clipPath id=\"clip451\">\n",
       "    <rect x=\"480\" y=\"0\" width=\"1681\" height=\"1681\"/>\n",
       "  </clipPath>\n",
       "</defs>\n",
       "<path clip-path=\"url(#clip450)\" d=\"\n",
       "M187.325 1798.66 L1980.81 1798.66 L1980.81 47.2441 L187.325 47.2441  Z\n",
       "  \" fill=\"#ffffff\" fill-rule=\"evenodd\" fill-opacity=\"1\"/>\n",
       "<defs>\n",
       "  <clipPath id=\"clip452\">\n",
       "    <rect x=\"187\" y=\"47\" width=\"1794\" height=\"1752\"/>\n",
       "  </clipPath>\n",
       "</defs>\n",
       "<polyline clip-path=\"url(#clip452)\" style=\"stroke:#000000; stroke-linecap:butt; stroke-linejoin:round; stroke-width:2; stroke-opacity:0.1; fill:none\" points=\"\n",
       "  187.325,1798.66 187.325,47.2441 \n",
       "  \"/>\n",
       "<polyline clip-path=\"url(#clip452)\" style=\"stroke:#000000; stroke-linecap:butt; stroke-linejoin:round; stroke-width:2; stroke-opacity:0.1; fill:none\" points=\"\n",
       "  443.537,1798.66 443.537,47.2441 \n",
       "  \"/>\n",
       "<polyline clip-path=\"url(#clip452)\" style=\"stroke:#000000; stroke-linecap:butt; stroke-linejoin:round; stroke-width:2; stroke-opacity:0.1; fill:none\" points=\"\n",
       "  699.748,1798.66 699.748,47.2441 \n",
       "  \"/>\n",
       "<polyline clip-path=\"url(#clip452)\" style=\"stroke:#000000; stroke-linecap:butt; stroke-linejoin:round; stroke-width:2; stroke-opacity:0.1; fill:none\" points=\"\n",
       "  955.959,1798.66 955.959,47.2441 \n",
       "  \"/>\n",
       "<polyline clip-path=\"url(#clip452)\" style=\"stroke:#000000; stroke-linecap:butt; stroke-linejoin:round; stroke-width:2; stroke-opacity:0.1; fill:none\" points=\"\n",
       "  1212.17,1798.66 1212.17,47.2441 \n",
       "  \"/>\n",
       "<polyline clip-path=\"url(#clip452)\" style=\"stroke:#000000; stroke-linecap:butt; stroke-linejoin:round; stroke-width:2; stroke-opacity:0.1; fill:none\" points=\"\n",
       "  1468.38,1798.66 1468.38,47.2441 \n",
       "  \"/>\n",
       "<polyline clip-path=\"url(#clip452)\" style=\"stroke:#000000; stroke-linecap:butt; stroke-linejoin:round; stroke-width:2; stroke-opacity:0.1; fill:none\" points=\"\n",
       "  1724.59,1798.66 1724.59,47.2441 \n",
       "  \"/>\n",
       "<polyline clip-path=\"url(#clip452)\" style=\"stroke:#000000; stroke-linecap:butt; stroke-linejoin:round; stroke-width:2; stroke-opacity:0.1; fill:none\" points=\"\n",
       "  1980.81,1798.66 1980.81,47.2441 \n",
       "  \"/>\n",
       "<polyline clip-path=\"url(#clip450)\" style=\"stroke:#000000; stroke-linecap:butt; stroke-linejoin:round; stroke-width:4; stroke-opacity:1; fill:none\" points=\"\n",
       "  187.325,1798.66 1980.81,1798.66 \n",
       "  \"/>\n",
       "<polyline clip-path=\"url(#clip450)\" style=\"stroke:#000000; stroke-linecap:butt; stroke-linejoin:round; stroke-width:4; stroke-opacity:1; fill:none\" points=\"\n",
       "  187.325,1798.66 187.325,1779.76 \n",
       "  \"/>\n",
       "<polyline clip-path=\"url(#clip450)\" style=\"stroke:#000000; stroke-linecap:butt; stroke-linejoin:round; stroke-width:4; stroke-opacity:1; fill:none\" points=\"\n",
       "  443.537,1798.66 443.537,1779.76 \n",
       "  \"/>\n",
       "<polyline clip-path=\"url(#clip450)\" style=\"stroke:#000000; stroke-linecap:butt; stroke-linejoin:round; stroke-width:4; stroke-opacity:1; fill:none\" points=\"\n",
       "  699.748,1798.66 699.748,1779.76 \n",
       "  \"/>\n",
       "<polyline clip-path=\"url(#clip450)\" style=\"stroke:#000000; stroke-linecap:butt; stroke-linejoin:round; stroke-width:4; stroke-opacity:1; fill:none\" points=\"\n",
       "  955.959,1798.66 955.959,1779.76 \n",
       "  \"/>\n",
       "<polyline clip-path=\"url(#clip450)\" style=\"stroke:#000000; stroke-linecap:butt; stroke-linejoin:round; stroke-width:4; stroke-opacity:1; fill:none\" points=\"\n",
       "  1212.17,1798.66 1212.17,1779.76 \n",
       "  \"/>\n",
       "<polyline clip-path=\"url(#clip450)\" style=\"stroke:#000000; stroke-linecap:butt; stroke-linejoin:round; stroke-width:4; stroke-opacity:1; fill:none\" points=\"\n",
       "  1468.38,1798.66 1468.38,1779.76 \n",
       "  \"/>\n",
       "<polyline clip-path=\"url(#clip450)\" style=\"stroke:#000000; stroke-linecap:butt; stroke-linejoin:round; stroke-width:4; stroke-opacity:1; fill:none\" points=\"\n",
       "  1724.59,1798.66 1724.59,1779.76 \n",
       "  \"/>\n",
       "<polyline clip-path=\"url(#clip450)\" style=\"stroke:#000000; stroke-linecap:butt; stroke-linejoin:round; stroke-width:4; stroke-opacity:1; fill:none\" points=\"\n",
       "  1980.81,1798.66 1980.81,1779.76 \n",
       "  \"/>\n",
       "<path clip-path=\"url(#clip450)\" d=\"M164.71 1829.58 Q161.098 1829.58 159.27 1833.14 Q157.464 1836.68 157.464 1843.81 Q157.464 1850.92 159.27 1854.49 Q161.098 1858.03 164.71 1858.03 Q168.344 1858.03 170.149 1854.49 Q171.978 1850.92 171.978 1843.81 Q171.978 1836.68 170.149 1833.14 Q168.344 1829.58 164.71 1829.58 M164.71 1825.87 Q170.52 1825.87 173.575 1830.48 Q176.654 1835.06 176.654 1843.81 Q176.654 1852.54 173.575 1857.15 Q170.52 1861.73 164.71 1861.73 Q158.899 1861.73 155.821 1857.15 Q152.765 1852.54 152.765 1843.81 Q152.765 1835.06 155.821 1830.48 Q158.899 1825.87 164.71 1825.87 Z\" fill=\"#000000\" fill-rule=\"evenodd\" fill-opacity=\"1\" /><path clip-path=\"url(#clip450)\" d=\"M184.872 1855.18 L189.756 1855.18 L189.756 1861.06 L184.872 1861.06 L184.872 1855.18 Z\" fill=\"#000000\" fill-rule=\"evenodd\" fill-opacity=\"1\" /><path clip-path=\"url(#clip450)\" d=\"M209.941 1829.58 Q206.33 1829.58 204.501 1833.14 Q202.695 1836.68 202.695 1843.81 Q202.695 1850.92 204.501 1854.49 Q206.33 1858.03 209.941 1858.03 Q213.575 1858.03 215.381 1854.49 Q217.209 1850.92 217.209 1843.81 Q217.209 1836.68 215.381 1833.14 Q213.575 1829.58 209.941 1829.58 M209.941 1825.87 Q215.751 1825.87 218.807 1830.48 Q221.885 1835.06 221.885 1843.81 Q221.885 1852.54 218.807 1857.15 Q215.751 1861.73 209.941 1861.73 Q204.131 1861.73 201.052 1857.15 Q197.996 1852.54 197.996 1843.81 Q197.996 1835.06 201.052 1830.48 Q204.131 1825.87 209.941 1825.87 Z\" fill=\"#000000\" fill-rule=\"evenodd\" fill-opacity=\"1\" /><path clip-path=\"url(#clip450)\" d=\"M421.419 1829.58 Q417.808 1829.58 415.979 1833.14 Q414.173 1836.68 414.173 1843.81 Q414.173 1850.92 415.979 1854.49 Q417.808 1858.03 421.419 1858.03 Q425.053 1858.03 426.858 1854.49 Q428.687 1850.92 428.687 1843.81 Q428.687 1836.68 426.858 1833.14 Q425.053 1829.58 421.419 1829.58 M421.419 1825.87 Q427.229 1825.87 430.284 1830.48 Q433.363 1835.06 433.363 1843.81 Q433.363 1852.54 430.284 1857.15 Q427.229 1861.73 421.419 1861.73 Q415.609 1861.73 412.53 1857.15 Q409.474 1852.54 409.474 1843.81 Q409.474 1835.06 412.53 1830.48 Q415.609 1825.87 421.419 1825.87 Z\" fill=\"#000000\" fill-rule=\"evenodd\" fill-opacity=\"1\" /><path clip-path=\"url(#clip450)\" d=\"M441.581 1855.18 L446.465 1855.18 L446.465 1861.06 L441.581 1861.06 L441.581 1855.18 Z\" fill=\"#000000\" fill-rule=\"evenodd\" fill-opacity=\"1\" /><path clip-path=\"url(#clip450)\" d=\"M456.696 1826.5 L475.053 1826.5 L475.053 1830.44 L460.979 1830.44 L460.979 1838.91 Q461.997 1838.56 463.016 1838.4 Q464.034 1838.21 465.053 1838.21 Q470.84 1838.21 474.219 1841.38 Q477.599 1844.56 477.599 1849.97 Q477.599 1855.55 474.127 1858.65 Q470.655 1861.73 464.335 1861.73 Q462.159 1861.73 459.891 1861.36 Q457.645 1860.99 455.238 1860.25 L455.238 1855.55 Q457.321 1856.68 459.543 1857.24 Q461.766 1857.8 464.243 1857.8 Q468.247 1857.8 470.585 1855.69 Q472.923 1853.58 472.923 1849.97 Q472.923 1846.36 470.585 1844.25 Q468.247 1842.15 464.243 1842.15 Q462.368 1842.15 460.493 1842.56 Q458.641 1842.98 456.696 1843.86 L456.696 1826.5 Z\" fill=\"#000000\" fill-rule=\"evenodd\" fill-opacity=\"1\" /><path clip-path=\"url(#clip450)\" d=\"M666.901 1857.12 L674.54 1857.12 L674.54 1830.76 L666.23 1832.43 L666.23 1828.17 L674.494 1826.5 L679.169 1826.5 L679.169 1857.12 L686.808 1857.12 L686.808 1861.06 L666.901 1861.06 L666.901 1857.12 Z\" fill=\"#000000\" fill-rule=\"evenodd\" fill-opacity=\"1\" /><path clip-path=\"url(#clip450)\" d=\"M696.253 1855.18 L701.137 1855.18 L701.137 1861.06 L696.253 1861.06 L696.253 1855.18 Z\" fill=\"#000000\" fill-rule=\"evenodd\" fill-opacity=\"1\" /><path clip-path=\"url(#clip450)\" d=\"M721.322 1829.58 Q717.711 1829.58 715.882 1833.14 Q714.077 1836.68 714.077 1843.81 Q714.077 1850.92 715.882 1854.49 Q717.711 1858.03 721.322 1858.03 Q724.956 1858.03 726.762 1854.49 Q728.59 1850.92 728.59 1843.81 Q728.59 1836.68 726.762 1833.14 Q724.956 1829.58 721.322 1829.58 M721.322 1825.87 Q727.132 1825.87 730.188 1830.48 Q733.266 1835.06 733.266 1843.81 Q733.266 1852.54 730.188 1857.15 Q727.132 1861.73 721.322 1861.73 Q715.512 1861.73 712.433 1857.15 Q709.378 1852.54 709.378 1843.81 Q709.378 1835.06 712.433 1830.48 Q715.512 1825.87 721.322 1825.87 Z\" fill=\"#000000\" fill-rule=\"evenodd\" fill-opacity=\"1\" /><path clip-path=\"url(#clip450)\" d=\"M923.61 1857.12 L931.249 1857.12 L931.249 1830.76 L922.939 1832.43 L922.939 1828.17 L931.203 1826.5 L935.879 1826.5 L935.879 1857.12 L943.517 1857.12 L943.517 1861.06 L923.61 1861.06 L923.61 1857.12 Z\" fill=\"#000000\" fill-rule=\"evenodd\" fill-opacity=\"1\" /><path clip-path=\"url(#clip450)\" d=\"M952.962 1855.18 L957.846 1855.18 L957.846 1861.06 L952.962 1861.06 L952.962 1855.18 Z\" fill=\"#000000\" fill-rule=\"evenodd\" fill-opacity=\"1\" /><path clip-path=\"url(#clip450)\" d=\"M968.077 1826.5 L986.434 1826.5 L986.434 1830.44 L972.36 1830.44 L972.36 1838.91 Q973.378 1838.56 974.397 1838.4 Q975.415 1838.21 976.434 1838.21 Q982.221 1838.21 985.601 1841.38 Q988.98 1844.56 988.98 1849.97 Q988.98 1855.55 985.508 1858.65 Q982.036 1861.73 975.716 1861.73 Q973.54 1861.73 971.272 1861.36 Q969.027 1860.99 966.619 1860.25 L966.619 1855.55 Q968.702 1856.68 970.925 1857.24 Q973.147 1857.8 975.624 1857.8 Q979.628 1857.8 981.966 1855.69 Q984.304 1853.58 984.304 1849.97 Q984.304 1846.36 981.966 1844.25 Q979.628 1842.15 975.624 1842.15 Q973.749 1842.15 971.874 1842.56 Q970.022 1842.98 968.077 1843.86 L968.077 1826.5 Z\" fill=\"#000000\" fill-rule=\"evenodd\" fill-opacity=\"1\" /><path clip-path=\"url(#clip450)\" d=\"M1183.41 1857.12 L1199.73 1857.12 L1199.73 1861.06 L1177.78 1861.06 L1177.78 1857.12 Q1180.45 1854.37 1185.03 1849.74 Q1189.64 1845.09 1190.82 1843.75 Q1193.06 1841.22 1193.94 1839.49 Q1194.84 1837.73 1194.84 1836.04 Q1194.84 1833.28 1192.9 1831.55 Q1190.98 1829.81 1187.88 1829.81 Q1185.68 1829.81 1183.22 1830.57 Q1180.79 1831.34 1178.02 1832.89 L1178.02 1828.17 Q1180.84 1827.03 1183.29 1826.45 Q1185.75 1825.87 1187.78 1825.87 Q1193.15 1825.87 1196.35 1828.56 Q1199.54 1831.25 1199.54 1835.74 Q1199.54 1837.87 1198.73 1839.79 Q1197.95 1841.68 1195.84 1844.28 Q1195.26 1844.95 1192.16 1848.17 Q1189.06 1851.36 1183.41 1857.12 Z\" fill=\"#000000\" fill-rule=\"evenodd\" fill-opacity=\"1\" /><path clip-path=\"url(#clip450)\" d=\"M1209.54 1855.18 L1214.43 1855.18 L1214.43 1861.06 L1209.54 1861.06 L1209.54 1855.18 Z\" fill=\"#000000\" fill-rule=\"evenodd\" fill-opacity=\"1\" /><path clip-path=\"url(#clip450)\" d=\"M1234.61 1829.58 Q1231 1829.58 1229.17 1833.14 Q1227.37 1836.68 1227.37 1843.81 Q1227.37 1850.92 1229.17 1854.49 Q1231 1858.03 1234.61 1858.03 Q1238.25 1858.03 1240.05 1854.49 Q1241.88 1850.92 1241.88 1843.81 Q1241.88 1836.68 1240.05 1833.14 Q1238.25 1829.58 1234.61 1829.58 M1234.61 1825.87 Q1240.42 1825.87 1243.48 1830.48 Q1246.56 1835.06 1246.56 1843.81 Q1246.56 1852.54 1243.48 1857.15 Q1240.42 1861.73 1234.61 1861.73 Q1228.8 1861.73 1225.72 1857.15 Q1222.67 1852.54 1222.67 1843.81 Q1222.67 1835.06 1225.72 1830.48 Q1228.8 1825.87 1234.61 1825.87 Z\" fill=\"#000000\" fill-rule=\"evenodd\" fill-opacity=\"1\" /><path clip-path=\"url(#clip450)\" d=\"M1440.12 1857.12 L1456.44 1857.12 L1456.44 1861.06 L1434.49 1861.06 L1434.49 1857.12 Q1437.16 1854.37 1441.74 1849.74 Q1446.35 1845.09 1447.53 1843.75 Q1449.77 1841.22 1450.65 1839.49 Q1451.55 1837.73 1451.55 1836.04 Q1451.55 1833.28 1449.61 1831.55 Q1447.69 1829.81 1444.59 1829.81 Q1442.39 1829.81 1439.93 1830.57 Q1437.5 1831.34 1434.73 1832.89 L1434.73 1828.17 Q1437.55 1827.03 1440 1826.45 Q1442.46 1825.87 1444.49 1825.87 Q1449.86 1825.87 1453.06 1828.56 Q1456.25 1831.25 1456.25 1835.74 Q1456.25 1837.87 1455.44 1839.79 Q1454.66 1841.68 1452.55 1844.28 Q1451.97 1844.95 1448.87 1848.17 Q1445.77 1851.36 1440.12 1857.12 Z\" fill=\"#000000\" fill-rule=\"evenodd\" fill-opacity=\"1\" /><path clip-path=\"url(#clip450)\" d=\"M1466.25 1855.18 L1471.14 1855.18 L1471.14 1861.06 L1466.25 1861.06 L1466.25 1855.18 Z\" fill=\"#000000\" fill-rule=\"evenodd\" fill-opacity=\"1\" /><path clip-path=\"url(#clip450)\" d=\"M1481.37 1826.5 L1499.72 1826.5 L1499.72 1830.44 L1485.65 1830.44 L1485.65 1838.91 Q1486.67 1838.56 1487.69 1838.4 Q1488.71 1838.21 1489.72 1838.21 Q1495.51 1838.21 1498.89 1841.38 Q1502.27 1844.56 1502.27 1849.97 Q1502.27 1855.55 1498.8 1858.65 Q1495.33 1861.73 1489.01 1861.73 Q1486.83 1861.73 1484.56 1861.36 Q1482.32 1860.99 1479.91 1860.25 L1479.91 1855.55 Q1481.99 1856.68 1484.22 1857.24 Q1486.44 1857.8 1488.91 1857.8 Q1492.92 1857.8 1495.26 1855.69 Q1497.6 1853.58 1497.6 1849.97 Q1497.6 1846.36 1495.26 1844.25 Q1492.92 1842.15 1488.91 1842.15 Q1487.04 1842.15 1485.16 1842.56 Q1483.31 1842.98 1481.37 1843.86 L1481.37 1826.5 Z\" fill=\"#000000\" fill-rule=\"evenodd\" fill-opacity=\"1\" /><path clip-path=\"url(#clip450)\" d=\"M1705.9 1842.43 Q1709.26 1843.14 1711.13 1845.41 Q1713.03 1847.68 1713.03 1851.01 Q1713.03 1856.13 1709.51 1858.93 Q1705.99 1861.73 1699.51 1861.73 Q1697.34 1861.73 1695.02 1861.29 Q1692.73 1860.87 1690.28 1860.02 L1690.28 1855.5 Q1692.22 1856.64 1694.54 1857.22 Q1696.85 1857.8 1699.37 1857.8 Q1703.77 1857.8 1706.06 1856.06 Q1708.38 1854.32 1708.38 1851.01 Q1708.38 1847.96 1706.23 1846.25 Q1704.1 1844.51 1700.28 1844.51 L1696.25 1844.51 L1696.25 1840.67 L1700.46 1840.67 Q1703.91 1840.67 1705.74 1839.3 Q1707.57 1837.91 1707.57 1835.32 Q1707.57 1832.66 1705.67 1831.25 Q1703.8 1829.81 1700.28 1829.81 Q1698.36 1829.81 1696.16 1830.23 Q1693.96 1830.64 1691.32 1831.52 L1691.32 1827.36 Q1693.98 1826.62 1696.3 1826.25 Q1698.63 1825.87 1700.69 1825.87 Q1706.02 1825.87 1709.12 1828.31 Q1712.22 1830.71 1712.22 1834.83 Q1712.22 1837.7 1710.58 1839.69 Q1708.93 1841.66 1705.9 1842.43 Z\" fill=\"#000000\" fill-rule=\"evenodd\" fill-opacity=\"1\" /><path clip-path=\"url(#clip450)\" d=\"M1721.9 1855.18 L1726.78 1855.18 L1726.78 1861.06 L1721.9 1861.06 L1721.9 1855.18 Z\" fill=\"#000000\" fill-rule=\"evenodd\" fill-opacity=\"1\" /><path clip-path=\"url(#clip450)\" d=\"M1746.97 1829.58 Q1743.36 1829.58 1741.53 1833.14 Q1739.72 1836.68 1739.72 1843.81 Q1739.72 1850.92 1741.53 1854.49 Q1743.36 1858.03 1746.97 1858.03 Q1750.6 1858.03 1752.41 1854.49 Q1754.23 1850.92 1754.23 1843.81 Q1754.23 1836.68 1752.41 1833.14 Q1750.6 1829.58 1746.97 1829.58 M1746.97 1825.87 Q1752.78 1825.87 1755.83 1830.48 Q1758.91 1835.06 1758.91 1843.81 Q1758.91 1852.54 1755.83 1857.15 Q1752.78 1861.73 1746.97 1861.73 Q1741.16 1861.73 1738.08 1857.15 Q1735.02 1852.54 1735.02 1843.81 Q1735.02 1835.06 1738.08 1830.48 Q1741.16 1825.87 1746.97 1825.87 Z\" fill=\"#000000\" fill-rule=\"evenodd\" fill-opacity=\"1\" /><path clip-path=\"url(#clip450)\" d=\"M1962.61 1842.43 Q1965.97 1843.14 1967.84 1845.41 Q1969.74 1847.68 1969.74 1851.01 Q1969.74 1856.13 1966.22 1858.93 Q1962.7 1861.73 1956.22 1861.73 Q1954.05 1861.73 1951.73 1861.29 Q1949.44 1860.87 1946.99 1860.02 L1946.99 1855.5 Q1948.93 1856.64 1951.25 1857.22 Q1953.56 1857.8 1956.08 1857.8 Q1960.48 1857.8 1962.77 1856.06 Q1965.09 1854.32 1965.09 1851.01 Q1965.09 1847.96 1962.93 1846.25 Q1960.81 1844.51 1956.99 1844.51 L1952.96 1844.51 L1952.96 1840.67 L1957.17 1840.67 Q1960.62 1840.67 1962.45 1839.3 Q1964.28 1837.91 1964.28 1835.32 Q1964.28 1832.66 1962.38 1831.25 Q1960.5 1829.81 1956.99 1829.81 Q1955.06 1829.81 1952.87 1830.23 Q1950.67 1830.64 1948.03 1831.52 L1948.03 1827.36 Q1950.69 1826.62 1953 1826.25 Q1955.34 1825.87 1957.4 1825.87 Q1962.73 1825.87 1965.83 1828.31 Q1968.93 1830.71 1968.93 1834.83 Q1968.93 1837.7 1967.29 1839.69 Q1965.64 1841.66 1962.61 1842.43 Z\" fill=\"#000000\" fill-rule=\"evenodd\" fill-opacity=\"1\" /><path clip-path=\"url(#clip450)\" d=\"M1978.61 1855.18 L1983.49 1855.18 L1983.49 1861.06 L1978.61 1861.06 L1978.61 1855.18 Z\" fill=\"#000000\" fill-rule=\"evenodd\" fill-opacity=\"1\" /><path clip-path=\"url(#clip450)\" d=\"M1993.72 1826.5 L2012.08 1826.5 L2012.08 1830.44 L1998 1830.44 L1998 1838.91 Q1999.02 1838.56 2000.04 1838.4 Q2001.06 1838.21 2002.08 1838.21 Q2007.87 1838.21 2011.24 1841.38 Q2014.62 1844.56 2014.62 1849.97 Q2014.62 1855.55 2011.15 1858.65 Q2007.68 1861.73 2001.36 1861.73 Q1999.18 1861.73 1996.92 1861.36 Q1994.67 1860.99 1992.26 1860.25 L1992.26 1855.55 Q1994.35 1856.68 1996.57 1857.24 Q1998.79 1857.8 2001.27 1857.8 Q2005.27 1857.8 2007.61 1855.69 Q2009.95 1853.58 2009.95 1849.97 Q2009.95 1846.36 2007.61 1844.25 Q2005.27 1842.15 2001.27 1842.15 Q1999.39 1842.15 1997.52 1842.56 Q1995.67 1842.98 1993.72 1843.86 L1993.72 1826.5 Z\" fill=\"#000000\" fill-rule=\"evenodd\" fill-opacity=\"1\" /><path clip-path=\"url(#clip450)\" d=\"M1088.33 1907.88 L1075.44 1925.22 L1089 1943.52 L1082.09 1943.52 L1071.72 1929.52 L1061.34 1943.52 L1054.43 1943.52 L1068.28 1924.87 L1055.61 1907.88 L1062.52 1907.88 L1071.97 1920.58 L1081.42 1907.88 L1088.33 1907.88 Z\" fill=\"#000000\" fill-rule=\"evenodd\" fill-opacity=\"1\" /><path clip-path=\"url(#clip450)\" d=\"M1096.1 1940.02 L1102.59 1940.02 L1102.59 1920.58 L1095.49 1921.88 L1095.49 1918.19 L1102.81 1916.95 L1107.17 1916.95 L1107.17 1940.02 L1113.7 1940.02 L1113.7 1943.52 L1096.1 1943.52 L1096.1 1940.02 Z\" fill=\"#000000\" fill-rule=\"evenodd\" fill-opacity=\"1\" /><polyline clip-path=\"url(#clip452)\" style=\"stroke:#000000; stroke-linecap:butt; stroke-linejoin:round; stroke-width:2; stroke-opacity:0.1; fill:none\" points=\"\n",
       "  187.325,1798.66 1980.81,1798.66 \n",
       "  \"/>\n",
       "<polyline clip-path=\"url(#clip452)\" style=\"stroke:#000000; stroke-linecap:butt; stroke-linejoin:round; stroke-width:2; stroke-opacity:0.1; fill:none\" points=\"\n",
       "  187.325,1409.46 1980.81,1409.46 \n",
       "  \"/>\n",
       "<polyline clip-path=\"url(#clip452)\" style=\"stroke:#000000; stroke-linecap:butt; stroke-linejoin:round; stroke-width:2; stroke-opacity:0.1; fill:none\" points=\"\n",
       "  187.325,1020.25 1980.81,1020.25 \n",
       "  \"/>\n",
       "<polyline clip-path=\"url(#clip452)\" style=\"stroke:#000000; stroke-linecap:butt; stroke-linejoin:round; stroke-width:2; stroke-opacity:0.1; fill:none\" points=\"\n",
       "  187.325,631.049 1980.81,631.049 \n",
       "  \"/>\n",
       "<polyline clip-path=\"url(#clip452)\" style=\"stroke:#000000; stroke-linecap:butt; stroke-linejoin:round; stroke-width:2; stroke-opacity:0.1; fill:none\" points=\"\n",
       "  187.325,241.846 1980.81,241.846 \n",
       "  \"/>\n",
       "<polyline clip-path=\"url(#clip450)\" style=\"stroke:#000000; stroke-linecap:butt; stroke-linejoin:round; stroke-width:4; stroke-opacity:1; fill:none\" points=\"\n",
       "  187.325,1798.66 187.325,47.2441 \n",
       "  \"/>\n",
       "<polyline clip-path=\"url(#clip450)\" style=\"stroke:#000000; stroke-linecap:butt; stroke-linejoin:round; stroke-width:4; stroke-opacity:1; fill:none\" points=\"\n",
       "  187.325,1798.66 202.977,1798.66 \n",
       "  \"/>\n",
       "<polyline clip-path=\"url(#clip450)\" style=\"stroke:#000000; stroke-linecap:butt; stroke-linejoin:round; stroke-width:4; stroke-opacity:1; fill:none\" points=\"\n",
       "  187.325,1409.46 202.977,1409.46 \n",
       "  \"/>\n",
       "<polyline clip-path=\"url(#clip450)\" style=\"stroke:#000000; stroke-linecap:butt; stroke-linejoin:round; stroke-width:4; stroke-opacity:1; fill:none\" points=\"\n",
       "  187.325,1020.25 202.977,1020.25 \n",
       "  \"/>\n",
       "<polyline clip-path=\"url(#clip450)\" style=\"stroke:#000000; stroke-linecap:butt; stroke-linejoin:round; stroke-width:4; stroke-opacity:1; fill:none\" points=\"\n",
       "  187.325,631.049 202.977,631.049 \n",
       "  \"/>\n",
       "<polyline clip-path=\"url(#clip450)\" style=\"stroke:#000000; stroke-linecap:butt; stroke-linejoin:round; stroke-width:4; stroke-opacity:1; fill:none\" points=\"\n",
       "  187.325,241.846 202.977,241.846 \n",
       "  \"/>\n",
       "<path clip-path=\"url(#clip450)\" d=\"M139.381 1784.46 Q135.77 1784.46 133.941 1788.02 Q132.135 1791.56 132.135 1798.69 Q132.135 1805.8 133.941 1809.37 Q135.77 1812.91 139.381 1812.91 Q143.015 1812.91 144.821 1809.37 Q146.649 1805.8 146.649 1798.69 Q146.649 1791.56 144.821 1788.02 Q143.015 1784.46 139.381 1784.46 M139.381 1780.75 Q145.191 1780.75 148.247 1785.36 Q151.325 1789.94 151.325 1798.69 Q151.325 1807.42 148.247 1812.03 Q145.191 1816.61 139.381 1816.61 Q133.571 1816.61 130.492 1812.03 Q127.436 1807.42 127.436 1798.69 Q127.436 1789.94 130.492 1785.36 Q133.571 1780.75 139.381 1780.75 Z\" fill=\"#000000\" fill-rule=\"evenodd\" fill-opacity=\"1\" /><path clip-path=\"url(#clip450)\" d=\"M131.418 1422.8 L139.057 1422.8 L139.057 1396.44 L130.747 1398.1 L130.747 1393.84 L139.01 1392.18 L143.686 1392.18 L143.686 1422.8 L151.325 1422.8 L151.325 1426.74 L131.418 1426.74 L131.418 1422.8 Z\" fill=\"#000000\" fill-rule=\"evenodd\" fill-opacity=\"1\" /><path clip-path=\"url(#clip450)\" d=\"M135.006 1033.6 L151.325 1033.6 L151.325 1037.53 L129.381 1037.53 L129.381 1033.6 Q132.043 1030.84 136.626 1026.21 Q141.233 1021.56 142.413 1020.22 Q144.659 1017.69 145.538 1015.96 Q146.441 1014.2 146.441 1012.51 Q146.441 1009.76 144.497 1008.02 Q142.575 1006.28 139.473 1006.28 Q137.274 1006.28 134.821 1007.05 Q132.39 1007.81 129.612 1009.36 L129.612 1004.64 Q132.436 1003.51 134.89 1002.93 Q137.344 1002.35 139.381 1002.35 Q144.751 1002.35 147.946 1005.03 Q151.14 1007.72 151.14 1012.21 Q151.14 1014.34 150.33 1016.26 Q149.543 1018.16 147.436 1020.75 Q146.858 1021.42 143.756 1024.64 Q140.654 1027.83 135.006 1033.6 Z\" fill=\"#000000\" fill-rule=\"evenodd\" fill-opacity=\"1\" /><path clip-path=\"url(#clip450)\" d=\"M144.196 629.695 Q147.552 630.413 149.427 632.681 Q151.325 634.95 151.325 638.283 Q151.325 643.399 147.807 646.2 Q144.288 649.001 137.807 649.001 Q135.631 649.001 133.316 648.561 Q131.024 648.144 128.571 647.288 L128.571 642.774 Q130.515 643.908 132.83 644.487 Q135.145 645.065 137.668 645.065 Q142.066 645.065 144.358 643.329 Q146.672 641.593 146.672 638.283 Q146.672 635.228 144.52 633.515 Q142.39 631.779 138.571 631.779 L134.543 631.779 L134.543 627.936 L138.756 627.936 Q142.205 627.936 144.034 626.57 Q145.862 625.181 145.862 622.589 Q145.862 619.927 143.964 618.515 Q142.089 617.08 138.571 617.08 Q136.649 617.08 134.45 617.496 Q132.251 617.913 129.612 618.792 L129.612 614.626 Q132.274 613.885 134.589 613.515 Q136.927 613.144 138.987 613.144 Q144.311 613.144 147.413 615.575 Q150.515 617.982 150.515 622.103 Q150.515 624.973 148.872 626.964 Q147.228 628.931 144.196 629.695 Z\" fill=\"#000000\" fill-rule=\"evenodd\" fill-opacity=\"1\" /><path clip-path=\"url(#clip450)\" d=\"M141.742 228.64 L129.936 247.089 L141.742 247.089 L141.742 228.64 M140.515 224.566 L146.395 224.566 L146.395 247.089 L151.325 247.089 L151.325 250.978 L146.395 250.978 L146.395 259.126 L141.742 259.126 L141.742 250.978 L126.14 250.978 L126.14 246.464 L140.515 224.566 Z\" fill=\"#000000\" fill-rule=\"evenodd\" fill-opacity=\"1\" /><path clip-path=\"url(#clip450)\" d=\"M40.2362 918.416 L57.5828 931.307 L75.8842 917.748 L75.8842 924.655 L61.8796 935.031 L75.8842 945.407 L75.8842 952.314 L57.2326 938.468 L40.2362 951.136 L40.2362 944.229 L52.9358 934.776 L40.2362 925.323 L40.2362 918.416 Z\" fill=\"#000000\" fill-rule=\"evenodd\" fill-opacity=\"1\" /><path clip-path=\"url(#clip450)\" d=\"M72.2557 907.085 L72.2557 893.59 L75.8842 893.59 L75.8842 912.624 L72.383 912.624 Q71.3963 911.541 69.6139 909.536 Q59.9062 898.587 56.9144 898.587 Q54.8137 898.587 53.5405 900.242 Q52.2356 901.897 52.2356 904.603 Q52.2356 906.258 52.8085 908.199 Q53.3496 910.141 54.4636 912.433 L50.5486 912.433 Q49.6574 909.982 49.2118 907.881 Q48.7662 905.749 48.7662 903.934 Q48.7662 899.319 50.8669 896.55 Q52.9676 893.781 56.4051 893.781 Q60.8293 893.781 69.8686 904.316 Q71.3963 906.099 72.2557 907.085 Z\" fill=\"#000000\" fill-rule=\"evenodd\" fill-opacity=\"1\" /><polyline clip-path=\"url(#clip452)\" style=\"stroke:#009af9; stroke-linecap:butt; stroke-linejoin:round; stroke-width:4; stroke-opacity:1; fill:none\" points=\"\n",
       "  187.325,47.2441 2237.02,1604.06 \n",
       "  \"/>\n",
       "<polyline clip-path=\"url(#clip452)\" style=\"stroke:#e26f46; stroke-linecap:butt; stroke-linejoin:round; stroke-width:4; stroke-opacity:1; fill:none\" stroke-dasharray=\"16, 10\" points=\"\n",
       "  187.325,2966.27 2237.02,-147.358 \n",
       "  \"/>\n",
       "<polyline clip-path=\"url(#clip452)\" style=\"stroke:#3da44d; stroke-linecap:butt; stroke-linejoin:round; stroke-width:4; stroke-opacity:1; fill:none\" points=\"\n",
       "  187.325,4133.88 2237.02,-5207 \n",
       "  \"/>\n",
       "<polyline clip-path=\"url(#clip452)\" style=\"stroke:#009af9; stroke-linecap:butt; stroke-linejoin:round; stroke-width:4; stroke-opacity:1; fill:none\" stroke-dasharray=\"16, 10\" points=\"\n",
       "  1724.59,3550.08 1724.59,-1704.17 \n",
       "  \"/>\n",
       "<polyline clip-path=\"url(#clip452)\" style=\"stroke:#009af9; stroke-linecap:butt; stroke-linejoin:round; stroke-width:4; stroke-opacity:1; fill:none\" stroke-dasharray=\"16, 10\" points=\"\n",
       "  -1606.15,241.846 3774.29,241.846 \n",
       "  \"/>\n",
       "<polyline clip-path=\"url(#clip452)\" style=\"stroke:#000000; stroke-linecap:butt; stroke-linejoin:round; stroke-width:4; stroke-opacity:1; fill:none\" stroke-dasharray=\"16, 10\" points=\"\n",
       "  187.325,-536.561 2237.02,2577.07 \n",
       "  \"/>\n",
       "<circle clip-path=\"url(#clip452)\" cx=\"1468.38\" cy=\"1020.25\" r=\"14\" fill=\"#e26f46\" fill-rule=\"evenodd\" fill-opacity=\"1\" stroke=\"#000000\" stroke-opacity=\"1\" stroke-width=\"4\"/>\n",
       "<circle clip-path=\"url(#clip452)\" cx=\"955.959\" cy=\"631.049\" r=\"14\" fill=\"#e26f46\" fill-rule=\"evenodd\" fill-opacity=\"1\" stroke=\"#000000\" stroke-opacity=\"1\" stroke-width=\"4\"/>\n",
       "<path clip-path=\"url(#clip450)\" d=\"\n",
       "M2052.99 364.825 L2352.76 364.825 L2352.76 105.625 L2052.99 105.625  Z\n",
       "  \" fill=\"#ffffff\" fill-rule=\"evenodd\" fill-opacity=\"1\"/>\n",
       "<polyline clip-path=\"url(#clip450)\" style=\"stroke:#000000; stroke-linecap:butt; stroke-linejoin:round; stroke-width:4; stroke-opacity:1; fill:none\" points=\"\n",
       "  2052.99,364.825 2352.76,364.825 2352.76,105.625 2052.99,105.625 2052.99,364.825 \n",
       "  \"/>\n",
       "<polyline clip-path=\"url(#clip450)\" style=\"stroke:#009af9; stroke-linecap:butt; stroke-linejoin:round; stroke-width:4; stroke-opacity:1; fill:none\" points=\"\n",
       "  2077.05,157.465 2221.41,157.465 \n",
       "  \"/>\n",
       "<path clip-path=\"url(#clip450)\" d=\"M2265.98 149.814 L2265.98 153.796 Q2264.17 152.8 2262.34 152.314 Q2260.54 151.805 2258.69 151.805 Q2254.54 151.805 2252.25 154.444 Q2249.96 157.06 2249.96 161.805 Q2249.96 166.55 2252.25 169.189 Q2254.54 171.805 2258.69 171.805 Q2260.54 171.805 2262.34 171.319 Q2264.17 170.809 2265.98 169.814 L2265.98 173.749 Q2264.2 174.583 2262.27 174.999 Q2260.38 175.416 2258.22 175.416 Q2252.37 175.416 2248.92 171.735 Q2245.47 168.055 2245.47 161.805 Q2245.47 155.462 2248.94 151.828 Q2252.44 148.194 2258.5 148.194 Q2260.47 148.194 2262.34 148.611 Q2264.22 149.004 2265.98 149.814 Z\" fill=\"#000000\" fill-rule=\"evenodd\" fill-opacity=\"1\" /><path clip-path=\"url(#clip450)\" d=\"M2274.8 170.809 L2282.44 170.809 L2282.44 144.444 L2274.13 146.111 L2274.13 141.851 L2282.39 140.185 L2287.07 140.185 L2287.07 170.809 L2294.7 170.809 L2294.7 174.745 L2274.8 174.745 L2274.8 170.809 Z\" fill=\"#000000\" fill-rule=\"evenodd\" fill-opacity=\"1\" /><polyline clip-path=\"url(#clip450)\" style=\"stroke:#e26f46; stroke-linecap:butt; stroke-linejoin:round; stroke-width:4; stroke-opacity:1; fill:none\" stroke-dasharray=\"16, 10\" points=\"\n",
       "  2077.05,209.305 2221.41,209.305 \n",
       "  \"/>\n",
       "<path clip-path=\"url(#clip450)\" d=\"M2265.98 201.654 L2265.98 205.636 Q2264.17 204.64 2262.34 204.154 Q2260.54 203.645 2258.69 203.645 Q2254.54 203.645 2252.25 206.284 Q2249.96 208.9 2249.96 213.645 Q2249.96 218.39 2252.25 221.029 Q2254.54 223.645 2258.69 223.645 Q2260.54 223.645 2262.34 223.159 Q2264.17 222.649 2265.98 221.654 L2265.98 225.589 Q2264.2 226.423 2262.27 226.839 Q2260.38 227.256 2258.22 227.256 Q2252.37 227.256 2248.92 223.575 Q2245.47 219.895 2245.47 213.645 Q2245.47 207.302 2248.94 203.668 Q2252.44 200.034 2258.5 200.034 Q2260.47 200.034 2262.34 200.451 Q2264.22 200.844 2265.98 201.654 Z\" fill=\"#000000\" fill-rule=\"evenodd\" fill-opacity=\"1\" /><path clip-path=\"url(#clip450)\" d=\"M2278.01 222.649 L2294.33 222.649 L2294.33 226.585 L2272.39 226.585 L2272.39 222.649 Q2275.05 219.895 2279.64 215.265 Q2284.24 210.612 2285.42 209.27 Q2287.67 206.747 2288.55 205.011 Q2289.45 203.251 2289.45 201.562 Q2289.45 198.807 2287.51 197.071 Q2285.58 195.335 2282.48 195.335 Q2280.28 195.335 2277.83 196.099 Q2275.4 196.863 2272.62 198.413 L2272.62 193.691 Q2275.45 192.557 2277.9 191.978 Q2280.35 191.4 2282.39 191.4 Q2287.76 191.4 2290.95 194.085 Q2294.15 196.77 2294.15 201.261 Q2294.15 203.39 2293.34 205.312 Q2292.55 207.21 2290.45 209.802 Q2289.87 210.474 2286.76 213.691 Q2283.66 216.886 2278.01 222.649 Z\" fill=\"#000000\" fill-rule=\"evenodd\" fill-opacity=\"1\" /><polyline clip-path=\"url(#clip450)\" style=\"stroke:#3da44d; stroke-linecap:butt; stroke-linejoin:round; stroke-width:4; stroke-opacity:1; fill:none\" points=\"\n",
       "  2077.05,261.145 2221.41,261.145 \n",
       "  \"/>\n",
       "<path clip-path=\"url(#clip450)\" d=\"M2265.98 253.494 L2265.98 257.476 Q2264.17 256.48 2262.34 255.994 Q2260.54 255.485 2258.69 255.485 Q2254.54 255.485 2252.25 258.124 Q2249.96 260.74 2249.96 265.485 Q2249.96 270.23 2252.25 272.869 Q2254.54 275.485 2258.69 275.485 Q2260.54 275.485 2262.34 274.999 Q2264.17 274.489 2265.98 273.494 L2265.98 277.429 Q2264.2 278.263 2262.27 278.679 Q2260.38 279.096 2258.22 279.096 Q2252.37 279.096 2248.92 275.415 Q2245.47 271.735 2245.47 265.485 Q2245.47 259.142 2248.94 255.508 Q2252.44 251.874 2258.5 251.874 Q2260.47 251.874 2262.34 252.291 Q2264.22 252.684 2265.98 253.494 Z\" fill=\"#000000\" fill-rule=\"evenodd\" fill-opacity=\"1\" /><path clip-path=\"url(#clip450)\" d=\"M2288.15 259.79 Q2291.51 260.508 2293.39 262.777 Q2295.28 265.045 2295.28 268.378 Q2295.28 273.494 2291.76 276.295 Q2288.25 279.096 2281.76 279.096 Q2279.59 279.096 2277.27 278.656 Q2274.98 278.239 2272.53 277.383 L2272.53 272.869 Q2274.47 274.003 2276.79 274.582 Q2279.1 275.161 2281.63 275.161 Q2286.02 275.161 2288.32 273.425 Q2290.63 271.689 2290.63 268.378 Q2290.63 265.323 2288.48 263.61 Q2286.35 261.874 2282.53 261.874 L2278.5 261.874 L2278.5 258.031 L2282.71 258.031 Q2286.16 258.031 2287.99 256.665 Q2289.82 255.277 2289.82 252.684 Q2289.82 250.022 2287.92 248.61 Q2286.05 247.175 2282.53 247.175 Q2280.61 247.175 2278.41 247.591 Q2276.21 248.008 2273.57 248.888 L2273.57 244.721 Q2276.23 243.98 2278.55 243.61 Q2280.89 243.24 2282.95 243.24 Q2288.27 243.24 2291.37 245.67 Q2294.47 248.078 2294.47 252.198 Q2294.47 255.068 2292.83 257.059 Q2291.19 259.027 2288.15 259.79 Z\" fill=\"#000000\" fill-rule=\"evenodd\" fill-opacity=\"1\" /><polyline clip-path=\"url(#clip450)\" style=\"stroke:#000000; stroke-linecap:butt; stroke-linejoin:round; stroke-width:4; stroke-opacity:1; fill:none\" stroke-dasharray=\"16, 10\" points=\"\n",
       "  2077.05,312.985 2221.41,312.985 \n",
       "  \"/>\n",
       "<path clip-path=\"url(#clip450)\" d=\"M2261.49 298.876 Q2256.39 298.876 2253.39 302.672 Q2250.4 306.468 2250.4 313.019 Q2250.4 319.547 2253.39 323.343 Q2256.39 327.14 2261.49 327.14 Q2266.58 327.14 2269.54 323.343 Q2272.53 319.547 2272.53 313.019 Q2272.53 306.468 2269.54 302.672 Q2266.58 298.876 2261.49 298.876 M2261.49 295.08 Q2268.76 295.08 2273.11 299.964 Q2277.46 304.825 2277.46 313.019 Q2277.46 321.191 2273.11 326.075 Q2268.76 330.936 2261.49 330.936 Q2254.2 330.936 2249.82 326.075 Q2245.47 321.214 2245.47 313.019 Q2245.47 304.825 2249.82 299.964 Q2254.2 295.08 2261.49 295.08 Z\" fill=\"#000000\" fill-rule=\"evenodd\" fill-opacity=\"1\" /><path clip-path=\"url(#clip450)\" d=\"M2284.77 295.705 L2304.64 295.705 L2304.64 299.64 L2289.45 299.64 L2289.45 309.825 L2303.15 309.825 L2303.15 313.76 L2289.45 313.76 L2289.45 330.265 L2284.77 330.265 L2284.77 295.705 Z\" fill=\"#000000\" fill-rule=\"evenodd\" fill-opacity=\"1\" /><path clip-path=\"url(#clip450)\" d=\"M1486.95 1077.01 L1486.95 1081 L1482.37 1081 Q1479.79 1081 1478.77 1082.04 Q1477.78 1083.08 1477.78 1085.79 L1477.78 1088.37 L1485.67 1088.37 L1485.67 1092.09 L1477.78 1092.09 L1477.78 1117.53 L1472.97 1117.53 L1472.97 1092.09 L1468.38 1092.09 L1468.38 1088.37 L1472.97 1088.37 L1472.97 1086.34 Q1472.97 1081.47 1475.23 1079.25 Q1477.5 1077.01 1482.42 1077.01 L1486.95 1077.01 Z\" fill=\"#000000\" fill-rule=\"evenodd\" fill-opacity=\"1\" /><path clip-path=\"url(#clip450)\" d=\"M1490.96 1088.37 L1495.75 1088.37 L1495.75 1117.53 L1490.96 1117.53 L1490.96 1088.37 M1490.96 1077.01 L1495.75 1077.01 L1495.75 1083.08 L1490.96 1083.08 L1490.96 1077.01 Z\" fill=\"#000000\" fill-rule=\"evenodd\" fill-opacity=\"1\" /><path clip-path=\"url(#clip450)\" d=\"M1522.68 1092.85 Q1521.87 1092.38 1520.91 1092.17 Q1519.97 1091.93 1518.82 1091.93 Q1514.76 1091.93 1512.57 1094.59 Q1510.41 1097.22 1510.41 1102.17 L1510.41 1117.53 L1505.6 1117.53 L1505.6 1088.37 L1510.41 1088.37 L1510.41 1092.9 Q1511.92 1090.24 1514.35 1088.97 Q1516.77 1087.66 1520.23 1087.66 Q1520.73 1087.66 1521.32 1087.74 Q1521.92 1087.79 1522.65 1087.92 L1522.68 1092.85 Z\" fill=\"#000000\" fill-rule=\"evenodd\" fill-opacity=\"1\" /><path clip-path=\"url(#clip450)\" d=\"M1546.3 1089.23 L1546.3 1093.76 Q1544.27 1092.72 1542.08 1092.2 Q1539.89 1091.67 1537.55 1091.67 Q1533.98 1091.67 1532.18 1092.77 Q1530.41 1093.86 1530.41 1096.05 Q1530.41 1097.72 1531.69 1098.68 Q1532.97 1099.62 1536.82 1100.48 L1538.46 1100.84 Q1543.56 1101.93 1545.7 1103.94 Q1547.86 1105.92 1547.86 1109.49 Q1547.86 1113.55 1544.63 1115.92 Q1541.43 1118.29 1535.8 1118.29 Q1533.46 1118.29 1530.91 1117.82 Q1528.38 1117.38 1525.57 1116.47 L1525.57 1111.52 Q1528.23 1112.9 1530.8 1113.6 Q1533.38 1114.28 1535.91 1114.28 Q1539.29 1114.28 1541.12 1113.13 Q1542.94 1111.96 1542.94 1109.85 Q1542.94 1107.9 1541.61 1106.86 Q1540.31 1105.81 1535.86 1104.85 L1534.19 1104.46 Q1529.74 1103.52 1527.76 1101.6 Q1525.78 1099.64 1525.78 1096.26 Q1525.78 1092.14 1528.69 1089.9 Q1531.61 1087.66 1536.98 1087.66 Q1539.63 1087.66 1541.98 1088.05 Q1544.32 1088.45 1546.3 1089.23 Z\" fill=\"#000000\" fill-rule=\"evenodd\" fill-opacity=\"1\" /><path clip-path=\"url(#clip450)\" d=\"M1560.23 1080.09 L1560.23 1088.37 L1570.1 1088.37 L1570.1 1092.09 L1560.23 1092.09 L1560.23 1107.92 Q1560.23 1111.49 1561.19 1112.51 Q1562.18 1113.52 1565.18 1113.52 L1570.1 1113.52 L1570.1 1117.53 L1565.18 1117.53 Q1559.63 1117.53 1557.52 1115.48 Q1555.41 1113.39 1555.41 1107.92 L1555.41 1092.09 L1551.9 1092.09 L1551.9 1088.37 L1555.41 1088.37 L1555.41 1080.09 L1560.23 1080.09 Z\" fill=\"#000000\" fill-rule=\"evenodd\" fill-opacity=\"1\" /><path clip-path=\"url(#clip450)\" d=\"M1604.66 1091.73 Q1600.8 1091.73 1598.56 1094.75 Q1596.32 1097.74 1596.32 1102.98 Q1596.32 1108.21 1598.54 1111.23 Q1600.78 1114.23 1604.66 1114.23 Q1608.49 1114.23 1610.73 1111.21 Q1612.96 1108.18 1612.96 1102.98 Q1612.96 1097.79 1610.73 1094.77 Q1608.49 1091.73 1604.66 1091.73 M1604.66 1087.66 Q1610.91 1087.66 1614.48 1091.73 Q1618.04 1095.79 1618.04 1102.98 Q1618.04 1110.14 1614.48 1114.23 Q1610.91 1118.29 1604.66 1118.29 Q1598.38 1118.29 1594.81 1114.23 Q1591.27 1110.14 1591.27 1102.98 Q1591.27 1095.79 1594.81 1091.73 Q1598.38 1087.66 1604.66 1087.66 Z\" fill=\"#000000\" fill-rule=\"evenodd\" fill-opacity=\"1\" /><path clip-path=\"url(#clip450)\" d=\"M1630.62 1113.16 L1630.62 1128.63 L1625.8 1128.63 L1625.8 1088.37 L1630.62 1088.37 L1630.62 1092.79 Q1632.13 1090.19 1634.42 1088.94 Q1636.74 1087.66 1639.94 1087.66 Q1645.26 1087.66 1648.56 1091.88 Q1651.9 1096.1 1651.9 1102.98 Q1651.9 1109.85 1648.56 1114.07 Q1645.26 1118.29 1639.94 1118.29 Q1636.74 1118.29 1634.42 1117.04 Q1632.13 1115.76 1630.62 1113.16 M1646.92 1102.98 Q1646.92 1097.69 1644.74 1094.7 Q1642.57 1091.67 1638.77 1091.67 Q1634.97 1091.67 1632.78 1094.7 Q1630.62 1097.69 1630.62 1102.98 Q1630.62 1108.26 1632.78 1111.28 Q1634.97 1114.28 1638.77 1114.28 Q1642.57 1114.28 1644.74 1111.28 Q1646.92 1108.26 1646.92 1102.98 Z\" fill=\"#000000\" fill-rule=\"evenodd\" fill-opacity=\"1\" /><path clip-path=\"url(#clip450)\" d=\"M1664.58 1080.09 L1664.58 1088.37 L1674.45 1088.37 L1674.45 1092.09 L1664.58 1092.09 L1664.58 1107.92 Q1664.58 1111.49 1665.54 1112.51 Q1666.53 1113.52 1669.53 1113.52 L1674.45 1113.52 L1674.45 1117.53 L1669.53 1117.53 Q1663.98 1117.53 1661.87 1115.48 Q1659.76 1113.39 1659.76 1107.92 L1659.76 1092.09 L1656.25 1092.09 L1656.25 1088.37 L1659.76 1088.37 L1659.76 1080.09 L1664.58 1080.09 Z\" fill=\"#000000\" fill-rule=\"evenodd\" fill-opacity=\"1\" /><path clip-path=\"url(#clip450)\" d=\"M1680.75 1088.37 L1685.54 1088.37 L1685.54 1117.53 L1680.75 1117.53 L1680.75 1088.37 M1680.75 1077.01 L1685.54 1077.01 L1685.54 1083.08 L1680.75 1083.08 L1680.75 1077.01 Z\" fill=\"#000000\" fill-rule=\"evenodd\" fill-opacity=\"1\" /><path clip-path=\"url(#clip450)\" d=\"M1718.28 1093.97 Q1720.07 1090.74 1722.57 1089.2 Q1725.07 1087.66 1728.46 1087.66 Q1733.02 1087.66 1735.49 1090.87 Q1737.96 1094.04 1737.96 1099.93 L1737.96 1117.53 L1733.15 1117.53 L1733.15 1100.09 Q1733.15 1095.89 1731.66 1093.86 Q1730.18 1091.83 1727.13 1091.83 Q1723.41 1091.83 1721.25 1094.3 Q1719.08 1096.78 1719.08 1101.05 L1719.08 1117.53 L1714.27 1117.53 L1714.27 1100.09 Q1714.27 1095.87 1712.78 1093.86 Q1711.3 1091.83 1708.2 1091.83 Q1704.53 1091.83 1702.37 1094.33 Q1700.2 1096.8 1700.2 1101.05 L1700.2 1117.53 L1695.39 1117.53 L1695.39 1088.37 L1700.2 1088.37 L1700.2 1092.9 Q1701.84 1090.22 1704.14 1088.94 Q1706.43 1087.66 1709.58 1087.66 Q1712.76 1087.66 1714.97 1089.28 Q1717.21 1090.89 1718.28 1093.97 Z\" fill=\"#000000\" fill-rule=\"evenodd\" fill-opacity=\"1\" /><path clip-path=\"url(#clip450)\" d=\"M1760.78 1102.87 Q1754.97 1102.87 1752.73 1104.2 Q1750.49 1105.53 1750.49 1108.73 Q1750.49 1111.28 1752.16 1112.79 Q1753.85 1114.28 1756.74 1114.28 Q1760.72 1114.28 1763.12 1111.47 Q1765.54 1108.63 1765.54 1103.94 L1765.54 1102.87 L1760.78 1102.87 M1770.33 1100.89 L1770.33 1117.53 L1765.54 1117.53 L1765.54 1113.11 Q1763.9 1115.76 1761.45 1117.04 Q1759.01 1118.29 1755.46 1118.29 Q1750.98 1118.29 1748.33 1115.79 Q1745.7 1113.26 1745.7 1109.04 Q1745.7 1104.12 1748.98 1101.62 Q1752.29 1099.12 1758.82 1099.12 L1765.54 1099.12 L1765.54 1098.65 Q1765.54 1095.35 1763.35 1093.55 Q1761.19 1091.73 1757.26 1091.73 Q1754.76 1091.73 1752.39 1092.33 Q1750.02 1092.92 1747.83 1094.12 L1747.83 1089.7 Q1750.46 1088.68 1752.94 1088.18 Q1755.41 1087.66 1757.76 1087.66 Q1764.08 1087.66 1767.21 1090.95 Q1770.33 1094.23 1770.33 1100.89 Z\" fill=\"#000000\" fill-rule=\"evenodd\" fill-opacity=\"1\" /><path clip-path=\"url(#clip450)\" d=\"M1780.2 1077.01 L1785 1077.01 L1785 1117.53 L1780.2 1117.53 L1780.2 1077.01 Z\" fill=\"#000000\" fill-rule=\"evenodd\" fill-opacity=\"1\" /><path clip-path=\"url(#clip450)\" d=\"M1816.61 1113.16 L1816.61 1128.63 L1811.79 1128.63 L1811.79 1088.37 L1816.61 1088.37 L1816.61 1092.79 Q1818.12 1090.19 1820.41 1088.94 Q1822.73 1087.66 1825.93 1087.66 Q1831.24 1087.66 1834.55 1091.88 Q1837.89 1096.1 1837.89 1102.98 Q1837.89 1109.85 1834.55 1114.07 Q1831.24 1118.29 1825.93 1118.29 Q1822.73 1118.29 1820.41 1117.04 Q1818.12 1115.76 1816.61 1113.16 M1832.91 1102.98 Q1832.91 1097.69 1830.72 1094.7 Q1828.56 1091.67 1824.76 1091.67 Q1820.96 1091.67 1818.77 1094.7 Q1816.61 1097.69 1816.61 1102.98 Q1816.61 1108.26 1818.77 1111.28 Q1820.96 1114.28 1824.76 1114.28 Q1828.56 1114.28 1830.72 1111.28 Q1832.91 1108.26 1832.91 1102.98 Z\" fill=\"#000000\" fill-rule=\"evenodd\" fill-opacity=\"1\" /><path clip-path=\"url(#clip450)\" d=\"M1857.13 1091.73 Q1853.28 1091.73 1851.04 1094.75 Q1848.8 1097.74 1848.8 1102.98 Q1848.8 1108.21 1851.01 1111.23 Q1853.25 1114.23 1857.13 1114.23 Q1860.96 1114.23 1863.2 1111.21 Q1865.44 1108.18 1865.44 1102.98 Q1865.44 1097.79 1863.2 1094.77 Q1860.96 1091.73 1857.13 1091.73 M1857.13 1087.66 Q1863.38 1087.66 1866.95 1091.73 Q1870.52 1095.79 1870.52 1102.98 Q1870.52 1110.14 1866.95 1114.23 Q1863.38 1118.29 1857.13 1118.29 Q1850.85 1118.29 1847.29 1114.23 Q1843.74 1110.14 1843.74 1102.98 Q1843.74 1095.79 1847.29 1091.73 Q1850.85 1087.66 1857.13 1087.66 Z\" fill=\"#000000\" fill-rule=\"evenodd\" fill-opacity=\"1\" /><path clip-path=\"url(#clip450)\" d=\"M1878.46 1088.37 L1883.25 1088.37 L1883.25 1117.53 L1878.46 1117.53 L1878.46 1088.37 M1878.46 1077.01 L1883.25 1077.01 L1883.25 1083.08 L1878.46 1083.08 L1878.46 1077.01 Z\" fill=\"#000000\" fill-rule=\"evenodd\" fill-opacity=\"1\" /><path clip-path=\"url(#clip450)\" d=\"M1917.52 1099.93 L1917.52 1117.53 L1912.73 1117.53 L1912.73 1100.09 Q1912.73 1095.95 1911.11 1093.89 Q1909.5 1091.83 1906.27 1091.83 Q1902.39 1091.83 1900.15 1094.3 Q1897.91 1096.78 1897.91 1101.05 L1897.91 1117.53 L1893.09 1117.53 L1893.09 1088.37 L1897.91 1088.37 L1897.91 1092.9 Q1899.63 1090.27 1901.95 1088.97 Q1904.29 1087.66 1907.34 1087.66 Q1912.36 1087.66 1914.94 1090.79 Q1917.52 1093.89 1917.52 1099.93 Z\" fill=\"#000000\" fill-rule=\"evenodd\" fill-opacity=\"1\" /><path clip-path=\"url(#clip450)\" d=\"M1931.82 1080.09 L1931.82 1088.37 L1941.69 1088.37 L1941.69 1092.09 L1931.82 1092.09 L1931.82 1107.92 Q1931.82 1111.49 1932.78 1112.51 Q1933.77 1113.52 1936.77 1113.52 L1941.69 1113.52 L1941.69 1117.53 L1936.77 1117.53 Q1931.22 1117.53 1929.11 1115.48 Q1927 1113.39 1927 1107.92 L1927 1092.09 L1923.48 1092.09 L1923.48 1088.37 L1927 1088.37 L1927 1080.09 L1931.82 1080.09 Z\" fill=\"#000000\" fill-rule=\"evenodd\" fill-opacity=\"1\" /><path clip-path=\"url(#clip450)\" d=\"M544.827 671.806 L544.827 689.41 L540.035 689.41 L540.035 671.962 Q540.035 667.821 538.421 665.764 Q536.806 663.707 533.577 663.707 Q529.697 663.707 527.457 666.181 Q525.218 668.655 525.218 672.925 L525.218 689.41 L520.4 689.41 L520.4 660.243 L525.218 660.243 L525.218 664.774 Q526.936 662.144 529.254 660.842 Q531.598 659.54 534.645 659.54 Q539.671 659.54 542.249 662.665 Q544.827 665.764 544.827 671.806 Z\" fill=\"#000000\" fill-rule=\"evenodd\" fill-opacity=\"1\" /><path clip-path=\"url(#clip450)\" d=\"M579.332 673.629 L579.332 675.972 L557.301 675.972 Q557.613 680.92 560.27 683.524 Q562.952 686.102 567.718 686.102 Q570.478 686.102 573.056 685.425 Q575.66 684.748 578.212 683.394 L578.212 687.925 Q575.634 689.019 572.926 689.592 Q570.217 690.165 567.431 690.165 Q560.452 690.165 556.363 686.102 Q552.301 682.04 552.301 675.113 Q552.301 667.951 556.155 663.759 Q560.035 659.54 566.598 659.54 Q572.483 659.54 575.895 663.342 Q579.332 667.118 579.332 673.629 M574.54 672.222 Q574.488 668.29 572.327 665.946 Q570.191 663.603 566.65 663.603 Q562.639 663.603 560.218 665.868 Q557.822 668.134 557.457 672.248 L574.54 672.222 Z\" fill=\"#000000\" fill-rule=\"evenodd\" fill-opacity=\"1\" /><path clip-path=\"url(#clip450)\" d=\"M584.41 660.243 L589.202 660.243 L595.191 683.003 L601.155 660.243 L606.806 660.243 L612.795 683.003 L618.759 660.243 L623.551 660.243 L615.92 689.41 L610.269 689.41 L603.993 665.504 L597.691 689.41 L592.04 689.41 L584.41 660.243 Z\" fill=\"#000000\" fill-rule=\"evenodd\" fill-opacity=\"1\" /><path clip-path=\"url(#clip450)\" d=\"M659.071 663.603 Q655.217 663.603 652.977 666.623 Q650.738 669.618 650.738 674.852 Q650.738 680.087 652.951 683.108 Q655.191 686.102 659.071 686.102 Q662.899 686.102 665.139 683.082 Q667.378 680.061 667.378 674.852 Q667.378 669.67 665.139 666.649 Q662.899 663.603 659.071 663.603 M659.071 659.54 Q665.321 659.54 668.889 663.603 Q672.457 667.665 672.457 674.852 Q672.457 682.014 668.889 686.102 Q665.321 690.165 659.071 690.165 Q652.795 690.165 649.227 686.102 Q645.686 682.014 645.686 674.852 Q645.686 667.665 649.227 663.603 Q652.795 659.54 659.071 659.54 Z\" fill=\"#000000\" fill-rule=\"evenodd\" fill-opacity=\"1\" /><path clip-path=\"url(#clip450)\" d=\"M685.035 685.035 L685.035 700.503 L680.217 700.503 L680.217 660.243 L685.035 660.243 L685.035 664.67 Q686.545 662.066 688.837 660.816 Q691.154 659.54 694.357 659.54 Q699.67 659.54 702.977 663.759 Q706.311 667.978 706.311 674.852 Q706.311 681.727 702.977 685.946 Q699.67 690.165 694.357 690.165 Q691.154 690.165 688.837 688.915 Q686.545 687.639 685.035 685.035 M701.337 674.852 Q701.337 669.566 699.149 666.571 Q696.988 663.55 693.186 663.55 Q689.384 663.55 687.196 666.571 Q685.035 669.566 685.035 674.852 Q685.035 680.139 687.196 683.16 Q689.384 686.155 693.186 686.155 Q696.988 686.155 699.149 683.16 Q701.337 680.139 701.337 674.852 Z\" fill=\"#000000\" fill-rule=\"evenodd\" fill-opacity=\"1\" /><path clip-path=\"url(#clip450)\" d=\"M718.993 651.962 L718.993 660.243 L728.862 660.243 L728.862 663.967 L718.993 663.967 L718.993 679.8 Q718.993 683.368 719.956 684.384 Q720.946 685.399 723.941 685.399 L728.862 685.399 L728.862 689.41 L723.941 689.41 Q718.394 689.41 716.284 687.352 Q714.175 685.269 714.175 679.8 L714.175 663.967 L710.659 663.967 L710.659 660.243 L714.175 660.243 L714.175 651.962 L718.993 651.962 Z\" fill=\"#000000\" fill-rule=\"evenodd\" fill-opacity=\"1\" /><path clip-path=\"url(#clip450)\" d=\"M735.165 660.243 L739.956 660.243 L739.956 689.41 L735.165 689.41 L735.165 660.243 M735.165 648.889 L739.956 648.889 L739.956 654.957 L735.165 654.957 L735.165 648.889 Z\" fill=\"#000000\" fill-rule=\"evenodd\" fill-opacity=\"1\" /><path clip-path=\"url(#clip450)\" d=\"M772.69 665.842 Q774.487 662.613 776.987 661.077 Q779.487 659.54 782.873 659.54 Q787.43 659.54 789.904 662.743 Q792.378 665.92 792.378 671.806 L792.378 689.41 L787.56 689.41 L787.56 671.962 Q787.56 667.769 786.076 665.738 Q784.591 663.707 781.544 663.707 Q777.821 663.707 775.659 666.181 Q773.498 668.655 773.498 672.925 L773.498 689.41 L768.68 689.41 L768.68 671.962 Q768.68 667.743 767.196 665.738 Q765.711 663.707 762.612 663.707 Q758.94 663.707 756.779 666.207 Q754.618 668.681 754.618 672.925 L754.618 689.41 L749.8 689.41 L749.8 660.243 L754.618 660.243 L754.618 664.774 Q756.258 662.092 758.55 660.816 Q760.841 659.54 763.992 659.54 Q767.17 659.54 769.383 661.155 Q771.623 662.769 772.69 665.842 Z\" fill=\"#000000\" fill-rule=\"evenodd\" fill-opacity=\"1\" /><path clip-path=\"url(#clip450)\" d=\"M815.19 674.748 Q809.383 674.748 807.143 676.076 Q804.904 677.405 804.904 680.608 Q804.904 683.16 806.57 684.67 Q808.263 686.155 811.154 686.155 Q815.138 686.155 817.534 683.342 Q819.956 680.503 819.956 675.816 L819.956 674.748 L815.19 674.748 M824.747 672.769 L824.747 689.41 L819.956 689.41 L819.956 684.983 Q818.315 687.639 815.867 688.915 Q813.419 690.165 809.878 690.165 Q805.399 690.165 802.742 687.665 Q800.112 685.139 800.112 680.92 Q800.112 675.998 803.393 673.498 Q806.701 670.998 813.237 670.998 L819.956 670.998 L819.956 670.53 Q819.956 667.222 817.768 665.425 Q815.607 663.603 811.675 663.603 Q809.175 663.603 806.805 664.201 Q804.435 664.8 802.247 665.998 L802.247 661.571 Q804.878 660.556 807.352 660.061 Q809.826 659.54 812.169 659.54 Q818.497 659.54 821.622 662.821 Q824.747 666.103 824.747 672.769 Z\" fill=\"#000000\" fill-rule=\"evenodd\" fill-opacity=\"1\" /><path clip-path=\"url(#clip450)\" d=\"M834.617 648.889 L839.409 648.889 L839.409 689.41 L834.617 689.41 L834.617 648.889 Z\" fill=\"#000000\" fill-rule=\"evenodd\" fill-opacity=\"1\" /><path clip-path=\"url(#clip450)\" d=\"M871.023 685.035 L871.023 700.503 L866.205 700.503 L866.205 660.243 L871.023 660.243 L871.023 664.67 Q872.534 662.066 874.825 660.816 Q877.143 659.54 880.346 659.54 Q885.659 659.54 888.966 663.759 Q892.299 667.978 892.299 674.852 Q892.299 681.727 888.966 685.946 Q885.659 690.165 880.346 690.165 Q877.143 690.165 874.825 688.915 Q872.534 687.639 871.023 685.035 M887.325 674.852 Q887.325 669.566 885.138 666.571 Q882.976 663.55 879.174 663.55 Q875.372 663.55 873.185 666.571 Q871.023 669.566 871.023 674.852 Q871.023 680.139 873.185 683.16 Q875.372 686.155 879.174 686.155 Q882.976 686.155 885.138 683.16 Q887.325 680.139 887.325 674.852 Z\" fill=\"#000000\" fill-rule=\"evenodd\" fill-opacity=\"1\" /><path clip-path=\"url(#clip450)\" d=\"M911.544 663.603 Q907.69 663.603 905.45 666.623 Q903.21 669.618 903.21 674.852 Q903.21 680.087 905.424 683.108 Q907.664 686.102 911.544 686.102 Q915.372 686.102 917.611 683.082 Q919.851 680.061 919.851 674.852 Q919.851 669.67 917.611 666.649 Q915.372 663.603 911.544 663.603 M911.544 659.54 Q917.794 659.54 921.361 663.603 Q924.929 667.665 924.929 674.852 Q924.929 682.014 921.361 686.102 Q917.794 690.165 911.544 690.165 Q905.268 690.165 901.7 686.102 Q898.158 682.014 898.158 674.852 Q898.158 667.665 901.7 663.603 Q905.268 659.54 911.544 659.54 Z\" fill=\"#000000\" fill-rule=\"evenodd\" fill-opacity=\"1\" /><path clip-path=\"url(#clip450)\" d=\"M932.872 660.243 L937.663 660.243 L937.663 689.41 L932.872 689.41 L932.872 660.243 M932.872 648.889 L937.663 648.889 L937.663 654.957 L932.872 654.957 L932.872 648.889 Z\" fill=\"#000000\" fill-rule=\"evenodd\" fill-opacity=\"1\" /><path clip-path=\"url(#clip450)\" d=\"M971.934 671.806 L971.934 689.41 L967.142 689.41 L967.142 671.962 Q967.142 667.821 965.528 665.764 Q963.913 663.707 960.684 663.707 Q956.804 663.707 954.564 666.181 Q952.325 668.655 952.325 672.925 L952.325 689.41 L947.507 689.41 L947.507 660.243 L952.325 660.243 L952.325 664.774 Q954.044 662.144 956.361 660.842 Q958.705 659.54 961.752 659.54 Q966.778 659.54 969.356 662.665 Q971.934 665.764 971.934 671.806 Z\" fill=\"#000000\" fill-rule=\"evenodd\" fill-opacity=\"1\" /><path clip-path=\"url(#clip450)\" d=\"M986.231 651.962 L986.231 660.243 L996.101 660.243 L996.101 663.967 L986.231 663.967 L986.231 679.8 Q986.231 683.368 987.194 684.384 Q988.184 685.399 991.179 685.399 L996.101 685.399 L996.101 689.41 L991.179 689.41 Q985.632 689.41 983.523 687.352 Q981.413 685.269 981.413 679.8 L981.413 663.967 L977.898 663.967 L977.898 660.243 L981.413 660.243 L981.413 651.962 L986.231 651.962 Z\" fill=\"#000000\" fill-rule=\"evenodd\" fill-opacity=\"1\" /></svg>\n"
      ]
     },
     "execution_count": 40,
     "metadata": {},
     "output_type": "execute_result"
    }
   ],
   "source": [
    "#%\n",
    "## Plotting constraints\n",
    "plot(x, c1.(x),\n",
    "    xaxis = (\"x₁\", (0,3.5)),\n",
    "    yaxis = (\"x₂\", (0,4.5)),\n",
    "    size = (600,500),\n",
    "    label = \"c1\",\n",
    "    legend = :outertopright\n",
    ")\n",
    "plot!(x, c2.(x), line = :dash, label = \"c2\")\n",
    "plot!(x, c3.(x), label = \"c3\")\n",
    "\n",
    "## Plotting bounds\n",
    "vline!([3], line = :dash, label = \"\", color = c_blue)        # put label as \"\" to not appear in the legend\n",
    "hline!([4], line = :dash, label = \"\", color = c_blue)        \n",
    "\n",
    "## Plotting OF @ optimal point\n",
    "plot!(x, zf2.(x), line = :dash, color = :black, label=\"OF\")\n",
    "\n",
    "## Plotting original optimum\n",
    "scatter!([optimal_point_p[1]], [optimal_point_p[2]], color = c_orange, label=\"\")\n",
    "annotate!(optimal_point_p[1], optimal_point_p[2]-0.2, (\"first optimal point\", 9, :left))\n",
    "\n",
    "## Plotting new optimum\n",
    "scatter!([optimal_point[1]], [optimal_point[2]], color = c_orange, label=\"\")\n",
    "annotate!(optimal_point[1]-0.85, optimal_point[2]-0.1, (\"new optimal point\", 9, :left))\n",
    "#%"
   ]
  },
  {
   "cell_type": "markdown",
   "metadata": {},
   "source": [
    "Checking with JuMP"
   ]
  },
  {
   "cell_type": "code",
   "execution_count": 41,
   "metadata": {},
   "outputs": [
    {
     "name": "stdout",
     "output_type": "stream",
     "text": [
      "Optimal cost: -7.0\n",
      "x_opt = [2.5, 2.0]\n"
     ]
    }
   ],
   "source": [
    "#%\n",
    "## Modelling\n",
    "m = Model(GLPK.Optimizer)                                # Primal problem\n",
    "\n",
    "## Var\n",
    "@variable(m, x[1:2] >= 0)                                # Variables vector\n",
    "@objective(m, Min, c[1:2]'*x)                            # OF\n",
    "@constraint(m, cm[i in 1:4] , A[i,1:2]'*x <= b[i])       # Constraints definitions\n",
    "\n",
    "## Solving and printing\n",
    "# set_silent(m)\n",
    "optimize!(m)\n",
    "println(\"Optimal cost: \", objective_value(m))\n",
    "println(\"x_opt = \", value.(x))\n",
    "\n",
    "## TODO: Store the optimal cost, optimal point, and duals\n",
    "obj = objective_value(m)\n",
    "optimal_point = value.(x)\n",
    "duals = dual.(cm);\n",
    "#%"
   ]
  },
  {
   "cell_type": "code",
   "execution_count": 42,
   "metadata": {},
   "outputs": [],
   "source": [
    "#%\n",
    "## TODO: Declare the new constraint\n",
    "@constraint(m, cm_new, 6x[1] - x[2] <= 6);\n",
    "#%"
   ]
  },
  {
   "cell_type": "code",
   "execution_count": 43,
   "metadata": {},
   "outputs": [
    {
     "data": {
      "text/latex": [
       "$$ \\begin{aligned}\n",
       "\\min\\quad & -2 x_{1} - x_{2}\\\\\n",
       "\\text{Subject to} \\quad & 2 x_{1} + 2 x_{2} \\leq 9.0\\\\\n",
       " & 2 x_{1} - x_{2} \\leq 3.0\\\\\n",
       " & x_{1} \\leq 3.0\\\\\n",
       " & x_{2} \\leq 4.0\\\\\n",
       " & 6 x_{1} - x_{2} \\leq 6.0\\\\\n",
       " & x_{1} \\geq 0.0\\\\\n",
       " & x_{2} \\geq 0.0\\\\\n",
       "\\end{aligned} $$"
      ]
     },
     "metadata": {},
     "output_type": "display_data"
    },
    {
     "name": "stdout",
     "output_type": "stream",
     "text": [
      "\n",
      "New optimal cost: -6.0\n",
      "x_opt = [1.5, 3.0]\n"
     ]
    }
   ],
   "source": [
    "#%\n",
    "## Solving and printing the new model\n",
    "print(m)\n",
    "set_silent(m)\n",
    "optimize!(m)\n",
    "println(\"\\nNew optimal cost: \", objective_value(m))\n",
    "println(\"x_opt = \", round.(value.(x),digits=2))\n",
    "\n",
    "## Storage of optimal cost, optimal point, and duals\n",
    "new_obj = objective_value(m)\n",
    "new_optimal_p = value.(x)\n",
    "new_duals = [dual.(cm) ; dual(cm_new)];\n",
    "#%"
   ]
  },
  {
   "cell_type": "code",
   "execution_count": null,
   "metadata": {},
   "outputs": [],
   "source": []
  }
 ],
 "metadata": {
  "kernelspec": {
   "display_name": "Julia 1.5.1",
   "language": "julia",
   "name": "julia-1.5"
  },
  "language_info": {
   "file_extension": ".jl",
   "mimetype": "application/julia",
   "name": "julia",
   "version": "1.5.1"
  }
 },
 "nbformat": 4,
 "nbformat_minor": 4
}
