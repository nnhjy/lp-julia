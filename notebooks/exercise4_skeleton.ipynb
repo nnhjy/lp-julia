{
 "cells": [
  {
   "cell_type": "code",
   "execution_count": null,
   "metadata": {},
   "outputs": [],
   "source": [
    "using JuMP, Cbc, Plots"
   ]
  },
  {
   "cell_type": "markdown",
   "metadata": {},
   "source": [
    "# MS-E2121 - Linear optimization\n",
    "## Exercise session 4\n",
    "\n",
    "\n",
    "### Demo exercise: Simplex\n",
    "\n",
    "\\begin{align}\n",
    "    \\max \\ & 40x_1 + 60x_2\\\\\n",
    "    \\text{s.t. } & 2x_1 + x_2 && \\le 7 \\\\\n",
    "    & x_1 + x_2 && \\le 4 \\\\\n",
    "    & x_1 + 3x_2 && \\le 9 \\\\\n",
    "    & x_i \\geq 0, \\ \\forall i \\in \\{1,2\\}\n",
    "\\end{align}\n",
    "\n",
    "We first plot the problem so we can connect our results with the plot. Based on this, the point (0,3) is not optimal, but we will confirm this using reduced costs."
   ]
  },
  {
   "cell_type": "code",
   "execution_count": null,
   "metadata": {},
   "outputs": [],
   "source": [
    "function plot_model(A, b, c; sol=nothing, xlim=5, ylim=5)\n",
    "    \n",
    "    # Check problem dimensions and throw an error if not 2D\n",
    "    m,n = size(A)\n",
    "    if n != 2\n",
    "        throw(ArgumentError(\"Model is not 2-dimensional\"))\n",
    "    end\n",
    "    \n",
    "    # Some ranges to help with plotting, these are similar to what you may have used in Matlab\n",
    "    x1_range = collect(0:0.1:6)\n",
    "    x2_range = collect(0:0.1:6)\n",
    "    \n",
    "    # Create empty plot\n",
    "    plot(xlim=(-1,6), ylim=(-1,6), xlabel=\"x1\", ylabel=\"x2\")\n",
    "    \n",
    "    # Add lines Ax=b to the plot \n",
    "    for con in 1:m\n",
    "        a_x1 = A[con,1]\n",
    "        a_x2 = A[con,2]\n",
    "        if a_x1!=0 && a_x2!=0\n",
    "            plot!(x1_range, (-a_x1*x1_range.+b[con])/a_x2, label=\"$(a_x1==1 ? \"\" : a_x1)x1+$(a_x2==1 ? \"\" : a_x2)x2=$(b[con])\")\n",
    "        elseif a_x1!=0 && a_x2==0\n",
    "            vline!([b[con]/a_x1], label=\"$(a_x1==1 ? \"\" : a_x1)x1=$(b[con])\")\n",
    "        elseif a_x1==0 && a_x2!=0\n",
    "            hline!([b[con]/a_x2], label=\"$(a_x2==1 ? \"\" : a_x2)x2=$(b[con])\")\n",
    "        end\n",
    "    end\n",
    "    vline!([0], label=\"x1=0\")\n",
    "    hline!([0], label=\"x2=0\")\n",
    "\n",
    "    # Collect the points in the feasible region using a grid\n",
    "    feasible_region = []\n",
    "    for x1 in x1_range\n",
    "        for x2 in x2_range\n",
    "            if all(A*[x1;x2].<=b)\n",
    "                push!(feasible_region, [x1, x2])\n",
    "            end\n",
    "        end\n",
    "    end\n",
    "\n",
    "    # Turn the array of arrays into a 2D-array and plot the points\n",
    "    feasible_region = hcat(feasible_region...)\n",
    "    scatter!(feasible_region[1,:], feasible_region[2,:], ms=1, label=false)\n",
    "    \n",
    "    # If objective function value was given as an argument, plot the objective function with that value\n",
    "    if !isnothing(sol)\n",
    "        plot!(x1_range, (-c[1]*x1_range.+sol)/c[2], linestyle=:dash, linewidth=2, color=:black, label=\"Objective function\")\n",
    "    end\n",
    "    \n",
    "    # This is how you would add a title to your plot\n",
    "    title!(\"\")\n",
    "end\n",
    "\n",
    "A_1 = [2 1; 1 1; 1 3]\n",
    "b_1 = [7; 4; 9]\n",
    "c_1 = [-40; -60]\n",
    "plot_model(A_1,b_1,c_1; sol=-210)"
   ]
  },
  {
   "cell_type": "markdown",
   "metadata": {},
   "source": [
    "## Standard form\n",
    "\n",
    "We transform the problem to standard form (minimization with equality constraints) in order to use Simplex method.\n",
    "\n",
    "\\begin{align}\n",
    "    \\min \\ & -40x_1 - 60x_2\\\\\n",
    "    \\text{s.t. } & 2x_1 + x_2 + x_3 && = 7 \\\\\n",
    "    & x_1 + x_2 + x_4 && = 4 \\\\\n",
    "    & x_1 + 3x_2 + x_5 && = 9 \\\\\n",
    "    & x_i \\geq 0, \\ \\forall i \\in \\{1,...,5\\}\n",
    "\\end{align}"
   ]
  },
  {
   "cell_type": "code",
   "execution_count": null,
   "metadata": {},
   "outputs": [],
   "source": [
    "# Problem data\n",
    "A = [2 1 1 0 0; 1 1 0 1 0; 1 3 0 0 1]\n",
    "b = [7; 4; 9]\n",
    "c = [-40; -60; 0; 0; 0]\n",
    "\n",
    "\n",
    "x = [0; 3; 4; 1; 0] # Initial solution\n",
    "B_ind = [2; 3; 4]   # Indices of basic variables \n",
    "B = A[:,B_ind]      # Basis matrix\n",
    "c_B = c[B_ind]      # Basic variable costs\n",
    "\n",
    "p = c_B'*inv(B)     # Dual vector for reduced cost calculation \n",
    "c_r = c' - p*A      # Reduced costs\n",
    "println(\"Reduced costs: $(round.(c_r, digits = 2))\")"
   ]
  },
  {
   "cell_type": "markdown",
   "metadata": {},
   "source": [
    "The reduced cost for $x_1$ is negative => solution is not optimal. A negative reduced cost means that there is a basic direction that leads to a feasible point with a smaller (and thus better) objective value. Let's make $x_1$ a basic variable and calculate the corresponding basic direction $d^1$. The basic components are calculated as $d_B^1 = -B^{-1}A$, the component corresponding to the \"entering\" variable $x_1$ is 1 and the components corresponding to other non-basic variables are 0. The basic direction thus describes the changes in variables when the entering variable value is increased by 1."
   ]
  },
  {
   "cell_type": "code",
   "execution_count": null,
   "metadata": {},
   "outputs": [],
   "source": [
    "# Basic direction corresponding to x1\n",
    "d_B1 = -inv(B)*A[:,1]\n",
    "d_1 = [1;d_B1;0]\n",
    "println(\"Basic direction corresponding to x_1: $(round.(d_1, digits = 2))\")"
   ]
  },
  {
   "cell_type": "markdown",
   "metadata": {},
   "source": [
    "We can now connect this to the constraints and the figure above. In order to make $x_1$ positive, we move along the constraint $x_1 + 3x_2 \\le 9$. For each unit of increase in $x_1$, the other variable $x_2$ must decrease by $\\frac{1}{3}$. Next, we need to determine the step length $\\theta$, that is, how far along this direction $d_1$ to move. We want to reach the next vertex, but not go further (the points after the first vertex are infeasible). This step will make one basic variable 0 and thus non-basic. That's why we only consider the variables with negative components in the basic direction, the others can't become zero by moving along this direction."
   ]
  },
  {
   "cell_type": "code",
   "execution_count": null,
   "metadata": {},
   "outputs": [],
   "source": [
    "I = findall(d_B1 .< -1E-9) # -1e-9 instead of zero because of possible numerical inaccuracies\n",
    "θ = minimum(-x[B_ind[I]]./d_B1[I])\n",
    "println(\"Ratios: $(round.(-x[B_ind[I]]./d_B1[I], digits = 2))\")\n",
    "println(\"Minimum ratio θ: $(round(θ, digits = 2))\")"
   ]
  },
  {
   "cell_type": "markdown",
   "metadata": {},
   "source": [
    "Looking at the ratios, we can see that increasing $x_1$ by 9 would make the first basic variable $x_2$ zero. That seems to be true, based on the earlier plot. The other basic variables are slack variables. Making a slack variable zero = making the corresponding constraint active. The second constraint $x_1 + x_2 \\le 4$ becomes active when $x_1 = 1.5$, and that is the minimum ratio we obtained."
   ]
  },
  {
   "cell_type": "code",
   "execution_count": null,
   "metadata": {},
   "outputs": [],
   "source": [
    "x_new = x + θ*d_1\n",
    "println(\"New point x: $(round.(x_new, digits = 2))\")"
   ]
  },
  {
   "cell_type": "markdown",
   "metadata": {},
   "source": [
    "Now that we have a new basic feasible solution, we can check whether it is optimal or not by calculating the reduced costs"
   ]
  },
  {
   "cell_type": "code",
   "execution_count": null,
   "metadata": {},
   "outputs": [],
   "source": [
    "B_ind_new = [2; 3; 1]\n",
    "B_new = A[:,B_ind_new]\n",
    "c_B_new = c[B_ind_new]\n",
    "\n",
    "p_new = c_B_new'*inv(B_new)\n",
    "c_r_new = c' - p_new*A\n",
    "println(\"Reduced costs: $(round.(c_r_new, digits = 2))\")"
   ]
  },
  {
   "cell_type": "markdown",
   "metadata": {},
   "source": [
    "All nonnegative, the point $x_{new}$ is optimal\n",
    "#' \n",
    "### Student exercise:\n",
    "Solve the following problem using two-phase simplex\n",
    "\n",
    "\\begin{align*}\n",
    "    \\max \\ & 5x_1 + &&x_2 \\\\\n",
    "    \\text{s.t. } & 2x_1 + &&x_2 &&& \\ge 5 \\\\\n",
    "    & &&x_2 &&& \\ge 1 \\\\\n",
    "    & 2x_1 + &&3x_2 &&& \\le 12 \\\\\n",
    "\\end{align*}\n",
    "\\begin{align*}\n",
    "x_1, x_2 \\ge 0, \\ \\forall i \\in \\{1,2\\}\n",
    "\\end{align*}\n",
    "\n",
    "In standard form:\n",
    "\n",
    "\\begin{align}\n",
    "    \\min \\ & -5x_1 - x_2\\\\\n",
    "    \\text{s.t. } & 2x_1 + x_2 - x_3 && = 5 \\\\\n",
    "    & x_2 - x_4 && = 1 \\\\\n",
    "    & 2x_1 + 3x_2 + x_5 && = 12 \\\\\n",
    "    & x_i \\geq 0, \\ \\forall i \\in \\{1,...,5\\}\n",
    "\\end{align}"
   ]
  },
  {
   "cell_type": "code",
   "execution_count": null,
   "metadata": {},
   "outputs": [],
   "source": [
    "function plot_model(A, b, c; sol=nothing, xlim=5, ylim=5)\n",
    "    \n",
    "    # Check problem dimensions and throw an error if not 2D\n",
    "    m,n = size(A)\n",
    "    if n != 2\n",
    "        throw(ArgumentError(\"Model is not 2-dimensional\"))\n",
    "    end\n",
    "    \n",
    "    # Some ranges to help with plotting, these are similar to what you may have used in Matlab\n",
    "    x1_range = collect(0:0.1:6)\n",
    "    x2_range = collect(0:0.1:6)\n",
    "    \n",
    "    # Create empty plot\n",
    "    plot(xlim=(-1,6), ylim=(-1,6), xlabel=\"x1\", ylabel=\"x2\")\n",
    "    \n",
    "    # Add lines Ax=b to the plot \n",
    "    for con in 1:m\n",
    "        a_x1 = A[con,1]\n",
    "        a_x2 = A[con,2]\n",
    "        if a_x1!=0 && a_x2!=0\n",
    "            plot!(x1_range, (-a_x1*x1_range.+b[con])/a_x2, label=\"$(a_x1==1 ? \"\" : a_x1)x1+$(a_x2==1 ? \"\" : a_x2)x2=$(b[con])\")\n",
    "        elseif a_x1!=0 && a_x2==0\n",
    "            vline!([b[con]/a_x1], label=\"$(a_x1==1 ? \"\" : a_x1)x1=$(b[con])\")\n",
    "        elseif a_x1==0 && a_x2!=0\n",
    "            hline!([b[con]/a_x2], label=\"$(a_x2==1 ? \"\" : a_x2)x2=$(b[con])\")\n",
    "        end\n",
    "    end\n",
    "    vline!([0], label=\"x1=0\")\n",
    "    hline!([0], label=\"x2=0\")\n",
    "\n",
    "    # Collect the points in the feasible region using a grid\n",
    "    feasible_region = []\n",
    "    for x1 in x1_range\n",
    "        for x2 in x2_range\n",
    "            if all(A*[x1;x2].<=b)\n",
    "                push!(feasible_region, [x1, x2])\n",
    "            end\n",
    "        end\n",
    "    end\n",
    "\n",
    "    # Turn the array of arrays into a 2D-array and plot the points\n",
    "    feasible_region = hcat(feasible_region...)\n",
    "    scatter!(feasible_region[1,:], feasible_region[2,:], ms=1, label=false)\n",
    "    \n",
    "    # If objective function value was given as an argument, plot the objective function with that value\n",
    "    if !isnothing(sol)\n",
    "        plot!(x1_range, (-c[1]*x1_range.+sol)/c[2], linestyle=:dash, linewidth=2, color=:black, label=\"Objective function\")\n",
    "    end\n",
    "    \n",
    "    # This is how you would add a title to your plot\n",
    "    title!(\"\")\n",
    "end\n",
    "\n",
    "A = [-2 -1; 0 -1; 2 3]\n",
    "b = [-5; -1; 12]\n",
    "c = [-5; -1]\n",
    "plot_model(A,b,c; sol=-23.5)"
   ]
  },
  {
   "cell_type": "markdown",
   "metadata": {},
   "source": [
    "### Phase 1\n",
    "The goal is to obtain a feasible starting point for the second phase."
   ]
  },
  {
   "cell_type": "code",
   "execution_count": null,
   "metadata": {},
   "outputs": [],
   "source": []
  },
  {
   "cell_type": "code",
   "execution_count": null,
   "metadata": {},
   "outputs": [],
   "source": []
  },
  {
   "cell_type": "code",
   "execution_count": null,
   "metadata": {},
   "outputs": [],
   "source": []
  },
  {
   "cell_type": "code",
   "execution_count": null,
   "metadata": {},
   "outputs": [],
   "source": []
  },
  {
   "cell_type": "code",
   "execution_count": null,
   "metadata": {},
   "outputs": [],
   "source": []
  },
  {
   "cell_type": "code",
   "execution_count": null,
   "metadata": {},
   "outputs": [],
   "source": []
  },
  {
   "cell_type": "code",
   "execution_count": null,
   "metadata": {},
   "outputs": [],
   "source": []
  },
  {
   "cell_type": "markdown",
   "metadata": {},
   "source": [
    "### Phase 2\n",
    "Starting from the feasible solution obtained from phase 1, find the optimal solution to the original problem."
   ]
  },
  {
   "cell_type": "code",
   "execution_count": null,
   "metadata": {},
   "outputs": [],
   "source": []
  },
  {
   "cell_type": "code",
   "execution_count": null,
   "metadata": {},
   "outputs": [],
   "source": []
  },
  {
   "cell_type": "code",
   "execution_count": null,
   "metadata": {},
   "outputs": [],
   "source": []
  },
  {
   "cell_type": "code",
   "execution_count": null,
   "metadata": {},
   "outputs": [],
   "source": []
  },
  {
   "cell_type": "code",
   "execution_count": null,
   "metadata": {},
   "outputs": [],
   "source": []
  }
 ],
 "metadata": {
  "kernelspec": {
   "display_name": "Julia 1.5.1",
   "language": "julia",
   "name": "julia-1.5"
  },
  "language_info": {
   "file_extension": ".jl",
   "mimetype": "application/julia",
   "name": "julia",
   "version": "1.5.1"
  }
 },
 "nbformat": 4,
 "nbformat_minor": 4
}
