{
  "cells": [
    {
      "outputs": [],
      "cell_type": "code",
      "source": [
        "using JuMP               # To write the optimisation models\nusing Cbc, Clp           # Solvers \nusing Test               # Testing package\nusing JLD2;              # File I/O"
      ],
      "metadata": {},
      "execution_count": null
    },
    {
      "cell_type": "markdown",
      "source": [
        "# Homework 4\n\n## Problem description\n\nWe need to fulfil the demand of clients using different servers. The demand and set of clients are unknown when making the decision on which servers to use. Consider the parameters:\n- $C_j$ - cost of installing server $j$\n- $P_s$ - probability of scenario $s$\n- $F$ - cost of unmet demand (same for all clients $i$, servers $j$ and scenarios $s$)\n- $Q_{ij}$ - benefit per one unit of demand of client $i$ served by server $j$\n- $V$ - maximum allowed number of servers\n- $D_{is}$ - demand of client $i$ in scenario $s$\n- $U$ - maximum capacity of a server (same for all servers and scenarios)\n- $H_{is}$ - a binary variable with value 1 if client $i$ is active in scenario $s$, i.e., the demand $D_{is}$ has to be fulfilled\n\nLet the variables be\n\n- $x_j$ - binary variable with value 1 if server $j$ is made available, i.e., built or installed\n- $y_{ijs}$ - the proportion of demand $D_{is}$ fulfilled by server $j$. The total demand of $i$ served by $j$ is thus $y_{ijs} \\times D_{is}$\n- $z_{js}$ - capacity shortage for server $j$. If demand is not met otherwise, any server $j$ can procure emergency capacity at a price $F$.\n\n\nThe model is then given by:\n\n\\begin{align}\n    \\min_{x_j, z_{js}, y_{ijs}} & \\sum_{j \\in J} C_j x_j + \\sum_{s} P_s \\left( - \\sum_{i \\in I,j \\in J}Q_{ij}D_{is}y_{ijs} + \\sum_{j \\in J} Fz_{js} \\right) \\\\\n    \\text{s.t.: } & \\sum_{j \\in J} x_j \\leq V   & (t)\\\\\n    & \\sum_{i \\in I} D_{is}y_{ijs} - z_{js} \\leq Ux_j, \\forall j \\in J, s \\in S  & (u_{js})\\\\\n    & \\sum_{j \\in J} y_{ijs} = H_{is}, \\forall i \\in I, s \\in S  & (v_{is}) \\\\\n    & x_j \\in \\{0,1\\}, \\ \\forall j \\in J \\\\\n    & y_{ijs} \\geq 0, \\ \\forall i \\in I, \\forall j \\in J, \\forall s \\in S \\\\\n    & z_{js} \\geq 0, \\ \\forall j \\in J, \\forall s \\in S\n\\end{align}\n\n, where $t$, $u_{js}$, and $v_{is}$ are the dual variables related to the constraints in the model."
      ],
      "metadata": {}
    },
    {
      "outputs": [],
      "cell_type": "code",
      "source": [
        "struct Instance\n    # sets\n    I  # Set of clients\n    J  # Set of servers\n    S  # Set of scenarios\n    # Parameters \n    V  # Max number of servers\n    P  # Scenario probabilities\n    H  # 1 if client requires service\n    C  # Cost of locating server at j\n    F  # Cost of unmet demand\n    D  # Demand in location i served from server j\n    Q  # Benefit per unit of demand served\n    U  # Maximum server capacity (same for all servers)\n    loc_i # Coordinates of clients\n    loc_j # Coordinates of servers\nend"
      ],
      "metadata": {},
      "execution_count": null
    },
    {
      "outputs": [],
      "cell_type": "code",
      "source": [
        "f = jldopen(\"hw4_ins.jld2\")\nins = nothing\ntry\n    ins = f[\"ins\"]\nfinally\n    close(f)\nend;"
      ],
      "metadata": {},
      "execution_count": null
    },
    {
      "cell_type": "markdown",
      "source": [
        "# Task 1: implementing the large-scale model\n\n## Model construction \n\nIn the following, the full model must be implemented and solved using Cbc."
      ],
      "metadata": {}
    },
    {
      "outputs": [],
      "cell_type": "code",
      "source": [
        "function generate_full_problem(ins)\n    I = ins.I \n    J = ins.J\n    S = ins.S\n    V = ins.V \n    P = ins.P\n    H = ins.H\n    C = ins.C\n    F = ins.F\n    D = ins.D\n    Q = ins.Q\n    U = ins.U\n    # Write the full model in JuMP\n\n    # Initialize model\n    m = Model(Cbc.Optimizer)\n    \n    # TODO: add your code here\n    \n    # Return the generated model\n    return m\nend"
      ],
      "metadata": {},
      "execution_count": null
    },
    {
      "outputs": [],
      "cell_type": "code",
      "source": [
        "fullmodel = generate_full_problem(ins)\n# set_silent(fullmodel)\noptimize!(fullmodel)"
      ],
      "metadata": {},
      "execution_count": null
    },
    {
      "outputs": [],
      "cell_type": "code",
      "source": [
        "# Examine the solutions\n@show x_bar = Int.(round.(value.(fullmodel[:x]).data))\n@show opt_z = sum(value.(fullmodel[:z]))\n@show objective_value(fullmodel);"
      ],
      "metadata": {},
      "execution_count": null
    },
    {
      "cell_type": "markdown",
      "source": [
        "# Task 2: Benders decomposition\n\n## Benders main\n\nFormulate the initial main problem for the decomposition. Use a single variable $\\theta$ for representing the subproblem value."
      ],
      "metadata": {}
    },
    {
      "outputs": [],
      "cell_type": "code",
      "source": [
        "## Benders decomposition\n\n## Generates the main problem\nfunction generate_main(ins)\n    \n    J = ins.J\n    V = ins.V\n    C = ins.C\n     \n    main = Model(Cbc.Optimizer)\n    set_silent(main)\n    \n    # TODO: add your code here\n    return main  \nend"
      ],
      "metadata": {},
      "execution_count": null
    },
    {
      "outputs": [],
      "cell_type": "code",
      "source": [
        "# Solve the main problem\nfunction solve_main(ins, main)\n    optimize!(main)\n    return value.(main[:x]), value(main[:θ]), objective_value(main)    \nend"
      ],
      "metadata": {},
      "execution_count": null
    },
    {
      "cell_type": "markdown",
      "source": [
        "## Subproblem\n\nFormulate the primal subproblem with corresponding objective value represented by the variable $\\theta$ in the main problem. The primal subproblem is not used in the decomposition algorithm, but you will use it to test your implementation of the dual subproblem. It might also be easier to start by formulating the primal problem and then work from there to obtain the its dual formulation."
      ],
      "metadata": {}
    },
    {
      "outputs": [],
      "cell_type": "code",
      "source": [
        "# Generate and solve the primal subproblem for a given x_bar. For test purposes only; if the dual is correct, the objective value of\n# the dual subproblem must be the same as this.\nfunction generate_and_solve_primal_subproblem(ins, x_bar)\n    \n    I = ins.I\n    J = ins.J\n    S = ins.S\n    D = ins.D\n    P = ins.P\n    Q = ins.Q\n    F = ins.F\n    U = ins.U\n    H = ins.H\n    \n    # set_silent works for Clp, and the subproblem should be an LP problem    \n    sub = Model(Clp.Optimizer)\n    set_silent(sub)\n    \n    # TODO: add your code here\n    optimize!(sub)\n    return objective_value(sub)\n    \nend"
      ],
      "metadata": {},
      "execution_count": null
    },
    {
      "cell_type": "markdown",
      "source": [
        "## Dual subproblem\n\nFormulate the dual subproblem. Consider the dual variables indicated in the fullmodel as we are expecting you to use the same names. Hint: You can find the conversion rules for primal and dual problems in Lecture 5."
      ],
      "metadata": {}
    },
    {
      "outputs": [],
      "cell_type": "code",
      "source": [
        "## Define Benders subproblem\nfunction generate_and_solve_dual_subproblem(ins, x_bar)\n    \n    I = ins.I\n    J = ins.J\n    S = ins.S\n    D = ins.D\n    P = ins.P\n    Q = ins.Q\n    F = ins.F\n    U = ins.U\n    H = ins.H\n    \n    # set_silent works for Clp, and the subproblem should be an LP problem\n    sub_dual = Model(Clp.Optimizer)\n    set_silent(sub_dual)\n    \n    # TODO: add your code here\n    optimize!(sub_dual)\n    \n    u_bar = value.(sub_dual[:u])                     \n    v_bar = value.(sub_dual[:v])                     \n    opt_value = objective_value(sub_dual)\n    \n    return u_bar, v_bar, opt_value\nend"
      ],
      "metadata": {},
      "execution_count": null
    },
    {
      "cell_type": "markdown",
      "source": [
        "## Benders cut\n\nFormulate the Benders optimality cut. Remember to explain in your report why you only need to consider one type of cut."
      ],
      "metadata": {}
    },
    {
      "outputs": [],
      "cell_type": "code",
      "source": [
        "# Add the Benders cut, given current dual values\nfunction add_benders_cut(ins, main, u_bar, v_bar)   \n    \n    U = ins.U\n    H = ins.H\n    I = ins.I\n    J = ins.J\n    S = ins.S\n    \n    x = main[:x]\n    θ = main[:θ]\n    \n    @constraint(main, \n    # TODO: add your code here\n    )\n    return main\nend"
      ],
      "metadata": {},
      "execution_count": null
    },
    {
      "cell_type": "markdown",
      "source": [
        "### Testing the subproblem formulation\n\nYou can use the cell below to check whether your implementation of the subproblem is correct. For a fixed solution from the main problem, strong duality holds and thus these objective function values should match. We use `≈` which is equivalent to `approx()` to test whether the values are sufficiently close."
      ],
      "metadata": {}
    },
    {
      "outputs": [],
      "cell_type": "code",
      "source": [
        "## Test that the primal and dual solutions are the same\n(u,v,optval) = generate_and_solve_dual_subproblem(ins, x_bar)\nobj = generate_and_solve_primal_subproblem(ins, x_bar)\n@test optval ≈ obj"
      ],
      "metadata": {},
      "execution_count": null
    },
    {
      "cell_type": "markdown",
      "source": [
        "## Benders decomposition algorithm\n\nHere you will combine the functions you defined before into the complete algorithm. \n\nSome hints:\n- You should add a cut before solving the main problem for the first time to make the problem bounded (in the initialisation of the algorithm).\n- For the single cut problem, you can ignore the indices $k$ on the lecture slides, as there is only one subproblem being solved."
      ],
      "metadata": {}
    },
    {
      "outputs": [],
      "cell_type": "code",
      "source": [
        "function benders_decomposition(ins; max_iter = 100)\n    \n    k = 1\n    ϵ = 0.01\n    LB = -Inf\n    UB = +Inf\n    gap = +Inf\n    x_bar = zeros(length(ins.J))\n    \n    start = time()\n    \n    # TODO: initialize the main problem and add one Benders cut to make the problem bounded\n    \n    while k <= max_iter && gap > ϵ\n        # TODO: obtain necessary solutions\n        \n        LB = # TODO: what is the lower bound for the objective?\n        UB = # TODO: what about the upper bound?\n        gap = abs((UB - LB) / UB)\n        println(\"Iter $(k): UB: $(UB), LB: $(LB), gap $(gap)\")\n        \n        if gap <= ϵ # Lower and upper bounds are (practically) same and the solution is thus optimal\n            stop = time()\n            println(\"Optimal found. \\n Objective value: $(round(UB, digits=2)). \\n Total time: $(round(stop-start, digits=2))s\")\n            return\n        else\n            # TODO: optimality not reached, modify the main problem for the next iteration\n            k += 1\n            end\n        end\n    println(\"Maximum number of iterations exceeded\")\n    end"
      ],
      "metadata": {},
      "execution_count": null
    },
    {
      "outputs": [],
      "cell_type": "code",
      "source": [
        "benders_decomposition(ins)"
      ],
      "metadata": {},
      "execution_count": null
    },
    {
      "outputs": [],
      "cell_type": "code",
      "source": [
        "objective_value(fullmodel)"
      ],
      "metadata": {},
      "execution_count": null
    },
    {
      "cell_type": "markdown",
      "source": [
        "# Task 3: \n\n## Benders components (multi-cut version)\n\nYour task is to create a version of the main problem with multiple Benders cuts being generated at each iteration, and the respective Benders cut. We refer to this version as the multi-cut version. \n\nHere is a bonus question that might give you ideas on how the implementation could be made more efficient: notice that the previous implementation of the dual subproblem is generating all the cut information at once, and that is why we can reutilise the function `solve_dual_subproblem(ins, x_bar)` here. Imagining that you have a number of parallel computing nodes available, can you see a way that the function `solve_dual_subproblem(ins, x_bar)` could be made more efficient? (bear in mind you are **not required** to implement or try anything in the direction of the answer to the bonus question, but only to give the question a thought!)"
      ],
      "metadata": {}
    },
    {
      "outputs": [],
      "cell_type": "code",
      "source": [
        "## Benders decomposition: multi-cut\n\n## Generates the main problem\nfunction generate_main_multi(ins)\n    \n    J = ins.J\n    S = ins.S\n    V = ins.V\n    C = ins.C\n    \n    # TODO: add your code here\n    return main  \nend\n\n# Solve the main problem\nfunction solve_main_multi(ins, main)\n    \n    optimize!(main)\n    \n    return value.(main[:x]), value.(main[:θ]), objective_value(main)    \n\nend\n\n# Add the Benders cut, given current dual values\nfunction add_benders_cut_multi(ins, main, u_bar, v_bar)   \n    \n    U = ins.U\n    H = ins.H\n    I = ins.I\n    J = ins.J\n    S = ins.S\n\n    x = main[:x]\n    θ = main[:θ]\n    \n    @constraint(main, [s in S], \n    # TODO: add your code here\n    )\n\n    return main\nend"
      ],
      "metadata": {},
      "execution_count": null
    },
    {
      "outputs": [],
      "cell_type": "code",
      "source": [
        "function benders_decomposition_multi(ins; max_iter = 100)\n    \n    k = 1\n    ϵ = 0.01\n    LB = -Inf\n    UB = +Inf\n    gap = +Inf\n    x_bar = zeros(length(ins.J))\n    \n    start = time()\n    \n    # TODO: initialize the main problem and add one set of Benders cuts to make the problem bounded\n    \n    while k <= max_iter && gap > ϵ\n        # TODO: obtain necessary solutions\n        \n        LB = # TODO: what is the lower bound for the objective?\n        UB = # TODO: what about the upper bound?\n        \n        gap = abs((UB - LB) / UB)\n        println(\"Iter $(k): UB: $(UB), LB: $(LB), gap $(gap)\")\n        \n        if gap <= ϵ # Lower and upper bounds are (practically) same and the solution is thus optimal\n            stop = time()\n            println(\"Optimal found. \\n Objective value: $(round(UB, digits=2)). \\n Total time: $(round(stop-start, digits=2))s\")\n            return\n        else\n            # TODO: optimality not reached, modify the main problem for the next iteration\n            k += 1\n            end\n        end\n    println(\"Maximum number of iterations exceeded\")\n    end"
      ],
      "metadata": {},
      "execution_count": null
    },
    {
      "outputs": [],
      "cell_type": "code",
      "source": [
        "benders_decomposition_multi(ins)"
      ],
      "metadata": {},
      "execution_count": null
    }
  ],
  "nbformat_minor": 2,
  "metadata": {
    "language_info": {
      "file_extension": ".jl",
      "mimetype": "application/julia",
      "name": "julia",
      "version": "1.5.1"
    },
    "kernelspec": {
      "name": "julia-1.5",
      "display_name": "Julia 1.5.1",
      "language": "julia"
    }
  },
  "nbformat": 4
}
