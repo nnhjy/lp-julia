{
 "cells": [
  {
   "cell_type": "code",
   "execution_count": null,
   "metadata": {},
   "outputs": [],
   "source": [
    "using JuMP, Cbc, Plots     # The usual packages\n",
    "using DelimitedFiles       # IO reading/writing files\n",
    "using LinearAlgebra        # For convenience (includes function norm(x))\n",
    "using Combinatorics        # To perform permutations"
   ]
  },
  {
   "cell_type": "markdown",
   "metadata": {},
   "source": [
    "# MS-E2121 - Linear optimization\n",
    "## Exercise session 8\n",
    "\n"
   ]
  },
  {
   "cell_type": "markdown",
   "metadata": {},
   "source": [
    "### Demo exercise: Travelling salesman problem (TSP) - MTZ formulation\n",
    "#### Examining the formulation\n",
    "\n",
    "Show that the following formulation $P_{MTZ}$ is valid for the TSP defined on a directed graph $G = (N,A)$ with $N = \\{1,\\dots,n\\}$ cities and arcs $A = \\{(i,j) : i,j\\in N, i\\neq j\\}$ between cities.\n",
    "$$\n",
    "P_{MTZ} = \\left\\{\n",
    "   \\begin{array}{ll}\n",
    "   \\displaystyle \\sum_{j \\in N \\setminus \\{i\\}} x_{ij} = 1, & \\forall i \\in N \\\\\n",
    "   \\displaystyle \\sum_{j \\in N \\setminus \\{i\\}} x_{ji} = 1, & \\forall i \\in N \\\\   \n",
    "   \\displaystyle u_{i} - u_{j} + (n-1) x_{ij} \\leq n - 2, & \\forall i,j \\in N \\setminus \\{ 1 \\} : i \\neq j ~~(*)\\\\\n",
    "    x_{ij} \\in \\{0,1\\}, & \\forall i,j \\in N : i\\neq j\\\\\n",
    "  \\end{array}\n",
    "\\right.\n",
    "$$\n",
    "\n",
    "where $x_{ij} = 1$ if city $j\\in N$ is visited immediately after city $i \\in N$, and $x_{ij} = 0$ otherwise. Constraints $(*)$ with the variables $u_i \\in \\mathbb{R}$ for all $i\\in N$ are called *Miller-Tucker-Zemlin* (MTZ) subtour elimination constraints.\n",
    "\n",
    "\n",
    "We want to show that\n",
    "1. Constraints $(*)$ prevent subtours in any solution $x \\in P_{MTZ}$.\n",
    "2. Every TSP solution $x$ satisfies the constraints $(*)$.\n",
    "\n",
    "To prove the first one, we first assume that a solution $x \\in P_{MTZ}$ *has* a subtour with $k$ nodes and $k$ arcs between them, not going through node 1. For example, assume nodes 2, 3 and 5 form a subtour when $n=5$. Let's write the constraints $(*)$ corresponding to this subtour:\n",
    "\n",
    "\\begin{align}\n",
    "    u_2 - u_3 + 4 \\le 3 \\\\\n",
    "    u_3 - u_5 + 4 \\le 3 \\\\\n",
    "    u_5 - u_2 + 4 \\le 3\n",
    "\\end{align}\n",
    "\n",
    "We observe that if $x_{ij} = 1$ such that $i,j \\in N \\setminus 1$, the constraint $(*)$ can be written as $u_i \\le u_j - 1$, which for integer variables is the same as $u_i < u_j$. For a general result, we denote the nodes in the subtour by $\\{i_1, ..., i_k\\}$ and get $u_{i_1} < u_{i_k} < u_{i_1}$, which is a contradiction. This tells us that there can be no subtour ($k<n$) that doesn't contain node 1. A subtour containing node 1 would imply another subtour not containing node 1, so that is also forbidden by $(*)$. This proves the first part.\n",
    "\n",
    "\n",
    "\n",
    "For the second part, we notice that the $u$-variables seem to imply an ordering for the nodes. Assume that all tours start from node 1 and $u_i, \\ i \\in N \\setminus 1$ is the position of the node on the tour (the first node visited after the starting node 1 has $u$-value 2, the second one 3 and so on). For each arc $i \\rightarrow j$, we have either $x_{ij}=0$ or $x_{ij}=1$.\n",
    "\n",
    "If $x_{ij} = 0$: there is no arc from $i$ to $j$, and the constraint is $u_{i} - u_{j} \\leq n - 2$, which holds, since we defined that $i$ and $j$ can't be 1, and also not greater than $n$. The upper bound of the difference between two $u$-values is thus $n-2$, and the constraint always holds if $x_{ij}=0.\n",
    "\n",
    "If $x_{ij} = 1$: there is an arc from $i$ to $j$, and the constraint is $u_{i} - u_{j} + n-1 \\leq n - 2$ or $u_{i} - u_{j} \\leq -1$, which looks familiar from before and actually holds when we do not have subtours since by our definition, $u_i - u_j = -1$. The key is that this time, we have no subtours that do not contain node 1, which is treated as a special case.\n",
    "\n",
    "To conclude, we proved that this formulation does not allow subtours, and all valid solutions $x$ satisfy the constraints. Therefore, the formulation is valid."
   ]
  },
  {
   "cell_type": "markdown",
   "metadata": {},
   "source": [
    "#### MTZ and naive TSP implementation\n",
    "We first write some helper functions, starting with one that computes the distances between coordinates:"
   ]
  },
  {
   "cell_type": "code",
   "execution_count": null,
   "metadata": {},
   "outputs": [],
   "source": [
    "## Function for getting the distances array\n",
    "function get_dist(xycoord::Matrix{},n::Int)\n",
    "    # Compute distance matrix (d[i,j]) from city coordinates\n",
    "    \n",
    "    dist = zeros(n,n)\n",
    "    for i = 1:n\n",
    "        for j = i:n\n",
    "            d = norm(xycoord[i,:] - xycoord[j,:])\n",
    "            dist[i,j] = d\n",
    "            dist[j,i] = d\n",
    "        end\n",
    "    end\n",
    "    return dist\n",
    "end"
   ]
  },
  {
   "cell_type": "markdown",
   "metadata": {},
   "source": [
    "A function to convert the adjacency matrix $x$ describing a tour to a vector representing the tour, starting from city 1."
   ]
  },
  {
   "cell_type": "code",
   "execution_count": null,
   "metadata": {},
   "outputs": [],
   "source": [
    "# Get the optimal tour\n",
    "# Input\n",
    "#     x: solution matrix \n",
    "#     n: number of cities\n",
    "# Returns\n",
    "#     tour: ordering of cities in the optimal tour\n",
    "function gettour(x::Matrix{Int}, n::Int)\n",
    "    tour = zeros(Int,n+1)   # Initialize tour vector (n+1 as city 1 appears twice)\n",
    "    tour[1] = 1             # Set city 1 as first one in the tour\n",
    "    k = 2                   # Index of vector tour[k]\n",
    "    i = 1                   # Index of current city \n",
    "    while k <= n + 1        # Find all n+1 tour nodes (city 1 is counted twice)\n",
    "        for j = 1:n         \n",
    "            if x[i,j] == 1  # Find next city j visited immediately after i\n",
    "                tour[k] = j # Set city j as the k:th city in the tour\n",
    "                k = k + 1   # Update index k of tour[] vector\n",
    "                i = j       # Move to next city\n",
    "                break       \n",
    "            end\n",
    "        end\n",
    "    end \n",
    "    return tour             # Return the optimal tour \n",
    "end"
   ]
  },
  {
   "cell_type": "code",
   "execution_count": null,
   "metadata": {},
   "outputs": [],
   "source": [
    "## Defining the colors to be used\n",
    "c_blue = palette(:auto)[1]                         # color :1\n",
    "c_orange = palette(:auto)[2]                       # color :2\n",
    "c_green = palette(:auto)[3];                       # color :3"
   ]
  },
  {
   "cell_type": "markdown",
   "metadata": {},
   "source": [
    "The data is stored in csv-files, a common external data format. We use the DelimitedFiles package to read a file into a matrix ```data```."
   ]
  },
  {
   "cell_type": "code",
   "execution_count": null,
   "metadata": {},
   "outputs": [],
   "source": [
    "# \"data16a.csv\" has 3 columns which are stored in (Nullable) Arrays\n",
    "# data[1], data[2], data[3] after the function call\n",
    "# data = CSV.read(...) below. The columns contain:\n",
    "#\n",
    "#     data[:,1]: all cities i in V\n",
    "#     data[:,2]: x-coordinate of each city i in V\n",
    "#     data[:,3]: y-coordinate of each city i in V\n",
    "#\n",
    "\n",
    "data  = readdlm(\"data16a.csv\", ',')   \n",
    "# data  = readdlm(\"data16b.csv\", ',')   \n",
    "n = 16                  # number of cities \n",
    "# println(data)         # Look at the data in compact form\n",
    "V = data[2:n+1,1]       # All cities i in V\n",
    "x = data[2:n+1,2]       # x-coordinates of cities i in V\n",
    "y = data[2:n+1,3]       # y-coordinates of cities i in V\n",
    "xycoord = [x y];        # n x 2 coordinate matrix"
   ]
  },
  {
   "cell_type": "code",
   "execution_count": null,
   "metadata": {},
   "outputs": [],
   "source": [
    "function tsp_naive(xycoord::Matrix{}, n::Int)\n",
    "    \n",
    "    # Create a model \n",
    "    m = Model(Cbc.Optimizer)  \n",
    "    \n",
    "    # Here the costs c are the distances between cities\n",
    "    c = get_dist(xycoord,n)\n",
    "    \n",
    "    ## Variables\n",
    "\n",
    "    # x[i,j] = 1 if we travel from city i to city j, 0 otherwise.\n",
    "    @variable(m, x[1:n,1:n], Bin)\n",
    "    \n",
    "    ## Objective\n",
    "    \n",
    "    # Minimize length of tour\n",
    "    @objective(m, Min, dot(c,x))\n",
    "\n",
    "    ## Constraints\n",
    "    \n",
    "    # Ignore self arcs: set x[i,i] = 0  \n",
    "    @constraint(m, sar[i = 1:n], x[i,i] == 0)\n",
    "\n",
    "    # We must enter and leave every city exactly once             \n",
    "    @constraint(m, ji[i = 1:n], sum(x[j,i] for j = 1:n if j != i) == 1)\n",
    "    @constraint(m, ij[i = 1:n], sum(x[i,j] for j = 1:n if j != i) == 1)\n",
    "\n",
    "    optimize!(m)\n",
    "                                \n",
    "    cost = objective_value(m)         # Optimal cost (length)\n",
    "    sol_x = round.(Int, value.(x))    # Optimal solution vector\n",
    "    \n",
    "    return m, sol_x, cost\n",
    "end;"
   ]
  },
  {
   "cell_type": "code",
   "execution_count": null,
   "metadata": {},
   "outputs": [],
   "source": [
    "## Solve the problem and evaluate time and memory with @time macro\n",
    "(m_naive, x_naive, cost_naive) = @time tsp_naive(xycoord, n);\n",
    "\n",
    "# Get the optimal tour\n",
    "tour_naive = gettour(x_naive,n);"
   ]
  },
  {
   "cell_type": "code",
   "execution_count": null,
   "metadata": {},
   "outputs": [],
   "source": [
    "plt = scatter(xycoord[:,1],xycoord[:,2], \n",
    "      markercolor = c_blue,\n",
    "      markerstrokewidth = 0,\n",
    "      legend = false\n",
    ")\n",
    "for i in 1:length(tour_naive)-1\n",
    "    annotate!(xycoord[tour_naive[i],1]+50, xycoord[tour_naive[i],2]+50, (\"$(tour_naive[i])\", 7, :left))\n",
    "    plot!(([xycoord[tour_naive[i],1],xycoord[tour_naive[i+1],1]] , [xycoord[tour_naive[i],2],xycoord[tour_naive[i+1],2]]), c = c_blue, label = \"\")\n",
    "end\n",
    "plt"
   ]
  },
  {
   "cell_type": "code",
   "execution_count": null,
   "metadata": {},
   "outputs": [],
   "source": [
    "plt = scatter(xycoord[:,1],xycoord[:,2], \n",
    "      markercolor = c_blue,\n",
    "      markerstrokewidth = 0,\n",
    "      legend = false\n",
    ")\n",
    "for i in 1:n\n",
    "    annotate!(xycoord[i,1]+50, xycoord[i,2]+50, (\"$(i)\", 7, :left))\n",
    "    for j in 1:n\n",
    "        if x_naive[i,j] == 1\n",
    "            plot!(([xycoord[i,1],xycoord[j,1]] , [xycoord[i,2],xycoord[j,2]]), c = c_blue, label = \"\")\n",
    "            break\n",
    "        end\n",
    "    end\n",
    "end\n",
    "plt"
   ]
  },
  {
   "cell_type": "code",
   "execution_count": null,
   "metadata": {},
   "outputs": [],
   "source": [
    "# Solve a directed, TSP instance (MTZ formulation)\n",
    "# Input\n",
    "#    xycoord: coordinates of city locations\n",
    "#    n: number of cities\n",
    "# Returns\n",
    "#    tour: ordering of cities in the optimal tour\n",
    "#    cost: cost (length) of the optimal tour\n",
    "function tsp_mtz(xycoord::Matrix{}, n::Int)\n",
    "    \n",
    "    # Create a model \n",
    "    m = Model(Cbc.Optimizer)  \n",
    "    \n",
    "    # Here the costs c are the distances between cities\n",
    "    c = get_dist(xycoord,n)\n",
    "    \n",
    "    ## Variables\n",
    "\n",
    "    # x[i,j] = 1 if we travel from city i to city j, 0 otherwise.\n",
    "    @variable(m, x[1:n,1:n], Bin)\n",
    "    # Variables u for subtour elimination constraints\n",
    "    @variable(m, u[2:n])   \n",
    "    \n",
    "    ## Objective\n",
    "    \n",
    "    # Minimize length of tour\n",
    "    @objective(m, Min, dot(c,x))\n",
    "\n",
    "    ## Constraints\n",
    "    \n",
    "    # Ignore self arcs: set x[i,i] = 0  \n",
    "    @constraint(m, sar[i = 1:n], x[i,i] == 0)\n",
    "\n",
    "    # We must enter and leave every city exactly once             \n",
    "    @constraint(m, ji[i = 1:n], sum(x[j,i] for j = 1:n if j != i) == 1)\n",
    "    @constraint(m, ij[i = 1:n], sum(x[i,j] for j = 1:n if j != i) == 1)\n",
    "                                    \n",
    "    # MTZ subtour elimination constraints\n",
    "    @constraint(m, sub[i = 2:n, j = 2:n, i != j], u[i] - u[j] + (n-1)*x[i,j] <= (n-2))\n",
    "                                \n",
    "    optimize!(m)\n",
    "                                \n",
    "    cost = objective_value(m)         # Optimal cost (length)\n",
    "    sol_x = round.(Int, value.(x))    # Optimal solution vector\n",
    "    \n",
    "    return m, sol_x, cost\n",
    "end;"
   ]
  },
  {
   "cell_type": "code",
   "execution_count": null,
   "metadata": {},
   "outputs": [],
   "source": [
    "## Solve the problem and evaluate time and memory with @time macro\n",
    "(m_mtz, x_mtz, cost_mtz) = @time tsp_mtz(xycoord, n);\n",
    "\n",
    "# Get the optimal tour\n",
    "tour_mtz = gettour(x_mtz,n);      "
   ]
  },
  {
   "cell_type": "code",
   "execution_count": null,
   "metadata": {},
   "outputs": [],
   "source": [
    "## Print the optimal tour and its cost\n",
    "println(\"\\nOptimal tour: $(tour_mtz)\\n\")\n",
    "println(\"Optimal length: \", cost_mtz)"
   ]
  },
  {
   "cell_type": "code",
   "execution_count": null,
   "metadata": {},
   "outputs": [],
   "source": [
    "plt = scatter(xycoord[:,1],xycoord[:,2], \n",
    "      markercolor = c_blue,\n",
    "      markerstrokewidth = 0,\n",
    "      legend = false\n",
    ")\n",
    "for i in 1:length(tour_mtz)-1\n",
    "    annotate!(xycoord[tour_mtz[i],1]+50, xycoord[tour_mtz[i],2]+50, (\"$(tour_mtz[i])\", 7, :left))\n",
    "    plot!(([xycoord[tour_mtz[i],1],xycoord[tour_mtz[i+1],1]] , [xycoord[tour_mtz[i],2],xycoord[tour_mtz[i+1],2]]), c = c_blue, label = \"\")\n",
    "end\n",
    "plt"
   ]
  },
  {
   "cell_type": "markdown",
   "metadata": {},
   "source": [
    "Now that we have solved the problem using the MTZ formulation, let's try solving the same problem starting with the naive implementation and using successive cutset or subtour elimination constraints:"
   ]
  },
  {
   "cell_type": "code",
   "execution_count": null,
   "metadata": {},
   "outputs": [],
   "source": [
    "## Initialisation\n",
    "(m_naive, x_naive, cost_naive) = tsp_naive(xycoord, n);\n",
    "subnodes = []\n",
    "count = 0\n",
    "stop = 0\n",
    "lim = 100\n",
    "methods = [:elimination,:cutset]\n",
    "method = methods[2];"
   ]
  },
  {
   "cell_type": "code",
   "execution_count": null,
   "metadata": {},
   "outputs": [],
   "source": [
    "## Perform cuts to break subtours until we got an optimal\n",
    "@time while stop == 0 && count < lim\n",
    "\n",
    "    S = collect(permutations(subnodes,2))     # Possible connections present in the naive implementation\n",
    "    NS = setdiff(V,subnodes)                  # Nodes that are still not included in the tour\n",
    "\n",
    "    if method == :cutset\n",
    "        ## Cutset constraints\n",
    "        if length(S) > 0\n",
    "            @constraint(m_naive,sum(m_naive[:x][subnodes[i],NS[j]] for i in 1:length(subnodes), j in 1:length(NS)) >= 1)\n",
    "        end\n",
    "    else\n",
    "        ## Subtour elimination constraints\n",
    "        if length(S) > 0\n",
    "            @constraint(m_naive,sum(m_naive[:x][S[i][1],S[i][2]] for i in 1:length(S)) <= length(subnodes)-1)\n",
    "        end\n",
    "    end\n",
    "\n",
    "    set_silent(m_naive)\n",
    "    optimize!(m_naive)\n",
    "\n",
    "    cost2 = objective_value(m_naive)          # Optimal cost (length)\n",
    "    sol_x = round.(Int, value.(m_naive[:x]))     # Optimal solution vector\n",
    "\n",
    "    tour2 = gettour(sol_x,n)            # Get the optimal tour\n",
    "    \n",
    "    if length(unique(tour2)) < n\n",
    "        count = count + 1\n",
    "        println(\"Method used: \",method)\n",
    "        println(\"Subtours present in node 1, update subnodes vector to break the subtour: \", tour2')\n",
    "        println(\"\\nIteration $(count); not optimal.\\n\")\n",
    "        subnodes = unique(tour2);\n",
    "    else\n",
    "        println(\"Method used: \",method)\n",
    "        println(\"Optimal tour: \", tour2')\n",
    "        println(\"\\n Took $(count) iterations to find the optimal solution.\")\n",
    "        S = []\n",
    "        stop = 1\n",
    "    end;\n",
    "end;"
   ]
  },
  {
   "cell_type": "markdown",
   "metadata": {},
   "source": [
    "### Scheduling problem\n",
    "TODO"
   ]
  }
 ],
 "metadata": {
  "kernelspec": {
   "display_name": "Julia 1.7.1",
   "language": "julia",
   "name": "julia-1.7"
  },
  "language_info": {
   "file_extension": ".jl",
   "mimetype": "application/julia",
   "name": "julia",
   "version": "1.5.4"
  }
 },
 "nbformat": 4,
 "nbformat_minor": 4
}
