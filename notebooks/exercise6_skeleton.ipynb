{
 "cells": [
  {
   "cell_type": "markdown",
   "metadata": {},
   "source": [
    "# MS-E2121 Exercise session 6\n",
    "\n",
    "### Problem 6.1: Sensitivity analysis in the RHS\n",
    "\n",
    "Consider the following LP and its optimal tableau below:\n",
    "\n",
    "\\begin{matrix}\n",
    "\t\tmin         &  -2x_1  & - &   x_2  & + &  x_3  &       &    \\\\\n",
    "\t\ts.t.        &    x_1  & + &  2x_2  & + &  x_3  &  \\leq & 8  \\\\\n",
    "\t\t            &   -x_1  & + &   x_2  & - & 2x_3  &  \\leq & 4  \\\\\n",
    "\t\t            &   3x_1  & + &   x_2  &   &       &  \\leq & 10 \\\\\n",
    "            &    x_1, x_2, x_3  & \\geq & 0   \n",
    "\\end{matrix}\n",
    "\n",
    "<br/>\n",
    "\n",
    "\\begin{matrix}\n",
    "      & | & \\text{RHS} & | &    x_1 &   x_2 &   x_3  &   x_4  &   x_5  &   x_6  \\\\\n",
    " z=   & | &       -7.6 & | &      0 &     0 &   1.2  &   0.2  &     0  &   0.6  \\\\\n",
    " --   & | &        --- & | &    --- &   --- &   ---  &   ---  &    --- &    --- \\\\\n",
    "x_1 = & | &        2.4 & | &      1 &     0 &  -0.2  &  -0.2  &     0  &   0.4  \\\\\n",
    "x_2 = & | &        2.8 & | &      0 &     1 &   0.6  &   0.6  &     0  &  -0.2  \\\\\n",
    "x_5 = & | &        3.6 & | &      0 &     0 &  -2.8  &  -0.8  &     1  &   0.6  \\\\\n",
    "\\end{matrix}\n",
    "\n",
    "(a) If you were to choose between increasing in 1 unit the right hand side (RHS) of any constraints, which one would you choose, and why? What is the effect of the increase on the optimal cost? <br/>\n",
    "<br/>\n",
    "(b) Perform a sensitivity analysis on the model to discover what is the range of alteration in the RHS in which the same effect calculated in item (a) can be expected. *HINT*: JuMP 0.21.6 and above includes the function ``lp_sensitivity_report()`` that you can use to help performing the analysis."
   ]
  },
  {
   "cell_type": "code",
   "execution_count": null,
   "metadata": {},
   "outputs": [],
   "source": [
    "using JuMP, GLPK"
   ]
  },
  {
   "cell_type": "markdown",
   "metadata": {},
   "source": [
    "Matrices A, b, and c:"
   ]
  },
  {
   "cell_type": "code",
   "execution_count": null,
   "metadata": {},
   "outputs": [],
   "source": [
    "A = [ 1  2  1  1  0  0;\n",
    "     -1  1 -2  0  1  0;\n",
    "      3  1  0  0  0  1]\n",
    "\n",
    "b = [8 ; 4 ; 10]\n",
    "c = [-2 ; -1 ; 1 ; 0 ; 0 ; 0];"
   ]
  },
  {
   "cell_type": "markdown",
   "metadata": {},
   "source": [
    "Using the optimal solution presented in the optimal tableau ($x_1 = 2.4$, $x_2 = 2.8$, $x_5 = 3.6$), we can check what is the optimal basis. Additionally, columns $A_4$, $A_5$, and $A_6$ stand for the slack variables."
   ]
  },
  {
   "cell_type": "code",
   "execution_count": null,
   "metadata": {},
   "outputs": [],
   "source": [
    "Bas = [1,2,5]\n",
    "## Computing invB\n",
    "B = A[:,Bas]\n",
    "invB = inv(B);"
   ]
  },
  {
   "cell_type": "markdown",
   "metadata": {},
   "source": [
    "Using the reduced costs from the optimal tableau, we can derive the duals $p_1, p_2, p_3$ as follows: <br/>\n",
    "<br/>\n",
    "$\\bar{c}_j = c_j - c_B B^{-1} A_j = c_j - p^{\\top}A_j$ <br/>\n",
    "\n",
    "$0.2 = \\bar{c}_4 = c_4 - \\text{p}^{\\top}\\text{A}_4 = 0 - p_1 \\Rightarrow p_1 = -0.2$ <br/>\n",
    "$0 = \\bar{c}_5 = c_5 - \\text{p}^{\\top}\\text{A}_5 = 0 - p_2 \\Rightarrow p_2 = 0$ <br/>\n",
    "$0.6 = \\bar{c}_6 = c_6 - \\text{p}^{\\top}\\text{A}_6 = 0 - p_3 \\Rightarrow p_3 = -0.6$ <br/>\n",
    "\n",
    "Therefore, the effects on the optimal cost for increasing in 1 the RHS of the constraints $c_1, c_2, c_3$ is respectively $(-0.2,0,-0.6)$.\n",
    " \n",
    "As shown in Lecture 6, slide 10, the bounds for the RHS alteration $\\delta$ is: <br/>\n",
    "<br/>\n",
    "${max}_{j:g_{ji}>0} \\left( -\\frac{x_{\\text{B(j)}}}{g_{ji}} \\right) \\leq \\delta \\leq {min}_{j:g_{ji}<0} \\left( -\\frac{x_{\\text{B(j)}}}{g_{ji}} \\right)$,\n",
    "\n",
    "where $g_{ji}$ is the element on the $j$th row and $i$th column of $B^{-1}$."
   ]
  },
  {
   "cell_type": "code",
   "execution_count": null,
   "metadata": {},
   "outputs": [],
   "source": [
    "## Computing the range of changing for the constraint 1\n",
    "bounds = -invB*b./invB[:,1]\n",
    "pos = -invB*b./invB[:,1] .> 0\n",
    "neg = -invB*b./invB[:,1] .< 0\n",
    "\n",
    "lower_bound_1 = maximum(bounds[neg])\n",
    "upper_bound_1 = minimum(bounds[pos]);\n",
    "\n",
    "println(\"Changes in the RHS for c1 are constrained between [\", round(lower_bound_1,digits=2) , \",\" ,\n",
    "        round(upper_bound_1,digits=2), \"].\" )\n",
    "println(\"b_1 is thus constrained between [\", b[1]+round(lower_bound_1,digits=2) , \",\" ,\n",
    "        b[1]+round(upper_bound_1,digits=2), \"].\" )"
   ]
  },
  {
   "cell_type": "code",
   "execution_count": null,
   "metadata": {},
   "outputs": [],
   "source": [
    "## Computing the range of changing for the constraint 3\n",
    "bounds = -invB*b./invB[:,3]\n",
    "pos = -invB*b./invB[:,3] .> 0\n",
    "neg = -invB*b./invB[:,3] .< 0\n",
    "\n",
    "lower_bound_3 = maximum(bounds[neg])\n",
    "upper_bound_3 = minimum(bounds[pos]);\n",
    "\n",
    "println(\"Changes in the RHS for c3 are constrained between [\", round(lower_bound_3,digits=2) , \",\" ,\n",
    "        round(upper_bound_3,digits=3), \"].\" )\n",
    "println(\"b_3 is thus constrained between [\", b[3]+round(lower_bound_3,digits=2) , \",\" ,\n",
    "        b[3]+round(upper_bound_3,digits=2), \"].\" )"
   ]
  },
  {
   "cell_type": "markdown",
   "metadata": {},
   "source": [
    "We can do the same using JuMP:"
   ]
  },
  {
   "cell_type": "code",
   "execution_count": null,
   "metadata": {},
   "outputs": [],
   "source": [
    "## Declaring the model\n",
    "model = Model(GLPK.Optimizer);"
   ]
  },
  {
   "cell_type": "code",
   "execution_count": null,
   "metadata": {},
   "outputs": [],
   "source": [
    "## Developing the LP\n",
    "\n",
    "## Declaring variables\n",
    "@variable(model, x1 >= 0)\n",
    "@variable(model, x2 >= 0)\n",
    "@variable(model, x3 >= 0)\n",
    "\n",
    "## Declaring objective function\n",
    "@objective(model, Min, -2x1 - x2 + x3)\n",
    "\n",
    "## Declaring constraints\n",
    "@constraint(model, con1, x1 + 2x2 + x3 <= 8)\n",
    "@constraint(model, con2, -x1 + x2 -2x3 <= 4)\n",
    "@constraint(model, con3, 3x1 + x2 <= 10);"
   ]
  },
  {
   "cell_type": "code",
   "execution_count": null,
   "metadata": {},
   "outputs": [],
   "source": [
    "## Solving the LP\n",
    "set_silent(model)\n",
    "optimize!(model)\n",
    "status = termination_status(model);\n",
    "print(status)"
   ]
  },
  {
   "cell_type": "code",
   "execution_count": null,
   "metadata": {},
   "outputs": [],
   "source": [
    "## Storing the optimal point\n",
    "optimal_point = value.([x1 , x2 , x3]);"
   ]
  },
  {
   "cell_type": "code",
   "execution_count": null,
   "metadata": {},
   "outputs": [],
   "source": [
    "## Storing the obj function at the original optimal point\n",
    "obj = objective_value(model);"
   ]
  },
  {
   "cell_type": "code",
   "execution_count": null,
   "metadata": {},
   "outputs": [],
   "source": [
    "## Storing dual relative to each constraint\n",
    "duals = [dual(con1) , dual(con2) , dual(con3)];"
   ]
  },
  {
   "cell_type": "markdown",
   "metadata": {},
   "source": [
    "The function ``lp_sensitivity_report()``, introduced in JuMP 0.21.6, returns objects mapping either the range in which a variable's coefficient in the OF can change without changing the optimal basis or the RHS sensitivity. More details at https://jump.dev/JuMP.jl/dev/reference/solutions/#JuMP.lp_sensitivity_report."
   ]
  },
  {
   "cell_type": "code",
   "execution_count": null,
   "metadata": {},
   "outputs": [],
   "source": [
    "report = lp_sensitivity_report(model);"
   ]
  },
  {
   "cell_type": "markdown",
   "metadata": {},
   "source": [
    "If you name the constraint for the report you receive the range for the RHS in which the optimal solution is defined using the same basis."
   ]
  },
  {
   "cell_type": "code",
   "execution_count": null,
   "metadata": {},
   "outputs": [],
   "source": [
    "## Checking how the objective function can be altered with the RHS\n",
    "for i in 1:3\n",
    "    if duals[i] == 0\n",
    "        println(\"Constraint $i is not binding.\")\n",
    "    else\n",
    "        println(\"Constraint $i is binding, \\nincreasing one unit on the RHS will change the optimal value by \", duals[i],\n",
    "            \" if b stays between [\", b[i]+round(report[[con1,con2,con3][i]][1],digits = 2), \" , \", b[i]+round(report[[con1,con2,con3][i]][2],digits = 2), \"].\")\n",
    "    end\n",
    "end"
   ]
  },
  {
   "cell_type": "markdown",
   "metadata": {},
   "source": [
    "### Problem 6.4: Adding a new constraint\n",
    "\n",
    "Given the LP below,\n",
    "\n",
    "\\begin{matrix}\n",
    "\t\tmax         &   2x_1  & + &   x_2  &            \\\\\n",
    "\t\ts.t.        &   2x_1  & + &  2x_2  &  \\leq & 9  \\\\\n",
    "\t\t            &   2x_1  & - &   x_2  &  \\leq & 3  \\\\\n",
    "\t\t            &    x_1  &   &        &  \\leq & 3  \\\\\n",
    "\t\t            &         &   &   x_2  &  \\leq & 4  \\\\\n",
    "                    &    x_1, x_2, x_3  & \\geq & 0   \n",
    "\\end{matrix}\n",
    "\n",
    "(a) Find the primal and dual optimal solutions. *HINT*: You can use complementary slackness to, once having the primal optimum, finding the dual optimal solution. <br/>\n",
    "<br/>\n",
    "(b) Suppose we add a new constraint $6x_1 - x_2 \\leq 6$, classify the primal and dual former optimal points saying if they: (i) keep being optimal ; (ii) turn to be feasible but not optimal ; or (iii) turn infeasible.<br/>\n",
    "<br/>\n",
    "(c) Consider the new problem from item (b), find the new dual optimal point through one dual simplex iteration. After that, find the primal optimum using *complementary slackness*."
   ]
  },
  {
   "cell_type": "code",
   "execution_count": null,
   "metadata": {},
   "outputs": [],
   "source": [
    "using Plots\n",
    "using LinearAlgebra"
   ]
  },
  {
   "cell_type": "markdown",
   "metadata": {},
   "source": [
    "#### (a)"
   ]
  },
  {
   "cell_type": "code",
   "execution_count": null,
   "metadata": {},
   "outputs": [],
   "source": [
    "A = [2.0 2.0 ; 2.0 -1.0 ; 1.0 0.0 ; 0.0 1.0]           # Constraints coefficients matrix\n",
    "b = [9.0 ; 3.0 ; 3.0 ; 4.0]                            # RHS\n",
    "c = [2.0 ; 1.0];                                       # OF's coefficients"
   ]
  },
  {
   "cell_type": "code",
   "execution_count": null,
   "metadata": {},
   "outputs": [],
   "source": [
    "## Changing the problem to standard form\n",
    "A_p = Matrix(hcat(A,I(4))) # I(4) is an identity matrix representing the slack variable coefficients\n",
    "b_p = copy(b)              # RHS doesn't change\n",
    "c_p = vcat(-c,zeros(4));   # Slack variables have objective coefficient zero"
   ]
  },
  {
   "cell_type": "code",
   "execution_count": null,
   "metadata": {},
   "outputs": [],
   "source": [
    "# TODO: add your code here"
   ]
  },
  {
   "cell_type": "code",
   "execution_count": null,
   "metadata": {},
   "outputs": [],
   "source": [
    "# TODO: add your code here"
   ]
  },
  {
   "cell_type": "code",
   "execution_count": null,
   "metadata": {},
   "outputs": [],
   "source": [
    "# TODO: add your code here"
   ]
  },
  {
   "cell_type": "markdown",
   "metadata": {},
   "source": [
    "#### (b)"
   ]
  },
  {
   "cell_type": "markdown",
   "metadata": {},
   "source": [
    "#### (c)"
   ]
  },
  {
   "cell_type": "markdown",
   "metadata": {},
   "source": [
    "New constraint: 6x1 - x2 <= 6"
   ]
  },
  {
   "cell_type": "code",
   "execution_count": null,
   "metadata": {},
   "outputs": [],
   "source": [
    "## Writing the new constraint coefficient vector\n",
    "# TODO: add your code here"
   ]
  },
  {
   "cell_type": "markdown",
   "metadata": {},
   "source": [
    "New matrix A: \\begin{bmatrix}\n",
    "    \\textbf{A}          & \\textbf{0} \\\\\n",
    "    \\textbf{a}^\\top _{m+1}   &  1\n",
    "\\end{bmatrix}"
   ]
  },
  {
   "cell_type": "code",
   "execution_count": null,
   "metadata": {},
   "outputs": [],
   "source": [
    "## Updating A\n",
    "# TODO: add your code here"
   ]
  },
  {
   "cell_type": "markdown",
   "metadata": {},
   "source": [
    "New matrix B: \n",
    "\n",
    "$\\bar{\\text{B}} =$\n",
    "\\begin{bmatrix}\n",
    "    \\text{B}      &  \\text{0} \\\\\n",
    "    \\text{a}^\\top &  1\n",
    "\\end{bmatrix}"
   ]
  },
  {
   "cell_type": "code",
   "execution_count": null,
   "metadata": {},
   "outputs": [],
   "source": [
    "## Updating B\n",
    "# TODO: add your code here"
   ]
  },
  {
   "cell_type": "markdown",
   "metadata": {},
   "source": [
    "New matrix invB: \n",
    "\n",
    "$\\bar{\\text{B}}^{\\ -1} =$\n",
    "\\begin{bmatrix}\n",
    "    \\text{B}^{\\ -1}           &  \\text{0} \\\\\n",
    "    -\\text{a}^\\top \\text{B}^{\\ -1}  &   1\n",
    "\\end{bmatrix}"
   ]
  },
  {
   "cell_type": "code",
   "execution_count": null,
   "metadata": {},
   "outputs": [],
   "source": [
    "## Updating B⁻¹\n",
    "# TODO: add your code here"
   ]
  },
  {
   "cell_type": "code",
   "execution_count": null,
   "metadata": {},
   "outputs": [],
   "source": [
    "## Updating c\n",
    "# TODO: add your code here"
   ]
  },
  {
   "cell_type": "code",
   "execution_count": null,
   "metadata": {},
   "outputs": [],
   "source": [
    "## Updating the basis\n",
    "# TODO: add your code here"
   ]
  },
  {
   "cell_type": "code",
   "execution_count": null,
   "metadata": {},
   "outputs": [],
   "source": [
    "## Forming the reduced costs\n",
    "# TODO: add your code here"
   ]
  },
  {
   "cell_type": "code",
   "execution_count": null,
   "metadata": {},
   "outputs": [],
   "source": [
    "## Updating b\n",
    "# TODO: add your code here"
   ]
  },
  {
   "cell_type": "code",
   "execution_count": null,
   "metadata": {},
   "outputs": [],
   "source": [
    "## New solution (with x7 in the basis)\n",
    "# TODO: add your code here"
   ]
  },
  {
   "cell_type": "markdown",
   "metadata": {},
   "source": [
    "#### (c)"
   ]
  },
  {
   "cell_type": "code",
   "execution_count": null,
   "metadata": {},
   "outputs": [],
   "source": [
    "# TODO: add your code here"
   ]
  },
  {
   "cell_type": "code",
   "execution_count": null,
   "metadata": {},
   "outputs": [],
   "source": [
    "# TODO: add your code here"
   ]
  },
  {
   "cell_type": "code",
   "execution_count": null,
   "metadata": {},
   "outputs": [],
   "source": [
    "# TODO: add your code here"
   ]
  },
  {
   "cell_type": "code",
   "execution_count": null,
   "metadata": {},
   "outputs": [],
   "source": [
    "# TODO: add your code here"
   ]
  },
  {
   "cell_type": "code",
   "execution_count": null,
   "metadata": {},
   "outputs": [],
   "source": [
    "# TODO: add your code here"
   ]
  }
 ],
 "metadata": {
  "kernelspec": {
   "display_name": "Julia 1.5.1",
   "language": "julia",
   "name": "julia-1.5"
  },
  "language_info": {
   "file_extension": ".jl",
   "mimetype": "application/julia",
   "name": "julia",
   "version": "1.5.1"
  }
 },
 "nbformat": 4,
 "nbformat_minor": 4
}
