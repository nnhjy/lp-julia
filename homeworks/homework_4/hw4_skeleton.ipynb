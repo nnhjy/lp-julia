{
  "cells": [
    {
      "cell_type": "code",
      "execution_count": 113,
      "metadata": {},
      "outputs": [],
      "source": [
        "using JuMP               # To write the optimisation models\n",
        "using Cbc, Clp           # Solvers \n",
        "using Test               # Testing package\n",
        "using JLD2;              # File I/O"
      ]
    },
    {
      "cell_type": "markdown",
      "metadata": {},
      "source": [
        "# Homework 4\n",
        "\n",
        "## Problem description\n",
        "\n",
        "We need to fulfil the demand of clients using different servers. The demand and set of clients are unknown when making the decision on which servers to use. Consider the parameters:\n",
        "- $C_j$ - cost of installing server $j$\n",
        "- $P_s$ - probability of scenario $s$\n",
        "- $F$ - cost of unmet demand (same for all clients $i$, servers $j$ and scenarios $s$)\n",
        "- $Q_{ij}$ - benefit per one unit of demand of client $i$ served by server $j$\n",
        "- $V$ - maximum allowed number of servers\n",
        "- $D_{is}$ - demand of client $i$ in scenario $s$\n",
        "- $U$ - maximum capacity of a server (same for all servers and scenarios)\n",
        "- $H_{is}$ - a binary variable with value 1 if client $i$ is active in scenario $s$, i.e., the demand $D_{is}$ has to be fulfilled\n",
        "\n",
        "Let the variables be\n",
        "\n",
        "- $x_j$ - binary variable with value 1 if server $j$ is made available, i.e., built or installed\n",
        "- $y_{ijs}$ - the proportion of demand $D_{is}$ fulfilled by server $j$. The total demand of $i$ served by $j$ is thus $y_{ijs} \\times D_{is}$\n",
        "- $z_{js}$ - capacity shortage for server $j$. If demand is not met otherwise, any server $j$ can procure emergency capacity at a price $F$.\n",
        "\n",
        "\n",
        "The model is then given by:\n",
        "\n",
        "\\begin{align*}\n",
        "    \\min_{x_j, z_{js}, y_{ijs}} & \\sum_{j \\in J} C_j x_j + \\sum_{s} P_s \\left( - \\sum_{i \\in I,j \\in J}Q_{ij}D_{is}y_{ijs} + \\sum_{j \\in J} Fz_{js} \\right) \\\\\n",
        "    \\text{s.t.: } & \\sum_{j \\in J} x_j \\leq V   & (t)\\\\\n",
        "    & \\sum_{i \\in I} D_{is}y_{ijs} - z_{js} \\leq Ux_j, \\forall j \\in J, s \\in S  & (u_{js})\\\\\n",
        "    & \\sum_{j \\in J} y_{ijs} = H_{is}, \\forall i \\in I, s \\in S  & (v_{is}) \\\\\n",
        "    & x_j \\in \\{0,1\\}, \\ \\forall j \\in J \\\\\n",
        "    & y_{ijs} \\geq 0, \\ \\forall i \\in I, \\forall j \\in J, \\forall s \\in S \\\\\n",
        "    & z_{js} \\geq 0, \\ \\forall j \\in J, \\forall s \\in S\n",
        "\\end{align*}\n",
        "\n",
        ", where $t$, $u_{js}$, and $v_{is}$ are the dual variables related to the constraints in the model."
      ]
    },
    {
      "cell_type": "code",
      "execution_count": 114,
      "metadata": {},
      "outputs": [],
      "source": [
        "struct Instance\n",
        "    # sets\n",
        "    I  # Set of clients\n",
        "    J  # Set of servers\n",
        "    S  # Set of scenarios\n",
        "    # Parameters \n",
        "    V  # Max number of servers\n",
        "    P  # Scenario probabilities\n",
        "    H  # 1 if client requires service\n",
        "    C  # Cost of locating server at j\n",
        "    F  # Cost of unmet demand\n",
        "    D  # Demand in location i served from server j\n",
        "    Q  # Benefit per unit of demand served\n",
        "    U  # Maximum server capacity (same for all servers)\n",
        "    loc_i # Coordinates of clients\n",
        "    loc_j # Coordinates of servers\n",
        "end"
      ]
    },
    {
      "cell_type": "code",
      "execution_count": 115,
      "metadata": {},
      "outputs": [],
      "source": [
        "f = jldopen(\"hw4_ins.jld2\")\n",
        "ins = nothing\n",
        "try\n",
        "    ins = f[\"ins\"]\n",
        "finally\n",
        "    close(f)\n",
        "end;"
      ]
    },
    {
      "cell_type": "markdown",
      "metadata": {},
      "source": [
        "# Task 1: implementing the large-scale model\n",
        "\n",
        "## Model construction \n",
        "\n",
        "In the following, the full model must be implemented and solved using Cbc."
      ]
    },
    {
      "cell_type": "code",
      "execution_count": 116,
      "metadata": {},
      "outputs": [
        {
          "data": {
            "text/plain": [
              "generate_full_problem (generic function with 1 method)"
            ]
          },
          "metadata": {},
          "output_type": "display_data"
        }
      ],
      "source": [
        "function generate_full_problem(ins::Instance)\n",
        "    I = ins.I \n",
        "    J = ins.J\n",
        "    S = ins.S\n",
        "    V = ins.V \n",
        "    P = ins.P\n",
        "    H = ins.H\n",
        "    C = ins.C\n",
        "    F = ins.F\n",
        "    D = ins.D\n",
        "    Q = ins.Q\n",
        "    U = ins.U\n",
        "    # Write the full model in JuMP\n",
        "\n",
        "    # Initialize model\n",
        "    m = Model(Cbc.Optimizer)\n",
        "    \n",
        "    # TODO: add your code here\n",
        "    @variable(m, x[J], Bin)\n",
        "    @variable(m, y[I, J, S] >= 0)\n",
        "    @variable(m, z[J, S] >= 0)\n",
        "\n",
        "    @expression(m, cost_server_loc, sum(C[j] * x[j] for j in J))\n",
        "\n",
        "    @expression(m, cost_extra_cap[s in S], sum(F * z[j, s] for j in J))\n",
        "    @expression(m, benifit_supply[s in S], sum(Q[i, j] * D[i, s] * y[i, j, s] for i in I for j in J))\n",
        "    @expression(m, exp_benefit, sum(P[s] * (cost_extra_cap[s] - benifit_supply[s]) for s in S))\n",
        "\n",
        "    @objective(m, Min, cost_server_loc + exp_benefit)\n",
        "\n",
        "    @constraint(m, number_of_server, sum(x[J]) <= V)\n",
        "    @constraint(m, server_capacity[j = J, s = S], sum(D[i, s] * y[i, j, s] for i in I) <= U * x[j] + z[j, s])\n",
        "    @constraint(m, affected_loc[i = I, s = S], sum(y[i, j, s] for j in J) == H[i, s])\n",
        "    \n",
        "    # Return the generated model\n",
        "    return m\n",
        "end"
      ]
    },
    {
      "cell_type": "code",
      "execution_count": 117,
      "metadata": {},
      "outputs": [],
      "source": [
        "fullmodel = generate_full_problem(ins)\n",
        "set_silent(fullmodel)\n",
        "optimize!(fullmodel)"
      ]
    },
    {
      "cell_type": "code",
      "execution_count": 118,
      "metadata": {},
      "outputs": [
        {
          "name": "stdout",
          "output_type": "stream",
          "text": [
            "x_bar = Int.(round.(value.(fullmodel[:x]).data)) = [0, 0, 0, 1, 1]\n",
            "opt_z = sum(value.(fullmodel[:z])) = 0.0\n",
            "round(objective_value(fullmodel), digits = 0) = -1327.0\n"
          ]
        }
      ],
      "source": [
        "# Examine the solutions\n",
        "@show x_bar = Int.(round.(value.(fullmodel[:x]).data))\n",
        "@show opt_z = sum(value.(fullmodel[:z]))\n",
        "@show round(objective_value(fullmodel), digits = 0);"
      ]
    },
    {
      "cell_type": "markdown",
      "metadata": {},
      "source": [
        "# Task 2: Benders decomposition\n",
        "\n",
        "## Benders main\n",
        "\n",
        "Formulate the initial main problem for the decomposition. Use a single variable $\\theta$ for representing the subproblem value.\n",
        "\n",
        "The model is then given by:\n",
        "\n",
        "\\begin{align*}\n",
        "    \\min_{x_j, \\theta} & \\ \\sum_{j \\in J} C_j x_j + \\theta \\\\\n",
        "    \\text{s.t.: } & \\sum_{j \\in J} x_j \\leq V   & (t)\\\\\n",
        "    & x_j \\in \\{0,1\\}, \\ \\forall j \\in J \\\\\n",
        "    & \\theta \\in \\mathbb{R}\n",
        "\\end{align*}"
      ]
    },
    {
      "cell_type": "code",
      "execution_count": 132,
      "metadata": {},
      "outputs": [
        {
          "data": {
            "text/plain": [
              "generate_main (generic function with 1 method)"
            ]
          },
          "metadata": {},
          "output_type": "display_data"
        }
      ],
      "source": [
        "## Benders decomposition\n",
        "\n",
        "## Generates the main problem\n",
        "function generate_main(ins)\n",
        "    \n",
        "    J = ins.J\n",
        "    V = ins.V\n",
        "    C = ins.C\n",
        "     \n",
        "    main = Model(Cbc.Optimizer)\n",
        "    set_silent(main)\n",
        "    \n",
        "    # TODO: add your code here\n",
        "    @variable(main, x[J], Bin)\n",
        "    @variable(main, θ)\n",
        "\n",
        "    @objective(main, Min, sum(C[j] * x[j] for j in J) + θ)\n",
        "\n",
        "    @constraint(main, number_of_server, sum(x[J]) <= V)\n",
        "\n",
        "    return main  \n",
        "end"
      ]
    },
    {
      "cell_type": "code",
      "execution_count": 133,
      "metadata": {},
      "outputs": [
        {
          "data": {
            "text/plain": [
              "solve_main (generic function with 1 method)"
            ]
          },
          "metadata": {},
          "output_type": "display_data"
        }
      ],
      "source": [
        "# Solve the main problem\n",
        "function solve_main(ins, main)\n",
        "    optimize!(main)\n",
        "    return value.(main[:x]), value(main[:θ]), objective_value(main)    \n",
        "end"
      ]
    },
    {
      "cell_type": "markdown",
      "metadata": {},
      "source": [
        "## Subproblem\n",
        "\n",
        "Formulate the primal subproblem with corresponding objective value represented by the variable $\\theta$ in the main problem. The primal subproblem is not used in the decomposition algorithm, but you will use it to test your implementation of the dual subproblem. It might also be easier to start by formulating the primal problem and then work from there to obtain the its dual formulation.\n",
        "\n",
        "The primal subproblem is formulated as:\n",
        "\n",
        "\\begin{align*}\n",
        "    \\min_{z_{js}, y_{ijs}} & \\sum_{s} P_s \\left( - \\sum_{i \\in I,j \\in J}Q_{ij}D_{is}y_{ijs} + \\sum_{j \\in J} Fz_{js} \\right)\\\\\n",
        "    \\text{s.t.: } & \\sum_{i \\in I} D_{is}y_{ijs} - z_{js} \\leq U \\overline{x}_j, \\ \\forall j \\in J, s \\in S  & (u_{js})\\\\\n",
        "    & \\sum_{j \\in J} y_{ijs} = H_{is}, \\ \\forall i \\in I, s \\in S  & (v_{is}) \\\\\n",
        "    & y_{ijs} \\geq 0, \\ \\forall i \\in I, \\forall j \\in J, \\forall s \\in S \\\\\n",
        "    & z_{js} \\geq 0, \\ \\forall j \\in J, \\forall s \\in S\n",
        "\\end{align*}"
      ]
    },
    {
      "cell_type": "code",
      "execution_count": 121,
      "metadata": {},
      "outputs": [
        {
          "data": {
            "text/plain": [
              "generate_and_solve_primal_subproblem (generic function with 1 method)"
            ]
          },
          "metadata": {},
          "output_type": "display_data"
        }
      ],
      "source": [
        "# Generate and solve the primal subproblem for a given x_bar. For test purposes only; if the dual is correct, the objective value of\n",
        "# the dual subproblem must be the same as this.\n",
        "function generate_and_solve_primal_subproblem(ins, x_bar)\n",
        "    \n",
        "    I = ins.I\n",
        "    J = ins.J\n",
        "    S = ins.S\n",
        "    D = ins.D\n",
        "    P = ins.P\n",
        "    Q = ins.Q\n",
        "    F = ins.F\n",
        "    U = ins.U\n",
        "    H = ins.H\n",
        "    \n",
        "    # set_silent works for Clp, and the subproblem should be an LP problem    \n",
        "    sub = Model(Clp.Optimizer)\n",
        "    set_silent(sub)\n",
        "\n",
        "    # TODO: add your code here\n",
        "    @variable(sub, y[I, J, S] >= 0)\n",
        "    @variable(sub, z[J, S] >= 0)\n",
        "\n",
        "    @expression(sub, cost_extra_cap[s in S], sum(F * z[j, s] for j in J))\n",
        "    @expression(sub, benifit_supply[s in S], sum(Q[i, j] * D[i, s] * y[i, j, s] for i in I for j in J))\n",
        "    @expression(sub, exp_benefit, sum(P[s] * (cost_extra_cap[s] - benifit_supply[s]) for s in S))\n",
        "\n",
        "    @objective(sub, Min, exp_benefit)\n",
        "\n",
        "    @constraint(sub, server_capacity[j = J, s = S], sum(D[i, s] * y[i, j, s] for i in I) <= U * x_bar[j] + z[j, s])\n",
        "    @constraint(sub, affected_loc[i = I, s = S], sum(y[i, j, s] for j in J) == H[i, s])\n",
        "    \n",
        "    optimize!(sub)\n",
        "    return objective_value(sub)\n",
        "    \n",
        "end"
      ]
    },
    {
      "cell_type": "markdown",
      "metadata": {},
      "source": [
        "## Dual subproblem\n",
        "\n",
        "Formulate the dual subproblem. Consider the dual variables indicated in the fullmodel as we are expecting you to use the same names. Hint: You can find the conversion rules for primal and dual problems in Lecture 5.\n",
        "\n",
        "Formulation of the dual subproblem is thus derived as:\n",
        "\n",
        "\\begin{align*}\n",
        "    \\max_{u_{js}, v_{is}} & \\sum_{j \\in J, s \\in S} (U \\overline{x}_j) u_{js} + \\sum_{i \\in I, s \\in S} H_{is} v_{is} \\\\\n",
        "    \\text{s.t.: } & D_{is} u_{js} + v_{is} \\leq -P_s Q_{ij} D_{is}, \\ \\forall i \\in I, j \\in J, s \\in S  & (y_{ijs}) \\\\\n",
        "    & - u_{js} \\leq P_{s} F, \\ \\forall j \\in J, s \\in S  & (z_{js}) \\\\\n",
        "    & u_{js} \\leq 0, \\ \\forall j \\in J, \\forall s \\in S \\\\\n",
        "    & v_{is} \\in \\mathbf{R}, \\ \\forall i \\in I, \\forall s \\in S\n",
        "\\end{align*}"
      ]
    },
    {
      "cell_type": "code",
      "execution_count": 122,
      "metadata": {},
      "outputs": [
        {
          "data": {
            "text/plain": [
              "generate_and_solve_dual_subproblem (generic function with 1 method)"
            ]
          },
          "metadata": {},
          "output_type": "display_data"
        }
      ],
      "source": [
        "## Define Benders subproblem\n",
        "function generate_and_solve_dual_subproblem(ins, x_bar)\n",
        "    \n",
        "    I = ins.I\n",
        "    J = ins.J\n",
        "    S = ins.S\n",
        "    D = ins.D\n",
        "    P = ins.P\n",
        "    Q = ins.Q\n",
        "    F = ins.F\n",
        "    U = ins.U\n",
        "    H = ins.H\n",
        "    \n",
        "    # set_silent works for Clp, and the subproblem should be an LP problem\n",
        "    sub_dual = Model(Clp.Optimizer)\n",
        "    set_silent(sub_dual)\n",
        "    \n",
        "    # TODO: add your code here\n",
        "    @variable(sub_dual, u[J, S] <= 0)\n",
        "    @variable(sub_dual, v[I, S])\n",
        "\n",
        "    @objective(sub_dual, Max, sum(U * x_bar[j] * u[j,s] for j in J for s in S) + sum(H[i,s] * v[i,s] for i in I for s in S))\n",
        "\n",
        "    @constraint(sub_dual, dual_y[i=I, j=J, s=S], D[i,s] * u[j,s] + v[i,s] <= - P[s] * Q[i,j] * D[i,s])    \n",
        "    @constraint(sub_dual, dual_z[j=J, s=S], - u[j,s] <= P[s] * F)\n",
        "\n",
        "    optimize!(sub_dual)\n",
        "    \n",
        "    u_bar = value.(sub_dual[:u])                     \n",
        "    v_bar = value.(sub_dual[:v])                     \n",
        "    opt_value = objective_value(sub_dual)\n",
        "    \n",
        "    return u_bar, v_bar, opt_value\n",
        "end"
      ]
    },
    {
      "cell_type": "markdown",
      "metadata": {},
      "source": [
        "## Benders cut\n",
        "\n",
        "Formulate the Benders optimality cut. Remember to explain in your report why you only need to consider one type of cut.\n",
        "\n",
        "Benders cut formulation:\n",
        "\n",
        "\\begin{align*}\n",
        "    \\theta \\geq \\sum_{j \\in J, s \\in S} (U x_j) \\overline{u}_{js} + \\sum_{i \\in I, s \\in S} H_{is} \\overline{v}_{is}\n",
        "\\end{align*}"
      ]
    },
    {
      "cell_type": "code",
      "execution_count": 141,
      "metadata": {},
      "outputs": [
        {
          "data": {
            "text/plain": [
              "add_benders_cut (generic function with 1 method)"
            ]
          },
          "metadata": {},
          "output_type": "display_data"
        }
      ],
      "source": [
        "# Add the Benders cut, given current dual values\n",
        "function add_benders_cut(ins, main, u_bar, v_bar)   \n",
        "    \n",
        "    U = ins.U\n",
        "    H = ins.H\n",
        "    I = ins.I\n",
        "    J = ins.J\n",
        "    S = ins.S\n",
        "    \n",
        "    x = main[:x]\n",
        "    θ = main[:θ]\n",
        "    \n",
        "    @constraint(main,  \n",
        "    # TODO: add your code here\n",
        "    θ >= sum(U * x[j] * u_bar[j,s] for j in J for s in S) + sum(H[i,s] * v_bar[i,s] for i in I for s in S)\n",
        "    )\n",
        "    return main\n",
        "end"
      ]
    },
    {
      "cell_type": "markdown",
      "metadata": {},
      "source": [
        "### Testing the subproblem formulation\n",
        "\n",
        "You can use the cell below to check whether your implementation of the subproblem is correct. For a fixed solution from the main problem, strong duality holds and thus these objective function values should match. We use `≈` which is equivalent to `approx()` to test whether the values are sufficiently close."
      ]
    },
    {
      "cell_type": "code",
      "execution_count": 131,
      "metadata": {},
      "outputs": [
        {
          "data": {
            "text/plain": [
              "\u001b[32m\u001b[1mTest Passed\u001b[22m\u001b[39m\n",
              "  Expression: optval ≈ obj\n",
              "   Evaluated: -1460.3664495861512 ≈ -1460.3664495861508"
            ]
          },
          "metadata": {},
          "output_type": "display_data"
        }
      ],
      "source": [
        "## Test that the primal and dual solutions are the same\n",
        "(u,v,optval) = generate_and_solve_dual_subproblem(ins, x_bar)\n",
        "obj = generate_and_solve_primal_subproblem(ins, x_bar)\n",
        "@test optval ≈ obj\n",
        "\n",
        "# C = ins.C\n",
        "# J = ins.J\n",
        "# obj_main = sum(C[j] * x_bar[j] for j in J)\n",
        "# @show obj_main+optval"
      ]
    },
    {
      "cell_type": "markdown",
      "metadata": {},
      "source": [
        "## Benders decomposition algorithm\n",
        "\n",
        "Here you will combine the functions you defined before into the complete algorithm. \n",
        "\n",
        "Some hints:\n",
        "- You should add a cut before solving the main problem for the first time to make the problem bounded (in the initialisation of the algorithm).\n",
        "- For the single cut problem, you can ignore the indices $k$ on the lecture slides, as there is only one subproblem being solved."
      ]
    },
    {
      "cell_type": "code",
      "execution_count": 142,
      "metadata": {},
      "outputs": [
        {
          "data": {
            "text/plain": [
              "benders_decomposition (generic function with 1 method)"
            ]
          },
          "metadata": {},
          "output_type": "display_data"
        }
      ],
      "source": [
        "function benders_decomposition(ins; max_iter = 100)\n",
        "    \n",
        "    k = 1\n",
        "    ϵ = 0.01\n",
        "    LB = -Inf\n",
        "    UB = +Inf\n",
        "    gap = +Inf\n",
        "    x_bar = zeros(length(ins.J))\n",
        "    \n",
        "    start = time()\n",
        "    \n",
        "    # TODO: initialize the main problem and add one Benders cut to make the problem bounded\n",
        "    main = generate_main(ins)\n",
        "    u_bar, v_bar, obj_sub_dual = generate_and_solve_dual_subproblem(ins, x_bar)\n",
        "    add_benders_cut(ins, main, u_bar, v_bar)\n",
        "    \n",
        "    while k <= max_iter && gap > ϵ\n",
        "        start_per_iter = time()\n",
        "        # TODO: obtain necessary solutions\n",
        "        x_bar, θ, obj_main = solve_main(ins, main)\n",
        "        u_bar, v_bar, obj_sub_dual = generate_and_solve_dual_subproblem(ins, x_bar)\n",
        "        \n",
        "        # TODO: what is the lower bound for the objective?\n",
        "        LB = obj_main\n",
        "        # TODO: what about the upper bound?\n",
        "        UB = min(UB, obj_main - θ + obj_sub_dual)\n",
        "        \n",
        "        gap = abs((UB - LB) / UB)\n",
        "        stop_per_iter = time()\n",
        "        println(\"Iter $(k): UB: $(UB), LB: $(LB), gap $(gap), time: $(round(stop_per_iter-start_per_iter, digits=2))s\")\n",
        "        \n",
        "        if gap <= ϵ # Lower and upper bounds are (practically) same and the solution is thus optimal\n",
        "            stop = time()\n",
        "            println(\"Optimal found. \\n Objective value: $(round(UB, digits=2)). \\n Total time: $(round(stop-start, digits=2))s\")\n",
        "            return\n",
        "        else\n",
        "            # TODO: optimality not reached, modify the main problem for the next iteration\n",
        "            add_benders_cut(ins, main, u_bar, v_bar)\n",
        "\n",
        "            k += 1\n",
        "            end\n",
        "        end\n",
        "    println(\"Maximum number of iterations exceeded\")\n",
        "    end"
      ]
    },
    {
      "cell_type": "code",
      "execution_count": 143,
      "metadata": {},
      "outputs": [
        {
          "name": "stdout",
          "output_type": "stream",
          "text": [
            "Iter 1: UB: -1263.0273793846552, LB: -63877.14746418126, gap 49.57463401569497, time: 0.21s\n",
            "Iter 2: UB: -1263.0273793846552, LB: -63695.02737938465, gap 49.430440716508265, time: 0.18s\n",
            "Iter 3: UB: -1299.6094936117283, LB: -32539.02737938465, gap 24.037542076547815, time: 0.14s\n",
            "Iter 4: UB: -1303.8651121860473, LB: -32529.02737938465, gap 23.948153820027294, time: 0.17s\n",
            "Iter 5: UB: -1303.8651121860473, LB: -32523.609493611726, gap 23.94399856982366, time: 0.17s\n",
            "Iter 6: UB: -1303.8651121860473, LB: -32515.609493611726, gap 23.937862965821964, time: 0.14s\n",
            "Iter 7: UB: -1303.8651121860473, LB: -32473.86511218605, gap 23.9058470916065, time: 0.2s\n",
            "Iter 8: UB: -1303.8651121860473, LB: -32473.51268758718, gap 23.90557679938411, time: 0.17s\n",
            "Iter 9: UB: -1303.8651121860473, LB: -32469.609493611726, gap 23.902583242812213, time: 0.18s\n",
            "Iter 10: UB: -1303.8651121860473, LB: -32462.369772150185, gap 23.89703073481589, time: 0.15s\n",
            "Iter 11: UB: -1303.8651121860473, LB: -32459.609493611726, gap 23.894913737810093, time: 0.17s\n",
            "Iter 12: UB: -1303.8651121860473, LB: -32452.369772150185, gap 23.88936122981377, time: 0.18s\n",
            "Iter 13: UB: -1303.8651121860473, LB: -32450.51268758718, gap 23.887936937879235, time: 0.14s\n",
            "Iter 14: UB: -1303.8651121860473, LB: -32446.609493611726, gap 23.884943381307338, time: 0.17s\n",
            "Iter 15: UB: -1303.8651121860473, LB: -1391.2450057723472, gap 0.06701605309447971, time: 0.24s\n",
            "Iter 16: UB: -1303.8651121860473, LB: -1372.5126875871792, gap 0.052649292292235715, time: 0.23s\n",
            "Iter 17: UB: -1303.8651121860473, LB: -1368.6094936117224, gap 0.04965573572033484, time: 0.25s\n",
            "Iter 18: UB: -1303.8651121860473, LB: -1363.6094936117224, gap 0.04582098321927509, time: 0.27s\n",
            "Iter 19: UB: -1303.8651121860473, LB: -1356.3697721501812, gap 0.04026847522295087, time: 0.22s\n",
            "Iter 20: UB: -1327.366449586151, LB: -1330.1653584193482, gap 0.002108618033904521, time: 0.26s\n",
            "Optimal found. \n",
            " Objective value: -1327.37. \n",
            " Total time: 4.19s\n"
          ]
        }
      ],
      "source": [
        "benders_decomposition(ins)"
      ]
    },
    {
      "cell_type": "code",
      "execution_count": 136,
      "metadata": {},
      "outputs": [
        {
          "data": {
            "text/plain": [
              "-1327.366449586151"
            ]
          },
          "metadata": {},
          "output_type": "display_data"
        }
      ],
      "source": [
        "objective_value(fullmodel)"
      ]
    },
    {
      "cell_type": "markdown",
      "metadata": {},
      "source": [
        "# Task 3: \n",
        "\n",
        "## Benders components (multi-cut version)\n",
        "\n",
        "Your task is to create a version of the main problem with multiple Benders cuts being generated at each iteration, and the respective Benders cut. We refer to this version as the multi-cut version. \n",
        "\n",
        "Here is a bonus question that might give you ideas on how the implementation could be made more efficient: notice that the previous implementation of the dual subproblem is generating all the cut information at once, and that is why we can reutilise the function `solve_dual_subproblem(ins, x_bar)` here. Imagining that you have a number of parallel computing nodes available, can you see a way that the function `solve_dual_subproblem(ins, x_bar)` could be made more efficient? (bear in mind you are **not required** to implement or try anything in the direction of the answer to the bonus question, but only to give the question a thought!)\n",
        "\n",
        "***My initial thought***: to generate the dual subproblems separately for each scenario $s \\in S$ and solve them simultaneously using the given parallel computing nodes."
      ]
    },
    {
      "cell_type": "markdown",
      "metadata": {},
      "source": [
        "### Formulation of the initial main problem\n",
        "Benders cut is generated for each scenario $s \\in S$.\n",
        "\\begin{align*}\n",
        "    \\min_{x_j, \\theta_s} & \\ \\sum_{j \\in J} C_j x_j + \\sum_{s \\in S} \\theta_s \\\\\n",
        "    \\text{s.t.: } & \\sum_{j \\in J} x_j \\leq V   & (t)\\\\\n",
        "    & x_j \\in \\{0,1\\}, \\ \\forall j \\in J \\\\\n",
        "    & \\theta_s \\in \\mathbb{R}, \\ \\forall s \\in S\n",
        "\\end{align*}"
      ]
    },
    {
      "cell_type": "code",
      "execution_count": 145,
      "metadata": {},
      "outputs": [
        {
          "data": {
            "text/plain": [
              "solve_main_multi (generic function with 1 method)"
            ]
          },
          "metadata": {},
          "output_type": "display_data"
        }
      ],
      "source": [
        "## Benders decomposition: multi-cut\n",
        "\n",
        "## Generates the main problem\n",
        "function generate_main_multi(ins)\n",
        "    \n",
        "    J = ins.J\n",
        "    S = ins.S\n",
        "    V = ins.V\n",
        "    C = ins.C\n",
        "    \n",
        "    # TODO: add your code here\n",
        "    main = Model(Cbc.Optimizer)\n",
        "    set_silent(main)\n",
        "\n",
        "    @variable(main, x[J], Bin)\n",
        "    @variable(main, θ[S])\n",
        "\n",
        "    @objective(main, Min, sum(C[j] * x[j] for j in J) + sum(θ[S]))\n",
        "\n",
        "    @constraint(main, number_of_server, sum(x[J]) <= V)\n",
        "\n",
        "    return main  \n",
        "end\n",
        "\n",
        "# Solve the main problem\n",
        "function solve_main_multi(ins, main)\n",
        "    \n",
        "    optimize!(main)\n",
        "    \n",
        "    return value.(main[:x]), value.(main[:θ]), objective_value(main)    \n",
        "\n",
        "end"
      ]
    },
    {
      "cell_type": "markdown",
      "metadata": {},
      "source": [
        "### Benders cut to be added\n",
        "\\begin{align*}\n",
        "    & \\theta_s \\geq \\sum_{j \\in J} (U x_j) \\overline{u}_{js} + \\sum_{i \\in I} H_{is} \\overline{v}_{is}, \\ \\forall s \\in S\n",
        "\\end{align*}"
      ]
    },
    {
      "cell_type": "code",
      "execution_count": 149,
      "metadata": {},
      "outputs": [
        {
          "data": {
            "text/plain": [
              "add_benders_cut_multi (generic function with 1 method)"
            ]
          },
          "metadata": {},
          "output_type": "display_data"
        }
      ],
      "source": [
        "# Add the Benders cut, given current dual values\n",
        "function add_benders_cut_multi(ins, main, u_bar, v_bar)   \n",
        "    \n",
        "    U = ins.U\n",
        "    H = ins.H\n",
        "    I = ins.I\n",
        "    J = ins.J\n",
        "    S = ins.S\n",
        "\n",
        "    x = main[:x]\n",
        "    θ = main[:θ]\n",
        "    \n",
        "    @constraint(main, [s in S], \n",
        "    # TODO: add your code here\n",
        "    θ[s] >= sum(U * x[j] * u_bar[j, s] for j in J) + sum(H[i, s] * v_bar[i, s] for i in I)\n",
        "    )\n",
        "\n",
        "    return main\n",
        "end"
      ]
    },
    {
      "cell_type": "code",
      "execution_count": 152,
      "metadata": {},
      "outputs": [
        {
          "data": {
            "text/plain": [
              "benders_decomposition_multi (generic function with 1 method)"
            ]
          },
          "metadata": {},
          "output_type": "display_data"
        }
      ],
      "source": [
        "function benders_decomposition_multi(ins; max_iter = 100)\n",
        "    \n",
        "    k = 1\n",
        "    ϵ = 0.01\n",
        "    LB = -Inf\n",
        "    UB = +Inf\n",
        "    gap = +Inf\n",
        "    x_bar = zeros(length(ins.J))\n",
        "    \n",
        "    start = time()\n",
        "    \n",
        "    # TODO: initialize the main problem and add one set of Benders cuts to make the problem bounded\n",
        "    main = generate_main_multi(ins)\n",
        "    u_bar, v_bar, obj_sub_dual = generate_and_solve_dual_subproblem(ins, x_bar)\n",
        "    add_benders_cut_multi(ins, main, u_bar, v_bar)\n",
        "    \n",
        "    while k <= max_iter && gap > ϵ\n",
        "        start_per_iter = time()\n",
        "        # TODO: obtain necessary solutions\n",
        "        x_bar, θ, obj_main = solve_main_multi(ins, main)\n",
        "        u_bar, v_bar, obj_sub_dual = generate_and_solve_dual_subproblem(ins, x_bar)\n",
        "        \n",
        "        # TODO: what is the lower bound for the objective?\n",
        "        LB = obj_main\n",
        "        # TODO: what about the upper bound?\n",
        "        UB = min(UB, obj_main - sum(θ) + obj_sub_dual)\n",
        "        \n",
        "        gap = abs((UB - LB) / UB)\n",
        "        stop_per_iter = time()\n",
        "        println(\"Iter $(k): UB: $(UB), LB: $(LB), gap $(gap), time: $(round(stop_per_iter-start_per_iter, digits=2))\")\n",
        "        \n",
        "        if gap <= ϵ # Lower and upper bounds are (practically) same and the solution is thus optimal\n",
        "            stop = time()\n",
        "            println(\"Optimal found. \\n Objective value: $(round(UB, digits=2)). \\n Total time: $(round(stop-start, digits=2))s\")\n",
        "            return\n",
        "        else\n",
        "            # TODO: optimality not reached, modify the main problem for the next iteration\n",
        "            add_benders_cut_multi(ins, main, u_bar, v_bar)\n",
        "            \n",
        "            k += 1\n",
        "            end\n",
        "        end\n",
        "    println(\"Maximum number of iterations exceeded\")\n",
        "    end"
      ]
    },
    {
      "cell_type": "code",
      "execution_count": 153,
      "metadata": {},
      "outputs": [
        {
          "name": "stdout",
          "output_type": "stream",
          "text": [
            "Iter 1: UB: -1263.0273793846625, LB: -63877.14746418113, gap 49.57463401569458, time: 0.16\n",
            "Iter 2: UB: -1263.0273793846625, LB: -61701.068317767415, gap 47.85172667264562, time: 0.15\n",
            "Iter 3: UB: -1263.0273793846625, LB: -32483.24397196351, gap 24.71855883899295, time: 0.35\n",
            "Iter 4: UB: -1263.0273793846625, LB: -32479.933919287298, gap 24.715938109838348, time: 0.42\n",
            "Iter 5: UB: -1273.1081135244865, LB: -32471.933919287298, gap 24.506030143340805, time: 0.47\n",
            "Iter 6: UB: -1278.2087360342412, LB: -32470.86182525683, gap 24.403410968697205, time: 0.73\n",
            "Iter 7: UB: -1278.2087360342412, LB: -32469.755129527002, gap 24.402545151011385, time: 0.78\n",
            "Iter 8: UB: -1278.2087360342412, LB: -32463.10586476371, gap 24.39734313308126, time: 0.76\n",
            "Iter 9: UB: -1278.2087360342412, LB: -32454.341405397172, gap 24.390486303582712, time: 0.74\n",
            "Iter 10: UB: -1278.2087360342412, LB: -32453.245446661687, gap 24.38962888592894, time: 0.99\n",
            "Iter 11: UB: -1327.366449586151, LB: -1329.9440775985843, gap 0.0019419113789088986, time: 1.3\n",
            "Optimal found. \n",
            " Objective value: -1327.37. \n",
            " Total time: 7.03s\n"
          ]
        }
      ],
      "source": [
        "benders_decomposition_multi(ins)"
      ]
    }
  ],
  "metadata": {
    "kernelspec": {
      "display_name": "Julia 1.7.1",
      "language": "julia",
      "name": "julia-1.7"
    },
    "language_info": {
      "file_extension": ".jl",
      "mimetype": "application/julia",
      "name": "julia",
      "version": "1.7.1"
    }
  },
  "nbformat": 4,
  "nbformat_minor": 2
}
