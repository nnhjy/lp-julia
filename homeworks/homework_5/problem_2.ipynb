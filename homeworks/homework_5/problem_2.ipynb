{
 "cells": [
  {
   "cell_type": "markdown",
   "metadata": {},
   "source": [
    "## 0-1 Knapsack Problem\n",
    "\n",
    "### Instance Formulation\n",
    "\n",
    "\\begin{align*}\n",
    "    & \\max_x 17x_1+10x_2 + 25x_3 + 17x_4 \\\\\n",
    "    & \\text{    s.t.: } 5x_1 + 3x_2 + 8x_3 + 7x_4 \\leq 12 \\\\\n",
    "    & \\ \\ \\ \\ \\ \\ \\ x_i \\in \\{0, 1 \\}, i = 1,\\cdots, 4.\n",
    "\\end{align*}"
   ]
  },
  {
   "cell_type": "code",
   "execution_count": 6,
   "metadata": {},
   "outputs": [],
   "source": [
    "using JuMP\n",
    "using Cbc\n",
    "using GLPK"
   ]
  },
  {
   "cell_type": "markdown",
   "metadata": {},
   "source": [
    "### Parameter matrices"
   ]
  },
  {
   "cell_type": "code",
   "execution_count": 73,
   "metadata": {},
   "outputs": [],
   "source": [
    "# c as a column vector\n",
    "# c = [17 10 25 17] defines a 1×4 Matrix, \n",
    "# which is not supported by JuMP when forming objective formula c*x\n",
    "c = [17; 10; 25; 17]\n",
    "A1 = [5 3 8 7;]\n",
    "b = [12;]\n",
    ";"
   ]
  },
  {
   "cell_type": "markdown",
   "metadata": {},
   "source": [
    "### Model setup"
   ]
  },
  {
   "cell_type": "code",
   "execution_count": 78,
   "metadata": {},
   "outputs": [
    {
     "name": "stdout",
     "output_type": "stream",
     "text": [
      "Welcome to the CBC MILP Solver \n",
      "Version: 2.10.5 \n",
      "Build Date: Jan  1 1970 \n",
      "\n",
      "command line - Cbc_C_Interface -solve -quit (default strategy 1)\n",
      "Continuous objective value is 39.5 - 0.00 seconds\n",
      "Cgl0003I 0 fixed, 0 tightened bounds, 1 strengthened rows, 0 substitutions\n",
      "Cgl0004I processed model has 1 rows, 4 columns (4 integer (4 of which binary)) and 4 elements\n",
      "Cutoff increment increased from 1e-05 to 0.9999\n",
      "Cbc0038I Initial state - 1 integers unsatisfied sum - 0.444444\n",
      "Cbc0038I Solution found of -27\n",
      "Cbc0038I Before mini branch and bound, 3 integers at bound fixed and 0 continuous\n",
      "Cbc0038I Full problem 1 rows 4 columns, reduced to 0 rows 0 columns\n",
      "Cbc0038I Mini branch and bound did not improve solution (0.00 seconds)\n",
      "Cbc0038I Round again with cutoff of -29.011\n",
      "Cbc0038I Pass   1: suminf.    0.08044 (1) obj. -29.011 iterations 1\n",
      "Cbc0038I Pass   2: suminf.    0.44444 (1) obj. -38.1111 iterations 1\n",
      "Cbc0038I Pass   3: suminf.    0.08044 (1) obj. -29.011 iterations 1\n",
      "Cbc0038I Pass   4: suminf.    0.44444 (1) obj. -38.1111 iterations 1\n",
      "Cbc0038I Pass   5: suminf.    0.42857 (1) obj. -36.7143 iterations 1\n",
      "Cbc0038I Pass   6: suminf.    0.42857 (1) obj. -36.7143 iterations 0\n",
      "Cbc0038I Pass   7: suminf.    0.08044 (1) obj. -29.011 iterations 3\n",
      "Cbc0038I Pass   8: suminf.    0.22222 (1) obj. -32.5556 iterations 1\n",
      "Cbc0038I Pass   9: suminf.    0.08044 (1) obj. -29.011 iterations 1\n",
      "Cbc0038I Pass  10: suminf.    0.42857 (1) obj. -36.7143 iterations 3\n",
      "Cbc0038I Pass  11: suminf.    0.08044 (1) obj. -29.011 iterations 2\n",
      "Cbc0038I Pass  12: suminf.    0.44444 (1) obj. -38.1111 iterations 1\n",
      "Cbc0038I Pass  13: suminf.    0.42857 (1) obj. -36.7143 iterations 1\n",
      "Cbc0038I Pass  14: suminf.    0.42857 (1) obj. -36.7143 iterations 0\n",
      "Cbc0038I Pass  15: suminf.    0.00000 (0) obj. -34 iterations 1\n",
      "Cbc0038I Solution found of -34\n",
      "Cbc0038I Before mini branch and bound, 0 integers at bound fixed and 0 continuous\n",
      "Cbc0038I Full problem 1 rows 4 columns, reduced to 1 rows 4 columns\n",
      "Cbc0038I Mini branch and bound improved solution from -34 to -35 (0.00 seconds)\n",
      "Cbc0038I Round again with cutoff of -36.4221\n",
      "Cbc0038I Reduced cost fixing fixed 2 variables on major pass 3\n",
      "Cbc0038I Pass  16: suminf.    0.37689 (1) obj. -36.4221 iterations 0\n",
      "Cbc0038I Pass  17: suminf.    0.44444 (1) obj. -38.1111 iterations 1\n",
      "Cbc0038I Pass  18: suminf.    0.37689 (1) obj. -36.4221 iterations 1\n",
      "Cbc0038I Pass  19: suminf.    0.44444 (1) obj. -38.1111 iterations 1\n",
      "Cbc0038I Pass  20: suminf.    0.44444 (1) obj. -38.1111 iterations 0\n",
      "Cbc0038I Pass  21: suminf.    0.44444 (1) obj. -38.1111 iterations 0\n",
      "Cbc0038I Pass  22: suminf.    0.44444 (1) obj. -38.1111 iterations 0\n",
      "Cbc0038I Pass  23: suminf.    0.44444 (1) obj. -38.1111 iterations 0\n",
      "Cbc0038I Pass  24: suminf.    0.37689 (1) obj. -36.4221 iterations 1\n",
      "Cbc0038I Pass  25: suminf.    0.37689 (1) obj. -36.4221 iterations 0\n",
      "Cbc0038I Pass  26: suminf.    0.37689 (1) obj. -36.4221 iterations 0\n",
      "Cbc0038I Pass  27: suminf.    0.37689 (1) obj. -36.4221 iterations 0\n",
      "Cbc0038I Pass  28: suminf.    0.37689 (1) obj. -36.4221 iterations 0\n",
      "Cbc0038I Pass  29: suminf.    0.37689 (1) obj. -36.4221 iterations 0\n",
      "Cbc0038I Pass  30: suminf.    0.37689 (1) obj. -36.4221 iterations 0\n",
      "Cbc0038I Pass  31: suminf.    0.37689 (1) obj. -36.4221 iterations 0\n",
      "Cbc0038I Pass  32: suminf.    0.37689 (1) obj. -36.4221 iterations 0\n",
      "Cbc0038I Pass  33: suminf.    0.37689 (1) obj. -36.4221 iterations 0\n",
      "Cbc0038I Pass  34: suminf.    0.37689 (1) obj. -36.4221 iterations 0\n",
      "Cbc0038I Pass  35: suminf.    0.22311 (1) obj. -36.4221 iterations 1\n",
      "Cbc0038I Pass  36: suminf.    0.22222 (1) obj. -36.4444 iterations 1\n",
      "Cbc0038I Pass  37: suminf.    0.22311 (1) obj. -36.4221 iterations 1\n",
      "Cbc0038I Pass  38: suminf.    0.37689 (1) obj. -36.4221 iterations 1\n",
      "Cbc0038I Pass  39: suminf.    0.37689 (1) obj. -36.4221 iterations 0\n",
      "Cbc0038I Pass  40: suminf.    0.37689 (1) obj. -36.4221 iterations 0\n",
      "Cbc0038I Pass  41: suminf.    0.37689 (1) obj. -36.4221 iterations 0\n",
      "Cbc0038I Pass  42: suminf.    0.22311 (1) obj. -36.4221 iterations 1\n",
      "Cbc0038I Pass  43: suminf.    0.22222 (1) obj. -36.4444 iterations 1\n",
      "Cbc0OPTIMAL\n",
      "038I Pass  44: suminf.    0.22311 (1) obj. -36.4221 iterations 1\n",
      "Cbc0038I Pass  45: suminf.    0.22311 (1) obj. -36.4221 iterations 0\n",
      "Cbc0038I No solution found this major pass\n",
      "Cbc0038I Before mini branch and bound, 2 integers at bound fixed and 0 continuous\n",
      "Cbc0038I Mini branch and bound did not improve solution (0.00 seconds)\n",
      "Cbc0038I After 0.00 seconds - Feasibility pump exiting with objective of -35 - took 0.00 seconds\n",
      "Cbc0012I Integer solution of -35 found by feasibility pump after 0 iterations and 0 nodes (0.00 seconds)\n",
      "Cbc0038I Full problem 1 rows 4 columns, reduced to 0 rows 0 columns\n",
      "Cbc0001I Search completed - best objective -35, took 0 iterations and 0 nodes (0.01 seconds)\n",
      "Cbc0035I Maximum depth 0, 2 variables fixed on reduced cost\n",
      "Cuts at root node changed objective from -38.1111 to -27\n",
      "Probing was tried 0 times and created 0 cuts of which 0 were active after adding rounds of cuts (0.000 seconds)\n",
      "Gomory was tried 0 times and created 0 cuts of which 0 were active after adding rounds of cuts (0.000 seconds)\n",
      "Knapsack was tried 0 times and created 0 cuts of which 0 were active after adding rounds of cuts (0.000 seconds)\n",
      "Clique was tried 0 times and created 0 cuts of which 0 were active after adding rounds of cuts (0.000 seconds)\n",
      "MixedIntegerRounding2 was tried 0 times and created 0 cuts of which 0 were active after adding rounds of cuts (0.000 seconds)\n",
      "FlowCover was tried 0 times and created 0 cuts of which 0 were active after adding rounds of cuts (0.000 seconds)\n",
      "TwoMirCuts was tried 0 times and created 0 cuts of which 0 were active after adding rounds of cuts (0.000 seconds)\n",
      "ZeroHalf was tried 0 times and created 0 cuts of which 0 were active after adding rounds of cuts (0.000 seconds)\n",
      "\n",
      "Result - Optimal solution found\n",
      "\n",
      "Objective value:                35.00000000\n",
      "Enumerated nodes:               0\n",
      "Total iterations:               0\n",
      "Time (CPU seconds):             0.01\n",
      "Time (Wallclock seconds):       0.01\n",
      "\n",
      "Total time (CPU seconds):       0.01   (Wallclock seconds):       0.01\n",
      "\n"
     ]
    },
    {
     "data": {
      "text/plain": [
       "A JuMP Model\n",
       "Maximization problem with:\n",
       "Variables: 4\n",
       "Objective function type: AffExpr\n",
       "`AffExpr`-in-`MathOptInterface.LessThan{Float64}`: 1 constraint\n",
       "`VariableRef`-in-`MathOptInterface.ZeroOne`: 4 constraints\n",
       "Model mode: AUTOMATIC\n",
       "CachingOptimizer state: ATTACHED_OPTIMIZER\n",
       "Solver name: COIN Branch-and-Cut (Cbc)\n",
       "Names registered in the model: Coeff, x"
      ]
     },
     "metadata": {},
     "output_type": "display_data"
    }
   ],
   "source": [
    "function matrix_formulation(optimizer, A, b, c)\n",
    "    # A: non-binary constraint coefficient matrix\n",
    "    # b: non-binary constraint constant (column) vector\n",
    "    # c: cost/profit (column) vector  \n",
    "\n",
    "    model = Model(optimizer)\n",
    "    \n",
    "    # Type I definition\n",
    "    # Set of variables x\n",
    "    J = 1:size(c)[1]\n",
    "    @variable(model, x[J], Bin)\n",
    "    @objective(model, Max, c'*x.data)\n",
    "    @constraint(model, A*x.data .<= b)\n",
    "\n",
    "    # # Type II definition\n",
    "    # # Number of variables x\n",
    "    # nJ = size(c)[1]\n",
    "    # @variable(model, x[1:nJ], Bin)\n",
    "    # @objective(model, Max, c'*x)\n",
    "    # @constraint(model, A*x .<= b)\n",
    "\n",
    "    # set_silent(model)\n",
    "    optimize!(model)\n",
    "    \n",
    "    status = termination_status(model)\n",
    "    println(status)\n",
    "\n",
    "    return model\n",
    "\n",
    "end\n",
    "\n",
    "function equation_formulation(optimizer, A, b, c)\n",
    "    model = Model(optimizer)\n",
    "    # Set of variables x\n",
    "    J = 1:size(c)[1]\n",
    "\n",
    "    # Set of the row of non-binary constraint coefficient matrix\n",
    "    I = 1:size(b)[1]\n",
    "\n",
    "    @variable(model, x[J], Bin)\n",
    "    @constraint(model, Coeff[i in I], sum(A[i,j]*x[j] for j in J) .<= b)\n",
    "    @objective(model, Max, sum(c[j]*x[j] for j in J))\n",
    "    \n",
    "    # set_silent(model)\n",
    "    optimize!(model)\n",
    "\n",
    "    status = termination_status(model)\n",
    "    println(status)\n",
    "\n",
    "    return model\n",
    "end\n",
    "\n",
    "model = equation_formulation(Cbc.Optimizer, A1, b, c)\n",
    "\n"
   ]
  },
  {
   "cell_type": "markdown",
   "metadata": {},
   "source": [
    "### Compare defining x with different set types"
   ]
  },
  {
   "cell_type": "code",
   "execution_count": 77,
   "metadata": {},
   "outputs": [
    {
     "name": "stdout",
     "output_type": "stream",
     "text": [
      "z = 1-dimensional DenseAxisArray{VariableRef,1,...} with index sets:\n",
      "    Dimension 1, 1:4\n",
      "And data, a 4-element Vector{VariableRef}:\n",
      " z[1]\n",
      " z[2]\n",
      " z[3]\n",
      " z[4]\n",
      "z.data = VariableRef[z[1], z[2], z[3], z[4]]\n",
      "y = VariableRef[y[1], y[2], y[3], y[4]]\n"
     ]
    },
    {
     "name": "stderr",
     "output_type": "stream",
     "text": [
      "┌ Warning: The model has been modified since the last call to `optimize!` (or `optimize!` has not been called yet). If you are iteratively querying solution information and modifying a model, query all the results first, then modify the model.\n",
      "└ @ JuMP C:\\Users\\jhjiang\\.julia\\packages\\JuMP\\R2Knd\\src\\JuMP.jl:1146\n"
     ]
    }
   ],
   "source": [
    "J = 1:4\n",
    "\n",
    "dummy_model = Model()\n",
    "\n",
    "@variable(dummy_model, z[J], Bin)\n",
    "@variable(dummy_model, y[1:4], Bin)\n",
    "\n",
    "@show z \n",
    "@show z.data\n",
    "@show y;"
   ]
  },
  {
   "cell_type": "markdown",
   "metadata": {},
   "source": [
    "### Print solution"
   ]
  },
  {
   "cell_type": "code",
   "execution_count": 79,
   "metadata": {},
   "outputs": [
    {
     "name": "stdout",
     "output_type": "stream",
     "text": [
      "Optimal value 35.0\n",
      "with x = [0.0, 1.0, 1.0, 0.0]\n",
      "with x = 1-dimensional DenseAxisArray{Float64,1,...} with index sets:\n",
      "    Dimension 1, 1:4\n",
      "And data, a 4-element Vector{Float64}:\n",
      " 0.0\n",
      " 1.0\n",
      " 1.0\n",
      " 0.0\n"
     ]
    }
   ],
   "source": [
    "println(\"Optimal value $(objective_value(model))\")\n",
    "\n",
    "# Compare the difference\n",
    "println(\"with x = $(value.(model[:x].data))\")\n",
    "println(\"with x = $(value.(model[:x]))\")"
   ]
  }
 ],
 "metadata": {
  "kernelspec": {
   "display_name": "Julia 1.7.1",
   "language": "julia",
   "name": "julia-1.7"
  },
  "language_info": {
   "file_extension": ".jl",
   "mimetype": "application/julia",
   "name": "julia",
   "version": "1.7.1"
  },
  "orig_nbformat": 4
 },
 "nbformat": 4,
 "nbformat_minor": 2
}
