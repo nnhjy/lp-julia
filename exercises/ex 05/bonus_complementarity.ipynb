{
 "cells": [
  {
   "cell_type": "code",
   "execution_count": 1,
   "metadata": {},
   "outputs": [],
   "source": [
    "using JuMP, Cbc, Ipopt"
   ]
  },
  {
   "cell_type": "code",
   "execution_count": 2,
   "metadata": {},
   "outputs": [
    {
     "data": {
      "text/plain": [
       "2-element Array{Int64,1}:\n",
       " 5\n",
       " 4"
      ]
     },
     "execution_count": 2,
     "metadata": {},
     "output_type": "execute_result"
    }
   ],
   "source": [
    "A = [6 4; 1 2; -1 1; 0 1]\n",
    "b = [24; 6; 1; 2]\n",
    "c = [5; 4]"
   ]
  },
  {
   "cell_type": "markdown",
   "metadata": {},
   "source": [
    "## Solving the primal and dual problems\n",
    "We formulate and solve the two problems to obtain their optimal solutions"
   ]
  },
  {
   "cell_type": "code",
   "execution_count": 3,
   "metadata": {},
   "outputs": [
    {
     "name": "stdout",
     "output_type": "stream",
     "text": [
      "Presolve 3 (-1) rows, 2 (0) columns and 6 (-1) elements\n",
      "0  Obj -0 Dual inf 8.999998 (2)\n",
      "2  Obj 21\n",
      "Optimal - objective value 21\n",
      "After Postsolve, objective 21, infeasibilities - dual 0 (0), primal 0 (0)\n",
      "Optimal objective 21 - 2 iterations time 0.002, Presolve 0.00\n"
     ]
    },
    {
     "data": {
      "text/plain": [
       "2-element Array{Float64,1}:\n",
       " 2.9999999999999996\n",
       " 1.5000000000000002"
      ]
     },
     "execution_count": 3,
     "metadata": {},
     "output_type": "execute_result"
    }
   ],
   "source": [
    "primalmodel = Model(Cbc.Optimizer)\n",
    "@variable(primalmodel, x[1:2] >= 0)\n",
    "@objective(primalmodel, Max, sum(c.*x))\n",
    "@constraint(primalmodel, [m in 1:4], sum(A[m,:].*x) <= b[m])\n",
    "optimize!(primalmodel)\n",
    "value.(primalmodel[:x])"
   ]
  },
  {
   "cell_type": "code",
   "execution_count": 4,
   "metadata": {},
   "outputs": [
    {
     "name": "stdout",
     "output_type": "stream",
     "text": [
      "Presolve 2 (0) rows, 4 (0) columns and 7 (0) elements\n",
      "0  Obj 0 Primal inf 1.8333331 (2)\n",
      "4  Obj 21\n",
      "Optimal - objective value 21\n",
      "Optimal objective 21 - 4 iterations time 0.002\n"
     ]
    },
    {
     "data": {
      "text/plain": [
       "4-element Array{Float64,1}:\n",
       " 0.7499999999999998\n",
       " 0.5000000000000004\n",
       " 0.0\n",
       " 0.0"
      ]
     },
     "execution_count": 4,
     "metadata": {},
     "output_type": "execute_result"
    }
   ],
   "source": [
    "dualmodel = Model(Cbc.Optimizer)\n",
    "@variable(dualmodel, p[1:4] >= 0)\n",
    "@objective(dualmodel, Min, sum(b.*p))\n",
    "@constraint(dualmodel, [n in 1:2], sum(A[:,n].*p) >= c[n])\n",
    "optimize!(dualmodel)\n",
    "value.(dualmodel[:p])"
   ]
  },
  {
   "cell_type": "markdown",
   "metadata": {},
   "source": [
    "## Complementary slackness\n",
    "We verify the optimality of our solutions using complementary slackness"
   ]
  },
  {
   "cell_type": "code",
   "execution_count": 5,
   "metadata": {},
   "outputs": [
    {
     "name": "stdout",
     "output_type": "stream",
     "text": [
      "Primal feasibility:\n",
      "23.999999999999996 <= 24\n",
      "6.0 <= 6\n",
      "-1.4999999999999993 <= 1\n",
      "1.5000000000000002 <= 2\n",
      "\n",
      "Dual feasibility:\n",
      "4.999999999999998 <= 5\n",
      "4.0 <= 4\n",
      "\n",
      "Complementary slackness:\n",
      "-2.664535259100375e-15 = 0\n",
      "0.0 = 0\n",
      "-0.0 = 0\n",
      "-0.0 = 0\n",
      "-5.3290705182007506e-15 = 0\n",
      "0.0 = 0\n"
     ]
    }
   ],
   "source": [
    "x_opt = value.(primalmodel[:x])\n",
    "p_opt = value.(dualmodel[:p]) \n",
    "lhs_primal = A*x_opt\n",
    "lhs_dual = A'*p_opt\n",
    "\n",
    "println(\"Primal feasibility:\")\n",
    "for m in 1:4\n",
    "    println(\"$(round(lhs_primal[m],digits=2)) <= $(b[m])\")\n",
    "end\n",
    "\n",
    "println(\"\\nDual feasibility:\")\n",
    "for n in 1:2\n",
    "    println(\"$(round(lhs_dual[n],digits=2)) >= $(c[n])\")\n",
    "end\n",
    "\n",
    "println(\"\\nComplementary slackness:\")\n",
    "for m in 1:4\n",
    "    println(\"$(round((lhs_primal[m] - b[m])*p_opt[m],digits=2)) = 0\")\n",
    "end\n",
    "for n in 1:2\n",
    "    println(\"$(round((lhs_dual[n] - c[n])*x_opt[n],digits=2)) = 0\")\n",
    "end"
   ]
  },
  {
   "cell_type": "markdown",
   "metadata": {},
   "source": [
    "## Bonus: Solving the primal and dual problems at the same time \n",
    "### A nonlinear complementarity model"
   ]
  },
  {
   "cell_type": "code",
   "execution_count": 6,
   "metadata": {},
   "outputs": [
    {
     "data": {
      "text/plain": [
       "A JuMP Model\n",
       "Feasibility problem with:\n",
       "Variables: 0\n",
       "Model mode: AUTOMATIC\n",
       "CachingOptimizer state: EMPTY_OPTIMIZER\n",
       "Solver name: Ipopt"
      ]
     },
     "execution_count": 6,
     "metadata": {},
     "output_type": "execute_result"
    }
   ],
   "source": [
    "complementarity = Model(Ipopt.Optimizer)"
   ]
  },
  {
   "cell_type": "code",
   "execution_count": 7,
   "metadata": {},
   "outputs": [
    {
     "data": {
      "text/plain": [
       "4-element Array{VariableRef,1}:\n",
       " p[1]\n",
       " p[2]\n",
       " p[3]\n",
       " p[4]"
      ]
     },
     "execution_count": 7,
     "metadata": {},
     "output_type": "execute_result"
    }
   ],
   "source": [
    "@variable(complementarity, x[1:2] >= 0)\n",
    "@variable(complementarity, p[1:4] >= 0)"
   ]
  },
  {
   "cell_type": "code",
   "execution_count": 8,
   "metadata": {},
   "outputs": [
    {
     "data": {
      "text/plain": [
       "2-element Array{ConstraintRef{Model,MathOptInterface.ConstraintIndex{MathOptInterface.ScalarQuadraticFunction{Float64},MathOptInterface.LessThan{Float64}},ScalarShape},1}:\n",
       " 6 p[1]*x[1] + p[2]*x[1] - p[3]*x[1] - 5 x[1] <= 0.0\n",
       " 4 p[1]*x[2] + 2 p[2]*x[2] + p[3]*x[2] + p[4]*x[2] - 4 x[2] <= 0.0"
      ]
     },
     "execution_count": 8,
     "metadata": {},
     "output_type": "execute_result"
    }
   ],
   "source": [
    "@expression(complementarity, pr_con[m in 1:4], b[m] - sum(A[m,:].*x))\n",
    "@expression(complementarity, du_con[n in 1:2], sum(A[:,n].*p) - c[n])\n",
    "\n",
    "@constraint(complementarity, [m in 1:4], pr_con[m] >= 0)\n",
    "@constraint(complementarity, [n in 1:2], du_con[n] >= 0)\n",
    "\n",
    "@constraint(complementarity, [m in 1:4], pr_con[m]*p[m] <= 0) # \"Should\" be == instead of <=, but this is more stable.\n",
    "@constraint(complementarity, [n in 1:2], du_con[n]*x[n] <= 0) # If two variables are both nonnegative, their product is also nonnegative. \n",
    "                                                              # Combining that with a nonpositivity constraint, the effect is the same as a equality constraint"
   ]
  },
  {
   "cell_type": "code",
   "execution_count": 9,
   "metadata": {},
   "outputs": [
    {
     "name": "stdout",
     "output_type": "stream",
     "text": [
      "\n",
      "******************************************************************************\n",
      "This program contains Ipopt, a library for large-scale nonlinear optimization.\n",
      " Ipopt is released as open source code under the Eclipse Public License (EPL).\n",
      "         For more information visit https://github.com/coin-or/Ipopt\n",
      "******************************************************************************\n",
      "\n",
      "This is Ipopt version 3.13.4, running with linear solver mumps.\n",
      "NOTE: Other linear solvers might be more efficient (see Ipopt documentation).\n",
      "\n",
      "Number of nonzeros in equality constraint Jacobian...:        0\n",
      "Number of nonzeros in inequality constraint Jacobian.:       48\n",
      "Number of nonzeros in Lagrangian Hessian.............:       14\n",
      "\n",
      "Total number of variables............................:        6\n",
      "                     variables with only lower bounds:        6\n",
      "                variables with lower and upper bounds:        0\n",
      "                     variables with only upper bounds:        0\n",
      "Total number of equality constraints.................:        0\n",
      "Total number of inequality constraints...............:       12\n",
      "        inequality constraints with only lower bounds:        6\n",
      "   inequality constraints with lower and upper bounds:        0\n",
      "        inequality constraints with only upper bounds:        6\n",
      "\n",
      "iter    objective    inf_pr   inf_du lg(mu)  ||d||  lg(rg) alpha_du alpha_pr  ls\n",
      "   0  0.0000000e+00 4.94e+00 4.80e-01  -1.0 0.00e+00    -  0.00e+00 0.00e+00   0\n",
      "   1  0.0000000e+00 4.94e+00 1.27e+01  -1.0 4.89e+00    -  1.41e-01 1.01e-02h  1\n",
      "   2  0.0000000e+00 4.93e+00 4.53e+01  -1.0 9.28e+00    -  3.92e-03 1.23e-03h  1\n",
      "   3  0.0000000e+00 4.93e+00 5.47e+01  -1.0 4.67e+02    -  1.92e-04 1.65e-04h  1\n",
      "   4  0.0000000e+00 4.91e+00 1.26e+02  -1.0 1.00e+03    -  9.34e-05 4.21e-03f  1\n",
      "   5  0.0000000e+00 4.91e+00 1.26e+02  -1.0 7.37e+02    -  7.23e-04 4.46e-05h  1\n",
      "   6  0.0000000e+00 4.91e+00 1.28e+02  -1.0 1.14e+03    -  6.36e-05 1.03e-04h  1\n",
      "   7  0.0000000e+00 4.85e+00 1.41e+03  -1.0 1.03e+03    -  9.92e-06 1.27e-02f  1\n",
      "   8  0.0000000e+00 4.84e+00 1.40e+03  -1.0 1.25e+02    -  1.16e-02 8.64e-04h  1\n",
      "   9  0.0000000e+00 4.82e+00 1.40e+03  -1.0 1.47e+02    -  7.15e-03 4.49e-03h  1\n",
      "iter    objective    inf_pr   inf_du lg(mu)  ||d||  lg(rg) alpha_du alpha_pr  ls\n",
      "  10  0.0000000e+00 4.82e+00 1.40e+03  -1.0 9.93e+01    -  4.99e-04 3.97e-05h  1\n",
      "  11  0.0000000e+00 4.78e+00 1.37e+03  -1.0 1.90e+02    -  3.65e-04 8.14e-03f  1\n",
      "  12  0.0000000e+00 4.78e+00 1.37e+03  -1.0 9.37e+00    -  2.72e-02 8.40e-05h  1\n",
      "  13  0.0000000e+00 4.78e+00 1.37e+03  -1.0 3.96e+01    -  8.43e-04 3.46e-04h  1\n",
      "  14  0.0000000e+00 4.76e+00 1.40e+03  -1.0 1.14e+02    -  2.36e-05 3.96e-03f  1\n",
      "  15  0.0000000e+00 4.70e+00 1.29e+03  -1.0 9.11e+01    -  4.72e-03 1.38e-02f  1\n",
      "  16  0.0000000e+00 4.49e+00 6.95e+02  -1.0 5.40e+01    -  8.15e-05 4.43e-02f  1\n",
      "  17  0.0000000e+00 4.46e+00 6.90e+02  -1.0 1.31e+01   0.0 1.22e-02 6.31e-03h  1\n",
      "  18  0.0000000e+00 3.91e+00 6.07e+02  -1.0 1.31e+01    -  1.81e-02 1.24e-01f  1\n",
      "  19  0.0000000e+00 3.88e+00 6.03e+02  -1.0 1.00e+01   2.2 1.93e-02 7.45e-03h  1\n",
      "iter    objective    inf_pr   inf_du lg(mu)  ||d||  lg(rg) alpha_du alpha_pr  ls\n",
      "  20  0.0000000e+00 3.82e+00 5.95e+02  -1.0 9.05e+00   1.8 9.85e-02 1.45e-02h  1\n",
      "  21  0.0000000e+00 3.32e+00 5.16e+02  -1.0 1.24e+01    -  1.62e-01 1.32e-01h  1\n",
      "  22  0.0000000e+00 3.00e+00 4.67e+02  -1.0 1.01e+01    -  2.54e-01 9.55e-02f  1\n",
      "  23  0.0000000e+00 1.75e+00 1.00e+03  -1.0 9.16e+00    -  8.83e-01 4.15e-01h  1\n",
      "  24  0.0000000e+00 1.24e+00 3.90e+03  -1.0 5.39e+00    -  9.94e-01 2.92e-01h  1\n",
      "  25  0.0000000e+00 3.92e-01 5.06e+03  -1.0 4.91e+00    -  1.00e+00 5.26e-01f  1\n",
      "  26  0.0000000e+00 1.69e-01 8.37e+03  -1.0 1.73e+00    -  1.00e+00 6.33e-01h  1\n",
      "  27  0.0000000e+00 7.51e-02 2.49e+04  -1.0 4.84e-01    -  1.00e+00 5.17e-01h  1\n",
      "  28  0.0000000e+00 3.31e-02 4.52e+04  -1.0 3.19e-01    -  1.00e+00 5.90e-01h  1\n",
      "  29  0.0000000e+00 1.15e-02 8.57e+04  -1.0 8.22e-02    -  1.00e+00 5.99e-01h  1\n",
      "iter    objective    inf_pr   inf_du lg(mu)  ||d||  lg(rg) alpha_du alpha_pr  ls\n",
      "  30  0.0000000e+00 5.55e-03 1.47e+05  -1.0 4.86e-02    -  1.00e+00 5.82e-01h  1\n",
      "  31  0.0000000e+00 1.98e-03 1.71e+05  -1.0 1.41e-02    -  1.00e+00 5.87e-01h  1\n",
      "  32  0.0000000e+00 9.50e-04 1.32e+05  -1.0 8.36e-03    -  1.00e+00 5.85e-01h  1\n",
      "  33  0.0000000e+00 3.40e-04 7.10e+04  -1.0 2.41e-03    -  1.00e+00 5.86e-01h  1\n",
      "  34  0.0000000e+00 1.63e-04 9.17e+04  -1.0 1.44e-03    -  1.00e+00 5.86e-01h  1\n",
      "  35  0.0000000e+00 1.23e-04 4.43e+05  -1.0 4.14e-04    -  1.00e+00 1.46e-01f  3\n",
      "  36  0.0000000e+00 2.76e-05 2.14e+05  -1.0 2.37e-04    -  1.00e+00 7.69e-01h  1\n",
      "  37  0.0000000e+00 2.22e-05 1.75e+06  -1.0 1.23e-04    -  1.00e+00 1.34e-01f  3\n",
      "  38  0.0000000e+00 6.47e-06 8.25e+05  -1.0 7.86e-05    -  1.00e+00 7.65e-01h  1\n",
      "  39  0.0000000e+00 4.86e-06 4.34e+06  -1.0 1.82e-05    -  1.00e+00 1.33e-01f  3\n",
      "iter    objective    inf_pr   inf_du lg(mu)  ||d||  lg(rg) alpha_du alpha_pr  ls\n",
      "  40  0.0000000e+00 1.12e-06 1.60e+06  -1.0 9.50e-06    -  1.00e+00 7.67e-01h  1\n",
      "  41  0.0000000e+00 6.63e-07 3.45e+06  -1.0 5.17e-06    -  1.00e+00 2.71e-01f  2\n",
      "  42  0.0000000e+00 1.44e-07 9.15e+05  -1.0 2.33e-06    -  1.00e+00 8.48e-01h  1\n",
      "  43  0.0000000e+00 4.95e-08 2.20e+06  -1.0 5.65e-07    -  1.00e+00 2.51e-01f  2\n",
      "  44  0.0000000e+00 0.00e+00 8.66e-02  -1.0 1.81e-07    -  1.00e+00 1.00e+00h  1\n",
      "  45  0.0000000e+00 0.00e+00 1.34e-01  -8.6 4.05e-15    -  1.00e+00 1.00e+00h  1\n",
      "  46  0.0000000e+00 0.00e+00 8.55e-10  -8.6 1.46e-08    -  1.00e+00 1.00e+00h  1\n",
      "\n",
      "Number of Iterations....: 46\n",
      "\n",
      "                                   (scaled)                 (unscaled)\n",
      "Objective...............:   0.0000000000000000e+00    0.0000000000000000e+00\n",
      "Dual infeasibility......:   8.5466225398340644e-10    8.5466225398340644e-10\n",
      "Constraint violation....:   0.0000000000000000e+00    0.0000000000000000e+00\n",
      "Complementarity.........:   2.7404530689349196e-09    2.7404530689349196e-09\n",
      "Overall NLP error.......:   2.7404530689349196e-09    2.7404530689349196e-09\n",
      "\n",
      "\n",
      "Number of objective function evaluations             = 55\n",
      "Number of objective gradient evaluations             = 47\n",
      "Number of equality constraint evaluations            = 0\n",
      "Number of inequality constraint evaluations          = 55\n",
      "Number of equality constraint Jacobian evaluations   = 0\n",
      "Number of inequality constraint Jacobian evaluations = 47\n",
      "Number of Lagrangian Hessian evaluations             = 46\n",
      "Total CPU secs in IPOPT (w/o function evaluations)   =      2.451\n",
      "Total CPU secs in NLP function evaluations           =      0.235\n",
      "\n",
      "EXIT: Optimal Solution Found.\n"
     ]
    }
   ],
   "source": [
    "optimize!(complementarity)"
   ]
  },
  {
   "cell_type": "code",
   "execution_count": 10,
   "metadata": {},
   "outputs": [
    {
     "data": {
      "text/plain": [
       "2-element Array{Float64,1}:\n",
       " 3.0000000183333335\n",
       " 1.5000000008333325"
      ]
     },
     "execution_count": 10,
     "metadata": {},
     "output_type": "execute_result"
    }
   ],
   "source": [
    "value.(complementarity[:x])"
   ]
  },
  {
   "cell_type": "code",
   "execution_count": 11,
   "metadata": {},
   "outputs": [
    {
     "data": {
      "text/plain": [
       "4-element Array{Float64,1}:\n",
       " 0.7499999954864254\n",
       " 0.5000000007857839\n",
       " 0.0\n",
       " 5.0000368467492094e-9"
      ]
     },
     "execution_count": 11,
     "metadata": {},
     "output_type": "execute_result"
    }
   ],
   "source": [
    "value.(complementarity[:p])"
   ]
  },
  {
   "cell_type": "code",
   "execution_count": 12,
   "metadata": {},
   "outputs": [
    {
     "name": "stdout",
     "output_type": "stream",
     "text": [
      "Primal objective value: 21.000000094999997\n",
      "Dual objective value:   20.999999906388986\n"
     ]
    }
   ],
   "source": [
    "println(\"Primal objective value: $(sum(c.*value.(complementarity[:x])))\")\n",
    "println(\"Dual objective value:   $(sum(b.*value.(complementarity[:p])))\")"
   ]
  },
  {
   "cell_type": "code",
   "execution_count": null,
   "metadata": {},
   "outputs": [],
   "source": []
  }
 ],
 "metadata": {
  "kernelspec": {
   "display_name": "Julia 1.5.4",
   "language": "julia",
   "name": "julia-1.5"
  },
  "language_info": {
   "file_extension": ".jl",
   "mimetype": "application/julia",
   "name": "julia",
   "version": "1.5.4"
  }
 },
 "nbformat": 4,
 "nbformat_minor": 4
}
