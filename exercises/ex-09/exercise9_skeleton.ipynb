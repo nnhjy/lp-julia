{
 "cells": [
  {
   "cell_type": "markdown",
   "metadata": {},
   "source": [
    "# MS-E2121 Exercise session 9\n",
    "### Problem 9.1: Uncapacitated Facility Location (UFL)\n",
    "\n",
    "**a)**  \n",
    "Let $N = \\{1,\\dots,n\\}$ be a set of potential facilities and $M = \\{1,\\dots,m\\}$ a set of clients. Let $y_j = 1$ if facility $j$ is opened, and $y_j = 0$ otherwise. Moreover, let $x_{ij}$ be the fraction of client $i$'s demand satisfied from facility $j$. The UFL can be formulated as the mixed-integer problem (MIP): \n",
    "\n",
    "$$\\begin{align}\n",
    " \\text{(UFL-W)} : \\quad &\\min_{x,y} \\sum_{j\\in N} f_jy_j + \\sum_{i\\in M}\\sum_{j\\in N} c_{ij}x_{ij} \\\\\n",
    "       &\\text{s.t.} \\\\\n",
    "       &\\quad \\sum_{j\\in N}x_{ij} = 1, &\\forall i \\in M,\\\\\n",
    "       &\\quad \\sum_{i\\in M}x_{ij} \\leq my_j, &\\forall  j \\in N,\\\\\n",
    "       &\\quad x_{ij} \\geq 0, &\\forall i \\in M, \\forall j \\in N,\\\\\n",
    "       &\\quad y_j \\in \\{0,1\\}, &\\forall j\\in N,\n",
    "\\end{align}$$\n",
    "\n",
    "where $f_j$ is the cost of opening facility $j$, and $c_{ij}$ is the cost of satisfying client $i$'s demand from facility $j$. Consider an instance of the UFL with opening costs $f=(4,3,4,4,7)$ and client costs\n",
    "\n",
    "$$\\begin{align*}\n",
    " (c_{ij}) = \\left(\n",
    "\t\\begin{array}{ccccc}\n",
    "\t\t12 & 13 & 6 & 0  & 1 \\\\\n",
    "\t\t8  & 4  & 9 & 1  & 2 \\\\\n",
    "\t\t2  & 6  & 6 & 0  & 1 \\\\\n",
    "\t\t3  & 5  & 2 & 1  & 8 \\\\\n",
    "\t\t8  & 0  & 5 & 10 & 8 \\\\\n",
    "\t\t2  & 0  & 3 & 4  & 1\n",
    "\t\\end{array}\n",
    " \\right)\n",
    "\\end{align*}$$\n",
    "\n",
    "Implement (the model) and solve the problem with Julia using JuMP.\n",
    "\n",
    "**b)**  \n",
    "An alternative formulation of the UFL is of the form\n",
    "\n",
    "$$\\begin{align}\n",
    " \\text{(UFL-S)} : \\quad &\\min_{x,y} \\sum_{j\\in N}f_jy_j + \\sum_{i\\in M}\\sum_{j\\in N}c_{ij}x_{ij}\\\\\n",
    "       &\\text{s.t.}  \\\\\n",
    "       &\\quad \\sum_{j\\in N}x_{ij} = 1, &\\forall i \\in M,\\\\\n",
    "       &\\quad x_{ij} \\leq y_j, &\\forall  i\\in M, \\forall j \\in N,\\\\\n",
    "       &\\quad x_{ij} \\geq 0, &\\forall i \\in M, \\forall j \\in N,\\\\\n",
    "       &\\quad y_j \\in \\{0,1\\}, &\\forall j\\in N.\n",
    "\\end{align}$$\n",
    "\n",
    "\n",
    "Linear programming (LP) relaxations of these problems can be obtained by relaxing the binary constraints $y_j\\in \\{0,1\\}$ to $0 \\leq y_j \\leq 1$ for all $j \\in N$. For the same instance as in part (a), solve the LP relaxations of UFL-W and UFL-S with Julia using JuMP, and compare the optimal costs of the LP relaxations against the optimal integer cost obtained in part (a)."
   ]
  },
  {
   "cell_type": "code",
   "execution_count": null,
   "metadata": {},
   "outputs": [],
   "source": [
    "using JuMP, Cbc"
   ]
  },
  {
   "cell_type": "markdown",
   "metadata": {},
   "source": [
    "Write down the problem data"
   ]
  },
  {
   "cell_type": "code",
   "execution_count": null,
   "metadata": {},
   "outputs": [],
   "source": [
    "f = [4 3 4 4 7] # Facility opening costs\n",
    "c = [12 13 6 0 1; 8 4 9 1 2; 2 6 6 0 1; 3 5 2 1 8; 8 0 5 10 8; 2 0 3 4 1] # Cost of satisfying demand\n",
    "(m, n) = size(c)\n",
    "M = 1:m # Set of facilities\n",
    "N = 1:n;# Set of clients"
   ]
  },
  {
   "cell_type": "markdown",
   "metadata": {},
   "source": [
    "Implement the problem in JuMP"
   ]
  },
  {
   "cell_type": "code",
   "execution_count": null,
   "metadata": {},
   "outputs": [],
   "source": [
    "ufl_w = Model(Cbc.Optimizer)\n",
    "\n",
    "@variable(ufl_w, x[M,N] >= 0) # Fraction of demand (client i) satisfied by facility j\n",
    "@variable(ufl_w, y[N], Bin)   # Facility location\n",
    "\n",
    "# Minimize total cost\n",
    "@objective(ufl_w, Min, sum(f[j]*y[j] for j in N) + sum(c[i,j]*x[i,j] for i in M, j in N)) \n",
    "\n",
    "# For each client, the demand must be fulfilled\n",
    "@constraint(ufl_w, demand[i in M], sum(x[i,j] for j in N) == 1)\n",
    "# A big-M style constraint stating that facility j can't send out anything if y[j]==0\n",
    "@constraint(ufl_w, supply[j in N], sum(x[i,j] for i in M) <= m*y[j])\n",
    "\n",
    "optimize!(ufl_w)"
   ]
  },
  {
   "cell_type": "code",
   "execution_count": null,
   "metadata": {},
   "outputs": [],
   "source": [
    "println(\"UFL-W MILP:\")\n",
    "println(\"Optimal value $(objective_value(ufl_w))\")\n",
    "println(\"with y = $(value.(y).data)\")"
   ]
  },
  {
   "cell_type": "code",
   "execution_count": null,
   "metadata": {},
   "outputs": [],
   "source": [
    "ufl_w_rel = Model(Cbc.Optimizer)\n",
    "\n",
    "@variable(ufl_w_rel, x[M,N] >= 0) # Fraction of demand (client i) satisfied by facility j\n",
    "@variable(ufl_w_rel, 0<=y[N]<=1)  # Facility location\n",
    "\n",
    "# Minimize total cost\n",
    "@objective(ufl_w_rel, Min, sum(f[j]*y[j] for j in N) + sum(c[i,j]*x[i,j] for i in M, j in N)) \n",
    "\n",
    "# For each client, the demand must be fulfilled\n",
    "@constraint(ufl_w_rel, demand[i in M], sum(x[i,j] for j in N) == 1)\n",
    "# A big-M style constraint stating that facility j can't send out anything if y[j]==0\n",
    "@constraint(ufl_w_rel, supply[j in N], sum(x[i,j] for i in M) <= m*y[j])\n",
    "\n",
    "optimize!(ufl_w_rel)"
   ]
  },
  {
   "cell_type": "code",
   "execution_count": null,
   "metadata": {},
   "outputs": [],
   "source": [
    "println(\"UFL-W LP:\")\n",
    "println(\"Optimal value $(objective_value(ufl_w_rel))\")\n",
    "println(\"with y = $(value.(y).data)\")"
   ]
  },
  {
   "cell_type": "code",
   "execution_count": null,
   "metadata": {},
   "outputs": [],
   "source": [
    "ufl_s_rel = Model(Cbc.Optimizer)\n",
    "\n",
    "@variable(ufl_s_rel, x[M,N] >= 0)\n",
    "@variable(ufl_s_rel, 0<=y[N]<=1)\n",
    "\n",
    "@objective(ufl_s_rel, Min, sum(f[j]*y[j] for j in N) + sum(c[i,j]*x[i,j] for i in M, j in N))\n",
    "\n",
    "@constraint(ufl_s_rel, demand[i in M], sum(x[i,j] for j in N) == 1)\n",
    "# The difference between the models is that UFL-S has m constraints telling that nothing can be sent to client i from facility j if y[j]==0\n",
    "# In UFL-W, there is a single constraint telling that nothing can be sent from facility j if y[j]==0\n",
    "@constraint(ufl_s_rel, supply[i in M, j in N], x[i,j] <= y[j])\n",
    "\n",
    "optimize!(ufl_s_rel)"
   ]
  },
  {
   "cell_type": "code",
   "execution_count": null,
   "metadata": {},
   "outputs": [],
   "source": [
    "println(\"UFL-S LP:\")\n",
    "println(\"Optimal value $(objective_value(ufl_s_rel))\")\n",
    "println(\"with y = $(value.(y).data)\")"
   ]
  },
  {
   "cell_type": "markdown",
   "metadata": {},
   "source": [
    "#### Branching\n",
    "We see that the UFL-S relaxation produces an integer solution, meaning that we have an integer optimal solution and no branching needs to be done. However, if we used UFL-W instead, we would need to do B&B or something else to obtain the integer optimum. In the UFL-W LP relaxation solution (0, 1/3, 0, 2/3, 0), we have two fractional variables $y_2$ and $y_4$, and we can branch on one of them. Let's choose $y_2$ and see what happens if we set it to 0 or 1."
   ]
  },
  {
   "cell_type": "code",
   "execution_count": null,
   "metadata": {},
   "outputs": [],
   "source": [
    "ufl_w_rel_y2_0 = Model(Cbc.Optimizer)\n",
    "\n",
    "@variable(ufl_w_rel_y2_0, x[M,N] >= 0)\n",
    "@variable(ufl_w_rel_y2_0, 0<=y[N]<=1)\n",
    "\n",
    "@objective(ufl_w_rel_y2_0, Min, sum(f[j]*y[j] for j in N) + sum(c[i,j]*x[i,j] for i in M, j in N))\n",
    "\n",
    "@constraint(ufl_w_rel_y2_0, demand[i in M], sum(x[i,j] for j in N) == 1)\n",
    "@constraint(ufl_w_rel_y2_0, supply[j in N], sum(x[i,j] for i in M) <= m*y[j])\n",
    "@constraint(ufl_w_rel_y2_0, y[2] == 0)\n",
    "\n",
    "optimize!(ufl_w_rel_y2_0)"
   ]
  },
  {
   "cell_type": "code",
   "execution_count": null,
   "metadata": {},
   "outputs": [],
   "source": [
    "ufl_w_rel_y2_1 = Model(Cbc.Optimizer)\n",
    "\n",
    "@variable(ufl_w_rel_y2_1, x[M,N] >= 0)\n",
    "@variable(ufl_w_rel_y2_1, 0<=y[N]<=1)\n",
    "\n",
    "@objective(ufl_w_rel_y2_1, Min, sum(f[j]*y[j] for j in N) + sum(c[i,j]*x[i,j] for i in M, j in N))\n",
    "\n",
    "@constraint(ufl_w_rel_y2_1, demand[i in M], sum(x[i,j] for j in N) == 1)\n",
    "@constraint(ufl_w_rel_y2_1, supply[j in N], sum(x[i,j] for i in M) <= m*y[j])\n",
    "@constraint(ufl_w_rel_y2_1, y[2] == 1)\n",
    "\n",
    "optimize!(ufl_w_rel_y2_1)"
   ]
  },
  {
   "cell_type": "code",
   "execution_count": null,
   "metadata": {},
   "outputs": [],
   "source": [
    "println(\"UFL-W LP with y2=0:\")\n",
    "println(\"Optimal value $(objective_value(ufl_w_rel_y2_0))\")\n",
    "println(\"with y = $(value.(ufl_w_rel_y2_0[:y]).data)\")\n",
    "\n",
    "println()\n",
    "\n",
    "println(\"UFL-W LP with y2=1:\")\n",
    "println(\"Optimal value $(objective_value(ufl_w_rel_y2_1))\")\n",
    "println(\"with y = $(value.(ufl_w_rel_y2_1[:y]).data)\")"
   ]
  },
  {
   "cell_type": "markdown",
   "metadata": {},
   "source": [
    "Both branches have fractional solutions, and more branching is thus needed. You can practice that in the next exercise.\n",
    "#' \n",
    "### Problem 9.3: Solving Branch & Bound (B&B) graphically\n",
    "\n",
    "*You can do this with pen and paper if you want to do it graphically, or solve the problems using JuMP instead if you don't feel like drawing.*\n",
    "\n",
    "Consider the following integer programming problem $IP$:\n",
    "\n",
    "$$\\begin{matrix}\n",
    "\\text{max} &x_{1} &+&2x_{2} & \\\\\n",
    "\\text{s.t.}&-3x_{1} &+&4x_{2} &\\le 4 \\\\\n",
    "&3x_{1} &+&2x_{2} &\\le 11 \\\\\n",
    "&2x_{1} &-&x_{2} &\\le 5 \\\\\n",
    "&x_{1}, &x_{2} & \\text{integer} &\\\\\n",
    "\\end{matrix}$$\n",
    "\n",
    "Plot (or draw) the feasible region of the linear programming (LP) relaxation of the problem $IP$, then solve the problems using the figure. Recall that the LP relaxation of $IP$ is obtained by replacing the integrality constraints $x_1,x_2\\in \\mathbb{Z}_+$ by linear nonnegativity $x_1,x_2\\geq 0$ and including (possible) upper bounds corresponding to the upper bounds of the integer variables ($x_1,x_2\\leq 1$ for binary variables). \n",
    "\n",
    "(a) What is the optimal cost $z_{LP}$ of the LP relaxation of the problem $IP$? What is the optimal cost $z$ of the problem $IP$?\n",
    "\n",
    "(b) Draw the border of the convex hull of the feasible solutions of the problem $IP$. Recall that the convex hull represents the *ideal* formulation for the problem $IP$.\n",
    "\n",
    "(c) Solve the problem $IP$ by LP-relaxation based Branch \\& Bound (B\\&B). You can solve the LP relaxations at each node of the B\\&B tree graphically. Start the B\\&B procedure without any primal bound.\n",
    "\n",
    "Check your solutions using JuMP. Make sure to point out the optimal solutions in the figure, as well as giving their numerical values."
   ]
  },
  {
   "cell_type": "code",
   "execution_count": null,
   "metadata": {},
   "outputs": [],
   "source": [
    "# TODO: add your code here"
   ]
  },
  {
   "cell_type": "code",
   "execution_count": null,
   "metadata": {},
   "outputs": [],
   "source": [
    "# TODO: add your code here"
   ]
  },
  {
   "cell_type": "code",
   "execution_count": null,
   "metadata": {},
   "outputs": [],
   "source": [
    "# TODO: add your code here"
   ]
  },
  {
   "cell_type": "code",
   "execution_count": null,
   "metadata": {},
   "outputs": [],
   "source": [
    "# TODO: add your code here"
   ]
  },
  {
   "cell_type": "code",
   "execution_count": null,
   "metadata": {},
   "outputs": [],
   "source": [
    "# TODO: add your code here"
   ]
  },
  {
   "cell_type": "code",
   "execution_count": null,
   "metadata": {},
   "outputs": [],
   "source": [
    "# TODO: add your code here"
   ]
  },
  {
   "cell_type": "code",
   "execution_count": null,
   "metadata": {},
   "outputs": [],
   "source": [
    "# TODO: add your code here"
   ]
  },
  {
   "cell_type": "code",
   "execution_count": null,
   "metadata": {},
   "outputs": [],
   "source": [
    "# TODO: add your code here"
   ]
  },
  {
   "cell_type": "code",
   "execution_count": null,
   "metadata": {},
   "outputs": [],
   "source": [
    "# TODO: add your code here"
   ]
  },
  {
   "cell_type": "code",
   "execution_count": null,
   "metadata": {},
   "outputs": [],
   "source": []
  }
 ],
 "metadata": {
  "kernelspec": {
   "display_name": "Julia 1.7.1",
   "language": "julia",
   "name": "julia-1.7"
  },
  "language_info": {
   "file_extension": ".jl",
   "mimetype": "application/julia",
   "name": "julia",
   "version": "1.5.1"
  }
 },
 "nbformat": 4,
 "nbformat_minor": 4
}
