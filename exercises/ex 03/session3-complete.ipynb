{
 "cells": [
  {
   "cell_type": "markdown",
   "metadata": {},
   "source": [
    "## Problem 3.2 - Basic solutions and extreme points"
   ]
  },
  {
   "cell_type": "code",
   "execution_count": 83,
   "metadata": {},
   "outputs": [],
   "source": [
    "## Including the libraries needed\n",
    "using Plots          # Library for plotting\n",
    "using LinearAlgebra  # Makes available the rank() function"
   ]
  },
  {
   "cell_type": "markdown",
   "metadata": {},
   "source": [
    "We adapt the system of inequalities to form basic solutions by adding $(n-m)$ variables - this is introduced in Theorem 1 (Lecture 3)."
   ]
  },
  {
   "cell_type": "markdown",
   "metadata": {},
   "source": [
    "### (a)\n",
    "x1 + x2 ≤ 6, x2 ≤ 3\n",
    "\n",
    "Ax = b\n",
    "x ≥ 0\n"
   ]
  },
  {
   "cell_type": "code",
   "execution_count": 84,
   "metadata": {},
   "outputs": [
    {
     "data": {
      "text/plain": [
       "2-element Vector{Int64}:\n",
       " 6\n",
       " 3"
      ]
     },
     "execution_count": 84,
     "metadata": {},
     "output_type": "execute_result"
    }
   ],
   "source": [
    "## Matrices from constraints (Ax = b) with 2 added variables:\n",
    "A =\n",
    "[1  1  1  0;\n",
    " 0  1  0  1]                             \n",
    "\n",
    "b =\n",
    "[6 ; 3]"
   ]
  },
  {
   "cell_type": "markdown",
   "metadata": {},
   "source": [
    "#### Finding the possible $I_B$:\n",
    "To find which are the basic solutions, we can see which constraints are fulfilled to equality, i.e., $Ax^S = b$ being $x^S$ the solution tested. All basic solutions can be found if we separate 6 columns of matrix A at a time and solve the system."
   ]
  },
  {
   "cell_type": "code",
   "execution_count": 88,
   "metadata": {},
   "outputs": [],
   "source": [
    "## Let's define all the possible non-basic combinations of columns (C(8,2))\n",
    "bases =     [1 2;\n",
    "             1 3;\n",
    "             1 4;        # Defined as a 6x2 matrix (6 possible bases with 2 non-basic elements each elements each)\n",
    "             2 3;\n",
    "             2 4;\n",
    "             3 4]\n",
    "\n",
    "## Now we use setdiff() to gather the basic columns for each non-basic columns combination\n",
    "non_bases = zeros(Int,size(bases)[1],2)          # Defined as a 6x2 matrix\n",
    "for i in 1:size(bases)[1]\n",
    "    non_bases[i,:] = setdiff(1:4,bases[i,:])\n",
    "end\n"
   ]
  },
  {
   "cell_type": "markdown",
   "metadata": {},
   "source": [
    "Whenever we have linear dependencies on the matrix formed by the 2 columns selected, we **DO NOT** form a basic solution."
   ]
  },
  {
   "cell_type": "code",
   "execution_count": 93,
   "metadata": {},
   "outputs": [],
   "source": [
    "## Therefore we need to test out what are the 6 columns that form a basic solution\n",
    "rank_bases = zeros(Int,size(bases)[1])\n",
    "for i in 1:size(bases)[1]\n",
    "    rank_bases[i] = rank(A[:,bases[i,:]])\n",
    "end\n"
   ]
  },
  {
   "cell_type": "code",
   "execution_count": 91,
   "metadata": {},
   "outputs": [
    {
     "data": {
      "text/plain": [
       "1"
      ]
     },
     "execution_count": 91,
     "metadata": {},
     "output_type": "execute_result"
    }
   ],
   "source": [
    "## If we test now basis 5 ([1 2]), we will se that we do not have a matrix with 2 LI rows\n",
    "rank(A[:,bases[2,:]])"
   ]
  },
  {
   "cell_type": "code",
   "execution_count": 95,
   "metadata": {},
   "outputs": [
    {
     "data": {
      "text/plain": [
       "2×2 Matrix{Int64}:\n",
       " 1  1\n",
       " 0  0"
      ]
     },
     "execution_count": 95,
     "metadata": {},
     "output_type": "execute_result"
    }
   ],
   "source": [
    "## We can check that indeed one line is dependent:\n",
    "A[:,bases[2,:]]"
   ]
  },
  {
   "cell_type": "code",
   "execution_count": 98,
   "metadata": {},
   "outputs": [
    {
     "data": {
      "text/plain": [
       "5×2 Matrix{Int64}:\n",
       " 1  2\n",
       " 1  4\n",
       " 2  3\n",
       " 2  4\n",
       " 3  4"
      ]
     },
     "execution_count": 98,
     "metadata": {},
     "output_type": "execute_result"
    }
   ],
   "source": [
    "## We can reduce the bases only for the possibilities spaning 2 dimensions\n",
    "bases = bases[rank_bases.==2,:]\n",
    "non_bases = non_bases[rank_bases.==2,:]\n",
    "rank_bases = zeros(Int,size(bases)[1])\n",
    "for i in 1:size(bases)[1]\n",
    "    rank_bases[i] = rank(A[:,bases[i,:]])\n",
    "end;\n"
   ]
  },
  {
   "cell_type": "code",
   "execution_count": 102,
   "metadata": {},
   "outputs": [
    {
     "data": {
      "text/plain": [
       "5×2 Matrix{Float64}:\n",
       " 3.0   3.0\n",
       " 6.0   3.0\n",
       " 3.0   3.0\n",
       " 6.0  -3.0\n",
       " 6.0   3.0"
      ]
     },
     "execution_count": 102,
     "metadata": {},
     "output_type": "execute_result"
    }
   ],
   "source": [
    "## To find the solutions related to each basis, we can solve the systems A[:,bases]\\b\n",
    "solutions = zeros(size(bases))\n",
    "for i in 1:size(bases)[1]\n",
    "    solutions[i,:] = A[:,bases[i,:]] \\ b # Bx = b => x = inv(B)b\n",
    "end\n",
    "\n",
    "solutions"
   ]
  },
  {
   "cell_type": "code",
   "execution_count": 105,
   "metadata": {},
   "outputs": [
    {
     "data": {
      "text/plain": [
       "5×4 Matrix{Float64}:\n",
       " 3.0  3.0  0.0   0.0\n",
       " 6.0  0.0  0.0   3.0\n",
       " 0.0  3.0  3.0   0.0\n",
       " 0.0  6.0  0.0  -3.0\n",
       " 0.0  0.0  6.0   3.0"
      ]
     },
     "execution_count": 105,
     "metadata": {},
     "output_type": "execute_result"
    }
   ],
   "source": [
    "## Create a matrix to link the bases and the solutions\n",
    "solutions_x = zeros(size(solutions)[1],4)\n",
    "for i in 1:size(solutions)[1]\n",
    "    solutions_x[i,non_bases[i,:]] .= 0\n",
    "    solutions_x[i,bases[i,:]] .= round.(solutions[i,:],digits=2)\n",
    "end\n",
    "\n",
    "solutions_x"
   ]
  },
  {
   "cell_type": "code",
   "execution_count": 107,
   "metadata": {},
   "outputs": [],
   "source": [
    "## Now we can see which of the bases are feasible by testing the solutions feasibilities (in this case non-negativity)\n",
    "feasib_test = zeros(size(bases)[1])\n",
    "for i in 1:size(bases)[1]\n",
    "    feasib_test[i] = all(solutions_x[i,:] .>=0) \n",
    "end\n",
    "bfs = solutions_x[feasib_test.>0,:];"
   ]
  },
  {
   "cell_type": "code",
   "execution_count": 108,
   "metadata": {},
   "outputs": [
    {
     "data": {
      "text/plain": [
       "5×4 Matrix{Float64}:\n",
       " 3.0  3.0  0.0   0.0\n",
       " 6.0  0.0  0.0   3.0\n",
       " 0.0  3.0  3.0   0.0\n",
       " 0.0  6.0  0.0  -3.0\n",
       " 0.0  0.0  6.0   3.0"
      ]
     },
     "execution_count": 108,
     "metadata": {},
     "output_type": "execute_result"
    }
   ],
   "source": [
    "solutions_x"
   ]
  },
  {
   "cell_type": "code",
   "execution_count": 109,
   "metadata": {},
   "outputs": [
    {
     "data": {
      "text/plain": [
       "4×4 Matrix{Float64}:\n",
       " 3.0  3.0  0.0  0.0\n",
       " 6.0  0.0  0.0  3.0\n",
       " 0.0  3.0  3.0  0.0\n",
       " 0.0  0.0  6.0  3.0"
      ]
     },
     "execution_count": 109,
     "metadata": {},
     "output_type": "execute_result"
    }
   ],
   "source": [
    "bfs"
   ]
  },
  {
   "cell_type": "markdown",
   "metadata": {},
   "source": [
    "### (b)"
   ]
  },
  {
   "cell_type": "code",
   "execution_count": 110,
   "metadata": {},
   "outputs": [],
   "source": [
    "## Creating the functions to be plotted (as of constraints of the problem)\n",
    "c1(x) = 6 - x                                       # Constraint c1\n",
    "bx₂ = 3                                             # x2 upper bound\n",
    "# z(x) = (dot([2,1], optimal_point) - 2x) ;         # OF"
   ]
  },
  {
   "cell_type": "code",
   "execution_count": 111,
   "metadata": {},
   "outputs": [],
   "source": [
    "## Range of inputs to the created functions\n",
    "x = range(-1,10,length=2);                         # between [-1,10] - As we deal only with affine functions, we just need 2 points to define them"
   ]
  },
  {
   "cell_type": "code",
   "execution_count": 112,
   "metadata": {},
   "outputs": [],
   "source": [
    "## Defining the colors to be used\n",
    "c_blue = palette(:auto)[1]                         # color :1\n",
    "c_orange = palette(:auto)[2]                       # color :2\n",
    "c_green = palette(:auto)[3];                       # color :3"
   ]
  },
  {
   "cell_type": "code",
   "execution_count": 113,
   "metadata": {},
   "outputs": [
    {
     "data": {
      "image/svg+xml": [
       "<?xml version=\"1.0\" encoding=\"utf-8\"?>\n",
       "<svg xmlns=\"http://www.w3.org/2000/svg\" xmlns:xlink=\"http://www.w3.org/1999/xlink\" width=\"600\" height=\"400\" viewBox=\"0 0 2400 1600\">\n",
       "<defs>\n",
       "  <clipPath id=\"clip260\">\n",
       "    <rect x=\"0\" y=\"0\" width=\"2400\" height=\"1600\"/>\n",
       "  </clipPath>\n",
       "</defs>\n",
       "<path clip-path=\"url(#clip260)\" d=\"\n",
       "M0 1600 L2400 1600 L2400 0 L0 0  Z\n",
       "  \" fill=\"#ffffff\" fill-rule=\"evenodd\" fill-opacity=\"1\"/>\n",
       "<defs>\n",
       "  <clipPath id=\"clip261\">\n",
       "    <rect x=\"480\" y=\"0\" width=\"1681\" height=\"1600\"/>\n",
       "  </clipPath>\n",
       "</defs>\n",
       "<path clip-path=\"url(#clip260)\" d=\"\n",
       "M576.133 1423.18 L1952.07 1423.18 L1952.07 47.2441 L576.133 47.2441  Z\n",
       "  \" fill=\"#ffffff\" fill-rule=\"evenodd\" fill-opacity=\"1\"/>\n",
       "<defs>\n",
       "  <clipPath id=\"clip262\">\n",
       "    <rect x=\"576\" y=\"47\" width=\"1377\" height=\"1377\"/>\n",
       "  </clipPath>\n",
       "</defs>\n",
       "<polyline clip-path=\"url(#clip262)\" style=\"stroke:#000000; stroke-linecap:butt; stroke-linejoin:round; stroke-width:2; stroke-opacity:0.1; fill:none\" points=\"\n",
       "  576.133,1423.18 576.133,47.2441 \n",
       "  \"/>\n",
       "<polyline clip-path=\"url(#clip262)\" style=\"stroke:#000000; stroke-linecap:butt; stroke-linejoin:round; stroke-width:2; stroke-opacity:0.1; fill:none\" points=\"\n",
       "  772.695,1423.18 772.695,47.2441 \n",
       "  \"/>\n",
       "<polyline clip-path=\"url(#clip262)\" style=\"stroke:#000000; stroke-linecap:butt; stroke-linejoin:round; stroke-width:2; stroke-opacity:0.1; fill:none\" points=\"\n",
       "  969.257,1423.18 969.257,47.2441 \n",
       "  \"/>\n",
       "<polyline clip-path=\"url(#clip262)\" style=\"stroke:#000000; stroke-linecap:butt; stroke-linejoin:round; stroke-width:2; stroke-opacity:0.1; fill:none\" points=\"\n",
       "  1165.82,1423.18 1165.82,47.2441 \n",
       "  \"/>\n",
       "<polyline clip-path=\"url(#clip262)\" style=\"stroke:#000000; stroke-linecap:butt; stroke-linejoin:round; stroke-width:2; stroke-opacity:0.1; fill:none\" points=\"\n",
       "  1362.38,1423.18 1362.38,47.2441 \n",
       "  \"/>\n",
       "<polyline clip-path=\"url(#clip262)\" style=\"stroke:#000000; stroke-linecap:butt; stroke-linejoin:round; stroke-width:2; stroke-opacity:0.1; fill:none\" points=\"\n",
       "  1558.94,1423.18 1558.94,47.2441 \n",
       "  \"/>\n",
       "<polyline clip-path=\"url(#clip262)\" style=\"stroke:#000000; stroke-linecap:butt; stroke-linejoin:round; stroke-width:2; stroke-opacity:0.1; fill:none\" points=\"\n",
       "  1755.51,1423.18 1755.51,47.2441 \n",
       "  \"/>\n",
       "<polyline clip-path=\"url(#clip262)\" style=\"stroke:#000000; stroke-linecap:butt; stroke-linejoin:round; stroke-width:2; stroke-opacity:0.1; fill:none\" points=\"\n",
       "  1952.07,1423.18 1952.07,47.2441 \n",
       "  \"/>\n",
       "<polyline clip-path=\"url(#clip260)\" style=\"stroke:#000000; stroke-linecap:butt; stroke-linejoin:round; stroke-width:4; stroke-opacity:1; fill:none\" points=\"\n",
       "  576.133,1423.18 1952.07,1423.18 \n",
       "  \"/>\n",
       "<polyline clip-path=\"url(#clip260)\" style=\"stroke:#000000; stroke-linecap:butt; stroke-linejoin:round; stroke-width:4; stroke-opacity:1; fill:none\" points=\"\n",
       "  576.133,1423.18 576.133,1404.28 \n",
       "  \"/>\n",
       "<polyline clip-path=\"url(#clip260)\" style=\"stroke:#000000; stroke-linecap:butt; stroke-linejoin:round; stroke-width:4; stroke-opacity:1; fill:none\" points=\"\n",
       "  772.695,1423.18 772.695,1404.28 \n",
       "  \"/>\n",
       "<polyline clip-path=\"url(#clip260)\" style=\"stroke:#000000; stroke-linecap:butt; stroke-linejoin:round; stroke-width:4; stroke-opacity:1; fill:none\" points=\"\n",
       "  969.257,1423.18 969.257,1404.28 \n",
       "  \"/>\n",
       "<polyline clip-path=\"url(#clip260)\" style=\"stroke:#000000; stroke-linecap:butt; stroke-linejoin:round; stroke-width:4; stroke-opacity:1; fill:none\" points=\"\n",
       "  1165.82,1423.18 1165.82,1404.28 \n",
       "  \"/>\n",
       "<polyline clip-path=\"url(#clip260)\" style=\"stroke:#000000; stroke-linecap:butt; stroke-linejoin:round; stroke-width:4; stroke-opacity:1; fill:none\" points=\"\n",
       "  1362.38,1423.18 1362.38,1404.28 \n",
       "  \"/>\n",
       "<polyline clip-path=\"url(#clip260)\" style=\"stroke:#000000; stroke-linecap:butt; stroke-linejoin:round; stroke-width:4; stroke-opacity:1; fill:none\" points=\"\n",
       "  1558.94,1423.18 1558.94,1404.28 \n",
       "  \"/>\n",
       "<polyline clip-path=\"url(#clip260)\" style=\"stroke:#000000; stroke-linecap:butt; stroke-linejoin:round; stroke-width:4; stroke-opacity:1; fill:none\" points=\"\n",
       "  1755.51,1423.18 1755.51,1404.28 \n",
       "  \"/>\n",
       "<polyline clip-path=\"url(#clip260)\" style=\"stroke:#000000; stroke-linecap:butt; stroke-linejoin:round; stroke-width:4; stroke-opacity:1; fill:none\" points=\"\n",
       "  1952.07,1423.18 1952.07,1404.28 \n",
       "  \"/>\n",
       "<path clip-path=\"url(#clip260)\" d=\"M576.133 1454.1 Q572.522 1454.1 570.693 1457.66 Q568.887 1461.2 568.887 1468.33 Q568.887 1475.44 570.693 1479.01 Q572.522 1482.55 576.133 1482.55 Q579.767 1482.55 581.572 1479.01 Q583.401 1475.44 583.401 1468.33 Q583.401 1461.2 581.572 1457.66 Q579.767 1454.1 576.133 1454.1 M576.133 1450.39 Q581.943 1450.39 584.998 1455 Q588.077 1459.58 588.077 1468.33 Q588.077 1477.06 584.998 1481.67 Q581.943 1486.25 576.133 1486.25 Q570.323 1486.25 567.244 1481.67 Q564.188 1477.06 564.188 1468.33 Q564.188 1459.58 567.244 1455 Q570.323 1450.39 576.133 1450.39 Z\" fill=\"#000000\" fill-rule=\"evenodd\" fill-opacity=\"1\" /><path clip-path=\"url(#clip260)\" d=\"M763.077 1481.64 L770.716 1481.64 L770.716 1455.28 L762.406 1456.95 L762.406 1452.69 L770.669 1451.02 L775.345 1451.02 L775.345 1481.64 L782.984 1481.64 L782.984 1485.58 L763.077 1485.58 L763.077 1481.64 Z\" fill=\"#000000\" fill-rule=\"evenodd\" fill-opacity=\"1\" /><path clip-path=\"url(#clip260)\" d=\"M963.91 1481.64 L980.229 1481.64 L980.229 1485.58 L958.285 1485.58 L958.285 1481.64 Q960.947 1478.89 965.53 1474.26 Q970.137 1469.61 971.317 1468.27 Q973.563 1465.74 974.442 1464.01 Q975.345 1462.25 975.345 1460.56 Q975.345 1457.8 973.401 1456.07 Q971.479 1454.33 968.378 1454.33 Q966.178 1454.33 963.725 1455.09 Q961.294 1455.86 958.516 1457.41 L958.516 1452.69 Q961.341 1451.55 963.794 1450.97 Q966.248 1450.39 968.285 1450.39 Q973.655 1450.39 976.85 1453.08 Q980.044 1455.77 980.044 1460.26 Q980.044 1462.39 979.234 1464.31 Q978.447 1466.2 976.34 1468.8 Q975.762 1469.47 972.66 1472.69 Q969.558 1475.88 963.91 1481.64 Z\" fill=\"#000000\" fill-rule=\"evenodd\" fill-opacity=\"1\" /><path clip-path=\"url(#clip260)\" d=\"M1170.07 1466.95 Q1173.42 1467.66 1175.3 1469.93 Q1177.2 1472.2 1177.2 1475.53 Q1177.2 1480.65 1173.68 1483.45 Q1170.16 1486.25 1163.68 1486.25 Q1161.5 1486.25 1159.19 1485.81 Q1156.9 1485.39 1154.44 1484.54 L1154.44 1480.02 Q1156.39 1481.16 1158.7 1481.74 Q1161.02 1482.32 1163.54 1482.32 Q1167.94 1482.32 1170.23 1480.58 Q1172.54 1478.84 1172.54 1475.53 Q1172.54 1472.48 1170.39 1470.77 Q1168.26 1469.03 1164.44 1469.03 L1160.41 1469.03 L1160.41 1465.19 L1164.63 1465.19 Q1168.08 1465.19 1169.91 1463.82 Q1171.73 1462.43 1171.73 1459.84 Q1171.73 1457.18 1169.84 1455.77 Q1167.96 1454.33 1164.44 1454.33 Q1162.52 1454.33 1160.32 1454.75 Q1158.12 1455.16 1155.48 1456.04 L1155.48 1451.88 Q1158.15 1451.14 1160.46 1450.77 Q1162.8 1450.39 1164.86 1450.39 Q1170.18 1450.39 1173.28 1452.83 Q1176.39 1455.23 1176.39 1459.35 Q1176.39 1462.22 1174.74 1464.21 Q1173.1 1466.18 1170.07 1466.95 Z\" fill=\"#000000\" fill-rule=\"evenodd\" fill-opacity=\"1\" /><path clip-path=\"url(#clip260)\" d=\"M1365.39 1455.09 L1353.59 1473.54 L1365.39 1473.54 L1365.39 1455.09 M1364.16 1451.02 L1370.04 1451.02 L1370.04 1473.54 L1374.97 1473.54 L1374.97 1477.43 L1370.04 1477.43 L1370.04 1485.58 L1365.39 1485.58 L1365.39 1477.43 L1349.79 1477.43 L1349.79 1472.92 L1364.16 1451.02 Z\" fill=\"#000000\" fill-rule=\"evenodd\" fill-opacity=\"1\" /><path clip-path=\"url(#clip260)\" d=\"M1549.22 1451.02 L1567.58 1451.02 L1567.58 1454.96 L1553.5 1454.96 L1553.5 1463.43 Q1554.52 1463.08 1555.54 1462.92 Q1556.56 1462.73 1557.58 1462.73 Q1563.37 1462.73 1566.74 1465.9 Q1570.12 1469.08 1570.12 1474.49 Q1570.12 1480.07 1566.65 1483.17 Q1563.18 1486.25 1556.86 1486.25 Q1554.68 1486.25 1552.42 1485.88 Q1550.17 1485.51 1547.76 1484.77 L1547.76 1480.07 Q1549.85 1481.2 1552.07 1481.76 Q1554.29 1482.32 1556.77 1482.32 Q1560.77 1482.32 1563.11 1480.21 Q1565.45 1478.1 1565.45 1474.49 Q1565.45 1470.88 1563.11 1468.77 Q1560.77 1466.67 1556.77 1466.67 Q1554.89 1466.67 1553.02 1467.08 Q1551.17 1467.5 1549.22 1468.38 L1549.22 1451.02 Z\" fill=\"#000000\" fill-rule=\"evenodd\" fill-opacity=\"1\" /><path clip-path=\"url(#clip260)\" d=\"M1755.91 1466.44 Q1752.76 1466.44 1750.91 1468.59 Q1749.08 1470.74 1749.08 1474.49 Q1749.08 1478.22 1750.91 1480.39 Q1752.76 1482.55 1755.91 1482.55 Q1759.06 1482.55 1760.89 1480.39 Q1762.74 1478.22 1762.74 1474.49 Q1762.74 1470.74 1760.89 1468.59 Q1759.06 1466.44 1755.91 1466.44 M1765.19 1451.78 L1765.19 1456.04 Q1763.43 1455.21 1761.63 1454.77 Q1759.85 1454.33 1758.09 1454.33 Q1753.46 1454.33 1751 1457.45 Q1748.57 1460.58 1748.23 1466.9 Q1749.59 1464.89 1751.65 1463.82 Q1753.71 1462.73 1756.19 1462.73 Q1761.4 1462.73 1764.41 1465.9 Q1767.44 1469.05 1767.44 1474.49 Q1767.44 1479.82 1764.29 1483.03 Q1761.14 1486.25 1755.91 1486.25 Q1749.92 1486.25 1746.74 1481.67 Q1743.57 1477.06 1743.57 1468.33 Q1743.57 1460.14 1747.46 1455.28 Q1751.35 1450.39 1757.9 1450.39 Q1759.66 1450.39 1761.44 1450.74 Q1763.25 1451.09 1765.19 1451.78 Z\" fill=\"#000000\" fill-rule=\"evenodd\" fill-opacity=\"1\" /><path clip-path=\"url(#clip260)\" d=\"M1940.96 1451.02 L1963.18 1451.02 L1963.18 1453.01 L1950.63 1485.58 L1945.75 1485.58 L1957.55 1454.96 L1940.96 1454.96 L1940.96 1451.02 Z\" fill=\"#000000\" fill-rule=\"evenodd\" fill-opacity=\"1\" /><path clip-path=\"url(#clip260)\" d=\"M1268.37 1532.4 L1255.48 1549.74 L1269.03 1568.04 L1262.13 1568.04 L1251.75 1554.04 L1241.37 1568.04 L1234.47 1568.04 L1248.31 1549.39 L1235.65 1532.4 L1242.55 1532.4 L1252.01 1545.1 L1261.46 1532.4 L1268.37 1532.4 Z\" fill=\"#000000\" fill-rule=\"evenodd\" fill-opacity=\"1\" /><path clip-path=\"url(#clip260)\" d=\"M1276.13 1564.54 L1282.62 1564.54 L1282.62 1545.1 L1275.53 1546.4 L1275.53 1542.71 L1282.85 1541.47 L1287.21 1541.47 L1287.21 1564.54 L1293.73 1564.54 L1293.73 1568.04 L1276.13 1568.04 L1276.13 1564.54 Z\" fill=\"#000000\" fill-rule=\"evenodd\" fill-opacity=\"1\" /><polyline clip-path=\"url(#clip262)\" style=\"stroke:#000000; stroke-linecap:butt; stroke-linejoin:round; stroke-width:2; stroke-opacity:0.1; fill:none\" points=\"\n",
       "  576.133,1423.18 1952.07,1423.18 \n",
       "  \"/>\n",
       "<polyline clip-path=\"url(#clip262)\" style=\"stroke:#000000; stroke-linecap:butt; stroke-linejoin:round; stroke-width:2; stroke-opacity:0.1; fill:none\" points=\"\n",
       "  576.133,1226.62 1952.07,1226.62 \n",
       "  \"/>\n",
       "<polyline clip-path=\"url(#clip262)\" style=\"stroke:#000000; stroke-linecap:butt; stroke-linejoin:round; stroke-width:2; stroke-opacity:0.1; fill:none\" points=\"\n",
       "  576.133,1030.06 1952.07,1030.06 \n",
       "  \"/>\n",
       "<polyline clip-path=\"url(#clip262)\" style=\"stroke:#000000; stroke-linecap:butt; stroke-linejoin:round; stroke-width:2; stroke-opacity:0.1; fill:none\" points=\"\n",
       "  576.133,833.493 1952.07,833.493 \n",
       "  \"/>\n",
       "<polyline clip-path=\"url(#clip262)\" style=\"stroke:#000000; stroke-linecap:butt; stroke-linejoin:round; stroke-width:2; stroke-opacity:0.1; fill:none\" points=\"\n",
       "  576.133,636.931 1952.07,636.931 \n",
       "  \"/>\n",
       "<polyline clip-path=\"url(#clip262)\" style=\"stroke:#000000; stroke-linecap:butt; stroke-linejoin:round; stroke-width:2; stroke-opacity:0.1; fill:none\" points=\"\n",
       "  576.133,440.369 1952.07,440.369 \n",
       "  \"/>\n",
       "<polyline clip-path=\"url(#clip262)\" style=\"stroke:#000000; stroke-linecap:butt; stroke-linejoin:round; stroke-width:2; stroke-opacity:0.1; fill:none\" points=\"\n",
       "  576.133,243.806 1952.07,243.806 \n",
       "  \"/>\n",
       "<polyline clip-path=\"url(#clip262)\" style=\"stroke:#000000; stroke-linecap:butt; stroke-linejoin:round; stroke-width:2; stroke-opacity:0.1; fill:none\" points=\"\n",
       "  576.133,47.2441 1952.07,47.2441 \n",
       "  \"/>\n",
       "<polyline clip-path=\"url(#clip260)\" style=\"stroke:#000000; stroke-linecap:butt; stroke-linejoin:round; stroke-width:4; stroke-opacity:1; fill:none\" points=\"\n",
       "  576.133,1423.18 576.133,47.2441 \n",
       "  \"/>\n",
       "<polyline clip-path=\"url(#clip260)\" style=\"stroke:#000000; stroke-linecap:butt; stroke-linejoin:round; stroke-width:4; stroke-opacity:1; fill:none\" points=\"\n",
       "  576.133,1423.18 588.075,1423.18 \n",
       "  \"/>\n",
       "<polyline clip-path=\"url(#clip260)\" style=\"stroke:#000000; stroke-linecap:butt; stroke-linejoin:round; stroke-width:4; stroke-opacity:1; fill:none\" points=\"\n",
       "  576.133,1226.62 588.075,1226.62 \n",
       "  \"/>\n",
       "<polyline clip-path=\"url(#clip260)\" style=\"stroke:#000000; stroke-linecap:butt; stroke-linejoin:round; stroke-width:4; stroke-opacity:1; fill:none\" points=\"\n",
       "  576.133,1030.06 588.075,1030.06 \n",
       "  \"/>\n",
       "<polyline clip-path=\"url(#clip260)\" style=\"stroke:#000000; stroke-linecap:butt; stroke-linejoin:round; stroke-width:4; stroke-opacity:1; fill:none\" points=\"\n",
       "  576.133,833.493 588.075,833.493 \n",
       "  \"/>\n",
       "<polyline clip-path=\"url(#clip260)\" style=\"stroke:#000000; stroke-linecap:butt; stroke-linejoin:round; stroke-width:4; stroke-opacity:1; fill:none\" points=\"\n",
       "  576.133,636.931 588.075,636.931 \n",
       "  \"/>\n",
       "<polyline clip-path=\"url(#clip260)\" style=\"stroke:#000000; stroke-linecap:butt; stroke-linejoin:round; stroke-width:4; stroke-opacity:1; fill:none\" points=\"\n",
       "  576.133,440.369 588.075,440.369 \n",
       "  \"/>\n",
       "<polyline clip-path=\"url(#clip260)\" style=\"stroke:#000000; stroke-linecap:butt; stroke-linejoin:round; stroke-width:4; stroke-opacity:1; fill:none\" points=\"\n",
       "  576.133,243.806 588.075,243.806 \n",
       "  \"/>\n",
       "<polyline clip-path=\"url(#clip260)\" style=\"stroke:#000000; stroke-linecap:butt; stroke-linejoin:round; stroke-width:4; stroke-opacity:1; fill:none\" points=\"\n",
       "  576.133,47.2441 588.075,47.2441 \n",
       "  \"/>\n",
       "<path clip-path=\"url(#clip260)\" d=\"M528.188 1408.98 Q524.577 1408.98 522.749 1412.54 Q520.943 1416.08 520.943 1423.21 Q520.943 1430.32 522.749 1433.89 Q524.577 1437.43 528.188 1437.43 Q531.823 1437.43 533.628 1433.89 Q535.457 1430.32 535.457 1423.21 Q535.457 1416.08 533.628 1412.54 Q531.823 1408.98 528.188 1408.98 M528.188 1405.27 Q533.998 1405.27 537.054 1409.88 Q540.133 1414.46 540.133 1423.21 Q540.133 1431.94 537.054 1436.55 Q533.998 1441.13 528.188 1441.13 Q522.378 1441.13 519.299 1436.55 Q516.244 1431.94 516.244 1423.21 Q516.244 1414.46 519.299 1409.88 Q522.378 1405.27 528.188 1405.27 Z\" fill=\"#000000\" fill-rule=\"evenodd\" fill-opacity=\"1\" /><path clip-path=\"url(#clip260)\" d=\"M520.225 1239.96 L527.864 1239.96 L527.864 1213.6 L519.554 1215.26 L519.554 1211 L527.818 1209.34 L532.494 1209.34 L532.494 1239.96 L540.133 1239.96 L540.133 1243.9 L520.225 1243.9 L520.225 1239.96 Z\" fill=\"#000000\" fill-rule=\"evenodd\" fill-opacity=\"1\" /><path clip-path=\"url(#clip260)\" d=\"M523.813 1043.4 L540.133 1043.4 L540.133 1047.34 L518.188 1047.34 L518.188 1043.4 Q520.85 1040.65 525.434 1036.02 Q530.04 1031.36 531.221 1030.02 Q533.466 1027.5 534.346 1025.76 Q535.248 1024 535.248 1022.31 Q535.248 1019.56 533.304 1017.82 Q531.383 1016.09 528.281 1016.09 Q526.082 1016.09 523.628 1016.85 Q521.198 1017.61 518.42 1019.16 L518.42 1014.44 Q521.244 1013.31 523.698 1012.73 Q526.151 1012.15 528.188 1012.15 Q533.559 1012.15 536.753 1014.84 Q539.947 1017.52 539.947 1022.01 Q539.947 1024.14 539.137 1026.06 Q538.35 1027.96 536.244 1030.55 Q535.665 1031.22 532.563 1034.44 Q529.461 1037.64 523.813 1043.4 Z\" fill=\"#000000\" fill-rule=\"evenodd\" fill-opacity=\"1\" /><path clip-path=\"url(#clip260)\" d=\"M533.003 832.139 Q536.36 832.857 538.235 835.125 Q540.133 837.394 540.133 840.727 Q540.133 845.843 536.614 848.643 Q533.096 851.444 526.614 851.444 Q524.438 851.444 522.124 851.005 Q519.832 850.588 517.378 849.731 L517.378 845.218 Q519.323 846.352 521.637 846.931 Q523.952 847.509 526.475 847.509 Q530.873 847.509 533.165 845.773 Q535.48 844.037 535.48 840.727 Q535.48 837.671 533.327 835.958 Q531.198 834.222 527.378 834.222 L523.35 834.222 L523.35 830.38 L527.563 830.38 Q531.012 830.38 532.841 829.014 Q534.67 827.625 534.67 825.032 Q534.67 822.37 532.772 820.958 Q530.897 819.523 527.378 819.523 Q525.457 819.523 523.258 819.94 Q521.059 820.357 518.42 821.236 L518.42 817.07 Q521.082 816.329 523.397 815.958 Q525.735 815.588 527.795 815.588 Q533.119 815.588 536.221 818.019 Q539.323 820.426 539.323 824.546 Q539.323 827.417 537.679 829.407 Q536.035 831.375 533.003 832.139 Z\" fill=\"#000000\" fill-rule=\"evenodd\" fill-opacity=\"1\" /><path clip-path=\"url(#clip260)\" d=\"M530.549 623.725 L518.744 642.174 L530.549 642.174 L530.549 623.725 M529.323 619.651 L535.202 619.651 L535.202 642.174 L540.133 642.174 L540.133 646.063 L535.202 646.063 L535.202 654.211 L530.549 654.211 L530.549 646.063 L514.948 646.063 L514.948 641.549 L529.323 619.651 Z\" fill=\"#000000\" fill-rule=\"evenodd\" fill-opacity=\"1\" /><path clip-path=\"url(#clip260)\" d=\"M519.23 423.089 L537.586 423.089 L537.586 427.024 L523.512 427.024 L523.512 435.496 Q524.531 435.149 525.549 434.987 Q526.568 434.801 527.586 434.801 Q533.373 434.801 536.753 437.973 Q540.133 441.144 540.133 446.561 Q540.133 452.139 536.66 455.241 Q533.188 458.32 526.869 458.32 Q524.693 458.32 522.424 457.95 Q520.179 457.579 517.772 456.838 L517.772 452.139 Q519.855 453.274 522.077 453.829 Q524.299 454.385 526.776 454.385 Q530.781 454.385 533.119 452.278 Q535.457 450.172 535.457 446.561 Q535.457 442.95 533.119 440.843 Q530.781 438.737 526.776 438.737 Q524.901 438.737 523.026 439.153 Q521.174 439.57 519.23 440.45 L519.23 423.089 Z\" fill=\"#000000\" fill-rule=\"evenodd\" fill-opacity=\"1\" /><path clip-path=\"url(#clip260)\" d=\"M528.605 241.943 Q525.457 241.943 523.605 244.096 Q521.776 246.248 521.776 249.998 Q521.776 253.725 523.605 255.901 Q525.457 258.054 528.605 258.054 Q531.753 258.054 533.582 255.901 Q535.434 253.725 535.434 249.998 Q535.434 246.248 533.582 244.096 Q531.753 241.943 528.605 241.943 M537.887 227.29 L537.887 231.549 Q536.128 230.716 534.323 230.276 Q532.54 229.837 530.781 229.837 Q526.151 229.837 523.698 232.961 Q521.267 236.086 520.92 242.406 Q522.286 240.392 524.346 239.327 Q526.406 238.239 528.883 238.239 Q534.091 238.239 537.1 241.411 Q540.133 244.559 540.133 249.998 Q540.133 255.322 536.985 258.54 Q533.836 261.758 528.605 261.758 Q522.61 261.758 519.438 257.174 Q516.267 252.568 516.267 243.841 Q516.267 235.647 520.156 230.786 Q524.045 225.901 530.596 225.901 Q532.355 225.901 534.137 226.249 Q535.943 226.596 537.887 227.29 Z\" fill=\"#000000\" fill-rule=\"evenodd\" fill-opacity=\"1\" /><path clip-path=\"url(#clip260)\" d=\"M517.911 29.9641 L540.133 29.9641 L540.133 31.9548 L527.586 64.5241 L522.702 64.5241 L534.508 33.8993 L517.911 33.8993 L517.911 29.9641 Z\" fill=\"#000000\" fill-rule=\"evenodd\" fill-opacity=\"1\" /><path clip-path=\"url(#clip260)\" d=\"M429.044 730.676 L446.39 743.567 L464.692 730.008 L464.692 736.915 L450.687 747.291 L464.692 757.667 L464.692 764.574 L446.04 750.728 L429.044 763.396 L429.044 756.489 L441.743 747.036 L429.044 737.583 L429.044 730.676 Z\" fill=\"#000000\" fill-rule=\"evenodd\" fill-opacity=\"1\" /><path clip-path=\"url(#clip260)\" d=\"M461.063 719.345 L461.063 705.85 L464.692 705.85 L464.692 724.884 L461.19 724.884 Q460.204 723.801 458.421 721.796 Q448.714 710.847 445.722 710.847 Q443.621 710.847 442.348 712.502 Q441.043 714.157 441.043 716.863 Q441.043 718.518 441.616 720.459 Q442.157 722.401 443.271 724.693 L439.356 724.693 Q438.465 722.242 438.019 720.141 Q437.574 718.009 437.574 716.194 Q437.574 711.579 439.674 708.81 Q441.775 706.041 445.213 706.041 Q449.637 706.041 458.676 716.576 Q460.204 718.359 461.063 719.345 Z\" fill=\"#000000\" fill-rule=\"evenodd\" fill-opacity=\"1\" /><polyline clip-path=\"url(#clip262)\" style=\"stroke:#009af9; stroke-linecap:butt; stroke-linejoin:round; stroke-width:4; stroke-opacity:1; fill:none\" points=\"\n",
       "  379.57,47.2441 2541.76,2209.43 \n",
       "  \"/>\n",
       "<polyline clip-path=\"url(#clip262)\" style=\"stroke:#009af9; stroke-linecap:butt; stroke-linejoin:round; stroke-width:4; stroke-opacity:1; fill:none\" stroke-dasharray=\"16, 10\" points=\"\n",
       "  -799.803,833.493 3328,833.493 \n",
       "  \"/>\n",
       "<polyline clip-path=\"url(#clip262)\" style=\"stroke:#000000; stroke-linecap:butt; stroke-linejoin:round; stroke-width:4; stroke-opacity:0.6; fill:none\" points=\"\n",
       "  576.133,2799.12 576.133,-1328.69 \n",
       "  \"/>\n",
       "<polyline clip-path=\"url(#clip262)\" style=\"stroke:#000000; stroke-linecap:butt; stroke-linejoin:round; stroke-width:4; stroke-opacity:0.6; fill:none\" points=\"\n",
       "  -799.803,1423.18 3328,1423.18 \n",
       "  \"/>\n",
       "<path clip-path=\"url(#clip262)\" d=\"\n",
       "M576.133 833.493 L588.046 833.493 L599.958 833.493 L611.871 833.493 L623.784 833.493 L635.697 833.493 L647.61 833.493 L659.523 833.493 L671.436 833.493 L683.348 833.493 \n",
       "  L695.261 833.493 L707.174 833.493 L719.087 833.493 L731 833.493 L742.913 833.493 L754.826 833.493 L766.739 833.493 L778.651 833.493 L790.564 833.493 L802.477 833.493 \n",
       "  L814.39 833.493 L826.303 833.493 L838.216 833.493 L850.129 833.493 L862.041 833.493 L873.954 833.493 L885.867 833.493 L897.78 833.493 L909.693 833.493 L921.606 833.493 \n",
       "  L933.519 833.493 L945.431 833.493 L957.344 833.493 L969.257 833.493 L981.17 833.493 L993.083 833.493 L1005 833.493 L1016.91 833.493 L1028.82 833.493 L1040.73 833.493 \n",
       "  L1052.65 833.493 L1064.56 833.493 L1076.47 833.493 L1088.39 833.493 L1100.3 833.493 L1112.21 833.493 L1124.12 833.493 L1136.04 833.493 L1147.95 833.493 L1159.86 833.493 \n",
       "  L1171.78 839.45 L1183.69 851.362 L1195.6 863.275 L1207.51 875.188 L1219.43 887.101 L1231.34 899.014 L1243.25 910.927 L1255.17 922.84 L1267.08 934.752 L1278.99 946.665 \n",
       "  L1290.9 958.578 L1302.82 970.491 L1314.73 982.404 L1326.64 994.317 L1338.56 1006.23 L1350.47 1018.14 L1362.38 1030.06 L1374.29 1041.97 L1386.21 1053.88 L1398.12 1065.79 \n",
       "  L1410.03 1077.71 L1421.95 1089.62 L1433.86 1101.53 L1445.77 1113.45 L1457.68 1125.36 L1469.6 1137.27 L1481.51 1149.18 L1493.42 1161.1 L1505.34 1173.01 L1517.25 1184.92 \n",
       "  L1529.16 1196.84 L1541.07 1208.75 L1552.99 1220.66 L1564.9 1232.57 L1576.81 1244.49 L1588.73 1256.4 L1600.64 1268.31 L1612.55 1280.23 L1624.46 1292.14 L1636.38 1304.05 \n",
       "  L1648.29 1315.96 L1660.2 1327.88 L1672.12 1339.79 L1684.03 1351.7 L1695.94 1363.62 L1707.85 1375.53 L1719.77 1387.44 L1731.68 1399.35 L1743.59 1411.27 L1755.51 1423.18 \n",
       "  L1755.51 1423.18 L1743.59 1423.18 L1731.68 1423.18 L1719.77 1423.18 L1707.85 1423.18 L1695.94 1423.18 L1684.03 1423.18 L1672.12 1423.18 L1660.2 1423.18 L1648.29 1423.18 \n",
       "  L1636.38 1423.18 L1624.46 1423.18 L1612.55 1423.18 L1600.64 1423.18 L1588.73 1423.18 L1576.81 1423.18 L1564.9 1423.18 L1552.99 1423.18 L1541.07 1423.18 L1529.16 1423.18 \n",
       "  L1517.25 1423.18 L1505.34 1423.18 L1493.42 1423.18 L1481.51 1423.18 L1469.6 1423.18 L1457.68 1423.18 L1445.77 1423.18 L1433.86 1423.18 L1421.95 1423.18 L1410.03 1423.18 \n",
       "  L1398.12 1423.18 L1386.21 1423.18 L1374.29 1423.18 L1362.38 1423.18 L1350.47 1423.18 L1338.56 1423.18 L1326.64 1423.18 L1314.73 1423.18 L1302.82 1423.18 L1290.9 1423.18 \n",
       "  L1278.99 1423.18 L1267.08 1423.18 L1255.17 1423.18 L1243.25 1423.18 L1231.34 1423.18 L1219.43 1423.18 L1207.51 1423.18 L1195.6 1423.18 L1183.69 1423.18 L1171.78 1423.18 \n",
       "  L1159.86 1423.18 L1147.95 1423.18 L1136.04 1423.18 L1124.12 1423.18 L1112.21 1423.18 L1100.3 1423.18 L1088.39 1423.18 L1076.47 1423.18 L1064.56 1423.18 L1052.65 1423.18 \n",
       "  L1040.73 1423.18 L1028.82 1423.18 L1016.91 1423.18 L1005 1423.18 L993.083 1423.18 L981.17 1423.18 L969.257 1423.18 L957.344 1423.18 L945.431 1423.18 L933.519 1423.18 \n",
       "  L921.606 1423.18 L909.693 1423.18 L897.78 1423.18 L885.867 1423.18 L873.954 1423.18 L862.041 1423.18 L850.129 1423.18 L838.216 1423.18 L826.303 1423.18 L814.39 1423.18 \n",
       "  L802.477 1423.18 L790.564 1423.18 L778.651 1423.18 L766.739 1423.18 L754.826 1423.18 L742.913 1423.18 L731 1423.18 L719.087 1423.18 L707.174 1423.18 L695.261 1423.18 \n",
       "  L683.348 1423.18 L671.436 1423.18 L659.523 1423.18 L647.61 1423.18 L635.697 1423.18 L623.784 1423.18 L611.871 1423.18 L599.958 1423.18 L588.046 1423.18 L576.133 1423.18 \n",
       "   Z\n",
       "  \" fill=\"#009af9\" fill-rule=\"evenodd\" fill-opacity=\"0.3\"/>\n",
       "<polyline clip-path=\"url(#clip262)\" style=\"stroke:#009af9; stroke-linecap:butt; stroke-linejoin:round; stroke-width:4; stroke-opacity:1; fill:none\" points=\"\n",
       "  576.133,833.493 588.046,833.493 599.958,833.493 611.871,833.493 623.784,833.493 635.697,833.493 647.61,833.493 659.523,833.493 671.436,833.493 683.348,833.493 \n",
       "  695.261,833.493 707.174,833.493 719.087,833.493 731,833.493 742.913,833.493 754.826,833.493 766.739,833.493 778.651,833.493 790.564,833.493 802.477,833.493 \n",
       "  814.39,833.493 826.303,833.493 838.216,833.493 850.129,833.493 862.041,833.493 873.954,833.493 885.867,833.493 897.78,833.493 909.693,833.493 921.606,833.493 \n",
       "  933.519,833.493 945.431,833.493 957.344,833.493 969.257,833.493 981.17,833.493 993.083,833.493 1005,833.493 1016.91,833.493 1028.82,833.493 1040.73,833.493 \n",
       "  1052.65,833.493 1064.56,833.493 1076.47,833.493 1088.39,833.493 1100.3,833.493 1112.21,833.493 1124.12,833.493 1136.04,833.493 1147.95,833.493 1159.86,833.493 \n",
       "  1171.78,839.45 1183.69,851.362 1195.6,863.275 1207.51,875.188 1219.43,887.101 1231.34,899.014 1243.25,910.927 1255.17,922.84 1267.08,934.752 1278.99,946.665 \n",
       "  1290.9,958.578 1302.82,970.491 1314.73,982.404 1326.64,994.317 1338.56,1006.23 1350.47,1018.14 1362.38,1030.06 1374.29,1041.97 1386.21,1053.88 1398.12,1065.79 \n",
       "  1410.03,1077.71 1421.95,1089.62 1433.86,1101.53 1445.77,1113.45 1457.68,1125.36 1469.6,1137.27 1481.51,1149.18 1493.42,1161.1 1505.34,1173.01 1517.25,1184.92 \n",
       "  1529.16,1196.84 1541.07,1208.75 1552.99,1220.66 1564.9,1232.57 1576.81,1244.49 1588.73,1256.4 1600.64,1268.31 1612.55,1280.23 1624.46,1292.14 1636.38,1304.05 \n",
       "  1648.29,1315.96 1660.2,1327.88 1672.12,1339.79 1684.03,1351.7 1695.94,1363.62 1707.85,1375.53 1719.77,1387.44 1731.68,1399.35 1743.59,1411.27 1755.51,1423.18 \n",
       "  \n",
       "  \"/>\n",
       "<circle clip-path=\"url(#clip262)\" cx=\"1165.82\" cy=\"833.493\" r=\"14\" fill=\"#e26f46\" fill-rule=\"evenodd\" fill-opacity=\"1\" stroke=\"#000000\" stroke-opacity=\"1\" stroke-width=\"3.2\"/>\n",
       "<circle clip-path=\"url(#clip262)\" cx=\"1755.51\" cy=\"1423.18\" r=\"14\" fill=\"#e26f46\" fill-rule=\"evenodd\" fill-opacity=\"1\" stroke=\"#000000\" stroke-opacity=\"1\" stroke-width=\"3.2\"/>\n",
       "<circle clip-path=\"url(#clip262)\" cx=\"576.133\" cy=\"833.493\" r=\"14\" fill=\"#e26f46\" fill-rule=\"evenodd\" fill-opacity=\"1\" stroke=\"#000000\" stroke-opacity=\"1\" stroke-width=\"3.2\"/>\n",
       "<circle clip-path=\"url(#clip262)\" cx=\"576.133\" cy=\"1423.18\" r=\"14\" fill=\"#e26f46\" fill-rule=\"evenodd\" fill-opacity=\"1\" stroke=\"#000000\" stroke-opacity=\"1\" stroke-width=\"3.2\"/>\n",
       "<path clip-path=\"url(#clip260)\" d=\"M1210.39 779.064 L1210.39 793.673 L1217.01 793.673 Q1220.68 793.673 1222.68 791.772 Q1224.69 789.871 1224.69 786.355 Q1224.69 782.866 1222.68 780.965 Q1220.68 779.064 1217.01 779.064 L1210.39 779.064 M1205.13 774.741 L1217.01 774.741 Q1223.54 774.741 1226.88 777.709 Q1230.24 780.652 1230.24 786.355 Q1230.24 792.11 1226.88 795.053 Q1223.54 797.996 1217.01 797.996 L1210.39 797.996 L1210.39 813.621 L1205.13 813.621 L1205.13 774.741 Z\" fill=\"#000000\" fill-rule=\"evenodd\" fill-opacity=\"1\" /><path clip-path=\"url(#clip260)\" d=\"M1246.49 787.813 Q1242.63 787.813 1240.39 790.834 Q1238.15 793.829 1238.15 799.063 Q1238.15 804.298 1240.37 807.319 Q1242.61 810.313 1246.49 810.313 Q1250.31 810.313 1252.55 807.293 Q1254.79 804.272 1254.79 799.063 Q1254.79 793.881 1252.55 790.86 Q1250.31 787.813 1246.49 787.813 M1246.49 783.751 Q1252.74 783.751 1256.3 787.813 Q1259.87 791.876 1259.87 799.063 Q1259.87 806.225 1256.3 810.313 Q1252.74 814.376 1246.49 814.376 Q1240.21 814.376 1236.64 810.313 Q1233.1 806.225 1233.1 799.063 Q1233.1 791.876 1236.64 787.813 Q1240.21 783.751 1246.49 783.751 Z\" fill=\"#000000\" fill-rule=\"evenodd\" fill-opacity=\"1\" /><path clip-path=\"url(#clip260)\" d=\"M1267.81 784.454 L1272.61 784.454 L1272.61 813.621 L1267.81 813.621 L1267.81 784.454 M1267.81 773.1 L1272.61 773.1 L1272.61 779.168 L1267.81 779.168 L1267.81 773.1 Z\" fill=\"#000000\" fill-rule=\"evenodd\" fill-opacity=\"1\" /><path clip-path=\"url(#clip260)\" d=\"M1306.88 796.017 L1306.88 813.621 L1302.08 813.621 L1302.08 796.173 Q1302.08 792.032 1300.47 789.975 Q1298.86 787.918 1295.63 787.918 Q1291.75 787.918 1289.51 790.392 Q1287.27 792.866 1287.27 797.136 L1287.27 813.621 L1282.45 813.621 L1282.45 784.454 L1287.27 784.454 L1287.27 788.985 Q1288.99 786.355 1291.3 785.053 Q1293.65 783.751 1296.69 783.751 Q1301.72 783.751 1304.3 786.876 Q1306.88 789.975 1306.88 796.017 Z\" fill=\"#000000\" fill-rule=\"evenodd\" fill-opacity=\"1\" /><path clip-path=\"url(#clip260)\" d=\"M1321.17 776.173 L1321.17 784.454 L1331.04 784.454 L1331.04 788.178 L1321.17 788.178 L1321.17 804.011 Q1321.17 807.579 1322.14 808.595 Q1323.13 809.61 1326.12 809.61 L1331.04 809.61 L1331.04 813.621 L1326.12 813.621 Q1320.57 813.621 1318.46 811.563 Q1316.36 809.48 1316.36 804.011 L1316.36 788.178 L1312.84 788.178 L1312.84 784.454 L1316.36 784.454 L1316.36 776.173 L1321.17 776.173 Z\" fill=\"#000000\" fill-rule=\"evenodd\" fill-opacity=\"1\" /><path clip-path=\"url(#clip260)\" d=\"M1338.57 807.006 L1344.06 807.006 L1344.06 813.621 L1338.57 813.621 L1338.57 807.006 M1338.57 786.043 L1344.06 786.043 L1344.06 792.657 L1338.57 792.657 L1338.57 786.043 Z\" fill=\"#000000\" fill-rule=\"evenodd\" fill-opacity=\"1\" /><path clip-path=\"url(#clip260)\" d=\"M1371.82 773.1 L1382.87 773.1 L1382.87 776.824 L1376.62 776.824 L1376.62 816.928 L1382.87 816.928 L1382.87 820.652 L1371.82 820.652 L1371.82 773.1 Z\" fill=\"#000000\" fill-rule=\"evenodd\" fill-opacity=\"1\" /><path clip-path=\"url(#clip260)\" d=\"M1409.69 792.657 Q1413.46 793.465 1415.57 796.017 Q1417.71 798.569 1417.71 802.319 Q1417.71 808.074 1413.75 811.225 Q1409.79 814.376 1402.5 814.376 Q1400.05 814.376 1397.45 813.881 Q1394.87 813.412 1392.11 812.449 L1392.11 807.371 Q1394.3 808.647 1396.9 809.298 Q1399.51 809.949 1402.34 809.949 Q1407.29 809.949 1409.87 807.996 Q1412.47 806.043 1412.47 802.319 Q1412.47 798.881 1410.05 796.954 Q1407.66 795.001 1403.36 795.001 L1398.83 795.001 L1398.83 790.678 L1403.57 790.678 Q1407.45 790.678 1409.51 789.142 Q1411.56 787.579 1411.56 784.662 Q1411.56 781.668 1409.43 780.079 Q1407.32 778.465 1403.36 778.465 Q1401.2 778.465 1398.72 778.933 Q1396.25 779.402 1393.28 780.392 L1393.28 775.704 Q1396.28 774.871 1398.88 774.454 Q1401.51 774.038 1403.83 774.038 Q1409.82 774.038 1413.31 776.772 Q1416.8 779.48 1416.8 784.116 Q1416.8 787.345 1414.95 789.584 Q1413.1 791.798 1409.69 792.657 Z\" fill=\"#000000\" fill-rule=\"evenodd\" fill-opacity=\"1\" /><path clip-path=\"url(#clip260)\" d=\"M1427.68 807.006 L1433.18 807.006 L1433.18 813.621 L1427.68 813.621 L1427.68 807.006 Z\" fill=\"#000000\" fill-rule=\"evenodd\" fill-opacity=\"1\" /><path clip-path=\"url(#clip260)\" d=\"M1455.89 778.204 Q1451.82 778.204 1449.77 782.215 Q1447.73 786.199 1447.73 794.22 Q1447.73 802.214 1449.77 806.225 Q1451.82 810.209 1455.89 810.209 Q1459.97 810.209 1462.01 806.225 Q1464.06 802.214 1464.06 794.22 Q1464.06 786.199 1462.01 782.215 Q1459.97 778.204 1455.89 778.204 M1455.89 774.038 Q1462.42 774.038 1465.86 779.22 Q1469.32 784.376 1469.32 794.22 Q1469.32 804.037 1465.86 809.22 Q1462.42 814.376 1455.89 814.376 Q1449.35 814.376 1445.89 809.22 Q1442.45 804.037 1442.45 794.22 Q1442.45 784.376 1445.89 779.22 Q1449.35 774.038 1455.89 774.038 Z\" fill=\"#000000\" fill-rule=\"evenodd\" fill-opacity=\"1\" /><path clip-path=\"url(#clip260)\" d=\"M1479.11 807.006 L1484.61 807.006 L1484.61 811.485 L1480.34 819.819 L1476.98 819.819 L1479.11 811.485 L1479.11 807.006 Z\" fill=\"#000000\" fill-rule=\"evenodd\" fill-opacity=\"1\" /><path clip-path=\"url(#clip260)\" d=\"M1511.46 792.657 Q1515.23 793.465 1517.34 796.017 Q1519.48 798.569 1519.48 802.319 Q1519.48 808.074 1515.52 811.225 Q1511.56 814.376 1504.27 814.376 Q1501.82 814.376 1499.22 813.881 Q1496.64 813.412 1493.88 812.449 L1493.88 807.371 Q1496.07 808.647 1498.67 809.298 Q1501.28 809.949 1504.11 809.949 Q1509.06 809.949 1511.64 807.996 Q1514.24 806.043 1514.24 802.319 Q1514.24 798.881 1511.82 796.954 Q1509.43 795.001 1505.13 795.001 L1500.6 795.001 L1500.6 790.678 L1505.34 790.678 Q1509.22 790.678 1511.28 789.142 Q1513.33 787.579 1513.33 784.662 Q1513.33 781.668 1511.2 780.079 Q1509.09 778.465 1505.13 778.465 Q1502.97 778.465 1500.49 778.933 Q1498.02 779.402 1495.05 780.392 L1495.05 775.704 Q1498.05 774.871 1500.65 774.454 Q1503.28 774.038 1505.6 774.038 Q1511.59 774.038 1515.08 776.772 Q1518.57 779.48 1518.57 784.116 Q1518.57 787.345 1516.72 789.584 Q1514.87 791.798 1511.46 792.657 Z\" fill=\"#000000\" fill-rule=\"evenodd\" fill-opacity=\"1\" /><path clip-path=\"url(#clip260)\" d=\"M1529.45 807.006 L1534.95 807.006 L1534.95 813.621 L1529.45 813.621 L1529.45 807.006 Z\" fill=\"#000000\" fill-rule=\"evenodd\" fill-opacity=\"1\" /><path clip-path=\"url(#clip260)\" d=\"M1557.66 778.204 Q1553.59 778.204 1551.54 782.215 Q1549.51 786.199 1549.51 794.22 Q1549.51 802.214 1551.54 806.225 Q1553.59 810.209 1557.66 810.209 Q1561.74 810.209 1563.78 806.225 Q1565.83 802.214 1565.83 794.22 Q1565.83 786.199 1563.78 782.215 Q1561.74 778.204 1557.66 778.204 M1557.66 774.038 Q1564.19 774.038 1567.63 779.22 Q1571.09 784.376 1571.09 794.22 Q1571.09 804.037 1567.63 809.22 Q1564.19 814.376 1557.66 814.376 Q1551.12 814.376 1547.66 809.22 Q1544.22 804.037 1544.22 794.22 Q1544.22 784.376 1547.66 779.22 Q1551.12 774.038 1557.66 774.038 Z\" fill=\"#000000\" fill-rule=\"evenodd\" fill-opacity=\"1\" /><path clip-path=\"url(#clip260)\" d=\"M1590.86 773.1 L1590.86 820.652 L1579.82 820.652 L1579.82 816.928 L1586.04 816.928 L1586.04 776.824 L1579.82 776.824 L1579.82 773.1 L1590.86 773.1 Z\" fill=\"#000000\" fill-rule=\"evenodd\" fill-opacity=\"1\" /><path clip-path=\"url(#clip260)\" d=\"M1800.08 1368.75 L1800.08 1383.36 L1806.69 1383.36 Q1810.37 1383.36 1812.37 1381.46 Q1814.38 1379.56 1814.38 1376.04 Q1814.38 1372.55 1812.37 1370.65 Q1810.37 1368.75 1806.69 1368.75 L1800.08 1368.75 M1794.82 1364.43 L1806.69 1364.43 Q1813.23 1364.43 1816.56 1367.4 Q1819.92 1370.34 1819.92 1376.04 Q1819.92 1381.8 1816.56 1384.74 Q1813.23 1387.68 1806.69 1387.68 L1800.08 1387.68 L1800.08 1403.31 L1794.82 1403.31 L1794.82 1364.43 Z\" fill=\"#000000\" fill-rule=\"evenodd\" fill-opacity=\"1\" /><path clip-path=\"url(#clip260)\" d=\"M1836.17 1377.5 Q1832.32 1377.5 1830.08 1380.52 Q1827.84 1383.52 1827.84 1388.75 Q1827.84 1393.98 1830.05 1397.01 Q1832.29 1400 1836.17 1400 Q1840 1400 1842.24 1396.98 Q1844.48 1393.96 1844.48 1388.75 Q1844.48 1383.57 1842.24 1380.55 Q1840 1377.5 1836.17 1377.5 M1836.17 1373.44 Q1842.42 1373.44 1845.99 1377.5 Q1849.56 1381.56 1849.56 1388.75 Q1849.56 1395.91 1845.99 1400 Q1842.42 1404.06 1836.17 1404.06 Q1829.9 1404.06 1826.33 1400 Q1822.79 1395.91 1822.79 1388.75 Q1822.79 1381.56 1826.33 1377.5 Q1829.9 1373.44 1836.17 1373.44 Z\" fill=\"#000000\" fill-rule=\"evenodd\" fill-opacity=\"1\" /><path clip-path=\"url(#clip260)\" d=\"M1857.5 1374.14 L1862.29 1374.14 L1862.29 1403.31 L1857.5 1403.31 L1857.5 1374.14 M1857.5 1362.79 L1862.29 1362.79 L1862.29 1368.85 L1857.5 1368.85 L1857.5 1362.79 Z\" fill=\"#000000\" fill-rule=\"evenodd\" fill-opacity=\"1\" /><path clip-path=\"url(#clip260)\" d=\"M1896.56 1385.7 L1896.56 1403.31 L1891.77 1403.31 L1891.77 1385.86 Q1891.77 1381.72 1890.16 1379.66 Q1888.54 1377.6 1885.31 1377.6 Q1881.43 1377.6 1879.19 1380.08 Q1876.95 1382.55 1876.95 1386.82 L1876.95 1403.31 L1872.14 1403.31 L1872.14 1374.14 L1876.95 1374.14 L1876.95 1378.67 Q1878.67 1376.04 1880.99 1374.74 Q1883.33 1373.44 1886.38 1373.44 Q1891.41 1373.44 1893.98 1376.56 Q1896.56 1379.66 1896.56 1385.7 Z\" fill=\"#000000\" fill-rule=\"evenodd\" fill-opacity=\"1\" /><path clip-path=\"url(#clip260)\" d=\"M1910.86 1365.86 L1910.86 1374.14 L1920.73 1374.14 L1920.73 1377.86 L1910.86 1377.86 L1910.86 1393.7 Q1910.86 1397.27 1911.82 1398.28 Q1912.81 1399.3 1915.81 1399.3 L1920.73 1399.3 L1920.73 1403.31 L1915.81 1403.31 Q1910.26 1403.31 1908.15 1401.25 Q1906.04 1399.17 1906.04 1393.7 L1906.04 1377.86 L1902.53 1377.86 L1902.53 1374.14 L1906.04 1374.14 L1906.04 1365.86 L1910.86 1365.86 Z\" fill=\"#000000\" fill-rule=\"evenodd\" fill-opacity=\"1\" /><path clip-path=\"url(#clip260)\" d=\"M1928.26 1396.69 L1933.75 1396.69 L1933.75 1403.31 L1928.26 1403.31 L1928.26 1396.69 M1928.26 1375.73 L1933.75 1375.73 L1933.75 1382.34 L1928.26 1382.34 L1928.26 1375.73 Z\" fill=\"#000000\" fill-rule=\"evenodd\" fill-opacity=\"1\" /><path clip-path=\"url(#clip260)\" d=\"M1961.51 1362.79 L1972.55 1362.79 L1972.55 1366.51 L1966.3 1366.51 L1966.3 1406.61 L1972.55 1406.61 L1972.55 1410.34 L1961.51 1410.34 L1961.51 1362.79 Z\" fill=\"#000000\" fill-rule=\"evenodd\" fill-opacity=\"1\" /><path clip-path=\"url(#clip260)\" d=\"M1995.34 1381.77 Q1991.8 1381.77 1989.71 1384.19 Q1987.66 1386.61 1987.66 1390.83 Q1987.66 1395.03 1989.71 1397.47 Q1991.8 1399.9 1995.34 1399.9 Q1998.88 1399.9 2000.94 1397.47 Q2003.02 1395.03 2003.02 1390.83 Q2003.02 1386.61 2000.94 1384.19 Q1998.88 1381.77 1995.34 1381.77 M2005.78 1365.29 L2005.78 1370.08 Q2003.8 1369.14 2001.77 1368.65 Q1999.77 1368.15 1997.79 1368.15 Q1992.58 1368.15 1989.82 1371.67 Q1987.08 1375.18 1986.69 1382.29 Q1988.23 1380.03 1990.55 1378.83 Q1992.86 1377.6 1995.65 1377.6 Q2001.51 1377.6 2004.9 1381.17 Q2008.31 1384.71 2008.31 1390.83 Q2008.31 1396.82 2004.77 1400.44 Q2001.22 1404.06 1995.34 1404.06 Q1988.59 1404.06 1985.03 1398.91 Q1981.46 1393.72 1981.46 1383.91 Q1981.46 1374.69 1985.83 1369.22 Q1990.21 1363.72 1997.58 1363.72 Q1999.56 1363.72 2001.56 1364.11 Q2003.59 1364.51 2005.78 1365.29 Z\" fill=\"#000000\" fill-rule=\"evenodd\" fill-opacity=\"1\" /><path clip-path=\"url(#clip260)\" d=\"M2017.37 1396.69 L2022.86 1396.69 L2022.86 1403.31 L2017.37 1403.31 L2017.37 1396.69 Z\" fill=\"#000000\" fill-rule=\"evenodd\" fill-opacity=\"1\" /><path clip-path=\"url(#clip260)\" d=\"M2045.57 1367.89 Q2041.51 1367.89 2039.45 1371.9 Q2037.42 1375.89 2037.42 1383.91 Q2037.42 1391.9 2039.45 1395.91 Q2041.51 1399.9 2045.57 1399.9 Q2049.66 1399.9 2051.69 1395.91 Q2053.75 1391.9 2053.75 1383.91 Q2053.75 1375.89 2051.69 1371.9 Q2049.66 1367.89 2045.57 1367.89 M2045.57 1363.72 Q2052.11 1363.72 2055.55 1368.91 Q2059.01 1374.06 2059.01 1383.91 Q2059.01 1393.72 2055.55 1398.91 Q2052.11 1404.06 2045.57 1404.06 Q2039.04 1404.06 2035.57 1398.91 Q2032.14 1393.72 2032.14 1383.91 Q2032.14 1374.06 2035.57 1368.91 Q2039.04 1363.72 2045.57 1363.72 Z\" fill=\"#000000\" fill-rule=\"evenodd\" fill-opacity=\"1\" /><path clip-path=\"url(#clip260)\" d=\"M2068.8 1396.69 L2074.3 1396.69 L2074.3 1401.17 L2070.03 1409.51 L2066.67 1409.51 L2068.8 1401.17 L2068.8 1396.69 Z\" fill=\"#000000\" fill-rule=\"evenodd\" fill-opacity=\"1\" /><path clip-path=\"url(#clip260)\" d=\"M2096.46 1367.89 Q2092.4 1367.89 2090.34 1371.9 Q2088.31 1375.89 2088.31 1383.91 Q2088.31 1391.9 2090.34 1395.91 Q2092.4 1399.9 2096.46 1399.9 Q2100.55 1399.9 2102.58 1395.91 Q2104.63 1391.9 2104.63 1383.91 Q2104.63 1375.89 2102.58 1371.9 Q2100.55 1367.89 2096.46 1367.89 M2096.46 1363.72 Q2102.99 1363.72 2106.43 1368.91 Q2109.9 1374.06 2109.9 1383.91 Q2109.9 1393.72 2106.43 1398.91 Q2102.99 1404.06 2096.46 1404.06 Q2089.92 1404.06 2086.46 1398.91 Q2083.02 1393.72 2083.02 1383.91 Q2083.02 1374.06 2086.46 1368.91 Q2089.92 1363.72 2096.46 1363.72 Z\" fill=\"#000000\" fill-rule=\"evenodd\" fill-opacity=\"1\" /><path clip-path=\"url(#clip260)\" d=\"M2119.14 1396.69 L2124.63 1396.69 L2124.63 1403.31 L2119.14 1403.31 L2119.14 1396.69 Z\" fill=\"#000000\" fill-rule=\"evenodd\" fill-opacity=\"1\" /><path clip-path=\"url(#clip260)\" d=\"M2147.34 1367.89 Q2143.28 1367.89 2141.22 1371.9 Q2139.19 1375.89 2139.19 1383.91 Q2139.19 1391.9 2141.22 1395.91 Q2143.28 1399.9 2147.34 1399.9 Q2151.43 1399.9 2153.46 1395.91 Q2155.52 1391.9 2155.52 1383.91 Q2155.52 1375.89 2153.46 1371.9 Q2151.43 1367.89 2147.34 1367.89 M2147.34 1363.72 Q2153.88 1363.72 2157.32 1368.91 Q2160.78 1374.06 2160.78 1383.91 Q2160.78 1393.72 2157.32 1398.91 Q2153.88 1404.06 2147.34 1404.06 Q2140.81 1404.06 2137.34 1398.91 Q2133.91 1393.72 2133.91 1383.91 Q2133.91 1374.06 2137.34 1368.91 Q2140.81 1363.72 2147.34 1363.72 Z\" fill=\"#000000\" fill-rule=\"evenodd\" fill-opacity=\"1\" /><path clip-path=\"url(#clip260)\" d=\"M2180.55 1362.79 L2180.55 1410.34 L2169.5 1410.34 L2169.5 1406.61 L2175.73 1406.61 L2175.73 1366.51 L2169.5 1366.51 L2169.5 1362.79 L2180.55 1362.79 Z\" fill=\"#000000\" fill-rule=\"evenodd\" fill-opacity=\"1\" /><path clip-path=\"url(#clip260)\" d=\"M620.706 779.064 L620.706 793.673 L627.32 793.673 Q630.992 793.673 632.997 791.772 Q635.002 789.871 635.002 786.355 Q635.002 782.866 632.997 780.965 Q630.992 779.064 627.32 779.064 L620.706 779.064 M615.445 774.741 L627.32 774.741 Q633.856 774.741 637.19 777.709 Q640.549 780.652 640.549 786.355 Q640.549 792.11 637.19 795.053 Q633.856 797.996 627.32 797.996 L620.706 797.996 L620.706 813.621 L615.445 813.621 L615.445 774.741 Z\" fill=\"#000000\" fill-rule=\"evenodd\" fill-opacity=\"1\" /><path clip-path=\"url(#clip260)\" d=\"M656.799 787.813 Q652.945 787.813 650.705 790.834 Q648.466 793.829 648.466 799.063 Q648.466 804.298 650.679 807.319 Q652.919 810.313 656.799 810.313 Q660.627 810.313 662.867 807.293 Q665.106 804.272 665.106 799.063 Q665.106 793.881 662.867 790.86 Q660.627 787.813 656.799 787.813 M656.799 783.751 Q663.049 783.751 666.617 787.813 Q670.184 791.876 670.184 799.063 Q670.184 806.225 666.617 810.313 Q663.049 814.376 656.799 814.376 Q650.523 814.376 646.955 810.313 Q643.414 806.225 643.414 799.063 Q643.414 791.876 646.955 787.813 Q650.523 783.751 656.799 783.751 Z\" fill=\"#000000\" fill-rule=\"evenodd\" fill-opacity=\"1\" /><path clip-path=\"url(#clip260)\" d=\"M678.127 784.454 L682.919 784.454 L682.919 813.621 L678.127 813.621 L678.127 784.454 M678.127 773.1 L682.919 773.1 L682.919 779.168 L678.127 779.168 L678.127 773.1 Z\" fill=\"#000000\" fill-rule=\"evenodd\" fill-opacity=\"1\" /><path clip-path=\"url(#clip260)\" d=\"M717.189 796.017 L717.189 813.621 L712.398 813.621 L712.398 796.173 Q712.398 792.032 710.783 789.975 Q709.169 787.918 705.939 787.918 Q702.059 787.918 699.82 790.392 Q697.58 792.866 697.58 797.136 L697.58 813.621 L692.762 813.621 L692.762 784.454 L697.58 784.454 L697.58 788.985 Q699.299 786.355 701.617 785.053 Q703.96 783.751 707.007 783.751 Q712.033 783.751 714.611 786.876 Q717.189 789.975 717.189 796.017 Z\" fill=\"#000000\" fill-rule=\"evenodd\" fill-opacity=\"1\" /><path clip-path=\"url(#clip260)\" d=\"M731.486 776.173 L731.486 784.454 L741.356 784.454 L741.356 788.178 L731.486 788.178 L731.486 804.011 Q731.486 807.579 732.45 808.595 Q733.439 809.61 736.434 809.61 L741.356 809.61 L741.356 813.621 L736.434 813.621 Q730.887 813.621 728.778 811.563 Q726.668 809.48 726.668 804.011 L726.668 788.178 L723.153 788.178 L723.153 784.454 L726.668 784.454 L726.668 776.173 L731.486 776.173 Z\" fill=\"#000000\" fill-rule=\"evenodd\" fill-opacity=\"1\" /><path clip-path=\"url(#clip260)\" d=\"M748.882 807.006 L754.377 807.006 L754.377 813.621 L748.882 813.621 L748.882 807.006 M748.882 786.043 L754.377 786.043 L754.377 792.657 L748.882 792.657 L748.882 786.043 Z\" fill=\"#000000\" fill-rule=\"evenodd\" fill-opacity=\"1\" /><path clip-path=\"url(#clip260)\" d=\"M782.137 773.1 L793.179 773.1 L793.179 776.824 L786.929 776.824 L786.929 816.928 L793.179 816.928 L793.179 820.652 L782.137 820.652 L782.137 773.1 Z\" fill=\"#000000\" fill-rule=\"evenodd\" fill-opacity=\"1\" /><path clip-path=\"url(#clip260)\" d=\"M815.314 778.204 Q811.251 778.204 809.194 782.215 Q807.163 786.199 807.163 794.22 Q807.163 802.214 809.194 806.225 Q811.251 810.209 815.314 810.209 Q819.402 810.209 821.434 806.225 Q823.491 802.214 823.491 794.22 Q823.491 786.199 821.434 782.215 Q819.402 778.204 815.314 778.204 M815.314 774.038 Q821.85 774.038 825.288 779.22 Q828.751 784.376 828.751 794.22 Q828.751 804.037 825.288 809.22 Q821.85 814.376 815.314 814.376 Q808.777 814.376 805.314 809.22 Q801.876 804.037 801.876 794.22 Q801.876 784.376 805.314 779.22 Q808.777 774.038 815.314 774.038 Z\" fill=\"#000000\" fill-rule=\"evenodd\" fill-opacity=\"1\" /><path clip-path=\"url(#clip260)\" d=\"M837.996 807.006 L843.491 807.006 L843.491 813.621 L837.996 813.621 L837.996 807.006 Z\" fill=\"#000000\" fill-rule=\"evenodd\" fill-opacity=\"1\" /><path clip-path=\"url(#clip260)\" d=\"M866.199 778.204 Q862.137 778.204 860.079 782.215 Q858.048 786.199 858.048 794.22 Q858.048 802.214 860.079 806.225 Q862.137 810.209 866.199 810.209 Q870.288 810.209 872.319 806.225 Q874.376 802.214 874.376 794.22 Q874.376 786.199 872.319 782.215 Q870.288 778.204 866.199 778.204 M866.199 774.038 Q872.735 774.038 876.173 779.22 Q879.636 784.376 879.636 794.22 Q879.636 804.037 876.173 809.22 Q872.735 814.376 866.199 814.376 Q859.663 814.376 856.199 809.22 Q852.762 804.037 852.762 794.22 Q852.762 784.376 856.199 779.22 Q859.663 774.038 866.199 774.038 Z\" fill=\"#000000\" fill-rule=\"evenodd\" fill-opacity=\"1\" /><path clip-path=\"url(#clip260)\" d=\"M889.428 807.006 L894.923 807.006 L894.923 811.485 L890.652 819.819 L887.293 819.819 L889.428 811.485 L889.428 807.006 Z\" fill=\"#000000\" fill-rule=\"evenodd\" fill-opacity=\"1\" /><path clip-path=\"url(#clip260)\" d=\"M921.772 792.657 Q925.548 793.465 927.657 796.017 Q929.792 798.569 929.792 802.319 Q929.792 808.074 925.834 811.225 Q921.876 814.376 914.584 814.376 Q912.136 814.376 909.532 813.881 Q906.954 813.412 904.194 812.449 L904.194 807.371 Q906.381 808.647 908.985 809.298 Q911.589 809.949 914.428 809.949 Q919.376 809.949 921.954 807.996 Q924.558 806.043 924.558 802.319 Q924.558 798.881 922.136 796.954 Q919.74 795.001 915.444 795.001 L910.912 795.001 L910.912 790.678 L915.652 790.678 Q919.532 790.678 921.589 789.142 Q923.647 787.579 923.647 784.662 Q923.647 781.668 921.511 780.079 Q919.402 778.465 915.444 778.465 Q913.282 778.465 910.808 778.933 Q908.334 779.402 905.365 780.392 L905.365 775.704 Q908.36 774.871 910.964 774.454 Q913.595 774.038 915.912 774.038 Q921.902 774.038 925.391 776.772 Q928.881 779.48 928.881 784.116 Q928.881 787.345 927.032 789.584 Q925.183 791.798 921.772 792.657 Z\" fill=\"#000000\" fill-rule=\"evenodd\" fill-opacity=\"1\" /><path clip-path=\"url(#clip260)\" d=\"M939.766 807.006 L945.261 807.006 L945.261 813.621 L939.766 813.621 L939.766 807.006 Z\" fill=\"#000000\" fill-rule=\"evenodd\" fill-opacity=\"1\" /><path clip-path=\"url(#clip260)\" d=\"M967.969 778.204 Q963.907 778.204 961.85 782.215 Q959.818 786.199 959.818 794.22 Q959.818 802.214 961.85 806.225 Q963.907 810.209 967.969 810.209 Q972.058 810.209 974.089 806.225 Q976.146 802.214 976.146 794.22 Q976.146 786.199 974.089 782.215 Q972.058 778.204 967.969 778.204 M967.969 774.038 Q974.506 774.038 977.943 779.22 Q981.407 784.376 981.407 794.22 Q981.407 804.037 977.943 809.22 Q974.506 814.376 967.969 814.376 Q961.433 814.376 957.969 809.22 Q954.532 804.037 954.532 794.22 Q954.532 784.376 957.969 779.22 Q961.433 774.038 967.969 774.038 Z\" fill=\"#000000\" fill-rule=\"evenodd\" fill-opacity=\"1\" /><path clip-path=\"url(#clip260)\" d=\"M1001.17 773.1 L1001.17 820.652 L990.131 820.652 L990.131 816.928 L996.355 816.928 L996.355 776.824 L990.131 776.824 L990.131 773.1 L1001.17 773.1 Z\" fill=\"#000000\" fill-rule=\"evenodd\" fill-opacity=\"1\" /><path clip-path=\"url(#clip260)\" d=\"M620.706 1368.75 L620.706 1383.36 L627.32 1383.36 Q630.992 1383.36 632.997 1381.46 Q635.002 1379.56 635.002 1376.04 Q635.002 1372.55 632.997 1370.65 Q630.992 1368.75 627.32 1368.75 L620.706 1368.75 M615.445 1364.43 L627.32 1364.43 Q633.856 1364.43 637.19 1367.4 Q640.549 1370.34 640.549 1376.04 Q640.549 1381.8 637.19 1384.74 Q633.856 1387.68 627.32 1387.68 L620.706 1387.68 L620.706 1403.31 L615.445 1403.31 L615.445 1364.43 Z\" fill=\"#000000\" fill-rule=\"evenodd\" fill-opacity=\"1\" /><path clip-path=\"url(#clip260)\" d=\"M656.799 1377.5 Q652.945 1377.5 650.705 1380.52 Q648.466 1383.52 648.466 1388.75 Q648.466 1393.98 650.679 1397.01 Q652.919 1400 656.799 1400 Q660.627 1400 662.867 1396.98 Q665.106 1393.96 665.106 1388.75 Q665.106 1383.57 662.867 1380.55 Q660.627 1377.5 656.799 1377.5 M656.799 1373.44 Q663.049 1373.44 666.617 1377.5 Q670.184 1381.56 670.184 1388.75 Q670.184 1395.91 666.617 1400 Q663.049 1404.06 656.799 1404.06 Q650.523 1404.06 646.955 1400 Q643.414 1395.91 643.414 1388.75 Q643.414 1381.56 646.955 1377.5 Q650.523 1373.44 656.799 1373.44 Z\" fill=\"#000000\" fill-rule=\"evenodd\" fill-opacity=\"1\" /><path clip-path=\"url(#clip260)\" d=\"M678.127 1374.14 L682.919 1374.14 L682.919 1403.31 L678.127 1403.31 L678.127 1374.14 M678.127 1362.79 L682.919 1362.79 L682.919 1368.85 L678.127 1368.85 L678.127 1362.79 Z\" fill=\"#000000\" fill-rule=\"evenodd\" fill-opacity=\"1\" /><path clip-path=\"url(#clip260)\" d=\"M717.189 1385.7 L717.189 1403.31 L712.398 1403.31 L712.398 1385.86 Q712.398 1381.72 710.783 1379.66 Q709.169 1377.6 705.939 1377.6 Q702.059 1377.6 699.82 1380.08 Q697.58 1382.55 697.58 1386.82 L697.58 1403.31 L692.762 1403.31 L692.762 1374.14 L697.58 1374.14 L697.58 1378.67 Q699.299 1376.04 701.617 1374.74 Q703.96 1373.44 707.007 1373.44 Q712.033 1373.44 714.611 1376.56 Q717.189 1379.66 717.189 1385.7 Z\" fill=\"#000000\" fill-rule=\"evenodd\" fill-opacity=\"1\" /><path clip-path=\"url(#clip260)\" d=\"M731.486 1365.86 L731.486 1374.14 L741.356 1374.14 L741.356 1377.86 L731.486 1377.86 L731.486 1393.7 Q731.486 1397.27 732.45 1398.28 Q733.439 1399.3 736.434 1399.3 L741.356 1399.3 L741.356 1403.31 L736.434 1403.31 Q730.887 1403.31 728.778 1401.25 Q726.668 1399.17 726.668 1393.7 L726.668 1377.86 L723.153 1377.86 L723.153 1374.14 L726.668 1374.14 L726.668 1365.86 L731.486 1365.86 Z\" fill=\"#000000\" fill-rule=\"evenodd\" fill-opacity=\"1\" /><path clip-path=\"url(#clip260)\" d=\"M748.882 1396.69 L754.377 1396.69 L754.377 1403.31 L748.882 1403.31 L748.882 1396.69 M748.882 1375.73 L754.377 1375.73 L754.377 1382.34 L748.882 1382.34 L748.882 1375.73 Z\" fill=\"#000000\" fill-rule=\"evenodd\" fill-opacity=\"1\" /><path clip-path=\"url(#clip260)\" d=\"M782.137 1362.79 L793.179 1362.79 L793.179 1366.51 L786.929 1366.51 L786.929 1406.61 L793.179 1406.61 L793.179 1410.34 L782.137 1410.34 L782.137 1362.79 Z\" fill=\"#000000\" fill-rule=\"evenodd\" fill-opacity=\"1\" /><path clip-path=\"url(#clip260)\" d=\"M815.314 1367.89 Q811.251 1367.89 809.194 1371.9 Q807.163 1375.89 807.163 1383.91 Q807.163 1391.9 809.194 1395.91 Q811.251 1399.9 815.314 1399.9 Q819.402 1399.9 821.434 1395.91 Q823.491 1391.9 823.491 1383.91 Q823.491 1375.89 821.434 1371.9 Q819.402 1367.89 815.314 1367.89 M815.314 1363.72 Q821.85 1363.72 825.288 1368.91 Q828.751 1374.06 828.751 1383.91 Q828.751 1393.72 825.288 1398.91 Q821.85 1404.06 815.314 1404.06 Q808.777 1404.06 805.314 1398.91 Q801.876 1393.72 801.876 1383.91 Q801.876 1374.06 805.314 1368.91 Q808.777 1363.72 815.314 1363.72 Z\" fill=\"#000000\" fill-rule=\"evenodd\" fill-opacity=\"1\" /><path clip-path=\"url(#clip260)\" d=\"M837.996 1396.69 L843.491 1396.69 L843.491 1403.31 L837.996 1403.31 L837.996 1396.69 Z\" fill=\"#000000\" fill-rule=\"evenodd\" fill-opacity=\"1\" /><path clip-path=\"url(#clip260)\" d=\"M866.199 1367.89 Q862.137 1367.89 860.079 1371.9 Q858.048 1375.89 858.048 1383.91 Q858.048 1391.9 860.079 1395.91 Q862.137 1399.9 866.199 1399.9 Q870.288 1399.9 872.319 1395.91 Q874.376 1391.9 874.376 1383.91 Q874.376 1375.89 872.319 1371.9 Q870.288 1367.89 866.199 1367.89 M866.199 1363.72 Q872.735 1363.72 876.173 1368.91 Q879.636 1374.06 879.636 1383.91 Q879.636 1393.72 876.173 1398.91 Q872.735 1404.06 866.199 1404.06 Q859.663 1404.06 856.199 1398.91 Q852.762 1393.72 852.762 1383.91 Q852.762 1374.06 856.199 1368.91 Q859.663 1363.72 866.199 1363.72 Z\" fill=\"#000000\" fill-rule=\"evenodd\" fill-opacity=\"1\" /><path clip-path=\"url(#clip260)\" d=\"M889.428 1396.69 L894.923 1396.69 L894.923 1401.17 L890.652 1409.51 L887.293 1409.51 L889.428 1401.17 L889.428 1396.69 Z\" fill=\"#000000\" fill-rule=\"evenodd\" fill-opacity=\"1\" /><path clip-path=\"url(#clip260)\" d=\"M917.084 1367.89 Q913.022 1367.89 910.964 1371.9 Q908.933 1375.89 908.933 1383.91 Q908.933 1391.9 910.964 1395.91 Q913.022 1399.9 917.084 1399.9 Q921.173 1399.9 923.204 1395.91 Q925.261 1391.9 925.261 1383.91 Q925.261 1375.89 923.204 1371.9 Q921.173 1367.89 917.084 1367.89 M917.084 1363.72 Q923.621 1363.72 927.058 1368.91 Q930.522 1374.06 930.522 1383.91 Q930.522 1393.72 927.058 1398.91 Q923.621 1404.06 917.084 1404.06 Q910.548 1404.06 907.084 1398.91 Q903.647 1393.72 903.647 1383.91 Q903.647 1374.06 907.084 1368.91 Q910.548 1363.72 917.084 1363.72 Z\" fill=\"#000000\" fill-rule=\"evenodd\" fill-opacity=\"1\" /><path clip-path=\"url(#clip260)\" d=\"M939.766 1396.69 L945.261 1396.69 L945.261 1403.31 L939.766 1403.31 L939.766 1396.69 Z\" fill=\"#000000\" fill-rule=\"evenodd\" fill-opacity=\"1\" /><path clip-path=\"url(#clip260)\" d=\"M967.969 1367.89 Q963.907 1367.89 961.85 1371.9 Q959.818 1375.89 959.818 1383.91 Q959.818 1391.9 961.85 1395.91 Q963.907 1399.9 967.969 1399.9 Q972.058 1399.9 974.089 1395.91 Q976.146 1391.9 976.146 1383.91 Q976.146 1375.89 974.089 1371.9 Q972.058 1367.89 967.969 1367.89 M967.969 1363.72 Q974.506 1363.72 977.943 1368.91 Q981.407 1374.06 981.407 1383.91 Q981.407 1393.72 977.943 1398.91 Q974.506 1404.06 967.969 1404.06 Q961.433 1404.06 957.969 1398.91 Q954.532 1393.72 954.532 1383.91 Q954.532 1374.06 957.969 1368.91 Q961.433 1363.72 967.969 1363.72 Z\" fill=\"#000000\" fill-rule=\"evenodd\" fill-opacity=\"1\" /><path clip-path=\"url(#clip260)\" d=\"M1001.17 1362.79 L1001.17 1410.34 L990.131 1410.34 L990.131 1406.61 L996.355 1406.61 L996.355 1366.51 L990.131 1366.51 L990.131 1362.79 L1001.17 1362.79 Z\" fill=\"#000000\" fill-rule=\"evenodd\" fill-opacity=\"1\" /><path clip-path=\"url(#clip260)\" d=\"M1210.39 873.678 L1210.39 887.923 L1218.83 887.923 Q1223.07 887.923 1225.11 886.178 Q1227.16 884.407 1227.16 880.787 Q1227.16 877.141 1225.11 875.423 Q1223.07 873.678 1218.83 873.678 L1210.39 873.678 M1210.39 857.688 L1210.39 869.407 L1218.18 869.407 Q1222.03 869.407 1223.91 867.975 Q1225.81 866.517 1225.81 863.548 Q1225.81 860.605 1223.91 859.147 Q1222.03 857.688 1218.18 857.688 L1210.39 857.688 M1205.13 853.366 L1218.57 853.366 Q1224.58 853.366 1227.84 855.866 Q1231.1 858.366 1231.1 862.975 Q1231.1 866.543 1229.43 868.652 Q1227.76 870.761 1224.53 871.282 Q1228.41 872.115 1230.55 874.772 Q1232.71 877.402 1232.71 881.36 Q1232.71 886.568 1229.17 889.407 Q1225.63 892.246 1219.09 892.246 L1205.13 892.246 L1205.13 853.366 Z\" fill=\"#000000\" fill-rule=\"evenodd\" fill-opacity=\"1\" /><path clip-path=\"url(#clip260)\" d=\"M1254.77 877.584 Q1248.96 877.584 1246.72 878.912 Q1244.48 880.24 1244.48 883.444 Q1244.48 885.996 1246.15 887.506 Q1247.84 888.99 1250.73 888.99 Q1254.71 888.99 1257.11 886.178 Q1259.53 883.339 1259.53 878.652 L1259.53 877.584 L1254.77 877.584 M1264.32 875.605 L1264.32 892.246 L1259.53 892.246 L1259.53 887.818 Q1257.89 890.475 1255.44 891.751 Q1253 893.001 1249.45 893.001 Q1244.98 893.001 1242.32 890.501 Q1239.69 887.975 1239.69 883.756 Q1239.69 878.834 1242.97 876.334 Q1246.28 873.834 1252.81 873.834 L1259.53 873.834 L1259.53 873.365 Q1259.53 870.058 1257.35 868.261 Q1255.18 866.438 1251.25 866.438 Q1248.75 866.438 1246.38 867.037 Q1244.01 867.636 1241.82 868.834 L1241.82 864.407 Q1244.45 863.392 1246.93 862.897 Q1249.4 862.376 1251.75 862.376 Q1258.07 862.376 1261.2 865.657 Q1264.32 868.938 1264.32 875.605 Z\" fill=\"#000000\" fill-rule=\"evenodd\" fill-opacity=\"1\" /><path clip-path=\"url(#clip260)\" d=\"M1292.79 863.938 L1292.79 868.47 Q1290.76 867.428 1288.57 866.907 Q1286.38 866.386 1284.04 866.386 Q1280.47 866.386 1278.67 867.48 Q1276.9 868.574 1276.9 870.761 Q1276.9 872.428 1278.18 873.391 Q1279.45 874.329 1283.31 875.188 L1284.95 875.553 Q1290.05 876.647 1292.19 878.652 Q1294.35 880.631 1294.35 884.199 Q1294.35 888.261 1291.12 890.631 Q1287.92 893.001 1282.29 893.001 Q1279.95 893.001 1277.4 892.532 Q1274.87 892.089 1272.06 891.178 L1272.06 886.23 Q1274.71 887.61 1277.29 888.313 Q1279.87 888.99 1282.4 888.99 Q1285.78 888.99 1287.61 887.845 Q1289.43 886.673 1289.43 884.563 Q1289.43 882.61 1288.1 881.569 Q1286.8 880.527 1282.35 879.563 L1280.68 879.173 Q1276.23 878.235 1274.25 876.308 Q1272.27 874.355 1272.27 870.97 Q1272.27 866.855 1275.18 864.615 Q1278.1 862.376 1283.46 862.376 Q1286.12 862.376 1288.46 862.767 Q1290.81 863.157 1292.79 863.938 Z\" fill=\"#000000\" fill-rule=\"evenodd\" fill-opacity=\"1\" /><path clip-path=\"url(#clip260)\" d=\"M1301.98 863.079 L1306.77 863.079 L1306.77 892.246 L1301.98 892.246 L1301.98 863.079 M1301.98 851.725 L1306.77 851.725 L1306.77 857.793 L1301.98 857.793 L1301.98 851.725 Z\" fill=\"#000000\" fill-rule=\"evenodd\" fill-opacity=\"1\" /><path clip-path=\"url(#clip260)\" d=\"M1335.39 863.938 L1335.39 868.47 Q1333.36 867.428 1331.17 866.907 Q1328.99 866.386 1326.64 866.386 Q1323.07 866.386 1321.28 867.48 Q1319.51 868.574 1319.51 870.761 Q1319.51 872.428 1320.78 873.391 Q1322.06 874.329 1325.91 875.188 L1327.55 875.553 Q1332.66 876.647 1334.79 878.652 Q1336.95 880.631 1336.95 884.199 Q1336.95 888.261 1333.72 890.631 Q1330.52 893.001 1324.9 893.001 Q1322.55 893.001 1320 892.532 Q1317.48 892.089 1314.66 891.178 L1314.66 886.23 Q1317.32 887.61 1319.9 888.313 Q1322.48 888.99 1325 888.99 Q1328.39 888.99 1330.21 887.845 Q1332.03 886.673 1332.03 884.563 Q1332.03 882.61 1330.7 881.569 Q1329.4 880.527 1324.95 879.563 L1323.28 879.173 Q1318.83 878.235 1316.85 876.308 Q1314.87 874.355 1314.87 870.97 Q1314.87 866.855 1317.79 864.615 Q1320.7 862.376 1326.07 862.376 Q1328.72 862.376 1331.07 862.767 Q1333.41 863.157 1335.39 863.938 Z\" fill=\"#000000\" fill-rule=\"evenodd\" fill-opacity=\"1\" /><path clip-path=\"url(#clip260)\" d=\"M1345.81 885.631 L1351.3 885.631 L1351.3 892.246 L1345.81 892.246 L1345.81 885.631 M1345.81 864.668 L1351.3 864.668 L1351.3 871.282 L1345.81 871.282 L1345.81 864.668 Z\" fill=\"#000000\" fill-rule=\"evenodd\" fill-opacity=\"1\" /><path clip-path=\"url(#clip260)\" d=\"M1379.06 851.725 L1390.1 851.725 L1390.1 855.449 L1383.85 855.449 L1383.85 895.553 L1390.1 895.553 L1390.1 899.277 L1379.06 899.277 L1379.06 851.725 Z\" fill=\"#000000\" fill-rule=\"evenodd\" fill-opacity=\"1\" /><path clip-path=\"url(#clip260)\" d=\"M1401.9 887.818 L1410.5 887.818 L1410.5 858.157 L1401.15 860.032 L1401.15 855.241 L1410.44 853.366 L1415.7 853.366 L1415.7 887.818 L1424.3 887.818 L1424.3 892.246 L1401.9 892.246 L1401.9 887.818 Z\" fill=\"#000000\" fill-rule=\"evenodd\" fill-opacity=\"1\" /><path clip-path=\"url(#clip260)\" d=\"M1435.47 885.631 L1440.96 885.631 L1440.96 890.11 L1436.69 898.443 L1433.33 898.443 L1435.47 890.11 L1435.47 885.631 Z\" fill=\"#000000\" fill-rule=\"evenodd\" fill-opacity=\"1\" /><path clip-path=\"url(#clip260)\" d=\"M1456.41 887.818 L1474.77 887.818 L1474.77 892.246 L1450.08 892.246 L1450.08 887.818 Q1453.07 884.72 1458.23 879.511 Q1463.41 874.277 1464.74 872.766 Q1467.27 869.928 1468.26 867.975 Q1469.27 865.996 1469.27 864.095 Q1469.27 860.996 1467.08 859.043 Q1464.92 857.089 1461.43 857.089 Q1458.96 857.089 1456.2 857.949 Q1453.46 858.808 1450.34 860.553 L1450.34 855.241 Q1453.52 853.964 1456.28 853.313 Q1459.04 852.662 1461.33 852.662 Q1467.37 852.662 1470.96 855.683 Q1474.56 858.704 1474.56 863.756 Q1474.56 866.152 1473.65 868.313 Q1472.76 870.449 1470.39 873.365 Q1469.74 874.121 1466.25 877.74 Q1462.76 881.334 1456.41 887.818 Z\" fill=\"#000000\" fill-rule=\"evenodd\" fill-opacity=\"1\" /><path clip-path=\"url(#clip260)\" d=\"M1496.33 851.725 L1496.33 899.277 L1485.29 899.277 L1485.29 895.553 L1491.51 895.553 L1491.51 855.449 L1485.29 855.449 L1485.29 851.725 L1496.33 851.725 Z\" fill=\"#000000\" fill-rule=\"evenodd\" fill-opacity=\"1\" /><path clip-path=\"url(#clip260)\" d=\"M1800.08 1463.36 L1800.08 1477.61 L1808.52 1477.61 Q1812.76 1477.61 1814.79 1475.86 Q1816.85 1474.09 1816.85 1470.47 Q1816.85 1466.83 1814.79 1465.11 Q1812.76 1463.36 1808.52 1463.36 L1800.08 1463.36 M1800.08 1447.38 L1800.08 1459.09 L1807.87 1459.09 Q1811.72 1459.09 1813.59 1457.66 Q1815.5 1456.2 1815.5 1453.23 Q1815.5 1450.29 1813.59 1448.83 Q1811.72 1447.38 1807.87 1447.38 L1800.08 1447.38 M1794.82 1443.05 L1808.26 1443.05 Q1814.27 1443.05 1817.53 1445.55 Q1820.78 1448.05 1820.78 1452.66 Q1820.78 1456.23 1819.12 1458.34 Q1817.45 1460.45 1814.22 1460.97 Q1818.1 1461.8 1820.24 1464.46 Q1822.4 1467.09 1822.4 1471.05 Q1822.4 1476.26 1818.85 1479.09 Q1815.31 1481.93 1808.78 1481.93 L1794.82 1481.93 L1794.82 1443.05 Z\" fill=\"#000000\" fill-rule=\"evenodd\" fill-opacity=\"1\" /><path clip-path=\"url(#clip260)\" d=\"M1844.45 1467.27 Q1838.65 1467.27 1836.41 1468.6 Q1834.17 1469.93 1834.17 1473.13 Q1834.17 1475.68 1835.83 1477.19 Q1837.53 1478.68 1840.42 1478.68 Q1844.4 1478.68 1846.8 1475.86 Q1849.22 1473.03 1849.22 1468.34 L1849.22 1467.27 L1844.45 1467.27 M1854.01 1465.29 L1854.01 1481.93 L1849.22 1481.93 L1849.22 1477.51 Q1847.58 1480.16 1845.13 1481.44 Q1842.68 1482.69 1839.14 1482.69 Q1834.66 1482.69 1832.01 1480.19 Q1829.38 1477.66 1829.38 1473.44 Q1829.38 1468.52 1832.66 1466.02 Q1835.96 1463.52 1842.5 1463.52 L1849.22 1463.52 L1849.22 1463.05 Q1849.22 1459.74 1847.03 1457.95 Q1844.87 1456.13 1840.94 1456.13 Q1838.44 1456.13 1836.07 1456.72 Q1833.7 1457.32 1831.51 1458.52 L1831.51 1454.09 Q1834.14 1453.08 1836.62 1452.58 Q1839.09 1452.06 1841.43 1452.06 Q1847.76 1452.06 1850.89 1455.34 Q1854.01 1458.63 1854.01 1465.29 Z\" fill=\"#000000\" fill-rule=\"evenodd\" fill-opacity=\"1\" /><path clip-path=\"url(#clip260)\" d=\"M1882.47 1453.63 L1882.47 1458.16 Q1880.44 1457.11 1878.26 1456.59 Q1876.07 1456.07 1873.72 1456.07 Q1870.16 1456.07 1868.36 1457.17 Q1866.59 1458.26 1866.59 1460.45 Q1866.59 1462.11 1867.87 1463.08 Q1869.14 1464.02 1873 1464.88 L1874.64 1465.24 Q1879.74 1466.33 1881.88 1468.34 Q1884.04 1470.32 1884.04 1473.89 Q1884.04 1477.95 1880.81 1480.32 Q1877.6 1482.69 1871.98 1482.69 Q1869.64 1482.69 1867.08 1482.22 Q1864.56 1481.78 1861.75 1480.86 L1861.75 1475.92 Q1864.4 1477.3 1866.98 1478 Q1869.56 1478.68 1872.08 1478.68 Q1875.47 1478.68 1877.29 1477.53 Q1879.12 1476.36 1879.12 1474.25 Q1879.12 1472.3 1877.79 1471.26 Q1876.48 1470.21 1872.03 1469.25 L1870.37 1468.86 Q1865.91 1467.92 1863.93 1465.99 Q1861.95 1464.04 1861.95 1460.66 Q1861.95 1456.54 1864.87 1454.3 Q1867.79 1452.06 1873.15 1452.06 Q1875.81 1452.06 1878.15 1452.45 Q1880.5 1452.84 1882.47 1453.63 Z\" fill=\"#000000\" fill-rule=\"evenodd\" fill-opacity=\"1\" /><path clip-path=\"url(#clip260)\" d=\"M1891.67 1452.77 L1896.46 1452.77 L1896.46 1481.93 L1891.67 1481.93 L1891.67 1452.77 M1891.67 1441.41 L1896.46 1441.41 L1896.46 1447.48 L1891.67 1447.48 L1891.67 1441.41 Z\" fill=\"#000000\" fill-rule=\"evenodd\" fill-opacity=\"1\" /><path clip-path=\"url(#clip260)\" d=\"M1925.08 1453.63 L1925.08 1458.16 Q1923.05 1457.11 1920.86 1456.59 Q1918.67 1456.07 1916.33 1456.07 Q1912.76 1456.07 1910.96 1457.17 Q1909.19 1458.26 1909.19 1460.45 Q1909.19 1462.11 1910.47 1463.08 Q1911.75 1464.02 1915.6 1464.88 L1917.24 1465.24 Q1922.34 1466.33 1924.48 1468.34 Q1926.64 1470.32 1926.64 1473.89 Q1926.64 1477.95 1923.41 1480.32 Q1920.21 1482.69 1914.58 1482.69 Q1912.24 1482.69 1909.69 1482.22 Q1907.16 1481.78 1904.35 1480.86 L1904.35 1475.92 Q1907.01 1477.3 1909.58 1478 Q1912.16 1478.68 1914.69 1478.68 Q1918.07 1478.68 1919.9 1477.53 Q1921.72 1476.36 1921.72 1474.25 Q1921.72 1472.3 1920.39 1471.26 Q1919.09 1470.21 1914.64 1469.25 L1912.97 1468.86 Q1908.52 1467.92 1906.54 1465.99 Q1904.56 1464.04 1904.56 1460.66 Q1904.56 1456.54 1907.47 1454.3 Q1910.39 1452.06 1915.76 1452.06 Q1918.41 1452.06 1920.76 1452.45 Q1923.1 1452.84 1925.08 1453.63 Z\" fill=\"#000000\" fill-rule=\"evenodd\" fill-opacity=\"1\" /><path clip-path=\"url(#clip260)\" d=\"M1935.49 1475.32 L1940.99 1475.32 L1940.99 1481.93 L1935.49 1481.93 L1935.49 1475.32 M1935.49 1454.35 L1940.99 1454.35 L1940.99 1460.97 L1935.49 1460.97 L1935.49 1454.35 Z\" fill=\"#000000\" fill-rule=\"evenodd\" fill-opacity=\"1\" /><path clip-path=\"url(#clip260)\" d=\"M1968.75 1441.41 L1979.79 1441.41 L1979.79 1445.14 L1973.54 1445.14 L1973.54 1485.24 L1979.79 1485.24 L1979.79 1488.96 L1968.75 1488.96 L1968.75 1441.41 Z\" fill=\"#000000\" fill-rule=\"evenodd\" fill-opacity=\"1\" /><path clip-path=\"url(#clip260)\" d=\"M1991.59 1477.51 L2000.18 1477.51 L2000.18 1447.84 L1990.83 1449.72 L1990.83 1444.93 L2000.13 1443.05 L2005.39 1443.05 L2005.39 1477.51 L2013.98 1477.51 L2013.98 1481.93 L1991.59 1481.93 L1991.59 1477.51 Z\" fill=\"#000000\" fill-rule=\"evenodd\" fill-opacity=\"1\" /><path clip-path=\"url(#clip260)\" d=\"M2025.16 1475.32 L2030.65 1475.32 L2030.65 1479.8 L2026.38 1488.13 L2023.02 1488.13 L2025.16 1479.8 L2025.16 1475.32 Z\" fill=\"#000000\" fill-rule=\"evenodd\" fill-opacity=\"1\" /><path clip-path=\"url(#clip260)\" d=\"M2056.02 1447.64 L2042.73 1468.39 L2056.02 1468.39 L2056.02 1447.64 M2054.63 1443.05 L2061.25 1443.05 L2061.25 1468.39 L2066.8 1468.39 L2066.8 1472.77 L2061.25 1472.77 L2061.25 1481.93 L2056.02 1481.93 L2056.02 1472.77 L2038.46 1472.77 L2038.46 1467.69 L2054.63 1443.05 Z\" fill=\"#000000\" fill-rule=\"evenodd\" fill-opacity=\"1\" /><path clip-path=\"url(#clip260)\" d=\"M2086.01 1441.41 L2086.01 1488.96 L2074.97 1488.96 L2074.97 1485.24 L2081.2 1485.24 L2081.2 1445.14 L2074.97 1445.14 L2074.97 1441.41 L2086.01 1441.41 Z\" fill=\"#000000\" fill-rule=\"evenodd\" fill-opacity=\"1\" /><path clip-path=\"url(#clip260)\" d=\"M620.706 873.678 L620.706 887.923 L629.143 887.923 Q633.388 887.923 635.419 886.178 Q637.476 884.407 637.476 880.787 Q637.476 877.141 635.419 875.423 Q633.388 873.678 629.143 873.678 L620.706 873.678 M620.706 857.688 L620.706 869.407 L628.492 869.407 Q632.346 869.407 634.221 867.975 Q636.122 866.517 636.122 863.548 Q636.122 860.605 634.221 859.147 Q632.346 857.688 628.492 857.688 L620.706 857.688 M615.445 853.366 L628.883 853.366 Q634.898 853.366 638.153 855.866 Q641.409 858.366 641.409 862.975 Q641.409 866.543 639.742 868.652 Q638.075 870.761 634.846 871.282 Q638.726 872.115 640.862 874.772 Q643.023 877.402 643.023 881.36 Q643.023 886.568 639.481 889.407 Q635.94 892.246 629.403 892.246 L615.445 892.246 L615.445 853.366 Z\" fill=\"#000000\" fill-rule=\"evenodd\" fill-opacity=\"1\" /><path clip-path=\"url(#clip260)\" d=\"M665.08 877.584 Q659.273 877.584 657.033 878.912 Q654.794 880.24 654.794 883.444 Q654.794 885.996 656.461 887.506 Q658.153 888.99 661.044 888.99 Q665.028 888.99 667.424 886.178 Q669.846 883.339 669.846 878.652 L669.846 877.584 L665.08 877.584 M674.638 875.605 L674.638 892.246 L669.846 892.246 L669.846 887.818 Q668.205 890.475 665.757 891.751 Q663.309 893.001 659.768 893.001 Q655.289 893.001 652.632 890.501 Q650.002 887.975 650.002 883.756 Q650.002 878.834 653.283 876.334 Q656.591 873.834 663.127 873.834 L669.846 873.834 L669.846 873.365 Q669.846 870.058 667.658 868.261 Q665.497 866.438 661.565 866.438 Q659.065 866.438 656.695 867.037 Q654.325 867.636 652.138 868.834 L652.138 864.407 Q654.768 863.392 657.242 862.897 Q659.716 862.376 662.059 862.376 Q668.388 862.376 671.513 865.657 Q674.638 868.938 674.638 875.605 Z\" fill=\"#000000\" fill-rule=\"evenodd\" fill-opacity=\"1\" /><path clip-path=\"url(#clip260)\" d=\"M703.101 863.938 L703.101 868.47 Q701.07 867.428 698.882 866.907 Q696.695 866.386 694.351 866.386 Q690.783 866.386 688.986 867.48 Q687.216 868.574 687.216 870.761 Q687.216 872.428 688.492 873.391 Q689.768 874.329 693.622 875.188 L695.262 875.553 Q700.367 876.647 702.502 878.652 Q704.663 880.631 704.663 884.199 Q704.663 888.261 701.434 890.631 Q698.231 893.001 692.606 893.001 Q690.262 893.001 687.71 892.532 Q685.184 892.089 682.372 891.178 L682.372 886.23 Q685.028 887.61 687.606 888.313 Q690.184 888.99 692.71 888.99 Q696.096 888.99 697.919 887.845 Q699.742 886.673 699.742 884.563 Q699.742 882.61 698.413 881.569 Q697.111 880.527 692.658 879.563 L690.992 879.173 Q686.539 878.235 684.559 876.308 Q682.58 874.355 682.58 870.97 Q682.58 866.855 685.497 864.615 Q688.413 862.376 693.778 862.376 Q696.434 862.376 698.778 862.767 Q701.122 863.157 703.101 863.938 Z\" fill=\"#000000\" fill-rule=\"evenodd\" fill-opacity=\"1\" /><path clip-path=\"url(#clip260)\" d=\"M712.294 863.079 L717.085 863.079 L717.085 892.246 L712.294 892.246 L712.294 863.079 M712.294 851.725 L717.085 851.725 L717.085 857.793 L712.294 857.793 L712.294 851.725 Z\" fill=\"#000000\" fill-rule=\"evenodd\" fill-opacity=\"1\" /><path clip-path=\"url(#clip260)\" d=\"M745.705 863.938 L745.705 868.47 Q743.674 867.428 741.486 866.907 Q739.299 866.386 736.955 866.386 Q733.387 866.386 731.59 867.48 Q729.82 868.574 729.82 870.761 Q729.82 872.428 731.096 873.391 Q732.372 874.329 736.226 875.188 L737.866 875.553 Q742.97 876.647 745.106 878.652 Q747.267 880.631 747.267 884.199 Q747.267 888.261 744.038 890.631 Q740.835 893.001 735.21 893.001 Q732.866 893.001 730.314 892.532 Q727.788 892.089 724.976 891.178 L724.976 886.23 Q727.632 887.61 730.21 888.313 Q732.788 888.99 735.314 888.99 Q738.7 888.99 740.523 887.845 Q742.345 886.673 742.345 884.563 Q742.345 882.61 741.017 881.569 Q739.715 880.527 735.262 879.563 L733.596 879.173 Q729.142 878.235 727.163 876.308 Q725.184 874.355 725.184 870.97 Q725.184 866.855 728.101 864.615 Q731.017 862.376 736.382 862.376 Q739.038 862.376 741.382 862.767 Q743.726 863.157 745.705 863.938 Z\" fill=\"#000000\" fill-rule=\"evenodd\" fill-opacity=\"1\" /><path clip-path=\"url(#clip260)\" d=\"M756.121 885.631 L761.616 885.631 L761.616 892.246 L756.121 892.246 L756.121 885.631 M756.121 864.668 L761.616 864.668 L761.616 871.282 L756.121 871.282 L756.121 864.668 Z\" fill=\"#000000\" fill-rule=\"evenodd\" fill-opacity=\"1\" /><path clip-path=\"url(#clip260)\" d=\"M789.376 851.725 L800.418 851.725 L800.418 855.449 L794.168 855.449 L794.168 895.553 L800.418 895.553 L800.418 899.277 L789.376 899.277 L789.376 851.725 Z\" fill=\"#000000\" fill-rule=\"evenodd\" fill-opacity=\"1\" /><path clip-path=\"url(#clip260)\" d=\"M815.835 887.818 L834.194 887.818 L834.194 892.246 L809.507 892.246 L809.507 887.818 Q812.501 884.72 817.658 879.511 Q822.84 874.277 824.168 872.766 Q826.694 869.928 827.684 867.975 Q828.699 865.996 828.699 864.095 Q828.699 860.996 826.512 859.043 Q824.35 857.089 820.861 857.089 Q818.387 857.089 815.626 857.949 Q812.892 858.808 809.767 860.553 L809.767 855.241 Q812.944 853.964 815.704 853.313 Q818.465 852.662 820.757 852.662 Q826.798 852.662 830.392 855.683 Q833.986 858.704 833.986 863.756 Q833.986 866.152 833.074 868.313 Q832.189 870.449 829.819 873.365 Q829.168 874.121 825.678 877.74 Q822.189 881.334 815.835 887.818 Z\" fill=\"#000000\" fill-rule=\"evenodd\" fill-opacity=\"1\" /><path clip-path=\"url(#clip260)\" d=\"M845.782 885.631 L851.277 885.631 L851.277 890.11 L847.006 898.443 L843.647 898.443 L845.782 890.11 L845.782 885.631 Z\" fill=\"#000000\" fill-rule=\"evenodd\" fill-opacity=\"1\" /><path clip-path=\"url(#clip260)\" d=\"M878.126 871.282 Q881.902 872.089 884.011 874.641 Q886.147 877.194 886.147 880.944 Q886.147 886.699 882.188 889.85 Q878.23 893.001 870.939 893.001 Q868.491 893.001 865.886 892.506 Q863.308 892.037 860.548 891.074 L860.548 885.996 Q862.735 887.272 865.34 887.923 Q867.944 888.574 870.782 888.574 Q875.73 888.574 878.308 886.621 Q880.912 884.667 880.912 880.944 Q880.912 877.506 878.491 875.579 Q876.095 873.626 871.798 873.626 L867.267 873.626 L867.267 869.303 L872.006 869.303 Q875.886 869.303 877.944 867.767 Q880.001 866.204 880.001 863.287 Q880.001 860.293 877.866 858.704 Q875.756 857.089 871.798 857.089 Q869.636 857.089 867.163 857.558 Q864.689 858.027 861.72 859.017 L861.72 854.329 Q864.715 853.496 867.319 853.079 Q869.949 852.662 872.267 852.662 Q878.256 852.662 881.746 855.397 Q885.235 858.105 885.235 862.74 Q885.235 865.97 883.386 868.209 Q881.537 870.423 878.126 871.282 Z\" fill=\"#000000\" fill-rule=\"evenodd\" fill-opacity=\"1\" /><path clip-path=\"url(#clip260)\" d=\"M906.641 851.725 L906.641 899.277 L895.6 899.277 L895.6 895.553 L901.824 895.553 L901.824 855.449 L895.6 855.449 L895.6 851.725 L906.641 851.725 Z\" fill=\"#000000\" fill-rule=\"evenodd\" fill-opacity=\"1\" /><path clip-path=\"url(#clip260)\" d=\"M620.706 1463.36 L620.706 1477.61 L629.143 1477.61 Q633.388 1477.61 635.419 1475.86 Q637.476 1474.09 637.476 1470.47 Q637.476 1466.83 635.419 1465.11 Q633.388 1463.36 629.143 1463.36 L620.706 1463.36 M620.706 1447.38 L620.706 1459.09 L628.492 1459.09 Q632.346 1459.09 634.221 1457.66 Q636.122 1456.2 636.122 1453.23 Q636.122 1450.29 634.221 1448.83 Q632.346 1447.38 628.492 1447.38 L620.706 1447.38 M615.445 1443.05 L628.883 1443.05 Q634.898 1443.05 638.153 1445.55 Q641.409 1448.05 641.409 1452.66 Q641.409 1456.23 639.742 1458.34 Q638.075 1460.45 634.846 1460.97 Q638.726 1461.8 640.862 1464.46 Q643.023 1467.09 643.023 1471.05 Q643.023 1476.26 639.481 1479.09 Q635.94 1481.93 629.403 1481.93 L615.445 1481.93 L615.445 1443.05 Z\" fill=\"#000000\" fill-rule=\"evenodd\" fill-opacity=\"1\" /><path clip-path=\"url(#clip260)\" d=\"M665.08 1467.27 Q659.273 1467.27 657.033 1468.6 Q654.794 1469.93 654.794 1473.13 Q654.794 1475.68 656.461 1477.19 Q658.153 1478.68 661.044 1478.68 Q665.028 1478.68 667.424 1475.86 Q669.846 1473.03 669.846 1468.34 L669.846 1467.27 L665.08 1467.27 M674.638 1465.29 L674.638 1481.93 L669.846 1481.93 L669.846 1477.51 Q668.205 1480.16 665.757 1481.44 Q663.309 1482.69 659.768 1482.69 Q655.289 1482.69 652.632 1480.19 Q650.002 1477.66 650.002 1473.44 Q650.002 1468.52 653.283 1466.02 Q656.591 1463.52 663.127 1463.52 L669.846 1463.52 L669.846 1463.05 Q669.846 1459.74 667.658 1457.95 Q665.497 1456.13 661.565 1456.13 Q659.065 1456.13 656.695 1456.72 Q654.325 1457.32 652.138 1458.52 L652.138 1454.09 Q654.768 1453.08 657.242 1452.58 Q659.716 1452.06 662.059 1452.06 Q668.388 1452.06 671.513 1455.34 Q674.638 1458.63 674.638 1465.29 Z\" fill=\"#000000\" fill-rule=\"evenodd\" fill-opacity=\"1\" /><path clip-path=\"url(#clip260)\" d=\"M703.101 1453.63 L703.101 1458.16 Q701.07 1457.11 698.882 1456.59 Q696.695 1456.07 694.351 1456.07 Q690.783 1456.07 688.986 1457.17 Q687.216 1458.26 687.216 1460.45 Q687.216 1462.11 688.492 1463.08 Q689.768 1464.02 693.622 1464.88 L695.262 1465.24 Q700.367 1466.33 702.502 1468.34 Q704.663 1470.32 704.663 1473.89 Q704.663 1477.95 701.434 1480.32 Q698.231 1482.69 692.606 1482.69 Q690.262 1482.69 687.71 1482.22 Q685.184 1481.78 682.372 1480.86 L682.372 1475.92 Q685.028 1477.3 687.606 1478 Q690.184 1478.68 692.71 1478.68 Q696.096 1478.68 697.919 1477.53 Q699.742 1476.36 699.742 1474.25 Q699.742 1472.3 698.413 1471.26 Q697.111 1470.21 692.658 1469.25 L690.992 1468.86 Q686.539 1467.92 684.559 1465.99 Q682.58 1464.04 682.58 1460.66 Q682.58 1456.54 685.497 1454.3 Q688.413 1452.06 693.778 1452.06 Q696.434 1452.06 698.778 1452.45 Q701.122 1452.84 703.101 1453.63 Z\" fill=\"#000000\" fill-rule=\"evenodd\" fill-opacity=\"1\" /><path clip-path=\"url(#clip260)\" d=\"M712.294 1452.77 L717.085 1452.77 L717.085 1481.93 L712.294 1481.93 L712.294 1452.77 M712.294 1441.41 L717.085 1441.41 L717.085 1447.48 L712.294 1447.48 L712.294 1441.41 Z\" fill=\"#000000\" fill-rule=\"evenodd\" fill-opacity=\"1\" /><path clip-path=\"url(#clip260)\" d=\"M745.705 1453.63 L745.705 1458.16 Q743.674 1457.11 741.486 1456.59 Q739.299 1456.07 736.955 1456.07 Q733.387 1456.07 731.59 1457.17 Q729.82 1458.26 729.82 1460.45 Q729.82 1462.11 731.096 1463.08 Q732.372 1464.02 736.226 1464.88 L737.866 1465.24 Q742.97 1466.33 745.106 1468.34 Q747.267 1470.32 747.267 1473.89 Q747.267 1477.95 744.038 1480.32 Q740.835 1482.69 735.21 1482.69 Q732.866 1482.69 730.314 1482.22 Q727.788 1481.78 724.976 1480.86 L724.976 1475.92 Q727.632 1477.3 730.21 1478 Q732.788 1478.68 735.314 1478.68 Q738.7 1478.68 740.523 1477.53 Q742.345 1476.36 742.345 1474.25 Q742.345 1472.3 741.017 1471.26 Q739.715 1470.21 735.262 1469.25 L733.596 1468.86 Q729.142 1467.92 727.163 1465.99 Q725.184 1464.04 725.184 1460.66 Q725.184 1456.54 728.101 1454.3 Q731.017 1452.06 736.382 1452.06 Q739.038 1452.06 741.382 1452.45 Q743.726 1452.84 745.705 1453.63 Z\" fill=\"#000000\" fill-rule=\"evenodd\" fill-opacity=\"1\" /><path clip-path=\"url(#clip260)\" d=\"M756.121 1475.32 L761.616 1475.32 L761.616 1481.93 L756.121 1481.93 L756.121 1475.32 M756.121 1454.35 L761.616 1454.35 L761.616 1460.97 L756.121 1460.97 L756.121 1454.35 Z\" fill=\"#000000\" fill-rule=\"evenodd\" fill-opacity=\"1\" /><path clip-path=\"url(#clip260)\" d=\"M789.376 1441.41 L800.418 1441.41 L800.418 1445.14 L794.168 1445.14 L794.168 1485.24 L800.418 1485.24 L800.418 1488.96 L789.376 1488.96 L789.376 1441.41 Z\" fill=\"#000000\" fill-rule=\"evenodd\" fill-opacity=\"1\" /><path clip-path=\"url(#clip260)\" d=\"M827.241 1460.97 Q831.017 1461.78 833.126 1464.33 Q835.262 1466.88 835.262 1470.63 Q835.262 1476.39 831.303 1479.54 Q827.345 1482.69 820.053 1482.69 Q817.606 1482.69 815.001 1482.19 Q812.423 1481.72 809.663 1480.76 L809.663 1475.68 Q811.85 1476.96 814.454 1477.61 Q817.059 1478.26 819.897 1478.26 Q824.845 1478.26 827.423 1476.31 Q830.027 1474.35 830.027 1470.63 Q830.027 1467.19 827.605 1465.27 Q825.21 1463.31 820.913 1463.31 L816.382 1463.31 L816.382 1458.99 L821.121 1458.99 Q825.001 1458.99 827.059 1457.45 Q829.116 1455.89 829.116 1452.97 Q829.116 1449.98 826.98 1448.39 Q824.871 1446.78 820.913 1446.78 Q818.751 1446.78 816.277 1447.24 Q813.803 1447.71 810.835 1448.7 L810.835 1444.02 Q813.829 1443.18 816.434 1442.77 Q819.064 1442.35 821.382 1442.35 Q827.371 1442.35 830.861 1445.08 Q834.35 1447.79 834.35 1452.43 Q834.35 1455.66 832.501 1457.9 Q830.652 1460.11 827.241 1460.97 Z\" fill=\"#000000\" fill-rule=\"evenodd\" fill-opacity=\"1\" /><path clip-path=\"url(#clip260)\" d=\"M845.782 1475.32 L851.277 1475.32 L851.277 1479.8 L847.006 1488.13 L843.647 1488.13 L845.782 1479.8 L845.782 1475.32 Z\" fill=\"#000000\" fill-rule=\"evenodd\" fill-opacity=\"1\" /><path clip-path=\"url(#clip260)\" d=\"M876.642 1447.64 L863.36 1468.39 L876.642 1468.39 L876.642 1447.64 M875.261 1443.05 L881.876 1443.05 L881.876 1468.39 L887.423 1468.39 L887.423 1472.77 L881.876 1472.77 L881.876 1481.93 L876.642 1481.93 L876.642 1472.77 L859.09 1472.77 L859.09 1467.69 L875.261 1443.05 Z\" fill=\"#000000\" fill-rule=\"evenodd\" fill-opacity=\"1\" /><path clip-path=\"url(#clip260)\" d=\"M906.641 1441.41 L906.641 1488.96 L895.6 1488.96 L895.6 1485.24 L901.824 1485.24 L901.824 1445.14 L895.6 1445.14 L895.6 1441.41 L906.641 1441.41 Z\" fill=\"#000000\" fill-rule=\"evenodd\" fill-opacity=\"1\" /></svg>\n"
      ]
     },
     "execution_count": 113,
     "metadata": {},
     "output_type": "execute_result"
    }
   ],
   "source": [
    "## Plotting constraints\n",
    "plt = plot(x, c1.(x), color = c_blue,\n",
    "    xaxis = (\"x₁\", (0,7)),\n",
    "    yaxis = (\"x₂\", (0,7)),\n",
    "    aspect_ratio = :equal,\n",
    "    legend = false\n",
    ")\n",
    "\n",
    "## Plotting bounds\n",
    "hline!([bx₂], line = :dash, color = c_blue)\n",
    "\n",
    "## Plotting axes\n",
    "vline!([0], color = :black, alpha = 0.6)\n",
    "hline!([0], color = :black, alpha = 0.6)\n",
    "\n",
    "\n",
    "## Plotting feasible area\n",
    "t = range(0,6,length=100)\n",
    "plot!(t,min.(bx₂,c1.(t)), color = c_blue,\n",
    "    fillrange = [repeat([0],100),min.(bx₂,c1.(t))],           # parameter to fill an area int he plot        \n",
    "    fillalpha = 0.3                                           # opacity of the filling\n",
    ")\n",
    "\n",
    "## Annotate solutions\n",
    "for i in 1:size(bfs)[1]\n",
    "    scatter!([bfs[i,1]],[bfs[i,2]],\n",
    "    markercolour = c_orange,\n",
    "    label =\"\")\n",
    "    annotate!(bfs[i,1]+0.2,bfs[i,2]+0.2, (\"Point: [$(bfs[i,1]),$(bfs[i,2])]\", 9, :left))\n",
    "end\n",
    "\n",
    "## Annotate bases\n",
    "for i in 1:size(bfs)[1]\n",
    "    annotate!(bfs[i,1]+0.2,bfs[i,2]-0.2, (\"Basis: [$(bases[feasib_test.>0,:][i,1]),$(bases[feasib_test.>0,:][i,2])]\", 9, :left))\n",
    "end\n",
    "plt"
   ]
  },
  {
   "cell_type": "code",
   "execution_count": 139,
   "metadata": {},
   "outputs": [
    {
     "data": {
      "text/plain": [
       "-12.0"
      ]
     },
     "execution_count": 139,
     "metadata": {},
     "output_type": "execute_result"
    }
   ],
   "source": [
    "dot(c, bfs[2,:])"
   ]
  },
  {
   "cell_type": "markdown",
   "metadata": {},
   "source": [
    "### (c)"
   ]
  },
  {
   "cell_type": "code",
   "execution_count": 129,
   "metadata": {},
   "outputs": [],
   "source": [
    "## Objective coefficients defined by the problem\n",
    "c = [-2 , 1/2,0,0];                   # Objective function costs"
   ]
  },
  {
   "cell_type": "code",
   "execution_count": 132,
   "metadata": {},
   "outputs": [
    {
     "data": {
      "text/plain": [
       "2×2 Matrix{Float64}:\n",
       " 1.0  -1.0\n",
       " 0.0   1.0"
      ]
     },
     "execution_count": 132,
     "metadata": {},
     "output_type": "execute_result"
    }
   ],
   "source": [
    "## Forming matrix B and red. cost\n",
    "xS = [3 , 3 , 0 , 0]              # Initial solution (given by the exercise)\n",
    "Basis = [1 , 2]                   # Basis corresponding the initial solution\n",
    "B = A[:,Basis]                    # Matrix B\n",
    "invB = inv(B)                     # B^-1"
   ]
  },
  {
   "cell_type": "code",
   "execution_count": 133,
   "metadata": {},
   "outputs": [
    {
     "name": "stdout",
     "output_type": "stream",
     "text": [
      "Direction d₃ is: [-1.0, 0.0, 1.0, 0.0]\n",
      "Direction d₄ is: [1.0, -1.0, 0.0, 1.0]\n"
     ]
    }
   ],
   "source": [
    "## Improving the solution through x₃ or x₄\n",
    "d_B = -invB * A[:,3]\n",
    "d₃ = [d_B; 1; 0]\n",
    "\n",
    "d_B = -invB * A[:,4]\n",
    "d₄ = [d_B; 0; 1];\n",
    "\n",
    "println(\"Direction d₃ is: $d₃\")\n",
    "println(\"Direction d₄ is: $d₄\")"
   ]
  },
  {
   "cell_type": "code",
   "execution_count": 134,
   "metadata": {},
   "outputs": [
    {
     "name": "stdout",
     "output_type": "stream",
     "text": [
      "If we move in direction d₃, we will change the OF by 2.0.\n",
      "If we move in direction d₄, we will change the OF by -2.5.\n"
     ]
    }
   ],
   "source": [
    "## The reduced costs along directions d₃ and d₄ are computed below\n",
    "r₃ = c' * d₃\n",
    "r₄ = c' * d₄\n",
    "\n",
    "println(\"If we move in direction d₃, we will change the OF by $r₃.\")\n",
    "println(\"If we move in direction d₄, we will change the OF by $r₄.\")"
   ]
  },
  {
   "cell_type": "markdown",
   "metadata": {},
   "source": [
    "We can then see that only $d_4$ can improve the current solution, also showing that the current solution is not optimal."
   ]
  },
  {
   "cell_type": "markdown",
   "metadata": {},
   "source": [
    "The new point need to be feasible, therefore $xS' + \\theta d_4 \\geq 0$ => $(3,3,0,0)+\\theta (1,-1,0,1)\\geq0$"
   ]
  },
  {
   "cell_type": "markdown",
   "metadata": {},
   "source": [
    "$\\theta\\leq3$"
   ]
  },
  {
   "cell_type": "markdown",
   "metadata": {},
   "source": [
    "As we want to move as far as possible, we will then adopt $\\theta = 3$"
   ]
  },
  {
   "cell_type": "code",
   "execution_count": 135,
   "metadata": {},
   "outputs": [],
   "source": [
    "θ = 3;"
   ]
  },
  {
   "cell_type": "code",
   "execution_count": 136,
   "metadata": {},
   "outputs": [
    {
     "data": {
      "text/plain": [
       "4-element Vector{Float64}:\n",
       " 6.0\n",
       " 0.0\n",
       " 0.0\n",
       " 3.0"
      ]
     },
     "execution_count": 136,
     "metadata": {},
     "output_type": "execute_result"
    }
   ],
   "source": [
    "## New solution\n",
    "x = round.(xS + θ*d₄,digits = 2)\n",
    "xS = x                               # xS now receive the new solution"
   ]
  },
  {
   "cell_type": "code",
   "execution_count": 140,
   "metadata": {},
   "outputs": [],
   "source": [
    "## Forming new matrix B and reduced costs\n",
    "Basis = [1 , 4]                     # New basis: column 4 replaced column 2 => this can be seen also in the plot\n",
    "B = A[:,Basis]                      # Matrix B\n",
    "\n",
    "invB = inv(B)                       # B^-1\n",
    "\n",
    "c_b = c[Basis];                     # Reduced cost related to the variables in the basis"
   ]
  },
  {
   "cell_type": "code",
   "execution_count": 141,
   "metadata": {},
   "outputs": [
    {
     "data": {
      "text/plain": [
       "1×4 adjoint(::Vector{Float64}) with eltype Float64:\n",
       " 0.0  2.5  2.0  0.0"
      ]
     },
     "execution_count": 141,
     "metadata": {},
     "output_type": "execute_result"
    }
   ],
   "source": [
    "## Computing the new reduced cost\n",
    "r = c' - c_b'*invB*A"
   ]
  },
  {
   "cell_type": "markdown",
   "metadata": {},
   "source": [
    "As all reduced costs are nonnegative, we achieved our optimal solution with basis [1,4] : $(x_1,x_2) = (6,0)$"
   ]
  },
  {
   "cell_type": "markdown",
   "metadata": {},
   "source": [
    "## Problem 3.3 - Degeneracy"
   ]
  },
  {
   "cell_type": "markdown",
   "metadata": {},
   "source": [
    "### (a)"
   ]
  },
  {
   "cell_type": "code",
   "execution_count": null,
   "metadata": {},
   "outputs": [],
   "source": [
    "# using Pkg\n",
    "# Pkg.add(\"Combinatorics\")"
   ]
  },
  {
   "cell_type": "code",
   "execution_count": null,
   "metadata": {},
   "outputs": [],
   "source": [
    "## Including the libraries\n",
    "using JuMP           # JuMP library for creating models \n",
    "using Cbc            # Cbc is an open-source linear optimisation solver\n",
    "using Plots          # Library for plotting\n",
    "pyplot()             # Preferred plotting backend (several available, see Plots.jl documenation for details)\n",
    "using LinearAlgebra  # Makes available the dot product"
   ]
  },
  {
   "cell_type": "code",
   "execution_count": null,
   "metadata": {},
   "outputs": [],
   "source": [
    "## Define the model in JuMP\n",
    "m = Model(Cbc.Optimizer)\n",
    "set_silent(m) # hides the solver log for a cleaner output.             \n",
    "\n",
    "## Upper bounds\n",
    "bx₁ = 2.5\n",
    "bx₂ = 4\n",
    "\n",
    "## Declaring variables\n",
    "@variable(m, 0 <= x1 <= bx₁ )\n",
    "@variable(m, 0 <= x2 <= bx₂ )\n",
    "\n",
    "## Setting the objective\n",
    "@objective(m, Max, 2x1 + x2 )\n",
    "\n",
    "## Adding constraints\n",
    "@constraint(m, 2x1 + 2x2 <= 9.0 )\n",
    "@constraint(m, 2x1 - x2 <= 3.0 )\n",
    "@constraint(m, x1 - x2 <= 1.0 )\n",
    "@constraint(m, 4x1 - 3x2 <= 5.0 )\n",
    "\n",
    "## Optimise it\n",
    "JuMP.optimize!(m)\n",
    "\n",
    "## Printing the variables values\n",
    "println(\"Objective value: \", JuMP.objective_value(m))\n",
    "println(\"x1 = \", JuMP.value(x1))\n",
    "println(\"x2 = \", JuMP.value(x2))\n",
    "\n",
    "# Storing the optimal values in a vector\n",
    "optimal_point = round.([value(x1),value(x2)],digits=2);"
   ]
  },
  {
   "cell_type": "markdown",
   "metadata": {},
   "source": [
    "### (b)"
   ]
  },
  {
   "cell_type": "markdown",
   "metadata": {},
   "source": [
    "First we need to find the basic solutions to see what are degenerated. Therefore we start by defining the standard form polyhedron."
   ]
  },
  {
   "cell_type": "code",
   "execution_count": null,
   "metadata": {},
   "outputs": [],
   "source": [
    "## Matrix A with 6 added variables to form the polyhedron in the standard form (Ax = b):\n",
    "A =\n",
    "[2  2  1  0  0  0  0  0;\n",
    " 2 -1  0  1  0  0  0  0;\n",
    " 1 -1  0  0  1  0  0  0;\n",
    " 4 -3  0  0  0  1  0  0;\n",
    " 1  0  0  0  0  0  1  0;\n",
    " 0  1  0  0  0  0  0  1]                             \n",
    "\n",
    "## RHS b\n",
    "b =\n",
    "[9 ; 3 ; 1 ; 5 ; 2.5 ; 4]"
   ]
  },
  {
   "cell_type": "markdown",
   "metadata": {},
   "source": [
    "#### Finding the possible $I_B$:\n",
    "To find which are the basic solutions, we can see which constraints are fulfilled to equality, i.e., $Ax^S = b$ being $x^S$ the solution tested. All basic solutions can be found if we separate 6 columns of matrix A at a time and solve the system."
   ]
  },
  {
   "cell_type": "code",
   "execution_count": null,
   "metadata": {},
   "outputs": [],
   "source": [
    "## Let's define all the possible non-basic combinations of columns (C(8,2))\n",
    "non_bases = [1 2;1 3;1 4;1 5;1 6;1 7;1 8;            # Defined as a 28x2 matrix (28 possible bases with 2 non-basic elements each elements each)\n",
    "         2 3;2 4;2 5;2 6;2 7;2 8;\n",
    "         3 4;3 5;3 6;3 7;3 8;\n",
    "         4 5;4 6;4 7;4 8;\n",
    "         5 6;5 7;5 8;\n",
    "         6 7;6 8;\n",
    "         7 8]\n",
    "\n",
    "## Now we use setdiff() to gather the basic columns for each non-basic columns combination\n",
    "bases = zeros(Int,size(non_bases)[1],6)              # Defined as a 28x6 matrix\n",
    "for i in 1:size(non_bases)[1]\n",
    "    bases[i,:] = setdiff(1:8,non_bases[i,:])\n",
    "end"
   ]
  },
  {
   "cell_type": "code",
   "execution_count": null,
   "metadata": {},
   "outputs": [],
   "source": [
    "## If we test now basis 6 (in bases[6,:]), we will se that we do not have 6-dimensional LI rows\n",
    "rank(A[:,bases[6,:]])"
   ]
  },
  {
   "cell_type": "code",
   "execution_count": null,
   "metadata": {},
   "outputs": [],
   "source": [
    "## We can check that indeed one line is dependent:\n",
    "A[:,bases[6,:]]"
   ]
  },
  {
   "cell_type": "markdown",
   "metadata": {},
   "source": [
    "Whenever we have linear dependencies on the matrix formed by the 6 columns selected, we **DO NOT** form a basic solution."
   ]
  },
  {
   "cell_type": "code",
   "execution_count": null,
   "metadata": {},
   "outputs": [],
   "source": [
    "## Therefore we need to test out what are the 6 columns that form a basic solution\n",
    "rank_bases = zeros(Int,size(bases)[1])\n",
    "for i in 1:size(bases)[1]\n",
    "    rank_bases[i] = rank(A[:,bases[i,:]])\n",
    "end"
   ]
  },
  {
   "cell_type": "code",
   "execution_count": null,
   "metadata": {},
   "outputs": [],
   "source": [
    "## We can reduce the bases only for the possibilities spaning 6 dimensions\n",
    "bases = bases[rank_bases.==6,:]\n",
    "non_bases = non_bases[rank_bases.==6,:]\n",
    "rank_bases = zeros(Int,size(bases)[1])\n",
    "for i in 1:size(bases)[1]\n",
    "    rank_bases[i] = rank(A[:,bases[i,:]])\n",
    "end;"
   ]
  },
  {
   "cell_type": "code",
   "execution_count": null,
   "metadata": {},
   "outputs": [],
   "source": [
    "## To find the solutions related to each basis, we can solve the systems A[:,bases]\\b\n",
    "solutions = zeros(size(bases))\n",
    "for i in 1:size(bases)[1]\n",
    "    solutions[i,:] = A[:,bases[i,:]]\\b\n",
    "end"
   ]
  },
  {
   "cell_type": "code",
   "execution_count": null,
   "metadata": {},
   "outputs": [],
   "source": [
    "## Create a matrix to link the bases and the solutions\n",
    "solutions_x = zeros(size(solutions)[1],8)\n",
    "for i in 1:size(solutions)[1]\n",
    "    solutions_x[i,non_bases[i,:]] .= 0\n",
    "    solutions_x[i,bases[i,:]] .= round.(solutions[i,:],digits=2)\n",
    "end"
   ]
  },
  {
   "cell_type": "markdown",
   "metadata": {},
   "source": [
    "To spot degenerated solutions, we check if different bases form the same solution."
   ]
  },
  {
   "cell_type": "code",
   "execution_count": null,
   "metadata": {},
   "outputs": [],
   "source": [
    "## Spot the degenerated solutions\n",
    "degenerated = zeros(size(solutions)[1])              # vector to indicate if the solutions are degenerated or not\n",
    "\n",
    "for i in 1:size(solutions)[1]\n",
    "    counter = zeros(i)                               # counter to check previous solutions\n",
    "    for j in 1:i\n",
    "        if solutions_x[j,:] == solutions_x[i,:]      # count when the same solution appears\n",
    "            counter[j] = 1\n",
    "        end\n",
    "    end\n",
    "    if sum(counter) > 1                              # if solution appears more than once, different bases are generating the same solution\n",
    "        degenerated[i] = 1                           # in other words, it is degenerated\n",
    "    end\n",
    "end"
   ]
  },
  {
   "cell_type": "code",
   "execution_count": null,
   "metadata": {},
   "outputs": [],
   "source": [
    "## Degenerated solutions \n",
    "solutions_x[degenerated.>0,:]"
   ]
  },
  {
   "cell_type": "code",
   "execution_count": null,
   "metadata": {},
   "outputs": [],
   "source": [
    "## Bases forming the degenerated solutions seen above\n",
    "bases[degenerated.>0,:]"
   ]
  },
  {
   "cell_type": "markdown",
   "metadata": {},
   "source": [
    "### (c)"
   ]
  },
  {
   "cell_type": "code",
   "execution_count": null,
   "metadata": {},
   "outputs": [],
   "source": [
    "## Creating the functions to be plotted (as of constraints of the problem)\n",
    "c1(x) = 4.5 - x                                   # Constraint c1\n",
    "c2(x) = -3 + 2x                                   # Constraint c2\n",
    "c3(x) = -1 + x                                    # Constraint c3\n",
    "c4(x) = -5/3 + 4x/3                               # Constraint c4\n",
    "z(x) = (dot([2,1], optimal_point) - 2x) ;         # OF"
   ]
  },
  {
   "cell_type": "code",
   "execution_count": null,
   "metadata": {},
   "outputs": [],
   "source": [
    "## Range of inputs to the created functions\n",
    "x = range(-1,5,length=2);                         # between [-1,5] - As we deal only with affine functions, we just need 2 points to define them"
   ]
  },
  {
   "cell_type": "code",
   "execution_count": null,
   "metadata": {},
   "outputs": [],
   "source": [
    "## Defining the colors to be used\n",
    "c_blue = palette(:auto)[1]                         # color :1\n",
    "c_orange = palette(:auto)[2]                       # color :2\n",
    "c_green = palette(:auto)[3];                       # color :3"
   ]
  },
  {
   "cell_type": "code",
   "execution_count": null,
   "metadata": {},
   "outputs": [],
   "source": [
    "## Plotting constraints\n",
    "plot(x, c1.(x),\n",
    "    xaxis = (\"x₁\", (0,4)),\n",
    "    yaxis = (\"x₂\", (0,4)),\n",
    "    size = (800,600),\n",
    "    label = \"c1\",\n",
    "    legend = :outertopright\n",
    ")\n",
    "plot!(x, c2.(x), label = \"c2\")\n",
    "plot!(x, c3.(x), label = \"c3\")\n",
    "plot!(x, c4.(x), label = \"c4\")\n",
    "\n",
    "## Plotting bounds\n",
    "vline!([bx₁], line = :dash, label = \"\", color = c_blue)        # put label as \"\" to not appear in the legend\n",
    "hline!([bx₂], line = :dash, label = \"\", color = c_blue)        \n",
    "\n",
    "## Plotting OF @ optimal point\n",
    "plot!(x, z.(x), line = :dash, color = c_green, label=\"OF\")\n",
    "\n",
    "## Plotting one of the degenerated points (Notice that the optimal point is also degenerated)\n",
    "scatter!([optimal_point[1]], [optimal_point[2]], color = c_orange, label=\"degenerated\")\n",
    "scatter!([2],[1],markercolour = c_orange,label =\"\")\n",
    "annotate!(optimal_point[1]-0.6, optimal_point[2], (\"optimal point\", 9, :left))"
   ]
  },
  {
   "cell_type": "markdown",
   "metadata": {},
   "source": [
    "We can see by *overdetermination* that points [2,1] and [2.5,2] are degenerated."
   ]
  }
 ],
 "metadata": {
  "kernelspec": {
   "display_name": "Julia 1.7.0",
   "language": "julia",
   "name": "julia-1.7"
  },
  "language_info": {
   "file_extension": ".jl",
   "mimetype": "application/julia",
   "name": "julia",
   "version": "1.7.0"
  }
 },
 "nbformat": 4,
 "nbformat_minor": 4
}
