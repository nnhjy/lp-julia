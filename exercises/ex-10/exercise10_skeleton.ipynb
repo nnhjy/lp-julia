{
 "cells": [
  {
   "cell_type": "code",
   "execution_count": 1,
   "metadata": {},
   "outputs": [],
   "source": [
    "using JuMP, Cbc"
   ]
  },
  {
   "cell_type": "markdown",
   "metadata": {},
   "source": [
    "# MS-E2121 Exercise session 10\n",
    "### 10.5: Cover separation problem\n",
    "\n",
    "Consider the knapsack set from the lecture material (Lecture 10):\n",
    "\n",
    "$$X = \\{ x \\in \\{0,1\\}^7: 11x_1 + 6x_2 + 6x_3 + 5x_4 + 5x_5 + 4x_6 + x_7 \\le 19\\}$$\n",
    "\n",
    "and a solution $\\bar{x} = (0, 2/3, 0, 1, 1, 1, 1)$ to its LP relaxation. Find a cover inequality cutting out the fractional solution $\\bar{x}$.\n",
    "\n",
    "We could list all covers and their corresponding inequalities, but the easier way to find a violated cover inequality is to formulate *the separation problem*.\n",
    "\n",
    "We know that the cover inequalities are of the form $\\sum_{j \\in C} x_j \\le |C|-1$, which can be rearranged as $\\sum_{j \\in C} (1-x_j) \\ge 1$.\n",
    "\n",
    "The idea of the separation problem is as follows: find a violated cover inequality such that $C$ is a cover. This leads us to the separation problem (as a combinatorial optimization problem)\n",
    "\n",
    "$$\\begin{align}\n",
    "\\min_{C \\subseteq N} &\\sum_{j\\in C} (1-\\bar{x}_j)\\\\\n",
    "\\text{s.t.} &\\sum_{j\\in C}a_{j} > b, \n",
    "\\end{align}$$\n",
    "\n",
    "or the equivalent IP form \n",
    "$$\\begin{align}\n",
    "\\min_{z} &\\sum_{j\\in N} z_j(1-\\bar{x}_j)\\\\\n",
    "\\text{s.t.} &\\sum_{j\\in N}z_ja_{j} > b\\\\\n",
    "z \\ &\\text{binary},\n",
    "\\end{align}$$\n",
    "\n",
    "where $z_j=1$ if $j \\in C$. We can see that if the optimal objective value is less than one, the inequality $\\sum_{j \\in C} (1-\\bar{x}_j) \\ge 1$ is violated."
   ]
  },
  {
   "cell_type": "code",
   "execution_count": 2,
   "metadata": {},
   "outputs": [
    {
     "name": "stdout",
     "output_type": "stream",
     "text": [
      "Objective value 0.33333333333333337 with z=[0.0, 1.0, 0.0, 1.0, 1.0, 1.0, 1.0]\n"
     ]
    },
    {
     "name": "stdout",
     "output_type": "stream",
     "text": [
      "Welcome to the CBC MILP Solver \n",
      "Version: 2.10.5 \n",
      "Build Date: Jan  1 1970 \n",
      "\n",
      "command line - Cbc_C_Interface -solve -quit (default strategy 1)\n",
      "Continuous objective value is 0.277778 - 0.00 seconds\n",
      "Cgl0004I processed model has 1 rows, 3 columns (3 integer (3 of which binary)) and 3 elements\n",
      "Cutoff increment increased from 1e-05 to 0.333233\n",
      "Cbc0038I Initial state - 0 integers unsatisfied sum - 0\n",
      "Cbc0038I Solution found of 0.333333\n",
      "Cbc0038I Before mini branch and bound, 3 integers at bound fixed and 0 continuous\n",
      "Cbc0038I Mini branch and bound did not improve solution (0.00 seconds)\n",
      "Cbc0038I After 0.00 seconds - Feasibility pump exiting with objective of 0.333333 - took 0.00 seconds\n",
      "Cbc0012I Integer solution of 0.33333333 found by feasibility pump after 0 iterations and 0 nodes (0.00 seconds)\n",
      "Cbc0001I Search completed - best objective 0.3333333333333334, took 0 iterations and 0 nodes (0.00 seconds)\n",
      "Cbc0035I Maximum depth 0, 0 variables fixed on reduced cost\n",
      "Cuts at root node changed objective from 0.333333 to 0.333333\n",
      "Probing was tried 0 times and created 0 cuts of which 0 were active after adding rounds of cuts (0.000 seconds)\n",
      "Gomory was tried 0 times and created 0 cuts of which 0 were active after adding rounds of cuts (0.000 seconds)\n",
      "Knapsack was tried 0 times and created 0 cuts of which 0 were active after adding rounds of cuts (0.000 seconds)\n",
      "Clique was tried 0 times and created 0 cuts of which 0 were active after adding rounds of cuts (0.000 seconds)\n",
      "MixedIntegerRounding2 was tried 0 times and created 0 cuts of which 0 were active after adding rounds of cuts (0.000 seconds)\n",
      "FlowCover was tried 0 times and created 0 cuts of which 0 were active after adding rounds of cuts (0.000 seconds)\n",
      "TwoMirCuts was tried 0 times and created 0 cuts of which 0 were active after adding rounds of cuts (0.000 seconds)\n",
      "ZeroHalf was tried 0 times and created 0 cuts of which 0 were active after adding rounds of cuts (0.000 seconds)\n",
      "\n",
      "Result - Optimal solution found\n",
      "\n",
      "Objective value:                0.33333333\n",
      "Enumerated nodes:               0\n",
      "Total iterations:               0\n",
      "Time (CPU seconds):             0.00\n",
      "Time (Wallclock seconds):       0.00\n",
      "\n",
      "Total time (CPU seconds):       0.00   (Wallclock seconds):       0.00\n",
      "\n"
     ]
    }
   ],
   "source": [
    "xbar = [0, 2/3, 0, 1, 1, 1, 1]\n",
    "a = [11,6,6,5,5,4,1] \n",
    "b = 19\n",
    "N = 1:7\n",
    "\n",
    "model = Model(Cbc.Optimizer)\n",
    "\n",
    "@variable(model, z[N], Bin)\n",
    "@objective(model, Min, sum(z[j]*(1-xbar[j]) for j in N))\n",
    "# JuMP doesn't accept strict inequality constraints\n",
    "# The item weights are integers, making the following equivalent to a'z > b since z is integer\n",
    "@constraint(model, sum(a[j]*z[j] for j in N) >= b+1) \n",
    "optimize!(model)\n",
    "println(\"Objective value $(objective_value(model)) with z=$(value.(z).data)\")"
   ]
  },
  {
   "cell_type": "markdown",
   "metadata": {},
   "source": [
    "The solution tells us that the most violated cover inequality is that corresponding to $C = \\{2,4,5,6,7\\}$. \n",
    "\n",
    "$$ \\sum_{j \\in \\{2,4,5,6,7\\}} \\bar{x}_j \\le 4, $$\n",
    "\n",
    "which becomes $ 4.667 \\le 4$. The total weight of the item selection $C$ is 21, which exceeds the knapsack capacity of 19, making $C$ a cover. "
   ]
  },
  {
   "cell_type": "markdown",
   "metadata": {},
   "source": [
    "### 10.4: Solving Problem 9.3 with Gomory cuts\n",
    "\n",
    "Consider the following integer programming problem $IP$:\n",
    "\n",
    "$$\\begin{matrix}\n",
    "\\text{max} &x_{1} &+&2x_{2} & \\\\\n",
    "\\text{s.t.}&-3x_{1} &+&4x_{2} &\\le 4 \\\\\n",
    "&3x_{1} &+&2x_{2} &\\le 11 \\\\\n",
    "&2x_{1} &-&x_{2} &\\le 5 \\\\\n",
    "&x_{1}, &x_{2} & \\text{integer} &\\\\\n",
    "\\end{matrix}$$\n",
    "\n",
    "Solve the problem by adding Gomory cuts to the LP relaxation until you find an integer solution. Below you'll find the initial LP relaxation and its solution."
   ]
  },
  {
   "cell_type": "code",
   "execution_count": null,
   "metadata": {},
   "outputs": [],
   "source": [
    "model = Model(Cbc.Optimizer)\n",
    "@variable(model, x[1:2]>=0)\n",
    "@objective(model, Max, x[1]+x[2])\n",
    "@constraint(model, -3*x[1]+4*x[2] <= 4)\n",
    "@constraint(model, 3*x[1]+2*x[2] <= 11)\n",
    "@constraint(model, 2*x[1]-x[2] <= 5)\n",
    "optimize!(model)"
   ]
  },
  {
   "cell_type": "code",
   "execution_count": null,
   "metadata": {},
   "outputs": [],
   "source": [
    "println(\"Optimal value $(objective_value(model))\")\n",
    "println(\"with x = $(value.(model[:x]))\")"
   ]
  },
  {
   "cell_type": "code",
   "execution_count": null,
   "metadata": {},
   "outputs": [],
   "source": [
    "# TODO: add your code here"
   ]
  },
  {
   "cell_type": "code",
   "execution_count": null,
   "metadata": {},
   "outputs": [],
   "source": [
    "# TODO: add your code here"
   ]
  },
  {
   "cell_type": "code",
   "execution_count": null,
   "metadata": {},
   "outputs": [],
   "source": [
    "# TODO: add your code here"
   ]
  },
  {
   "cell_type": "code",
   "execution_count": null,
   "metadata": {},
   "outputs": [],
   "source": [
    "# TODO: add your code here"
   ]
  },
  {
   "cell_type": "code",
   "execution_count": null,
   "metadata": {},
   "outputs": [],
   "source": [
    "# TODO: add your code here"
   ]
  },
  {
   "cell_type": "code",
   "execution_count": null,
   "metadata": {},
   "outputs": [],
   "source": [
    "# TODO: add your code here"
   ]
  },
  {
   "cell_type": "code",
   "execution_count": null,
   "metadata": {},
   "outputs": [],
   "source": [
    "# TODO: add your code here"
   ]
  },
  {
   "cell_type": "code",
   "execution_count": null,
   "metadata": {},
   "outputs": [],
   "source": [
    "# TODO: add your code here"
   ]
  },
  {
   "cell_type": "code",
   "execution_count": null,
   "metadata": {},
   "outputs": [],
   "source": [
    "# TODO: add your code here"
   ]
  },
  {
   "cell_type": "code",
   "execution_count": null,
   "metadata": {},
   "outputs": [],
   "source": [
    "# TODO: add your code here"
   ]
  },
  {
   "cell_type": "code",
   "execution_count": null,
   "metadata": {},
   "outputs": [],
   "source": [
    "# TODO: add your code here"
   ]
  },
  {
   "cell_type": "code",
   "execution_count": null,
   "metadata": {},
   "outputs": [],
   "source": []
  }
 ],
 "metadata": {
  "kernelspec": {
   "display_name": "Julia 1.7.1",
   "language": "julia",
   "name": "julia-1.7"
  },
  "language_info": {
   "file_extension": ".jl",
   "mimetype": "application/julia",
   "name": "julia",
   "version": "1.7.1"
  }
 },
 "nbformat": 4,
 "nbformat_minor": 4
}
