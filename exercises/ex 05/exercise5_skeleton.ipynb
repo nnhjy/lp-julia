{
  "cells": [
    {
      "cell_type": "markdown",
      "metadata": {},
      "source": [
        "### Problem 5.1 - Capacitated transportation problem revisited\n",
        "*(Marginal costs via dual calculation)*\n",
        "#' \n",
        "Adding necessary packages:"
      ]
    },
    {
      "cell_type": "code",
      "execution_count": null,
      "metadata": {},
      "outputs": [],
      "source": [
        "# using Pkg\n",
        "# Pkg.add(\"GLPK\")"
      ]
    },
    {
      "cell_type": "code",
      "execution_count": 3,
      "metadata": {},
      "outputs": [],
      "source": [
        "## Packages\n",
        "using JuMP, Cbc, GLPK # We need GLPK for obtaining duals"
      ]
    },
    {
      "cell_type": "markdown",
      "metadata": {},
      "source": [
        "We start by defining the problem data"
      ]
    },
    {
      "cell_type": "code",
      "execution_count": 4,
      "metadata": {},
      "outputs": [],
      "source": [
        "nS = 3 # Number of suppliers\n",
        "nD = 3 # Number of demand points\n",
        "nP = 2 # Number of products\n",
        "\n",
        "S = 1:nS\n",
        "D = 1:nD\n",
        "P = 1:nP\n",
        "\n",
        "A = [] # Set of arcs, we include arcs from all suppliers to all demand points\n",
        "for s in S, d in D\n",
        "    push!(A, (s,d))\n",
        "end"
      ]
    },
    {
      "cell_type": "code",
      "execution_count": 5,
      "metadata": {},
      "outputs": [],
      "source": [
        "costs = zeros(nP,nS,nD) # Cost of transporting one unit of product d from supplier s to demand point d \n",
        "costs[1,:,:] = [5 5 Inf; 8 9 7; Inf 10 8]\n",
        "costs[2,:,:] = [Inf 18 Inf; 15 12 14; Inf 20 Inf]\n",
        "\n",
        "sup = [80 400; 200 1500; 200 300]\n",
        "dem = [60 300; 100 1000; 200 500]\n",
        "\n",
        "cap = [Inf 300 0; 300 700 600; 0 Inf Inf];"
      ]
    },
    {
      "cell_type": "code",
      "execution_count": 6,
      "metadata": {},
      "outputs": [],
      "source": [
        "## Define model using GLPK\n",
        "model = Model(GLPK.Optimizer);\n",
        "\n",
        "## Variables\n",
        "@variable(model, x[a in A, p in P; costs[p,a[1],a[2]] < Inf] >= 0);\n",
        "\n",
        "## OF\n",
        "@objective(model, Min, sum(costs[p,a[1],a[2]]*x[a,p] for p in P, a in A if costs[p,a[1],a[2]] < Inf));\n",
        "\n",
        "## Constraints\n",
        "@constraint(model, sup_con[s in S, p in P], sum(x[a,p] for a in A if costs[p,a[1],a[2]] < Inf && a[1] == s) <= sup[s,p]);       # sum of everything that leaves supplier s\n",
        "@constraint(model, dem_con[d in D, p in P], sum(x[a,p] for a in A if costs[p,a[1],a[2]] < Inf && a[2] == d) >= dem[d,p]);       # sum of everything that arrives at demand d\n",
        "@constraint(model, cap_con[a in A; cap[a[1],a[2]] < Inf], sum(x[a,p] for p in P if costs[p,a[1],a[2]] < Inf) <= cap[a[1],a[2]]);# arc capacity constraints"
      ]
    },
    {
      "cell_type": "code",
      "execution_count": 7,
      "metadata": {},
      "outputs": [
        {
          "name": "stdout",
          "output_type": "stream",
          "text": [
            "OPTIMAL\n"
          ]
        }
      ],
      "source": [
        "set_silent(model) # Actually works with GLPK\n",
        "optimize!(model)\n",
        "status = termination_status(model)\n",
        "println(status)"
      ]
    },
    {
      "cell_type": "code",
      "execution_count": 8,
      "metadata": {},
      "outputs": [
        {
          "data": {
            "text/plain": [
              "28040.0"
            ]
          },
          "execution_count": 8,
          "metadata": {},
          "output_type": "execute_result"
        }
      ],
      "source": [
        "## Saving the optimal value\n",
        "obj = objective_value(model)"
      ]
    },
    {
      "cell_type": "markdown",
      "metadata": {},
      "source": [
        "Function ``dual()`` in the ``JuMP`` library gives the value of the dual variable associated to the constraint at the optimal solution, in other words the *marginal costs*. Here we need using the elemnt-wise operator ``.`` as we have multiple constraints (check the domains). The *marginal costs* value stands for how much adding one unit more to the constraint's RHS (in the case is a $\\leq$ constraint) impacts the final result.<br/>\n",
        "<br/>\n",
        "One interpretation for the *marginal costs* in this problem is how much the company is willing to pay for expanding the supplies' or the arcs' capacity (depending on if we're analysing the dual of the supplies or the arcs constraints)."
      ]
    },
    {
      "cell_type": "code",
      "execution_count": 9,
      "metadata": {},
      "outputs": [
        {
          "name": "stdout",
          "output_type": "stream",
          "text": [
            "The marginal costs for the supply 1 for the product 1 is: -3.0\n",
            "The marginal costs for the supply 1 for the product 2 is: 0.0\n",
            "The marginal costs for the supply 2 for the product 1 is: 0.0\n",
            "The marginal costs for the supply 2 for the product 2 is: 0.0\n",
            "The marginal costs for the supply 3 for the product 1 is: 0.0\n",
            "The marginal costs for the supply 3 for the product 2 is: 0.0\n",
            "The marginal costs for the arc (1, 2) is: -2.0\n",
            "The marginal costs for the arc (1, 3) is: 0.0\n",
            "The marginal costs for the arc (2, 1) is: 0.0\n",
            "The marginal costs for the arc (2, 2) is: -8.0\n",
            "The marginal costs for the arc (2, 3) is: -1.0\n",
            "The marginal costs for the arc (3, 1) is: 0.0\n",
            "The value of x[(1, 1),1] is 60.0\n",
            "The value of x[(1, 2),1] is 20.0\n",
            "The value of x[(1, 2),2] is 280.0\n",
            "The value of x[(2, 1),1] is 0.0\n",
            "The value of x[(2, 1),2] is 300.0\n",
            "The value of x[(2, 2),1] is 0.0\n",
            "The value of x[(2, 2),2] is 700.0\n",
            "The value of x[(2, 3),1] is 100.0\n",
            "The value of x[(2, 3),2] is 500.0\n",
            "The value of x[(3, 2),1] is 80.0\n",
            "The value of x[(3, 2),2] is 20.0\n",
            "The value of x[(3, 3),1] is 100.0\n"
          ]
        }
      ],
      "source": [
        "## Computing the duals to infer the marginal costs\n",
        "mc_supply = dual.(sup_con);\n",
        "mc_arcs = dual.(cap_con);\n",
        "for s in S, p in P\n",
        "    println(\"The marginal costs for the supply $s for the product $p is: $(mc_supply[s,p])\")\n",
        "end\n",
        "for a in A\n",
        "    if cap[a[1],a[2]] < Inf\n",
        "        println(\"The marginal costs for the arc $a is: $(mc_arcs[a])\")\n",
        "    end\n",
        "end\n",
        "for a in A, p in P\n",
        "    if costs[p,a[1],a[2]] < Inf\n",
        "        println(\"The value of $(x[a,p]) is $(value(x[a,p]))\")\n",
        "    end\n",
        "end"
      ]
    },
    {
      "cell_type": "code",
      "execution_count": 10,
      "metadata": {},
      "outputs": [],
      "source": [
        "## Raising the supply availability of product 1 at the first supply node by 1\n",
        "sup[1,1] = sup[1,1] + 1;"
      ]
    },
    {
      "cell_type": "code",
      "execution_count": 11,
      "metadata": {},
      "outputs": [],
      "source": [
        "## Define model using GLPK\n",
        "model = Model(GLPK.Optimizer);\n",
        "\n",
        "## Variables\n",
        "@variable(model, x[a in A, p in P; costs[p,a[1],a[2]] < Inf] >= 0);\n",
        "\n",
        "## OF\n",
        "@objective(model, Min, sum(costs[p,a[1],a[2]]*x[a,p] for p in P, a in A if costs[p,a[1],a[2]] < Inf));\n",
        "\n",
        "## Constraints\n",
        "@constraint(model, sup_con[s in S, p in P], sum(x[a,p] for a in A if costs[p,a[1],a[2]] < Inf && a[1] == s) <= sup[s,p]);       # sum of everything that leaves supplier s\n",
        "@constraint(model, dem_con[d in D, p in P], sum(x[a,p] for a in A if costs[p,a[1],a[2]] < Inf && a[2] == d) >= dem[d,p]);       # sum of everything that arrives at demand d\n",
        "@constraint(model, cap_con[a in A; cap[a[1],a[2]] < Inf], sum(x[a,p] for p in P if costs[p,a[1],a[2]] < Inf) <= cap[a[1],a[2]]);# arc capacity constraints"
      ]
    },
    {
      "cell_type": "code",
      "execution_count": 12,
      "metadata": {},
      "outputs": [
        {
          "name": "stdout",
          "output_type": "stream",
          "text": [
            "OPTIMAL\n"
          ]
        }
      ],
      "source": [
        "set_silent(model)\n",
        "optimize!(model)\n",
        "status = termination_status(model)\n",
        "println(status)"
      ]
    },
    {
      "cell_type": "code",
      "execution_count": 13,
      "metadata": {},
      "outputs": [
        {
          "data": {
            "text/plain": [
              "28037.0"
            ]
          },
          "execution_count": 13,
          "metadata": {},
          "output_type": "execute_result"
        }
      ],
      "source": [
        "## New optimal value\n",
        "new_obj = objective_value(model)"
      ]
    },
    {
      "cell_type": "code",
      "execution_count": 14,
      "metadata": {},
      "outputs": [
        {
          "data": {
            "text/plain": [
              "-3.0"
            ]
          },
          "execution_count": 14,
          "metadata": {},
          "output_type": "execute_result"
        }
      ],
      "source": [
        "## Decrease in the optimal value\n",
        "new_obj - obj"
      ]
    },
    {
      "cell_type": "code",
      "execution_count": 15,
      "metadata": {},
      "outputs": [
        {
          "data": {
            "text/plain": [
              "-3.0"
            ]
          },
          "execution_count": 15,
          "metadata": {},
          "output_type": "execute_result"
        }
      ],
      "source": [
        "mc_supply[1,1]"
      ]
    },
    {
      "cell_type": "markdown",
      "metadata": {},
      "source": [
        "The marginal cost predicted the change in objective value correctly. Let's now try changing another bound."
      ]
    },
    {
      "cell_type": "code",
      "execution_count": 16,
      "metadata": {},
      "outputs": [],
      "source": [
        "## Back to the original supply availability\n",
        "sup[1,1] = sup[1,1] - 1;"
      ]
    },
    {
      "cell_type": "code",
      "execution_count": 17,
      "metadata": {},
      "outputs": [
        {
          "data": {
            "text/plain": [
              "80"
            ]
          },
          "execution_count": 17,
          "metadata": {},
          "output_type": "execute_result"
        }
      ],
      "source": [
        "sup[1,1]"
      ]
    },
    {
      "cell_type": "code",
      "execution_count": 18,
      "metadata": {},
      "outputs": [],
      "source": [
        "## Increasing the arc capacity by 1 for the arc from supplier 2 to demand node 2\n",
        "cap[2, 2] = cap[2, 2] + 1;"
      ]
    },
    {
      "cell_type": "code",
      "execution_count": 19,
      "metadata": {},
      "outputs": [],
      "source": [
        "## Define model using GLPK\n",
        "model = Model(GLPK.Optimizer);\n",
        "\n",
        "## Variables\n",
        "@variable(model, x[a in A, p in P; costs[p,a[1],a[2]] < Inf] >= 0);\n",
        "\n",
        "## OF\n",
        "@objective(model, Min, sum(costs[p,a[1],a[2]]*x[a,p] for p in P, a in A if costs[p,a[1],a[2]] < Inf));\n",
        "\n",
        "## Constraints\n",
        "@constraint(model, sup_con[s in S, p in P], sum(x[a,p] for a in A if costs[p,a[1],a[2]] < Inf && a[1] == s) <= sup[s,p]);       # sum of everything that leaves supplier s\n",
        "@constraint(model, dem_con[d in D, p in P], sum(x[a,p] for a in A if costs[p,a[1],a[2]] < Inf && a[2] == d) >= dem[d,p]);       # sum of everything that arrives at demand d\n",
        "@constraint(model, cap_con[a in A; cap[a[1],a[2]] < Inf], sum(x[a,p] for p in P if costs[p,a[1],a[2]] < Inf) <= cap[a[1],a[2]]);# arc capacity constraints"
      ]
    },
    {
      "cell_type": "code",
      "execution_count": 20,
      "metadata": {},
      "outputs": [
        {
          "name": "stdout",
          "output_type": "stream",
          "text": [
            "OPTIMAL\n"
          ]
        }
      ],
      "source": [
        "set_silent(model)\n",
        "optimize!(model)\n",
        "status = termination_status(model)\n",
        "println(status)"
      ]
    },
    {
      "cell_type": "code",
      "execution_count": 21,
      "metadata": {},
      "outputs": [
        {
          "data": {
            "text/plain": [
              "28039.0"
            ]
          },
          "execution_count": 21,
          "metadata": {},
          "output_type": "execute_result"
        }
      ],
      "source": [
        "## New optimal value\n",
        "new_obj = objective_value(model)"
      ]
    },
    {
      "cell_type": "code",
      "execution_count": 22,
      "metadata": {},
      "outputs": [
        {
          "data": {
            "text/plain": [
              "-1.0"
            ]
          },
          "execution_count": 22,
          "metadata": {},
          "output_type": "execute_result"
        }
      ],
      "source": [
        "new_obj-obj"
      ]
    },
    {
      "cell_type": "code",
      "execution_count": 23,
      "metadata": {},
      "outputs": [
        {
          "data": {
            "text/plain": [
              "-8.0"
            ]
          },
          "execution_count": 23,
          "metadata": {},
          "output_type": "execute_result"
        }
      ],
      "source": [
        "mc_arcs[(2, 2)]"
      ]
    },
    {
      "cell_type": "markdown",
      "metadata": {},
      "source": [
        "Turns out the marginal cost that we calculated did not predict this change correctly. Comparing the solution below, we notice that one unit of product 1 to demand point 2 is now transported from supplier 2 instead of supplier 3 due to the increased capacity of arc 2->2. This shows that you should always check whether you can apply marginal costs. If the optimal basis changes because of a change in $b$, you can't apply marginal costs."
      ]
    },
    {
      "cell_type": "code",
      "execution_count": 24,
      "metadata": {},
      "outputs": [
        {
          "name": "stdout",
          "output_type": "stream",
          "text": [
            "The marginal costs for the supply 1 for the product 1 is: -3.0\n",
            "The marginal costs for the supply 1 for the product 2 is: 0.0\n",
            "The marginal costs for the supply 2 for the product 1 is: 0.0\n",
            "The marginal costs for the supply 2 for the product 2 is: -7.0\n",
            "The marginal costs for the supply 3 for the product 1 is: 0.0\n",
            "The marginal costs for the supply 3 for the product 2 is: 0.0\n",
            "The marginal costs for the arc (1, 2) is: -2.0\n",
            "The marginal costs for the arc (1, 3) is: 0.0\n",
            "The marginal costs for the arc (2, 1) is: 0.0\n",
            "The marginal costs for the arc (2, 2) is: -1.0\n",
            "The marginal costs for the arc (2, 3) is: -1.0\n",
            "The marginal costs for the arc (3, 1) is: 0.0\n",
            "The value of x[(1, 1),1] is 60.0\n",
            "The value of x[(1, 2),1] is 20.0\n",
            "The value of x[(1, 2),2] is 280.0\n",
            "The value of x[(2, 1),1] is 0.0\n",
            "The value of x[(2, 1),2] is 300.0\n",
            "The value of x[(2, 2),1] is 1.0\n",
            "The value of x[(2, 2),2] is 700.0\n",
            "The value of x[(2, 3),1] is 100.0\n",
            "The value of x[(2, 3),2] is 500.0\n",
            "The value of x[(3, 2),1] is 79.0\n",
            "The value of x[(3, 2),2] is 20.0\n",
            "The value of x[(3, 3),1] is 100.0\n"
          ]
        }
      ],
      "source": [
        "## Computing the duals to infer the marginal costs\n",
        "mc_supply = dual.(sup_con);\n",
        "mc_arcs = dual.(cap_con);\n",
        "for s in S, p in P\n",
        "    println(\"The marginal costs for the supply $s for the product $p is: $(mc_supply[s,p])\")\n",
        "end\n",
        "for a in A\n",
        "    if cap[a[1],a[2]] < Inf\n",
        "        println(\"The marginal costs for the arc $a is: $(mc_arcs[a])\")\n",
        "    end\n",
        "end\n",
        "for a in A, p in P\n",
        "    if costs[p,a[1],a[2]] < Inf\n",
        "        println(\"The value of $(x[a,p]) is $(value(x[a,p]))\")\n",
        "    end\n",
        "end"
      ]
    },
    {
      "cell_type": "markdown",
      "metadata": {},
      "source": [
        "### Problem 5.5 - Complementary slackness\n",
        "Recall the paint factory problem introduced in Section 1.2.1. of the lecture notes"
      ]
    },
    {
      "cell_type": "code",
      "execution_count": null,
      "metadata": {},
      "outputs": [],
      "source": [
        "A = [6 4; 1 2; -1 1; 0 1]\n",
        "b = [24; 6; 1; 2]\n",
        "c = [5; 4];"
      ]
    },
    {
      "cell_type": "markdown",
      "metadata": {},
      "source": [
        "#### Solving the primal and dual problems\n",
        "Formulate and solve the two problems to obtain their optimal solutions"
      ]
    },
    {
      "cell_type": "code",
      "execution_count": null,
      "metadata": {},
      "outputs": [],
      "source": [
        "# TODO: add your code here"
      ]
    },
    {
      "cell_type": "code",
      "execution_count": null,
      "metadata": {},
      "outputs": [],
      "source": [
        "# TODO: add your code here"
      ]
    },
    {
      "cell_type": "markdown",
      "metadata": {},
      "source": [
        "#### Complementary slackness\n",
        "Verify the optimality of your solutions using complementary slackness"
      ]
    },
    {
      "cell_type": "code",
      "execution_count": null,
      "metadata": {},
      "outputs": [],
      "source": [
        "# TODO: add your code here"
      ]
    },
    {
      "cell_type": "code",
      "execution_count": null,
      "metadata": {},
      "outputs": [],
      "source": []
    }
  ],
  "metadata": {
    "kernelspec": {
      "display_name": "Julia 1.7.1",
      "language": "julia",
      "name": "julia-1.7"
    },
    "language_info": {
      "file_extension": ".jl",
      "mimetype": "application/julia",
      "name": "julia",
      "version": "1.7.1"
    }
  },
  "nbformat": 4,
  "nbformat_minor": 2
}
