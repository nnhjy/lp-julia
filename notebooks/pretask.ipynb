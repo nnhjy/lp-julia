{
 "cells": [
  {
   "cell_type": "markdown",
   "id": "9a69ba03-4cb3-4b90-9646-0dcf4413c286",
   "metadata": {},
   "source": [
    "# MS-E2121 Pretask: checking your Julia installation\n",
    "This notebook implements the paint factory problem from the first lecture. It uses all the Julia packages that we will be using in the first weeks. If you can run this without errors, you should be good to go. You can also use this code as learning material if you wish."
   ]
  },
  {
   "cell_type": "code",
   "execution_count": null,
   "id": "817c885f-d2a6-40b6-a501-5fd2e5b089bc",
   "metadata": {},
   "outputs": [],
   "source": [
    "# Import necessary packages\n",
    "using JuMP, Cbc, Plots"
   ]
  },
  {
   "cell_type": "markdown",
   "id": "cf26cc2c-cf25-41c1-8e47-39f4321cc4fa",
   "metadata": {},
   "source": [
    "## Input data\n",
    "Formatting the data we will be using in the model"
   ]
  },
  {
   "cell_type": "code",
   "execution_count": null,
   "id": "3d4c1752-f0ab-4064-8fa5-0d217e4dbc90",
   "metadata": {},
   "outputs": [],
   "source": [
    "# Raw materials and their daily availability\n",
    "materials = [\"M1\" \"M2\"]\n",
    "A = [24 6]\n",
    "# Products and their profits\n",
    "products = [\"Exterior\" \"Interior\"]\n",
    "P = [5 4]\n",
    "# Material requirements\n",
    "R = [6 4; 1 2]"
   ]
  },
  {
   "cell_type": "code",
   "execution_count": null,
   "id": "646529e6-50c8-4293-8281-4e845d216fb8",
   "metadata": {},
   "outputs": [],
   "source": [
    "# Converting arrays to dictionaries\n",
    "# This is not strictly necessary, but makes building the model easier\n",
    "# because the labels \"M1\", \"M2\" etc. can be used to refer to the elements instead of the array indices\n",
    "a_dict = Dict(materials .=> A)\n",
    "p_dict = Dict(products .=> P)\n",
    "r_dict = Dict( (materials[i], products[j]) => R[i,j]\n",
    "          for i in 1:length(materials), j in 1:length(products) )"
   ]
  },
  {
   "cell_type": "markdown",
   "id": "853f6c88-7e81-403b-b659-54f6767e7e13",
   "metadata": {},
   "source": [
    "## Building the model\n",
    "We start with an empty JuMP (Julia for Mathematical Programming) model, then add the decision variables, objective function and constraints."
   ]
  },
  {
   "cell_type": "code",
   "execution_count": null,
   "id": "1a00c547-3e4c-4dc2-92ed-f5a2ab147730",
   "metadata": {},
   "outputs": [],
   "source": [
    "# Start building an optimization model named \"paint\"\n",
    "paint = Model(Cbc.Optimizer)"
   ]
  },
  {
   "cell_type": "code",
   "execution_count": null,
   "id": "e3db7511-9726-4a27-9dfc-4a1568834587",
   "metadata": {},
   "outputs": [],
   "source": [
    "# Decision variables: the production amount for each product\n",
    "# We definitely want this to be nonnegative, negative production wouldn't make sense\n",
    "@variable(paint, x[products] >= 0)"
   ]
  },
  {
   "cell_type": "code",
   "execution_count": null,
   "id": "f98d6a9e-3a7e-4fbf-a8e7-84e0969212af",
   "metadata": {},
   "outputs": [],
   "source": [
    "# Objective function: maximize total profit from selling the products\n",
    "@objective(paint, Max, sum(p_dict[j]*x[j] for j in products))"
   ]
  },
  {
   "cell_type": "code",
   "execution_count": null,
   "id": "bc190884-0238-4614-81bf-8966123322ac",
   "metadata": {},
   "outputs": [],
   "source": [
    "# Constraints as specified on the lecture slides.\n",
    "# Note that constraints do not need a name, it can be omitted.\n",
    "# However, naming the constraints makes it easier to debug your model\n",
    "@constraint(paint, supply[i in materials], sum(r_dict[i,j]*x[j] for j in products) <= a_dict[i] )\n",
    "@constraint(paint, int_demand, sum(x[\"Interior\"]) <= 2)\n",
    "@constraint(paint, prod_balance, x[\"Interior\"] <= x[\"Exterior\"] + 1)"
   ]
  },
  {
   "cell_type": "markdown",
   "id": "21be0e79-5334-40f7-95f5-29b2b1a2130c",
   "metadata": {},
   "source": [
    "## Checking the model and obtaining solutions\n",
    "We check that the printed model matches what we have in the lecture material and solve it to optimality."
   ]
  },
  {
   "cell_type": "code",
   "execution_count": null,
   "id": "3a9aa07e-3ec5-447a-95c6-017cf9507f62",
   "metadata": {},
   "outputs": [],
   "source": [
    "# Print the model and optimize it\n",
    "println(paint)\n",
    "optimize!(paint)"
   ]
  },
  {
   "cell_type": "code",
   "execution_count": null,
   "id": "4b2ca28d-82a5-419e-ab88-da31bd9d9510",
   "metadata": {},
   "outputs": [],
   "source": [
    "# Extract results and print solution\n",
    "obj_val = round(objective_value(paint), digits=1)\n",
    "ext_val = round(value(x[\"Exterior\"]), digits=1)\n",
    "int_val = round(value(x[\"Interior\"]), digits=1)\n",
    "println(\"The maximum profit is $obj_val when $ext_val tons of exterior and $int_val tons of interior paint are produced.\")"
   ]
  },
  {
   "cell_type": "markdown",
   "id": "ba3b879d-b073-4da5-a0f1-7ed03a839689",
   "metadata": {},
   "source": [
    "## Making a plot of the problem\n",
    "There is a lot of code here, you don't need to understand it now, but you can come back to it later if you need to make plots yourself."
   ]
  },
  {
   "cell_type": "code",
   "execution_count": null,
   "id": "1318a17e-4517-45bc-a29f-106db7579913",
   "metadata": {},
   "outputs": [],
   "source": [
    "# Some ranges to help with plotting, these are similar to what you may have used in Matlab\n",
    "ext_range = collect(0:0.1:5)\n",
    "int_range = collect(0:0.1:5)"
   ]
  },
  {
   "cell_type": "code",
   "execution_count": null,
   "id": "7ef5c47c-634d-4039-9739-de4a7575fdda",
   "metadata": {},
   "outputs": [],
   "source": [
    "# Plot the constraints. An exclamation mark after a function name usually means that it mutates\n",
    "# its arguments, here the plot! function adds to the existing plot instead of creating a new one\n",
    "plot(ext_range, (-6*ext_range .+ 24)./4, xlim=(0,5), ylim=(0,5), xlabel=\"exterior\", ylabel=\"interior\", label=\"6x1+4x2=24\")\n",
    "plot!(ext_range, (-ext_range .+ 6)./2, label=\"x1+2x2=6\")\n",
    "plot!(ext_range, (ext_range.+1), label=\"x2-x1=1\")\n",
    "hline!([2], label=\"x2=2\")"
   ]
  },
  {
   "cell_type": "code",
   "execution_count": null,
   "id": "c4c04c86-14b9-4bdc-9712-522243bee3e6",
   "metadata": {},
   "outputs": [],
   "source": [
    "# A simple way to plot the feasible region, loop through a grid of points and\n",
    "# only plot those that satisfy all constraints.\n",
    "A = [6 4; 1 2; -1 1; 0 1]\n",
    "b = [24; 6; 1; 2]\n",
    "feasible_region = []\n",
    "for x1 in ext_range\n",
    "    for x2 in int_range\n",
    "        if all(A*[x1; x2] .<= b)\n",
    "            push!(feasible_region, [x1, x2])\n",
    "        end\n",
    "    end\n",
    "end"
   ]
  },
  {
   "cell_type": "code",
   "execution_count": null,
   "id": "3ad3b003-dc16-4936-aaae-b01630352278",
   "metadata": {},
   "outputs": [],
   "source": [
    "# Turn the array of arrays into a 2D-array and plot the points\n",
    "feasible_region = hcat(feasible_region...)\n",
    "scatter!(feasible_region[1,:], feasible_region[2,:], ms=1, label=false)"
   ]
  },
  {
   "cell_type": "code",
   "execution_count": null,
   "id": "7f7825d3-63b0-47c9-846b-dabb17f72cd0",
   "metadata": {},
   "outputs": [],
   "source": [
    "# Plot the objective function at the optimal value (21) obtained earlier\n",
    "plot!(ext_range, (-5*ext_range.+21)./4, linestyle=:dash, linewidth=2, color=:black, label=\"Objective function\")"
   ]
  }
 ],
 "metadata": {
  "kernelspec": {
   "display_name": "Julia 1.6.5",
   "language": "julia",
   "name": "julia-1.6"
  },
  "language_info": {
   "file_extension": ".jl",
   "mimetype": "application/julia",
   "name": "julia",
   "version": "1.6.5"
  }
 },
 "nbformat": 4,
 "nbformat_minor": 5
}
